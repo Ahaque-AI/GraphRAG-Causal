{
 "cells": [
  {
   "cell_type": "code",
   "execution_count": 1,
   "metadata": {},
   "outputs": [
    {
     "data": {
      "text/plain": [
       "True"
      ]
     },
     "execution_count": 1,
     "metadata": {},
     "output_type": "execute_result"
    }
   ],
   "source": [
    "import os\n",
    "import numpy as np\n",
    "from dotenv import load_dotenv\n",
    "from langchain_community.graphs import Neo4jGraph\n",
    "from langchain_groq import ChatGroq\n",
    "from langchain.prompts import PromptTemplate\n",
    "from langchain.chains import LLMChain\n",
    "from langchain.embeddings import HuggingFaceEmbeddings\n",
    "from tqdm import tqdm\n",
    "import warnings\n",
    "from IPython.display import display, HTML, Markdown\n",
    "import re\n",
    "import time\n",
    "import pandas as pd\n",
    "import json\n",
    "from sklearn.metrics import f1_score, accuracy_score, precision_score, recall_score, matthews_corrcoef\n",
    "warnings.filterwarnings('ignore')\n",
    "warnings.filterwarnings(\"ignore\", category=UserWarning, module=\"neo4j\")\n",
    "import logging\n",
    "load_dotenv()"
   ]
  },
  {
   "cell_type": "markdown",
   "metadata": {},
   "source": [
    "# Initialization Embeddings model"
   ]
  },
  {
   "cell_type": "code",
   "execution_count": null,
   "metadata": {},
   "outputs": [],
   "source": [
    "embeddings = HuggingFaceEmbeddings(model_name=\"all-MiniLM-L6-v2\")"
   ]
  },
  {
   "cell_type": "markdown",
   "metadata": {},
   "source": [
    "# Connect to Neo4j Database"
   ]
  },
  {
   "cell_type": "code",
   "execution_count": 3,
   "metadata": {},
   "outputs": [],
   "source": [
    "NEO4j_URI = 'bolt://localhost:7687'\n",
    "NEO4j_USER = 'neo4j'\n",
    "NEO4j_PASSWORD = os.environ.get('pass')\n",
    "graph = Neo4jGraph(url=NEO4j_URI, username=NEO4j_USER, password=NEO4j_PASSWORD)"
   ]
  },
  {
   "cell_type": "markdown",
   "metadata": {},
   "source": [
    "# Hybrid Searching (Semantic + graph)"
   ]
  },
  {
   "cell_type": "code",
   "execution_count": 4,
   "metadata": {},
   "outputs": [],
   "source": [
    "def retrieve_similar_events(query_text, graph, embeddings, top_k=5, embedding_weight=0.6, structure_weight=0.4, similarity_threshold=0.5):\n",
    "    \"\"\"\n",
    "    Retrieve similar events using a hybrid approach with optimized query performance.\n",
    "    \"\"\"\n",
    "    query_embedding = embeddings.embed_query(query_text)\n",
    "    \n",
    "    cypher_query = \"\"\"\n",
    "    MATCH (e:Event)\n",
    "    WHERE e.embedding IS NOT NULL AND e.text IS NOT NULL\n",
    "    \n",
    "    // Efficient connection counting using COUNT\n",
    "    OPTIONAL MATCH (e)-[:RESULTS_IN]->(effect:Effect)\n",
    "    WITH e, COUNT(effect) AS effect_count\n",
    "    \n",
    "    OPTIONAL MATCH (e)<-[:CAUSES]-(cause:Cause)\n",
    "    WITH e, effect_count, COUNT(cause) AS cause_count\n",
    "    \n",
    "    OPTIONAL MATCH (e)-[:HAS_TRIGGER]->(trigger:Trigger)\n",
    "    WITH e, effect_count, cause_count, COUNT(trigger) AS trigger_count\n",
    "    \n",
    "    // Calculate structural score (maintain original binary approach)\n",
    "    WITH e, effect_count, cause_count, trigger_count,\n",
    "         CASE \n",
    "             WHEN effect_count + cause_count + trigger_count = 0 \n",
    "             THEN 0.0 \n",
    "             ELSE 1.0 \n",
    "         END AS structural_score\n",
    "    \n",
    "    // Calculate similarity and hybrid score\n",
    "    WITH e, effect_count, cause_count, trigger_count, structural_score,\n",
    "         gds.similarity.cosine(e.embedding, $query_embedding) AS embedding_similarity,\n",
    "         ($embedding_weight * gds.similarity.cosine(e.embedding, $query_embedding) + $structure_weight * structural_score) AS hybrid_score\n",
    "    \n",
    "    WHERE hybrid_score >= $similarity_threshold\n",
    "    \n",
    "    // Late text collection for final candidates\n",
    "    CALL {\n",
    "        WITH e\n",
    "        OPTIONAL MATCH (e)-[:RESULTS_IN]->(effect:Effect)\n",
    "        RETURN COLLECT(effect.text) AS effect_texts\n",
    "    }\n",
    "    CALL {\n",
    "        WITH e\n",
    "        OPTIONAL MATCH (e)<-[:CAUSES]-(cause:Cause)\n",
    "        RETURN COLLECT(cause.text) AS cause_texts\n",
    "    }\n",
    "    CALL {\n",
    "        WITH e\n",
    "        OPTIONAL MATCH (e)-[:HAS_TRIGGER]->(trigger:Trigger)\n",
    "        RETURN COLLECT(trigger.text) AS trigger_texts\n",
    "    }\n",
    "    \n",
    "    RETURN e.text AS text,\n",
    "           e.id AS event_id,\n",
    "           hybrid_score,\n",
    "           embedding_similarity,\n",
    "           structural_score,\n",
    "           effect_count,\n",
    "           cause_count,\n",
    "           trigger_count,\n",
    "           effect_texts,\n",
    "           cause_texts,\n",
    "           trigger_texts\n",
    "    ORDER BY hybrid_score DESC\n",
    "    LIMIT $top_k\n",
    "    \"\"\"\n",
    "    \n",
    "    try:\n",
    "        logging.getLogger(\"neo4j\").setLevel(logging.ERROR)\n",
    "        results = graph.query(\n",
    "            cypher_query,\n",
    "            {\n",
    "                \"query_embedding\": query_embedding,\n",
    "                \"embedding_weight\": float(embedding_weight),\n",
    "                \"structure_weight\": float(structure_weight),\n",
    "                \"similarity_threshold\": float(similarity_threshold),\n",
    "                \"top_k\": int(top_k)\n",
    "            }\n",
    "        )\n",
    "        \n",
    "        similar_events = []\n",
    "        for record in results:\n",
    "            if record['text']:\n",
    "                similar_events.append({\n",
    "                    'text': record['text'],\n",
    "                    'event_id': record.get('event_id', 'N/A'),\n",
    "                    'hybrid_score': round(float(record['hybrid_score']), 3),\n",
    "                    'embedding_similarity': round(float(record['embedding_similarity']), 3),\n",
    "                    'structural_score': round(float(record['structural_score']), 3),\n",
    "                    'connection_counts': {\n",
    "                        'effects': int(record['effect_count']),\n",
    "                        'causes': int(record['cause_count']),\n",
    "                        'triggers': int(record['trigger_count'])\n",
    "                    },\n",
    "                    'connected_nodes': {\n",
    "                        'causes': [str(cause) for cause in record['cause_texts'] if cause],\n",
    "                        'effects': [str(effect) for effect in record['effect_texts'] if effect],\n",
    "                        'triggers': [str(trigger) for trigger in record['trigger_texts'] if trigger]\n",
    "                    }\n",
    "                })\n",
    "        \n",
    "        return similar_events\n",
    "    \n",
    "    except Exception as e:\n",
    "        print(f\"Error during query execution: {str(e)}\")\n",
    "        return []"
   ]
  },
  {
   "cell_type": "markdown",
   "metadata": {},
   "source": [
    "# Testing out Hybrid Query "
   ]
  },
  {
   "cell_type": "code",
   "execution_count": 5,
   "metadata": {},
   "outputs": [
    {
     "name": "stdout",
     "output_type": "stream",
     "text": [
      "\n",
      "Found 5 similar events:\n",
      "\n",
      "1. Event: i observed the attack on the police , i have no doubt about it , '' modiba said during cross-examination .\n",
      "   ID: event_20\n",
      "   Hybrid Score: 1.0\n",
      "   Embedding Similarity: 1.0\n",
      "   Structural Score: 1.0\n",
      "   Connected Nodes:\n",
      "   Causes:\n",
      "   - Modiba said\n",
      "   Effects:\n",
      "   - that he observed the attack on the police and had no doubt about it\n",
      "   Triggers:\n",
      "   - during cross-examination\n",
      "   ---\n",
      "\n",
      "2. Event: thanks to the providential arrest of a terrorist in mumbai and his subsequent interrogation , the police are asserting with a considerable degree of confidence that the let planned and orchestrated the attacks that took the lives of more than 180 people .\n",
      "   ID: event_1131\n",
      "   Hybrid Score: 0.757\n",
      "   Embedding Similarity: 0.595\n",
      "   Structural Score: 1.0\n",
      "   Connected Nodes:\n",
      "   Causes:\n",
      "   - Thanks to the providential arrest of a terrorist in Mumbai and his subsequent interrogation\n",
      "   Effects:\n",
      "   - the police are asserting with a considerable degree of confidence that the LeT planned and orchestrated the attacks that took the lives of more than 180 people\n",
      "   Triggers:\n",
      "   - are asserting\n",
      "   ---\n",
      "\n",
      "3. Event: mpofu said lt-col kaizer modiba was fabricating his evidence about the violence during the mineworkers ' strike at marikana , near rustenburg in the north west , because he had not been in a position to witness an attack .\n",
      "   ID: event_19\n",
      "   Hybrid Score: 0.743\n",
      "   Embedding Similarity: 0.572\n",
      "   Structural Score: 1.0\n",
      "   Connected Nodes:\n",
      "   Causes:\n",
      "   - Mpofu said Lt-Col Kaizer Modiba was fabricating his evidence\n",
      "   Effects:\n",
      "   - he had not been in a position to witness an attack\n",
      "   - the violence during the mineworkers' strike at Marikana, near Rustenburg in the North West\n",
      "   Triggers:\n",
      "   - because\n",
      "   - about\n",
      "   ---\n",
      "\n",
      "4. Event: “ the violence was targeted at pallikonda police inspector martin premraj as he beat shameel ahmed to death during investigation .\n",
      "   ID: event_1247\n",
      "   Hybrid Score: 0.684\n",
      "   Embedding Similarity: 0.473\n",
      "   Structural Score: 1.0\n",
      "   Connected Nodes:\n",
      "   Causes:\n",
      "   - he beat Shameel Ahmed to death during investigation\n",
      "   Effects:\n",
      "   - The violence was targeted at Pallikonda police inspector Martin Premraj\n",
      "   Triggers:\n",
      "   - as\n",
      "   ---\n",
      "\n",
      "5. Event: accusing the cpm of instigating the violence , she said the deaths were result of clashes between the congress and the marxists .\n",
      "   ID: event_200\n",
      "   Hybrid Score: 0.678\n",
      "   Embedding Similarity: 0.464\n",
      "   Structural Score: 1.0\n",
      "   Connected Nodes:\n",
      "   Causes:\n",
      "   - clashes between the Congress and the Marxists\n",
      "   - the CPM of instigating the violence.\n",
      "   Effects:\n",
      "   - the deaths\n",
      "   Triggers:\n",
      "   - were result of\n",
      "   - accusing\n",
      "   ---\n"
     ]
    }
   ],
   "source": [
    "embeddings = HuggingFaceEmbeddings(model_name=\"all-MiniLM-L6-v2\")\n",
    "query_example = \"I observed the attack on the police , I have no doubt about it , '' Modiba said during cross-examination .\"\n",
    "similar_events = retrieve_similar_events(\n",
    "    query_example,\n",
    "    graph,\n",
    "    embeddings,\n",
    "    top_k=5,\n",
    "    embedding_weight=0.6,\n",
    "    structure_weight=0.4,\n",
    "    similarity_threshold=0.5\n",
    ")\n",
    "\n",
    "print(f\"\\nFound {len(similar_events)} similar events:\")\n",
    "for i, event in enumerate(similar_events, 1):\n",
    "    print(f\"\\n{i}. Event: {event['text']}\")\n",
    "    print(f\"   ID: {event['event_id']}\")\n",
    "    print(f\"   Hybrid Score: {event['hybrid_score']}\")\n",
    "    print(f\"   Embedding Similarity: {event['embedding_similarity']}\")\n",
    "    print(f\"   Structural Score: {event['structural_score']}\")\n",
    "    \n",
    "    # Print connected nodes in the requested format\n",
    "    print(\"   Connected Nodes:\")\n",
    "    print(\"   Causes:\")\n",
    "    for cause in event['connected_nodes']['causes']:\n",
    "        print(f\"   - {cause}\")\n",
    "    print(\"   Effects:\")\n",
    "    for effect in event['connected_nodes']['effects']:\n",
    "        print(f\"   - {effect}\")\n",
    "    print(\"   Triggers:\")\n",
    "    for trigger in event['connected_nodes']['triggers']:\n",
    "        print(f\"   - {trigger}\")\n",
    "    print(\"   ---\")"
   ]
  },
  {
   "cell_type": "code",
   "execution_count": 6,
   "metadata": {},
   "outputs": [],
   "source": [
    "def generate(llm, input, graph, embeddings):\n",
    "    prompt=\"\"\"\n",
    "    <task>\n",
    "        You are an advanced language model tasked with identifying and tagging explicit cause-and-effect relationships in complex sentences. \n",
    "        <rule>Do not modify the original text when adding tags.</rule>\n",
    "    </task>\n",
    "\n",
    "    <VERY IMPORTANT RULE>Do not give output unless all tags are present in sentence (All tags meaning cause, effect, and trigger should be present). If you miss this in the end the answer will be considered wrong</VERY IMPORTANT RULE>\n",
    "\n",
    "    <steps>\n",
    "        <step number=\"1\">\n",
    "            <title>Causality Determination</title>\n",
    "            <description>\n",
    "                <point>Analyze the input sentence to determine if it contains an explicit causal relationship.</point>\n",
    "                <point>If the sentence is <b>not causal</b>, output <b>NoTag</b> and set the label to <b>0</b>. <rule>Do not perform any tagging.</rule></point>\n",
    "                <point>If the sentence is causal, proceed only if <b>all three elements</b>—cause, trigger, and effect—are present.</point>\n",
    "                <point>If any element is missing, output <b>NoTag</b> and set the label to <b>0</b>.</point>\n",
    "            </description>\n",
    "        </step>\n",
    "\n",
    "        <step number=\"2\">\n",
    "            <title>Tagging Instructions</title>\n",
    "            <tags>\n",
    "                <tag>\n",
    "                    <name>Cause</name>\n",
    "                    <format>&lt;cause&gt;...&lt;/cause&gt;</format>\n",
    "                    <definition>The event, action, or condition that leads to an outcome.</definition>\n",
    "                    <question>What caused this?</question>\n",
    "                </tag>\n",
    "                <tag>\n",
    "                    <name>Trigger</name>\n",
    "                    <format>&lt;trigger&gt;...&lt;/trigger&gt;</format>\n",
    "                    <definition>The word or phrase that explicitly indicates causality (e.g., because, due to).</definition>\n",
    "                </tag>\n",
    "                <tag>\n",
    "                    <name>Effect</name>\n",
    "                    <format>&lt;effect&gt;...&lt;/effect&gt;</format>\n",
    "                    <definition>The outcome or result of the cause.</definition>\n",
    "                    <question>What is the result of this?</question>\n",
    "                </tag>\n",
    "            </tags>\n",
    "        </step>\n",
    "\n",
    "        <step number=\"3\">\n",
    "            <title>Causality Tests</title>\n",
    "            <description>\n",
    "                <point>The effect should answer \"Why?\" (i.e., it must clearly result from the cause).</point>\n",
    "                <point>The cause must precede the effect in time.</point>\n",
    "                <point>The effect should not occur without the cause.</point>\n",
    "                <point>The cause and effect cannot be swapped without changing the meaning.</point>\n",
    "                <point>The sentence can be rephrased as “X causes Y” or “Due to X, Y.”</point>\n",
    "            </description>\n",
    "        </step>\n",
    "\n",
    "        <step number=\"4\">\n",
    "            <title>Additional Guidelines</title>\n",
    "            <guidelines>\n",
    "                <point>The sentence must have explicit cause-effect wording.</point>\n",
    "                <point>If there are multiple causes or effects, tag each instance separately.</point>\n",
    "                <point>Do not alter the original sentence structure when adding tags.</point>\n",
    "                <point>The final output must include all three tags: <b>&lt;cause&gt;</b>, <b>&lt;trigger&gt;</b>, and <b>&lt;effect&gt;</b>.</point>\n",
    "                <point>If any tag is missing, consider the sentence non-causal.</point>\n",
    "                <point>If no explicit causal relationship is identified, output <b>NoTag</b>.</point>\n",
    "            </guidelines>\n",
    "        </step>\n",
    "\n",
    "        <step number=\"5\">\n",
    "            <title>Output Format</title>\n",
    "            <output>\n",
    "                <format>Return a JSON object with two keys: \"tagged\" and \"label\".</format>\n",
    "                <key name=\"tagged\">Contains the original sentence with all tags added.</key>\n",
    "                <key name=\"label\">Set to <b>1</b> if a causal relationship is successfully tagged; otherwise, <b>0</b>.</key>\n",
    "            </output>\n",
    "        </step>\n",
    "    </steps>\n",
    "\n",
    "    <examples>\n",
    "        <example>\n",
    "            <input>Biswal, who had travelled to the city from Washington to speak at the Indian Consulate General's Media-India Lecture Series yesterday, said not only were there a large number of Indian victims in the attack but there were Americans also who lost their lives.</input>\n",
    "            <tagged>Biswal, who had <trigger>travelled to the city from Washington</trigger> to <cause>speak at the Indian Consulate General's Media-India Lecture Series</cause> yesterday, said <effect>not only were there a large number of Indian victims in the attack</effect> but <effect>there were Americans also who lost their lives</effect>.</tagged>\n",
    "            <label>1</label>\n",
    "        </example>\n",
    "\n",
    "        <more examples>\n",
    "        {similar_examples}\n",
    "        </more examples>\n",
    "\n",
    "        <example>\n",
    "            <input>The African nationals had sustained minor injuries in the attack that took place in South Delhi's Mehrauli area on Friday.</input>\n",
    "            <tagged>NoTag</tagged>\n",
    "            <label>0</label>\n",
    "        </example>\n",
    "        \n",
    "        <example>\n",
    "            <input>On Sunday , Swaraj spoke to Rajnath Singh and Delhi Lieutenant Governor Najeeb Jung about the attacks and said she was assured that the culprits would soon be arrested .</input>\n",
    "            <tagged>NoTag</tagged>\n",
    "            <label>0</label>\n",
    "        </example>\n",
    "\n",
    "        <example>\n",
    "            <input>We will continue our strike till we get an assurance from the Government .</input>\n",
    "            <tagged>NoTag</tagged>\n",
    "            <label>0</label>\n",
    "        </example>\n",
    "\n",
    "        <example>\n",
    "            <input>There is no information about the involvement of the NDFB(S) underground group in the blast , he added .</input>\n",
    "            <tagged>NoTag</tagged>\n",
    "            <label>0</label>\n",
    "        </example>\n",
    "\n",
    "    </examples>\n",
    "\n",
    "    <qa>\n",
    "        <requirement>For sentences that are tagged as causal, include a brief description explaining the cause-and-effect relationship.</requirement>\n",
    "        <example>\n",
    "            <sentence>&lt;effect>The participants raised slogans&lt;/effect> &lt;trigger>demanding&lt;/trigger> &lt;cause>stern action to check atrocities against women in the name of moral policing&lt;/cause></sentence>\n",
    "            <explanation>Why did they raise slogans? To demand action against atrocities.</explanation>\n",
    "            <label>1</label>\n",
    "        </example>\n",
    "    </qa>\n",
    "\n",
    "    <final_instruction>\n",
    "        Now, process the following input text:\n",
    "        <input>{input_text}</input>\n",
    "        <note>Reconsider your decisions step by step internally (chain-of-thought) but do not output your reasoning.</note>\n",
    "        <IMPORTANT>Do not give output unless all tags are present in sentence (All tags meaning cause, effect, and trigger should be present).</IMPORTANT>\n",
    "    </final_instruction>\n",
    "    \"\"\"\n",
    "    prompt_template = PromptTemplate(\n",
    "\t\tinput_variables=[\"similar_examples\", \"input_text\"],\n",
    "\t\ttemplate=prompt\n",
    "\t)\n",
    "\n",
    "    llm_chain = LLMChain(\n",
    "    \tllm=llm,\n",
    "    \tprompt=prompt_template\n",
    "\t)\n",
    "\n",
    "    similar_events = retrieve_similar_events(\n",
    "        input,\n",
    "        graph,\n",
    "        embeddings,\n",
    "        top_k=20,\n",
    "        embedding_weight=0.6,\n",
    "        structure_weight=0.4,\n",
    "        similarity_threshold=0.5\n",
    "    )\n",
    "    \n",
    "    output = llm_chain.run(\n",
    "\t    similar_examples=similar_events,\n",
    "\t    input_text=input\n",
    "\t)\n",
    "\n",
    "    return output"
   ]
  },
  {
   "cell_type": "code",
   "execution_count": 7,
   "metadata": {},
   "outputs": [],
   "source": [
    "llm = ChatGroq(\n",
    "    groq_api_key=os.environ.get('GROQ_API'),\n",
    "    model_name='deepseek-r1-distill-llama-70b'\n",
    ")"
   ]
  },
  {
   "cell_type": "code",
   "execution_count": 8,
   "metadata": {},
   "outputs": [
    {
     "name": "stdout",
     "output_type": "stream",
     "text": [
      "<think>\n",
      "Alright, let me try to figure out how to approach this problem. So, the task is to identify and tag explicit cause-and-effect relationships in a given sentence. The user has provided a detailed set of instructions, so I need to make sure I follow them carefully.\n",
      "\n",
      "First, I need to determine if the input sentence is causal. That means checking if there's a clear cause, trigger, and effect present. If any of these are missing, I should output \"NoTag\" and set the label to 0.\n",
      "\n",
      "Looking at the input sentence: \"As commuters rushed past, activists waved flags in the sticky night air and erected tall blue and white banners urging them to join the struggle for self-determination.\"\n",
      "\n",
      "I'll break it down. The sentence describes two main actions: commuters rushing past and activists waving flags and putting up banners. The activists are urging commuters to join a struggle. So, the cause seems to be the activists' actions—waving flags and erecting banners. The effect is that they're urging others to join the struggle. The trigger here might be the word \"urging,\" which indicates the cause leading to the effect.\n",
      "\n",
      "Wait, but according to the instructions, the trigger is a word or phrase that explicitly indicates causality, like \"because\" or \"due to.\" In this sentence, \"urging\" might be the trigger because it shows the purpose of the activists' actions. So, I think all three elements are present: cause (activists' actions), trigger (\"urging\"), and effect (joining the struggle).\n",
      "\n",
      "Now, I'll apply the tags. The cause is \"activists waved flags in the sticky night air and erected tall blue and white banners,\" the trigger is \"urging them to,\" and the effect is \"join the struggle for self-determination.\"\n",
      "\n",
      "I should make sure not to alter the original sentence structure. So, I'll wrap each part with the appropriate tags without changing the order or words.\n",
      "\n",
      "Putting it all together, the tagged sentence would have the cause, trigger, and effect clearly marked. Since all tags are present, the label should be 1.\n",
      "\n",
      "I think that's it. I've followed the steps, checked for causality, identified each part, and applied the tags correctly.\n",
      "</think>\n",
      "\n",
      "```json\n",
      "{\n",
      "    \"tagged\": \"As commuters rushed past, <cause>activists waved flags in the sticky night air and erected tall blue and white banners</cause> <trigger>urging them to</trigger> <effect>join the struggle for self-determination</effect>.\",\n",
      "    \"label\": 1\n",
      "}\n",
      "```\n"
     ]
    }
   ],
   "source": [
    "query_example = \"As commuters rushed past , activists waved flags in the sticky night air and erected tall blue and white banners urging them to join the struggle for self-determination .\"\n",
    "llm_output = generate(llm, query_example, graph, embeddings)\n",
    "\n",
    "print(llm_output)"
   ]
  },
  {
   "cell_type": "markdown",
   "metadata": {},
   "source": [
    "# Get predictions with 5 examples retrieved for Test Set"
   ]
  },
  {
   "cell_type": "code",
   "execution_count": 2,
   "metadata": {},
   "outputs": [],
   "source": [
    "df = pd.read_csv('test_data.csv')"
   ]
  },
  {
   "cell_type": "code",
   "execution_count": 13,
   "metadata": {},
   "outputs": [
    {
     "name": "stderr",
     "output_type": "stream",
     "text": [
      "Processing:  44%|████▍     | 143/323 [00:00<00:00, 1422.23rows/s]"
     ]
    },
    {
     "name": "stdout",
     "output_type": "stream",
     "text": [
      "0  Skipped.\n",
      "1  Skipped.\n",
      "2  Skipped.\n",
      "3  Skipped.\n",
      "4  Skipped.\n",
      "5  Skipped.\n",
      "6  Skipped.\n",
      "7  Skipped.\n",
      "8  Skipped.\n",
      "9  Skipped.\n",
      "10  Skipped.\n",
      "11  Skipped.\n",
      "12  Skipped.\n",
      "13  Skipped.\n",
      "14  Skipped.\n",
      "15  Skipped.\n",
      "16  Skipped.\n",
      "17  Skipped.\n",
      "18  Skipped.\n",
      "19  Skipped.\n",
      "20  Skipped.\n",
      "21  Skipped.\n",
      "22  Skipped.\n",
      "23  Skipped.\n",
      "24  Skipped.\n",
      "25  Skipped.\n",
      "26  Skipped.\n",
      "27  Skipped.\n",
      "28  Skipped.\n",
      "29  Skipped.\n",
      "30  Skipped.\n",
      "31  Skipped.\n",
      "32  Skipped.\n",
      "33  Skipped.\n",
      "34  Skipped.\n",
      "35  Skipped.\n",
      "36  Skipped.\n",
      "37  Skipped.\n",
      "38  Skipped.\n",
      "39  Skipped.\n",
      "40  Skipped.\n",
      "41  Skipped.\n",
      "42  Skipped.\n",
      "43  Skipped.\n",
      "44  Skipped.\n",
      "45  Skipped.\n",
      "46  Skipped.\n",
      "47  Skipped.\n",
      "48  Skipped.\n",
      "49  Skipped.\n",
      "50  Skipped.\n",
      "51  Skipped.\n",
      "52  Skipped.\n",
      "53  Skipped.\n",
      "54  Skipped.\n",
      "55  Skipped.\n",
      "56  Skipped.\n",
      "57  Skipped.\n",
      "58  Skipped.\n",
      "59  Skipped.\n",
      "60  Skipped.\n",
      "61  Skipped.\n",
      "62  Skipped.\n",
      "63  Skipped.\n",
      "64  Skipped.\n",
      "65  Skipped.\n",
      "66  Skipped.\n",
      "67  Skipped.\n",
      "68  Skipped.\n",
      "69  Skipped.\n",
      "70  Skipped.\n",
      "71  Skipped.\n",
      "72  Skipped.\n",
      "73  Skipped.\n",
      "74  Skipped.\n",
      "75  Skipped.\n",
      "76  Skipped.\n",
      "77  Skipped.\n",
      "78  Skipped.\n",
      "79  Skipped.\n",
      "80  Skipped.\n",
      "81  Skipped.\n",
      "82  Skipped.\n",
      "83  Skipped.\n",
      "84  Skipped.\n",
      "85  Skipped.\n",
      "86  Skipped.\n",
      "87  Skipped.\n",
      "88  Skipped.\n",
      "89  Skipped.\n",
      "90  Skipped.\n",
      "91  Skipped.\n",
      "92  Skipped.\n",
      "93  Skipped.\n",
      "94  Skipped.\n",
      "95  Skipped.\n",
      "96  Skipped.\n",
      "97  Skipped.\n",
      "98  Skipped.\n",
      "99  Skipped.\n",
      "100  Skipped.\n",
      "101  Skipped.\n",
      "102  Skipped.\n",
      "103  Skipped.\n",
      "104  Skipped.\n",
      "105  Skipped.\n",
      "106  Skipped.\n",
      "107  Skipped.\n",
      "108  Skipped.\n",
      "109  Skipped.\n",
      "110  Skipped.\n",
      "111  Skipped.\n",
      "112  Skipped.\n",
      "113  Skipped.\n",
      "114  Skipped.\n",
      "115  Skipped.\n",
      "116  Skipped.\n",
      "117  Skipped.\n",
      "118  Skipped.\n",
      "119  Skipped.\n",
      "120  Skipped.\n",
      "121  Skipped.\n",
      "122  Skipped.\n",
      "123  Skipped.\n",
      "124  Skipped.\n",
      "125  Skipped.\n",
      "126  Skipped.\n",
      "127  Skipped.\n",
      "128  Skipped.\n",
      "129  Skipped.\n",
      "130  Skipped.\n",
      "131  Skipped.\n",
      "132  Skipped.\n",
      "133  Skipped.\n",
      "134  Skipped.\n",
      "135  Skipped.\n",
      "136  Skipped.\n",
      "137  Skipped.\n",
      "138  Skipped.\n",
      "139  Skipped.\n",
      "140  Skipped.\n",
      "141  Skipped.\n",
      "142  Skipped.\n",
      "143  Skipped.\n",
      "144  Skipped.\n",
      "145  Skipped.\n",
      "146  Skipped.\n",
      "147  Skipped.\n",
      "148  Skipped.\n",
      "149  Skipped.\n",
      "150  Skipped.\n",
      "151  Skipped.\n",
      "152  Skipped.\n",
      "153  Skipped.\n",
      "154  Skipped.\n",
      "155  Skipped.\n",
      "156  Skipped.\n",
      "157  Skipped.\n",
      "158  Skipped.\n",
      "159  Skipped.\n",
      "160  Skipped.\n",
      "161  Skipped.\n",
      "162  Skipped.\n",
      "163  Skipped.\n",
      "164  Skipped.\n",
      "165  Skipped.\n",
      "166  Skipped.\n",
      "167  Skipped.\n",
      "168  Skipped.\n",
      "169  Skipped.\n",
      "170  Skipped.\n",
      "171  Skipped.\n",
      "172  Skipped.\n",
      "173  Skipped.\n",
      "174  Skipped.\n",
      "175  Skipped.\n",
      "176  Skipped.\n",
      "177  Skipped.\n",
      "178  Skipped.\n",
      "179  Skipped.\n",
      "180  Skipped.\n",
      "181  Skipped.\n",
      "182  Skipped.\n",
      "183  Skipped.\n",
      "184  Skipped.\n",
      "185  Skipped.\n",
      "186  Skipped.\n",
      "187  Skipped.\n",
      "188  Skipped.\n",
      "189  Skipped.\n",
      "190  Skipped.\n",
      "191  Skipped.\n",
      "192  Skipped.\n",
      "193  Skipped.\n",
      "194  Skipped.\n",
      "195  Skipped.\n",
      "196  Skipped.\n",
      "197  Skipped.\n",
      "198  Skipped.\n",
      "199  Skipped.\n",
      "200  Skipped.\n",
      "201  Skipped.\n",
      "202  Skipped.\n",
      "203  Skipped.\n",
      "204  Skipped.\n",
      "205  Skipped.\n",
      "206  Skipped.\n",
      "207  Skipped.\n",
      "208  Skipped.\n",
      "209  Skipped.\n",
      "210  Skipped.\n",
      "211  Skipped.\n",
      "212  Skipped.\n",
      "213  Skipped.\n",
      "214  Skipped.\n",
      "215  Skipped.\n",
      "216  Skipped.\n",
      "217  Skipped.\n",
      "218  Skipped.\n",
      "219  Skipped.\n",
      "220  Skipped.\n",
      "221  Skipped.\n",
      "222  Skipped.\n",
      "223  Skipped.\n",
      "224  Skipped.\n"
     ]
    },
    {
     "name": "stderr",
     "output_type": "stream",
     "text": [
      "Processing:  70%|██████▉   | 226/323 [00:02<00:00, 1422.23rows/s, ETA (sec)=1.01]"
     ]
    },
    {
     "name": "stdout",
     "output_type": "stream",
     "text": [
      "\n",
      "Original Sentence: Twenty activists from the group made a detour and carried the coffin to the Office of the Commissioner for the Ministry of Foreign Affairs in Kennedy Road .\n",
      "Tagged Sentence: NoTag\n",
      "Label: 0\n",
      "---\n"
     ]
    },
    {
     "name": "stderr",
     "output_type": "stream",
     "text": [
      "Processing:  70%|███████   | 227/323 [00:04<00:00, 1422.23rows/s, ETA (sec)=1.91]"
     ]
    },
    {
     "name": "stdout",
     "output_type": "stream",
     "text": [
      "\n",
      "Original Sentence: They left after dumping the coffin at the office entrance .\n",
      "Tagged Sentence: They <trigger>after</trigger> <cause>dumping the coffin at the office entrance</cause> <effect>left</effect>.\n",
      "Label: 1\n",
      "---\n"
     ]
    },
    {
     "name": "stderr",
     "output_type": "stream",
     "text": [
      "Processing:  71%|███████   | 228/323 [00:24<00:12,  7.53rows/s, ETA (sec)=10.25] "
     ]
    },
    {
     "name": "stdout",
     "output_type": "stream",
     "text": [
      "\n",
      "Original Sentence: Nine-year-old Lee Sik-chi , daughter of Frontier legislator Lee Cheuk-yan , assumed heavier duties this year than at previous protests she had attended , holding a banner at the head of the rally .\n",
      "Tagged Sentence: NoTag\n",
      "Label: 0\n",
      "---\n"
     ]
    },
    {
     "name": "stderr",
     "output_type": "stream",
     "text": [
      "Processing:  71%|███████   | 229/323 [00:51<00:31,  2.97rows/s, ETA (sec)=21.06]"
     ]
    },
    {
     "name": "stdout",
     "output_type": "stream",
     "text": [
      "\n",
      "Original Sentence: ' The June 4 incident was about a group of university students who wished to fight for democracy , ' she said .\n",
      "Tagged Sentence: NoTag\n",
      "Label: 0\n",
      "---\n"
     ]
    },
    {
     "name": "stderr",
     "output_type": "stream",
     "text": [
      "Processing:  71%|███████   | 230/323 [01:18<00:58,  1.60rows/s, ETA (sec)=31.71]"
     ]
    },
    {
     "name": "stdout",
     "output_type": "stream",
     "text": [
      "\n",
      "Original Sentence: ' Mr Szeto claimed 2,000 people joined the march , but observers estimated the turnout at between 900 and 1,000 .\n",
      "Tagged Sentence: NoTag\n",
      "Label: 0\n",
      "---\n"
     ]
    },
    {
     "name": "stderr",
     "output_type": "stream",
     "text": [
      "Processing:  72%|███████▏  | 231/323 [01:44<01:32,  1.01s/rows, ETA (sec)=41.48]"
     ]
    },
    {
     "name": "stdout",
     "output_type": "stream",
     "text": [
      "\n",
      "Original Sentence: The alliance claimed 4,000 took part last year .\n",
      "Tagged Sentence: NoTag\n",
      "Label: 0\n",
      "---\n"
     ]
    },
    {
     "name": "stderr",
     "output_type": "stream",
     "text": [
      "Processing:  72%|███████▏  | 232/323 [02:15<02:30,  1.66s/rows, ETA (sec)=53.21]"
     ]
    },
    {
     "name": "stdout",
     "output_type": "stream",
     "text": [
      "\n",
      "Original Sentence: ANDHRA PRADESH Trade unions stage dharna August 10 , 2016 00:00 IST Seven trade unions and employee federations of Central and State governments on Tuesday staged a dharna at the Collector ’ s office protesting dilution of labour laws , allowing FDI from 49 to 100 per cent in defence , railways , insurance , multi brand retail sale , banking sectors .\n",
      "Tagged Sentence: ANDHRA PRADESH Trade unions <trigger>protesting</trigger> <cause>dilution of labour laws , allowing FDI from 49 to 100 per cent in defence , railways , insurance , multi brand retail sale , banking sectors</cause> stage <effect>dharna at the Collector’s office</effect> August 10 , 2016 00:00 IST Seven trade unions and employee federations of Central and State governments on Tuesday staged a dharna at the Collector’s office.\n",
      "Label: 1\n",
      "---\n"
     ]
    },
    {
     "name": "stderr",
     "output_type": "stream",
     "text": [
      "Processing:  72%|███████▏  | 233/323 [02:43<03:38,  2.43s/rows, ETA (sec)=63.10]"
     ]
    },
    {
     "name": "stdout",
     "output_type": "stream",
     "text": [
      "\n",
      "Original Sentence: Members of INTUC , AITUC , HMS , CITU , IFTU , YSRUTC and AICTUC were also protesting against the anti-worker policies .\n",
      "Tagged Sentence: Members of INTUC , AITUC , HMS , CITU , IFTU , YSRUTC and AICTUC were also <effect>protesting</effect> <trigger>against</trigger> the <cause>anti-worker policies</cause> .\n",
      "Label: 1\n",
      "---\n"
     ]
    },
    {
     "name": "stderr",
     "output_type": "stream",
     "text": [
      "Processing:  72%|███████▏  | 234/323 [03:12<05:13,  3.52s/rows, ETA (sec)=73.32]"
     ]
    },
    {
     "name": "stdout",
     "output_type": "stream",
     "text": [
      "\n",
      "Original Sentence: Democratic Alliance councillors in Johannesburg on Friday called on trade unions to be held liable for damages caused during last month 's strikes .\n",
      "Tagged Sentence: NoTag\n",
      "Label: 0\n",
      "---\n"
     ]
    },
    {
     "name": "stderr",
     "output_type": "stream",
     "text": [
      "Processing:  73%|███████▎  | 235/323 [03:39<06:59,  4.76s/rows, ETA (sec)=82.04]"
     ]
    },
    {
     "name": "stdout",
     "output_type": "stream",
     "text": [
      "\n",
      "Original Sentence: `` During these strikes ... extensive damage was caused to public property , '' said Paul Smit , a DA councillor in the city .\n",
      "Tagged Sentence: During these <cause>strikes</cause> ... <effect>extensive damage was caused to public property</effect> ,'' said Paul Smit , a DA councillor in the city .\n",
      "Label: 1\n",
      "---\n"
     ]
    },
    {
     "name": "stderr",
     "output_type": "stream",
     "text": [
      "Processing:  73%|███████▎  | 236/323 [04:06<09:16,  6.40s/rows, ETA (sec)=90.85]"
     ]
    },
    {
     "name": "stdout",
     "output_type": "stream",
     "text": [
      "\n",
      "Original Sentence: The two said the unions should be held `` liable , and pay up , for all damages caused during strikes '' .\n",
      "Tagged Sentence: The two said the unions should be held `` <effect>liable , and pay up</effect> , for all <cause>damages caused during strikes</cause> '' .\n",
      "Label: 1\n",
      "---\n"
     ]
    },
    {
     "name": "stderr",
     "output_type": "stream",
     "text": [
      "Processing:  73%|███████▎  | 237/323 [04:34<12:08,  8.47s/rows, ETA (sec)=99.77]"
     ]
    },
    {
     "name": "stdout",
     "output_type": "stream",
     "text": [
      "\n",
      "Original Sentence: Cosatu in North West on Wednesday queried Lanxess chrome mine 's move to suspend some workers after a recent strike at the Rustenburg mine .\n",
      "Tagged Sentence: <effect>Cosatu in North West on Wednesday queried Lanxess chrome mine's move to suspend some workers</effect> <trigger>after</trigger> <cause>a recent strike at the Rustenburg mine</cause>.\n",
      "Label: 1\n",
      "---\n"
     ]
    },
    {
     "name": "stderr",
     "output_type": "stream",
     "text": [
      "Processing:  74%|███████▎  | 238/323 [05:01<15:02, 10.61s/rows, ETA (sec)=107.70]"
     ]
    },
    {
     "name": "stdout",
     "output_type": "stream",
     "text": [
      "\n",
      "Original Sentence: `` The management , jointly with NUM , signed an agreement on this matter , including the removal of disciplinary cases against all workers who were part of the strike , '' said provincial secretary Solly Phetoe .\n",
      "Tagged Sentence: NoTag\n",
      "Label: 0\n",
      "---\n"
     ]
    },
    {
     "name": "stderr",
     "output_type": "stream",
     "text": [
      "Processing:  74%|███████▍  | 239/323 [05:28<18:08, 12.95s/rows, ETA (sec)=115.42]"
     ]
    },
    {
     "name": "stdout",
     "output_type": "stream",
     "text": [
      "\n",
      "Original Sentence: Work resumed at Lanxess on Monday after workers went on strike to demand that they receive part of a performance bonus they believed they were entitled to .\n",
      "Tagged Sentence: Work <trigger>after workers went on strike</trigger> <cause>to demand that they receive part of a performance bonus they believed they were entitled to</cause> <effect>resumed at Lanxess on Monday</effect>.\n",
      "Label: 1\n",
      "---\n"
     ]
    },
    {
     "name": "stderr",
     "output_type": "stream",
     "text": [
      "Processing:  74%|███████▍  | 240/323 [05:55<21:15, 15.36s/rows, ETA (sec)=122.92]"
     ]
    },
    {
     "name": "stdout",
     "output_type": "stream",
     "text": [
      "\n",
      "Original Sentence: The Congress of SA Trade Unions said management and the National Union of Mineworkers had signed an agreement on ending the strike , which included the removal of disciplinary cases .\n",
      "Tagged Sentence: NoTag\n",
      "Label: 0\n",
      "---\n"
     ]
    },
    {
     "name": "stderr",
     "output_type": "stream",
     "text": [
      "Processing:  75%|███████▍  | 241/323 [06:22<24:01, 17.57s/rows, ETA (sec)=130.00]"
     ]
    },
    {
     "name": "stdout",
     "output_type": "stream",
     "text": [
      "\n",
      "Original Sentence: `` Evidence found on security video footage revealed that the employees were involved in acts of intimidation , inciting other employees , destroying property or being violent , '' spokeswoman Sibonile Dube said in a statement .\n",
      "Tagged Sentence: NoTag\n",
      "Label: 0\n",
      "---\n"
     ]
    },
    {
     "name": "stderr",
     "output_type": "stream",
     "text": [
      "Processing:  75%|███████▍  | 242/323 [06:47<26:07, 19.36s/rows, ETA (sec)=136.48]"
     ]
    },
    {
     "name": "stdout",
     "output_type": "stream",
     "text": [
      "\n",
      "Original Sentence: In the settlement agreement , Lanxess reserved its rights with regards to the illegal strike .\n",
      "Tagged Sentence: NoTag\n",
      "Label: 0\n",
      "---\n"
     ]
    },
    {
     "name": "stderr",
     "output_type": "stream",
     "text": [
      "Processing:  75%|███████▌  | 243/323 [07:18<29:17, 21.97s/rows, ETA (sec)=144.22]"
     ]
    },
    {
     "name": "stdout",
     "output_type": "stream",
     "text": [
      "\n",
      "Original Sentence: PSU Insurance employees protest privatisation 23rd November 2011 01:27 AM HYDERABAD : Employees working in the government-owned Life Insurance Corporation of India and the four general insurance companies held lunch-hour protest demonstrations at their offices on Tuesday , opposing moves to liberalise the insurance sector .\n",
      "Tagged Sentence: PSU Insurance employees <effect>protest privatisation</effect> 23rd November 2011 01:27 AM HYDERABAD : Employees working in the government-owned Life Insurance Corporation of India and the four general insurance companies <cause>held lunch-hour protest demonstrations at their offices on Tuesday</cause> <trigger>opposing</trigger> moves to liberalise the insurance sector .\n",
      "Label: 1\n",
      "---\n"
     ]
    },
    {
     "name": "stderr",
     "output_type": "stream",
     "text": [
      "Processing:  76%|███████▌  | 244/323 [07:48<31:40, 24.06s/rows, ETA (sec)=151.62]"
     ]
    },
    {
     "name": "stdout",
     "output_type": "stream",
     "text": [
      "\n",
      "Original Sentence: The secretariat of All India Insurance Employees Association ( AIIEA ) , which met in New Delhi recently , gave a call for demonstrations on the first day of the winter session of Parliament against the attempts of the Congress-led UPA government at the Centre to have two legislations aimed at further liberalising the insurance sector .\n",
      "Tagged Sentence: The secretariat of All India Insurance Employees Association ( AIIEA ), which met in New Delhi recently, gave a call for <effect>demonstrations on the first day of the winter session of Parliament</effect> <trigger>against</trigger> the <cause>attempts of the Congress-led UPA government at the Centre to have two legislations aimed at further liberalising the insurance sector</cause>.\n",
      "Label: 1\n",
      "---\n"
     ]
    },
    {
     "name": "stderr",
     "output_type": "stream",
     "text": [
      "Processing:  76%|███████▌  | 245/323 [08:18<33:22, 25.67s/rows, ETA (sec)=158.67]"
     ]
    },
    {
     "name": "stdout",
     "output_type": "stream",
     "text": [
      "\n",
      "Original Sentence: KERALA RSS worker ’ s murder : three persons wanted October 26 , 2008 00:00 IST Staff Reporter They are associates of murdered CPI(M) activist Vishnu Suspects were seen in front of the CPI ( M ) office at Vanchiyoor on the previous day of the murder injuries on Renjith ’ s body indicate that there were more than five assailants Thiruvananthapuram : The police have said that they are searching mainly for three persons — ‘ Karate ’ Suresh , Ambalamukku Krishnakumar and Vanchiyoor Hariprasad — in connection with the murder of Rashtriya Swayamsevak Sangh ( RSS ) activist Renjith at Mannanthala on October 17 .\n",
      "Tagged Sentence: NoTag\n",
      "Label: 0\n",
      "---\n"
     ]
    },
    {
     "name": "stderr",
     "output_type": "stream",
     "text": [
      "Processing:  76%|███████▌  | 246/323 [08:44<33:15, 25.92s/rows, ETA (sec)=164.32]"
     ]
    },
    {
     "name": "stdout",
     "output_type": "stream",
     "text": [
      "\n",
      "Original Sentence: The police believe that Renjith was killed in retaliation to the murder of Communist Party of India ( Marxist ) activist Vanchiyoor Vishnu this April .\n",
      "Tagged Sentence: The police believe that <effect>Renjith was killed</effect> <trigger>in retaliation to</trigger> <cause>the murder of Communist Party of India ( Marxist ) activist Vanchiyoor Vishnu this April</cause>.\n",
      "Label: 1\n",
      "---\n"
     ]
    },
    {
     "name": "stderr",
     "output_type": "stream",
     "text": [
      "Processing:  76%|███████▋  | 247/323 [09:13<33:36, 26.54s/rows, ETA (sec)=170.18]"
     ]
    },
    {
     "name": "stdout",
     "output_type": "stream",
     "text": [
      "\n",
      "Original Sentence: Suresh and Krishnakumar , along with absconding ‘ gang leader ’ Om Prakash , are also accused in the killing of alleged mobster ‘ Aprani ’ Krishnakumar in 2007 .\n",
      "Tagged Sentence: NoTag\n",
      "Label: 0\n",
      "---\n"
     ]
    },
    {
     "name": "stderr",
     "output_type": "stream",
     "text": [
      "Processing:  77%|███████▋  | 248/323 [09:41<33:51, 27.09s/rows, ETA (sec)=175.87]"
     ]
    },
    {
     "name": "stdout",
     "output_type": "stream",
     "text": [
      "\n",
      "Original Sentence: Suresh was named as accused in the murder of ‘ Changidi ’ Vinod , an associate of Aprani Krishnakumar , in 2006 .\n",
      "Tagged Sentence: NoTag\n",
      "Label: 0\n",
      "---\n"
     ]
    },
    {
     "name": "stderr",
     "output_type": "stream",
     "text": [
      "Processing:  77%|███████▋  | 249/323 [10:10<34:04, 27.63s/rows, ETA (sec)=181.43]"
     ]
    },
    {
     "name": "stdout",
     "output_type": "stream",
     "text": [
      "\n",
      "Original Sentence: Hariprasad and Krishnakumar are the main suspects in the retaliatory attack on RSS activist Mohanan in the aftermath of Vishnu ’ s murder .\n",
      "Tagged Sentence: Hariprasad and Krishnakumar are the main suspects in the <effect>retaliatory attack on RSS activist Mohanan</effect> <trigger>in the aftermath of</trigger> <cause>Vishnu’s murder</cause>.\n",
      "Label: 1\n",
      "---\n"
     ]
    },
    {
     "name": "stderr",
     "output_type": "stream",
     "text": [
      "Processing:  77%|███████▋  | 250/323 [10:38<33:55, 27.89s/rows, ETA (sec)=186.58]"
     ]
    },
    {
     "name": "stdout",
     "output_type": "stream",
     "text": [
      "\n",
      "Original Sentence: The police said that some of the suspects were seen partying in front of the CPI ( M ) office at Vanchiyoor on the previous day of Renjith ’ s murder .\n",
      "Tagged Sentence: NoTag\n",
      "Label: 0\n",
      "---\n"
     ]
    },
    {
     "name": "stderr",
     "output_type": "stream",
     "text": [
      "Processing:  78%|███████▊  | 251/323 [11:04<32:38, 27.20s/rows, ETA (sec)=190.62]"
     ]
    },
    {
     "name": "stdout",
     "output_type": "stream",
     "text": [
      "\n",
      "Original Sentence: The police have posted men in front of the office , the regular hangout of the main suspects in Renjith murder case , to prevent any retaliatory attack by RSS men .\n",
      "Tagged Sentence: The police have <cause>posted men in front of the office</cause> , the regular hangout of the main suspects in Renjith murder case , <trigger>to</trigger> <effect>prevent any retaliatory attack by RSS men</effect> .\n",
      "Label: 1\n",
      "---\n"
     ]
    },
    {
     "name": "stderr",
     "output_type": "stream",
     "text": [
      "Processing:  78%|███████▊  | 252/323 [11:32<32:32, 27.49s/rows, ETA (sec)=195.18]"
     ]
    },
    {
     "name": "stdout",
     "output_type": "stream",
     "text": [
      "\n",
      "Original Sentence: They said RSS cadres close to Renjith could retaliate against two top CPM leaders in the district if they suspected that the police were not doing enough to solve the murder .\n",
      "Tagged Sentence: They said <effect>RSS cadres close to Renjith could retaliate against two top CPM leaders in the district</effect> <trigger>if</trigger> <cause>they suspected that the police were not doing enough to solve the murder</cause>.\n",
      "Label: 1\n",
      "---\n"
     ]
    },
    {
     "name": "stderr",
     "output_type": "stream",
     "text": [
      "Processing:  78%|███████▊  | 253/323 [12:02<32:57, 28.25s/rows, ETA (sec)=199.97]"
     ]
    },
    {
     "name": "stdout",
     "output_type": "stream",
     "text": [
      "\n",
      "Original Sentence: They said the suspects had initially planned to kill ‘ Kakotta ’ Manoj , one of the main accused in the Vishnu murder case .\n",
      "Tagged Sentence: NoTag\n",
      "Label: 0\n",
      "---\n"
     ]
    },
    {
     "name": "stderr",
     "output_type": "stream",
     "text": [
      "Processing:  79%|███████▊  | 254/323 [12:31<32:37, 28.36s/rows, ETA (sec)=204.12]"
     ]
    },
    {
     "name": "stdout",
     "output_type": "stream",
     "text": [
      "\n",
      "Original Sentence: The police suspect that the conspiracy to kill Renjith was hatched at Muttathara and airport area .\n",
      "Tagged Sentence: NoTag\n",
      "Label: 0\n",
      "---\n"
     ]
    },
    {
     "name": "stderr",
     "output_type": "stream",
     "text": [
      "Processing:  79%|███████▉  | 255/323 [13:07<34:43, 30.63s/rows, ETA (sec)=209.96]"
     ]
    },
    {
     "name": "stdout",
     "output_type": "stream",
     "text": [
      "\n",
      "Original Sentence: They are investigating an airport-based gang leader and CPI(M) functionary in connection with the murder conspiracy .\n",
      "Tagged Sentence: NoTag\n",
      "Label: 0\n",
      "---\n"
     ]
    },
    {
     "name": "stderr",
     "output_type": "stream",
     "text": [
      "Processing:  79%|███████▉  | 256/323 [13:37<33:54, 30.37s/rows, ETA (sec)=213.85]"
     ]
    },
    {
     "name": "stdout",
     "output_type": "stream",
     "text": [
      "\n",
      "Original Sentence: Some of Vishnu ’ s associates had switched off their cell phones on October 16 and switched them on only after Renjith was killed .\n",
      "Tagged Sentence: Some of Vishnu’s associates had switched off their cell phones on October 16 and switched them on <trigger>after</trigger> <cause>Renjith was killed</cause>.\n",
      "Label: 1\n",
      "---\n"
     ]
    },
    {
     "name": "stderr",
     "output_type": "stream",
     "text": [
      "Processing:  80%|███████▉  | 257/323 [14:03<32:07, 29.21s/rows, ETA (sec)=216.65]"
     ]
    },
    {
     "name": "stdout",
     "output_type": "stream",
     "text": [
      "\n",
      "Original Sentence: The Crime Branch zeroed in on the culprits by identifying those who used their cell phones in the vicinity of the mobile phone towers near the murder spot at time of the crime .\n",
      "Tagged Sentence: The Crime Branch <effect>zeroed in on the culprits</effect> by <trigger>identifying</trigger> <cause>those who used their cell phones in the vicinity of the mobile phone towers near the murder spot at time of the crime</cause>.\n",
      "Label: 1\n",
      "---\n"
     ]
    },
    {
     "name": "stderr",
     "output_type": "stream",
     "text": [
      "Processing:  80%|███████▉  | 258/323 [14:34<32:14, 29.76s/rows, ETA (sec)=220.35]"
     ]
    },
    {
     "name": "stdout",
     "output_type": "stream",
     "text": [
      "\n",
      "Original Sentence: Its significance to British colonial government also made it an important location for protests and demonstrations , the most significant of which was the hunger strike against the Star Ferry fare hike of 1966 , and also the campaign to protect the sovereignty of the Diaoyu Islands by patriotic students back in 1971 .\n",
      "Tagged Sentence: Its significance to British colonial government also made it an important location for protests and demonstrations, the most significant of which was the <effect>hunger strike</effect> <trigger>against</trigger> the <cause>Star Ferry fare hike of 1966</cause>, and also the campaign to protect the sovereignty of the Diaoyu Islands by patriotic students back in 1971.\n",
      "Label: 1\n",
      "---\n"
     ]
    },
    {
     "name": "stderr",
     "output_type": "stream",
     "text": [
      "Processing:  80%|████████  | 259/323 [15:08<33:09, 31.08s/rows, ETA (sec)=224.57]"
     ]
    },
    {
     "name": "stdout",
     "output_type": "stream",
     "text": [
      "\n",
      "Original Sentence: Protest against waste dumping at Dadumajra - Indian Express Express News Service , Express News Service : Chandigarh , Tue Jun 28 2011 , 04:14 hrs Irked over heaps of garbage piling up at the dumping ground in Dadumajra , the residents of the area held a protest demanding the dumping be stopped at the site .\n",
      "Tagged Sentence: Protest against waste dumping at Dadumajra - Indian Express Express News Service , Express News Service : Chandigarh , Tue Jun 28 2011 , 04:14 hrs Irked <trigger>over</trigger> <cause>heaps of garbage piling up at the dumping ground in Dadumajra</cause>, the residents of the area <effect>held a protest demanding the dumping be stopped at the site</effect>.\n",
      "Label: 1\n",
      "---\n"
     ]
    },
    {
     "name": "stderr",
     "output_type": "stream",
     "text": [
      "Processing:  80%|████████  | 260/323 [15:35<31:09, 29.67s/rows, ETA (sec)=226.60]"
     ]
    },
    {
     "name": "stdout",
     "output_type": "stream",
     "text": [
      "\n",
      "Original Sentence: For around two hours in the morning the residents did not allow trucks of the Municipal Corporation to dump refuse at the ground .\n",
      "Tagged Sentence: NoTag\n",
      "Label: 0\n",
      "---\n"
     ]
    },
    {
     "name": "stderr",
     "output_type": "stream",
     "text": [
      "Processing:  81%|████████  | 261/323 [16:02<29:46, 28.82s/rows, ETA (sec)=228.52]"
     ]
    },
    {
     "name": "stdout",
     "output_type": "stream",
     "text": [
      "\n",
      "Original Sentence: Raising slogans against the civic body , the protesters , led by area councillor Kamlesh , demanded that the waste be taken to the garbage processing plant that has been set up to process the refuse .\n",
      "Tagged Sentence: Raising <trigger>demanded</trigger> against the civic body , the protesters , led by area councillor Kamlesh , <cause>raised slogans</cause> that the waste be taken to the garbage processing plant that has been set up to process the refuse .\n",
      "Label: 1\n",
      "---\n"
     ]
    },
    {
     "name": "stderr",
     "output_type": "stream",
     "text": [
      "Processing:  81%|████████  | 262/323 [16:28<28:36, 28.14s/rows, ETA (sec)=230.17]"
     ]
    },
    {
     "name": "stdout",
     "output_type": "stream",
     "text": [
      "\n",
      "Original Sentence: The trucks were not allowed to move till the Municipal Commissioner Prerna Puri reached the site .\n",
      "Tagged Sentence: The <effect>trucks were not allowed to move</effect> <trigger>till</trigger> <cause>the Municipal Commissioner Prerna Puri reached the site</cause>.\n",
      "Label: 1\n",
      "---\n"
     ]
    },
    {
     "name": "stderr",
     "output_type": "stream",
     "text": [
      "Processing:  81%|████████▏ | 263/323 [16:54<27:21, 27.36s/rows, ETA (sec)=231.35]"
     ]
    },
    {
     "name": "stdout",
     "output_type": "stream",
     "text": [
      "\n",
      "Original Sentence: Striking mineworkers have threatened to halt all mining operations around Rustenburg within a week if their employers do not accede to their R12,500 pay demand .\n",
      "Tagged Sentence: Striking mineworkers have threatened to <effect>halt all mining operations around Rustenburg within a week</effect> <trigger>if</trigger> their employers do not accede to their R12,500 pay demand <cause>their employers do not accede to their R12,500 pay demand</cause>.\n",
      "Label: 1\n",
      "---\n"
     ]
    },
    {
     "name": "stderr",
     "output_type": "stream",
     "text": [
      "Processing:  82%|████████▏ | 264/323 [17:24<27:40, 28.14s/rows, ETA (sec)=233.33]"
     ]
    },
    {
     "name": "stdout",
     "output_type": "stream",
     "text": [
      "\n",
      "Original Sentence: On Wednesday , a leader of striking workers at Anglo American Platinum ( Amplats ) , Evans Ramokga , said the protest action would intensify .\n",
      "Tagged Sentence: NoTag\n",
      "Label: 0\n",
      "---\n"
     ]
    },
    {
     "name": "stderr",
     "output_type": "stream",
     "text": [
      "Processing:  82%|████████▏ | 265/323 [17:47<25:51, 26.75s/rows, ETA (sec)=233.66]"
     ]
    },
    {
     "name": "stdout",
     "output_type": "stream",
     "text": [
      "\n",
      "Original Sentence: `` On Thursday we are going to combine efforts with the striking comrades at Lonmin mines .\n",
      "Tagged Sentence: NoTag\n",
      "Label: 0\n",
      "---\n"
     ]
    },
    {
     "name": "stderr",
     "output_type": "stream",
     "text": [
      "Processing:  82%|████████▏ | 266/323 [18:14<25:22, 26.71s/rows, ETA (sec)=233.66]"
     ]
    },
    {
     "name": "stdout",
     "output_type": "stream",
     "text": [
      "Error: Invalid JSON at row 265. Skipping...\n"
     ]
    },
    {
     "name": "stderr",
     "output_type": "stream",
     "text": [
      "Processing:  83%|████████▎ | 267/323 [18:45<26:16, 28.15s/rows, ETA (sec)=236.10]"
     ]
    },
    {
     "name": "stdout",
     "output_type": "stream",
     "text": [
      "\n",
      "Original Sentence: `` If it were not for this industrial action , most of us would be deep inside shafts , sweating for Anglo Platinum .\n",
      "Tagged Sentence: If it were not <trigger>for</trigger> <cause>this industrial action</cause>, <effect>most of us would be deep inside shafts, sweating for Anglo Platinum</effect>.\n",
      "Label: 1\n",
      "---\n"
     ]
    },
    {
     "name": "stderr",
     "output_type": "stream",
     "text": [
      "Processing:  83%|████████▎ | 268/323 [19:15<26:12, 28.59s/rows, ETA (sec)=237.10]"
     ]
    },
    {
     "name": "stdout",
     "output_type": "stream",
     "text": [
      "\n",
      "Original Sentence: `` The people who are chanting around the mines are from neighbouring communities and we can not identify who they are , '' said Amplats spokeswoman Mpumi Sithole .\n",
      "Tagged Sentence: NoTag\n",
      "Label: 0\n",
      "---\n"
     ]
    },
    {
     "name": "stderr",
     "output_type": "stream",
     "text": [
      "Processing:  83%|████████▎ | 269/323 [19:39<24:36, 27.34s/rows, ETA (sec)=236.83]"
     ]
    },
    {
     "name": "stdout",
     "output_type": "stream",
     "text": [
      "\n",
      "Original Sentence: A large group of protesters , carrying traditional weapons , gathered at a Thembelani mine shaft on Wednesday morning .\n",
      "Tagged Sentence: NoTag\n",
      "Label: 0\n",
      "---\n"
     ]
    },
    {
     "name": "stderr",
     "output_type": "stream",
     "text": [
      "Processing:  84%|████████▎ | 270/323 [20:05<23:41, 26.83s/rows, ETA (sec)=236.61]"
     ]
    },
    {
     "name": "stdout",
     "output_type": "stream",
     "text": [
      "\n",
      "Original Sentence: Most of the protesters sat in a field in the sun .\n",
      "Tagged Sentence: NoTag\n",
      "Label: 0\n",
      "---\n"
     ]
    },
    {
     "name": "stderr",
     "output_type": "stream",
     "text": [
      "Processing:  84%|████████▍ | 271/323 [20:32<23:18, 26.89s/rows, ETA (sec)=236.48]"
     ]
    },
    {
     "name": "stdout",
     "output_type": "stream",
     "text": [
      "\n",
      "Original Sentence: Small groups , clutching sticks and clubs , marched , sang , and danced .\n",
      "Tagged Sentence: NoTag\n",
      "Label: 0\n",
      "---\n"
     ]
    },
    {
     "name": "stderr",
     "output_type": "stream",
     "text": [
      "Processing:  84%|████████▍ | 272/323 [20:57<22:29, 26.45s/rows, ETA (sec)=235.85]"
     ]
    },
    {
     "name": "stdout",
     "output_type": "stream",
     "text": [
      "\n",
      "Original Sentence: They joined the protesters , but declined to speak to the media about their role in the strike .\n",
      "Tagged Sentence: NoTag\n",
      "Label: 0\n",
      "---\n"
     ]
    },
    {
     "name": "stderr",
     "output_type": "stream",
     "text": [
      "Processing:  85%|████████▍ | 273/323 [21:25<22:13, 26.67s/rows, ETA (sec)=235.35]"
     ]
    },
    {
     "name": "stdout",
     "output_type": "stream",
     "text": [
      "\n",
      "Original Sentence: Kendrapara Aftermath : Cops Asked to Follow SOP 13th August 2015 07:19 AM BHUBANESWAR : The State Police has issued a circular to all the police ranges and districts asking them to stick to standard operating procedures ( SOPs ) during law and order situation even as the Opposition parties try to score brownie points from the Kendrapara incident .\n",
      "Tagged Sentence: Kendrapara Aftermath : Cops Asked to Follow SOP 13th August 2015 07:19 AM BHUBANESWAR : The State Police has issued a circular to all the police ranges and districts asking them to stick to standard operating procedures ( SOPs ) during law and order situation <trigger>even as</trigger> the Opposition parties try to score brownie points from the <cause>Kendrapara incident</cause> .\n",
      "Label: 1\n",
      "---\n"
     ]
    },
    {
     "name": "stderr",
     "output_type": "stream",
     "text": [
      "Processing:  85%|████████▍ | 274/323 [21:54<22:22, 27.39s/rows, ETA (sec)=235.00]"
     ]
    },
    {
     "name": "stdout",
     "output_type": "stream",
     "text": [
      "\n",
      "Original Sentence: In the wake of the law and order situation in Kendrapara last week , during protests against the self-styled godman Sarathi Baba , public anger was directed at the district police .\n",
      "Tagged Sentence: In the wake of the law and order situation in Kendrapara last week, during <trigger>protests</trigger> against the self-styled godman Sarathi Baba, public anger was directed at the district police.\n",
      "Label: 1\n",
      "---\n"
     ]
    },
    {
     "name": "stderr",
     "output_type": "stream",
     "text": [
      "Processing:  85%|████████▌ | 275/323 [22:20<21:45, 27.20s/rows, ETA (sec)=234.04]"
     ]
    },
    {
     "name": "stdout",
     "output_type": "stream",
     "text": [
      "\n",
      "Original Sentence: The stone pelting incident that ensued led to injury of at least nine policemen though no injury to any agitator was recorded .\n",
      "Tagged Sentence: The <cause>stone pelting incident that ensued</cause> <trigger>led to</trigger> <effect>injury of at least nine policemen</effect> though no injury to any agitator was recorded.\n",
      "Label: 1\n",
      "---\n"
     ]
    },
    {
     "name": "stderr",
     "output_type": "stream",
     "text": [
      "Processing:  85%|████████▌ | 276/323 [22:56<23:19, 29.78s/rows, ETA (sec)=234.43]"
     ]
    },
    {
     "name": "stdout",
     "output_type": "stream",
     "text": [
      "\n",
      "Original Sentence: Protester who threw water bottle at Hong Kong cop gets 80 hours of community service PUBLISHED : Wednesday , 05 August , 2015 , 12:24pm A vocational student was ordered today to perform 80 hours of community service for throwing a plastic water bottle at a police officer , injuring the officer ’ s right thigh during protests in March against parallel trading .\n",
      "Tagged Sentence: A vocational student was ordered today to perform <effect>80 hours of community service</effect> <trigger>for</trigger> <cause>throwing a plastic water bottle at a police officer</cause>, <effect>injuring the officer’s right thigh</effect> during protests in March against parallel trading.\n",
      "Label: 1\n",
      "---\n"
     ]
    },
    {
     "name": "stderr",
     "output_type": "stream",
     "text": [
      "Processing:  86%|████████▌ | 277/323 [23:33<24:22, 31.79s/rows, ETA (sec)=234.67]"
     ]
    },
    {
     "name": "stdout",
     "output_type": "stream",
     "text": [
      "\n",
      "Original Sentence: Tuen Mun Court Deputy Magistrate So Kai-cheung said he determined the sentence based on the recommendations of a community service order report , which says 20 - year-old Chiu Kwok-hong showed remorse for the incident .\n",
      "Tagged Sentence: Tuen Mun Court Deputy Magistrate So Kai-cheung said he determined the sentence <trigger>based on</trigger> the recommendations of a community service order report , which says 20 - year-old Chiu Kwok-hong showed remorse for the incident .\n",
      "Label: 1\n",
      "---\n"
     ]
    },
    {
     "name": "stderr",
     "output_type": "stream",
     "text": [
      "Processing:  86%|████████▌ | 278/323 [23:59<22:36, 30.14s/rows, ETA (sec)=233.00]"
     ]
    },
    {
     "name": "stdout",
     "output_type": "stream",
     "text": [
      "\n",
      "Original Sentence: The court heard previously that at about 8.20 pm on March 1 , chief inspector Lee Shek-lun was deployed to perform crowd-control duties in Yuen Long , where protesters were rallying against cross-border traders .\n",
      "Tagged Sentence: NoTag\n",
      "Label: 0\n",
      "---\n"
     ]
    },
    {
     "name": "stderr",
     "output_type": "stream",
     "text": [
      "Processing:  86%|████████▋ | 279/323 [24:27<21:36, 29.47s/rows, ETA (sec)=231.41]"
     ]
    },
    {
     "name": "stdout",
     "output_type": "stream",
     "text": [
      "\n",
      "Original Sentence: Emerging from a crowd , Chiu suddenly threw a blue , plastic water bottle which hit Lee ’ s right thigh .\n",
      "Tagged Sentence: NoTag\n",
      "Label: 0\n",
      "---\n"
     ]
    },
    {
     "name": "stderr",
     "output_type": "stream",
     "text": [
      "Processing:  87%|████████▋ | 280/323 [24:51<19:56, 27.83s/rows, ETA (sec)=229.02]"
     ]
    },
    {
     "name": "stdout",
     "output_type": "stream",
     "text": [
      "\n",
      "Original Sentence: Under caution , Chiu told police officers : “ I did throw the blue water bottle at him .\n",
      "Tagged Sentence: NoTag\n",
      "Label: 0\n",
      "---\n"
     ]
    },
    {
     "name": "stderr",
     "output_type": "stream",
     "text": [
      "Processing:  87%|████████▋ | 281/323 [25:22<20:07, 28.75s/rows, ETA (sec)=227.52]"
     ]
    },
    {
     "name": "stdout",
     "output_type": "stream",
     "text": [
      "\n",
      "Original Sentence: In mitigation submissions , Chiu ’ s lawyers said he participated in the protest because the parallel traders had harmed Hong Kong ’ s economy , and he hurled the bottle at Lee because he saw Lee pulling the strap of a bag of a female protester .\n",
      "Tagged Sentence: In mitigation submissions , Chiu ’ s lawyers said he participated in the <trigger>protest</trigger> <cause>because the parallel traders had harmed Hong Kong ’ s economy</cause>, and he hurled the bottle at Lee <trigger>because</trigger> he saw Lee pulling the strap of a female protester's bag.\n",
      "Label: 1\n",
      "---\n"
     ]
    },
    {
     "name": "stderr",
     "output_type": "stream",
     "text": [
      "Processing:  87%|████████▋ | 282/323 [25:50<19:33, 28.62s/rows, ETA (sec)=225.43]"
     ]
    },
    {
     "name": "stdout",
     "output_type": "stream",
     "text": [
      "\n",
      "Original Sentence: Zulu has been charged with assaulting police director Jonathan Ndlovu during an IFP election rally at Hlabisa soccer stadium three weeks ago .\n",
      "Tagged Sentence: NoTag\n",
      "Label: 0\n",
      "---\n"
     ]
    },
    {
     "name": "stderr",
     "output_type": "stream",
     "text": [
      "Processing:  88%|████████▊ | 283/323 [26:15<18:26, 27.65s/rows, ETA (sec)=222.75]"
     ]
    },
    {
     "name": "stdout",
     "output_type": "stream",
     "text": [
      "\n",
      "Original Sentence: The alleged assault occurred when police prevented party followers carrying traditional weapons from entering the stadium .\n",
      "Tagged Sentence: <effect>The alleged assault occurred</effect> <trigger>when</trigger> <cause>police prevented party followers carrying traditional weapons from entering the stadium</cause>.\n",
      "Label: 1\n",
      "---\n"
     ]
    },
    {
     "name": "stderr",
     "output_type": "stream",
     "text": [
      "Processing:  88%|████████▊ | 284/323 [26:45<18:25, 28.35s/rows, ETA (sec)=220.53]"
     ]
    },
    {
     "name": "stdout",
     "output_type": "stream",
     "text": [
      "\n",
      "Original Sentence: When Zulu made his second brief appearance on Thursday , a group of people wearing Inkatha Freedom Party T-shirts and holding placards protested outside the Empangeni Regional Court north of Durban , while the courtroom itself was packed to capacity .\n",
      "Tagged Sentence: NoTag\n",
      "Label: 0\n",
      "---\n"
     ]
    },
    {
     "name": "stderr",
     "output_type": "stream",
     "text": [
      "Processing:  88%|████████▊ | 285/323 [27:16<18:23, 29.05s/rows, ETA (sec)=218.21]"
     ]
    },
    {
     "name": "stdout",
     "output_type": "stream",
     "text": [
      "\n",
      "Original Sentence: LN Hospital docs hold public meet about decorum - Indian Express Express News Service , Express News Service : New Delhi , Sun Apr 29 2012 , 03:52 hrs A week after doctors at Lok Nayak Hospital went on strike following two incidents of patients ' relatives roughing up the hospital staff , authorities and the police have taken security concerns to the masses .\n",
      "Tagged Sentence: A week after doctors at Lok Nayak Hospital went on <effect>strike</effect> <trigger>following</trigger> <cause>two incidents of patients' relatives roughing up the hospital staff</cause>, authorities and the police have taken security concerns to the masses.\n",
      "Label: 1\n",
      "---\n"
     ]
    },
    {
     "name": "stderr",
     "output_type": "stream",
     "text": [
      "Processing:  89%|████████▊ | 286/323 [27:42<17:22, 28.19s/rows, ETA (sec)=215.11]"
     ]
    },
    {
     "name": "stdout",
     "output_type": "stream",
     "text": [
      "\n",
      "Original Sentence: A public meeting between the doctors and residents of Daryanganj and Kamala Market was organised at Turkman Gate by police officials and senior leaders of the Muslim community on Saturday .\n",
      "Tagged Sentence: NoTag\n",
      "Label: 0\n",
      "---\n"
     ]
    },
    {
     "name": "stderr",
     "output_type": "stream",
     "text": [
      "Processing:  89%|████████▉ | 287/323 [28:10<16:45, 27.93s/rows, ETA (sec)=212.00]"
     ]
    },
    {
     "name": "stdout",
     "output_type": "stream",
     "text": [
      "\n",
      "Original Sentence: Speaking at the meeting , ACP ( Daryaganj ) Om Prakash said , \" This is the first such meeting where doctors and your leaders have come together to appeal to you , to help doctors help you .\n",
      "Tagged Sentence: NoTag\n",
      "Label: 0\n",
      "---\n"
     ]
    },
    {
     "name": "stderr",
     "output_type": "stream",
     "text": [
      "Processing:  89%|████████▉ | 288/323 [28:35<15:48, 27.10s/rows, ETA (sec)=208.45]"
     ]
    },
    {
     "name": "stdout",
     "output_type": "stream",
     "text": [
      "\n",
      "Original Sentence: The leaders of the union also said the local taxi drivers had launched an attack against the online taxi drivers at the airport .\n",
      "Tagged Sentence: NoTag\n",
      "Label: 0\n",
      "---\n"
     ]
    },
    {
     "name": "stderr",
     "output_type": "stream",
     "text": [
      "Processing:  89%|████████▉ | 289/323 [29:01<15:14, 26.90s/rows, ETA (sec)=204.90]"
     ]
    },
    {
     "name": "stdout",
     "output_type": "stream",
     "text": [
      "\n",
      "Original Sentence: Earlier , some trade unions representing local taxi operators had come out in protest against the online taxi networks such as Uber and Ola .\n",
      "Tagged Sentence: NoTag\n",
      "Label: 0\n",
      "---\n"
     ]
    },
    {
     "name": "stderr",
     "output_type": "stream",
     "text": [
      "Processing:  90%|████████▉ | 290/323 [29:29<14:57, 27.21s/rows, ETA (sec)=201.37]"
     ]
    },
    {
     "name": "stdout",
     "output_type": "stream",
     "text": [
      "\n",
      "Original Sentence: KERALA Bus strike total in district October 31 , 2008 00:00 IST People ’ s woes : Passengers struggling to get into a bus at the KSRTC bus station in the city on Thursday following a strike called by private bus operators in the State .\n",
      "Tagged Sentence: KERALA Bus strike total in district October 31 , 2008 00:00 IST People ’ s woes : <effect>Passengers struggling to get into a bus at the KSRTC bus station in the city on Thursday</effect> <trigger>following</trigger> <cause>a strike called by private bus operators in the State</cause> .\n",
      "Label: 1\n",
      "---\n"
     ]
    },
    {
     "name": "stderr",
     "output_type": "stream",
     "text": [
      "Processing:  90%|█████████ | 291/323 [29:59<14:52, 27.90s/rows, ETA (sec)=197.84]"
     ]
    },
    {
     "name": "stdout",
     "output_type": "stream",
     "text": [
      "\n",
      "Original Sentence: – | Photo Credit : Photo : S.R.K. Staff Reporter KOZHIKODE : People were put to hardship as private buses went off the roads in deference to the State-wide token strike called against the decision of State government not to renew licence issued to buses .\n",
      "Tagged Sentence: – | Photo Credit : Photo : S.R.K. Staff Reporter KOZHIKODE : <effect>People were put to hardship</effect> <trigger>as</trigger> <cause>private buses went off the roads in deference to the State-wide token strike called against the decision of State government not to renew licence issued to buses</cause> .\n",
      "Label: 1\n",
      "---\n"
     ]
    },
    {
     "name": "stderr",
     "output_type": "stream",
     "text": [
      "Processing:  90%|█████████ | 292/323 [30:23<13:54, 26.91s/rows, ETA (sec)=193.62]"
     ]
    },
    {
     "name": "stdout",
     "output_type": "stream",
     "text": [
      "\n",
      "Original Sentence: The strike was total in the district .\n",
      "Tagged Sentence: NoTag\n",
      "Label: 0\n",
      "---\n"
     ]
    },
    {
     "name": "stderr",
     "output_type": "stream",
     "text": [
      "Processing:  91%|█████████ | 293/323 [30:53<13:50, 27.68s/rows, ETA (sec)=189.75]"
     ]
    },
    {
     "name": "stdout",
     "output_type": "stream",
     "text": [
      "\n",
      "Original Sentence: PRP aspirant goes on fast 27th March 2009 03:44 AM HYDERABAD : In a surprise development , a staunch supporter of the Praja Rajyam Party , Venkat Prasad , launched an indefinite hunger strike in front of the party office here today .\n",
      "Tagged Sentence: NoTag\n",
      "Label: 0\n",
      "---\n"
     ]
    },
    {
     "name": "stderr",
     "output_type": "stream",
     "text": [
      "Processing:  91%|█████████ | 294/323 [31:20<13:22, 27.69s/rows, ETA (sec)=185.53]"
     ]
    },
    {
     "name": "stdout",
     "output_type": "stream",
     "text": [
      "\n",
      "Original Sentence: He has played a key role in organising the Praja Ankita Yatras of Chiranjeevi .\n",
      "Tagged Sentence: NoTag\n",
      "Label: 0\n",
      "---\n"
     ]
    },
    {
     "name": "stderr",
     "output_type": "stream",
     "text": [
      "Processing:  91%|█████████▏| 295/323 [31:50<13:08, 28.15s/rows, ETA (sec)=181.30]"
     ]
    },
    {
     "name": "stdout",
     "output_type": "stream",
     "text": [
      "\n",
      "Original Sentence: Irked over this move , Venkat Prasad launched a hunger strike along with the other aspirants .\n",
      "Tagged Sentence: Irked <trigger>over</trigger> this <cause>move</cause>, Venkat Prasad <effect>launched a hunger strike along with the other aspirants</effect>.\n",
      "Label: 1\n",
      "---\n"
     ]
    },
    {
     "name": "stderr",
     "output_type": "stream",
     "text": [
      "Processing:  92%|█████████▏| 296/323 [32:15<12:14, 27.20s/rows, ETA (sec)=176.51]"
     ]
    },
    {
     "name": "stdout",
     "output_type": "stream",
     "text": [
      "\n",
      "Original Sentence: However , he called off the fast after getting a call from the Chiranjeevi ’ s camp in East Godavari district .\n",
      "Tagged Sentence: However , he <effect>called off the fast</effect> <trigger>after</trigger> <cause>getting a call from the Chiranjeevi ’ s camp in East Godavari district</cause> .\n",
      "Label: 1\n",
      "---\n"
     ]
    },
    {
     "name": "stderr",
     "output_type": "stream",
     "text": [
      "Processing:  92%|█████████▏| 297/323 [32:42<11:51, 27.38s/rows, ETA (sec)=171.84]"
     ]
    },
    {
     "name": "stdout",
     "output_type": "stream",
     "text": [
      "\n",
      "Original Sentence: STR in danger : Forest staff on indefinite hunger strike 23rd February 2013 11:44 AM Worried over the protection of Similipal biosphere and Kuldiha wildlife sanctuary , over 500 forest staffers , including foresters and forest guards , are on an indefinite strike from Friday over their demands .\n",
      "Tagged Sentence: STR in danger : Forest staff on <trigger>indefinite hunger strike</trigger> 23rd February 2013 11:44 AM Worried over the protection of Similipal biosphere and Kuldiha wildlife sanctuary , over 500 forest staffers , including foresters and forest guards , are on an <effect>indefinite strike</effect> from Friday <cause>over their demands</cause> .\n",
      "Label: 1\n",
      "---\n"
     ]
    },
    {
     "name": "stderr",
     "output_type": "stream",
     "text": [
      "Processing:  92%|█████████▏| 298/323 [33:10<11:23, 27.34s/rows, ETA (sec)=166.96]"
     ]
    },
    {
     "name": "stdout",
     "output_type": "stream",
     "text": [
      "\n",
      "Original Sentence: Their strike came a day after over 150 hunters made an unsuccessful attempt to enter the core area of Similipal Tiger Reserve ( STR ) for hunting wild animals .\n",
      "Tagged Sentence: Their <effect>strike</effect> came <trigger>a day after</trigger> over 150 hunters made an unsuccessful attempt to enter the core area of Similipal Tiger Reserve ( STR ) for hunting wild animals <cause>over 150 hunters made an unsuccessful attempt to enter the core area of Similipal Tiger Reserve ( STR ) for hunting wild animals</cause>.\n",
      "Label: 1\n",
      "---\n"
     ]
    },
    {
     "name": "stderr",
     "output_type": "stream",
     "text": [
      "Processing:  93%|█████████▎| 299/323 [33:40<11:20, 28.33s/rows, ETA (sec)=162.21]"
     ]
    },
    {
     "name": "stdout",
     "output_type": "stream",
     "text": [
      "\n",
      "Original Sentence: Meanwhile , the forest staffers under the banner of Odisha Non-Gazetted Forest Service Association ( ONGFSA ) are sitting on an indefinite strike demanding enhancement of pay scale of forest guards as per the Sixth Pay Commission , regularisation of contractual foresters and forest guards and post upgradation of forest guards , foresters and deputy rangers .\n",
      "Tagged Sentence: Meanwhile , the forest staffers under the banner of Odisha Non-Gazetted Forest Service Association ( ONGFSA ) are sitting on an <effect>indefinite strike</effect> <trigger>demanding</trigger> <cause>enhancement of pay scale of forest guards as per the Sixth Pay Commission , regularisation of contractual foresters and forest guards and post upgradation of forest guards , foresters and deputy rangers</cause> .\n",
      "Label: 1\n",
      "---\n"
     ]
    },
    {
     "name": "stderr",
     "output_type": "stream",
     "text": [
      "Processing:  93%|█████████▎| 300/323 [34:07<10:41, 27.87s/rows, ETA (sec)=156.98]"
     ]
    },
    {
     "name": "stdout",
     "output_type": "stream",
     "text": [
      "\n",
      "Original Sentence: “ The strike will continue till our demands are conceded , ” said Mayurbhanj circle president Khageswar Sethy .\n",
      "Tagged Sentence: <effect>The strike will continue</effect> <trigger>till</trigger> <cause>our demands are conceded</cause>,\" said Mayurbhanj circle president Khageswar Sethy.\n",
      "Label: 1\n",
      "---\n"
     ]
    },
    {
     "name": "stderr",
     "output_type": "stream",
     "text": [
      "Processing:  93%|█████████▎| 301/323 [34:37<10:24, 28.39s/rows, ETA (sec)=151.82]"
     ]
    },
    {
     "name": "stdout",
     "output_type": "stream",
     "text": [
      "\n",
      "Original Sentence: Jaswant Singh had referred to three issues , the Gujarat communal carnage , the cash-for-votes scam and the Kandahar plane hijack and blamed Advani on all the three counts .\n",
      "Tagged Sentence: Jaswant Singh had referred to <cause>the Gujarat communal carnage, the cash-for-votes scam and the Kandahar plane hijack</cause> and <trigger>blamed</trigger> <effect>Advani on all the three counts</effect>.\n",
      "Label: 1\n",
      "---\n"
     ]
    },
    {
     "name": "stderr",
     "output_type": "stream",
     "text": [
      "Processing:  93%|█████████▎| 302/323 [35:06<10:04, 28.78s/rows, ETA (sec)=146.51]"
     ]
    },
    {
     "name": "stdout",
     "output_type": "stream",
     "text": [
      "\n",
      "Original Sentence: Singh had recently blamed Advani for coming to Gujarat Chief Minister Narendra Modi ’ s rescue and ensured that he was not sacked , in the wake of the riots .\n",
      "Tagged Sentence: Singh had recently <cause>blamed Advani for coming to Gujarat Chief Minister Narendra Modi’s rescue and ensured that he was not sacked</cause> <trigger>in</trigger> the wake of the <effect>riots</effect>.\n",
      "Label: 1\n",
      "---\n"
     ]
    },
    {
     "name": "stderr",
     "output_type": "stream",
     "text": [
      "Processing:  94%|█████████▍| 303/323 [35:33<09:21, 28.07s/rows, ETA (sec)=140.81]"
     ]
    },
    {
     "name": "stdout",
     "output_type": "stream",
     "text": [
      "\n",
      "Original Sentence: On Kandahar plane hijack issue , Singh said Advani was not speaking the truth .\n",
      "Tagged Sentence: <trigger>On</trigger> <cause>Kandahar plane hijack issue</cause>, Singh said <effect>Advani was not speaking the truth</effect>.\n",
      "Label: 1\n",
      "---\n"
     ]
    },
    {
     "name": "stderr",
     "output_type": "stream",
     "text": [
      "Processing:  94%|█████████▍| 304/323 [36:05<09:18, 29.37s/rows, ETA (sec)=135.36]"
     ]
    },
    {
     "name": "stdout",
     "output_type": "stream",
     "text": [
      "\n",
      "Original Sentence: Elaborating on the three issues , Singhvi said , “ The BJP gave sermons on Raj Dharma and turned a Nelson ’ s eye to the communal carnage , which became a big blot on the fair name of the country . ”\n",
      "Tagged Sentence: NoTag\n",
      "Label: 0\n",
      "---\n"
     ]
    },
    {
     "name": "stderr",
     "output_type": "stream",
     "text": [
      "Processing:  94%|█████████▍| 305/323 [36:35<08:48, 29.35s/rows, ETA (sec)=129.54]"
     ]
    },
    {
     "name": "stdout",
     "output_type": "stream",
     "text": [
      "\n",
      "Original Sentence: THALASSERY : End political killings : Rajnath September 27 , 2014 00:00 IST Says decision on CBI probe into Manoj murder soon Union Home Minister Rajnath Singh has said that a decision on the probe by the Central Bureau of Investigation ( CBI ) into the murder of Rashtriya Swayamsevak Sangh ( RSS ) functionary E. Manoj will be taken soon .\n",
      "Tagged Sentence: NoTag\n",
      "Label: 0\n",
      "---\n"
     ]
    },
    {
     "name": "stderr",
     "output_type": "stream",
     "text": [
      "Processing:  95%|█████████▍| 306/323 [37:05<08:23, 29.61s/rows, ETA (sec)=123.62]"
     ]
    },
    {
     "name": "stdout",
     "output_type": "stream",
     "text": [
      "\n",
      "Original Sentence: Addressing members of the families of Bharatiya Janata Party ( BJP ) and RSS workers who had lost their lives in attacks by alleged Communist Party of India ( Marxist ) workers in the region on Friday , Mr. Singh said a decision on the CBI investigation , recommended by the State government into the murder of Manoj , would be taken soon .\n",
      "Tagged Sentence: NoTag\n",
      "Label: 0\n",
      "---\n"
     ]
    },
    {
     "name": "stderr",
     "output_type": "stream",
     "text": [
      "Processing:  95%|█████████▌| 307/323 [37:29<07:29, 28.09s/rows, ETA (sec)=117.25]"
     ]
    },
    {
     "name": "stdout",
     "output_type": "stream",
     "text": [
      "\n",
      "Original Sentence: The Minister said he had spoken to Chief Minister Oommen Chandy after the murder and demanded that action be taken to end violence in the region .\n",
      "Tagged Sentence: The Minister said he had spoken to Chief Minister Oommen Chandy <trigger>after</trigger> the <cause>murder</cause> and demanded that <effect>action be taken to end violence in the region</effect> .\n",
      "Label: 1\n",
      "---\n"
     ]
    },
    {
     "name": "stderr",
     "output_type": "stream",
     "text": [
      "Processing:  95%|█████████▌| 308/323 [37:57<07:01, 28.10s/rows, ETA (sec)=110.94]"
     ]
    },
    {
     "name": "stdout",
     "output_type": "stream",
     "text": [
      "\n",
      "Original Sentence: After the visit , he addressed the gathering of the families of slain BJP-RSS workers at the RSS office nearby .\n",
      "Tagged Sentence: <trigger>After</trigger> the <cause>visit</cause> , he <effect>addressed the gathering of the families of slain BJP-RSS workers at the RSS office nearby</effect>.\n",
      "Label: 1\n",
      "---\n"
     ]
    },
    {
     "name": "stderr",
     "output_type": "stream",
     "text": [
      "Processing:  96%|█████████▌| 309/323 [38:25<06:29, 27.80s/rows, ETA (sec)=104.43]"
     ]
    },
    {
     "name": "stdout",
     "output_type": "stream",
     "text": [
      "\n",
      "Original Sentence: Large number of BJP-RSS workers turned up at the venue to attend the function held in the afternoon .\n",
      "Tagged Sentence: NoTag\n",
      "Label: 0\n",
      "---\n"
     ]
    },
    {
     "name": "stderr",
     "output_type": "stream",
     "text": [
      "Processing:  96%|█████████▌| 310/323 [38:52<06:01, 27.83s/rows, ETA (sec)=97.83] "
     ]
    },
    {
     "name": "stdout",
     "output_type": "stream",
     "text": [
      "\n",
      "Original Sentence: The function was held amid tight police security in view of the tense situation in the area in the aftermath of the murder of Manoj .\n",
      "Tagged Sentence: The function was held amid <effect>tight police security</effect> <trigger>in view of</trigger> <cause>the tense situation in the area in the aftermath of the murder of Manoj</cause>.\n",
      "Label: 1\n",
      "---\n"
     ]
    },
    {
     "name": "stderr",
     "output_type": "stream",
     "text": [
      "Processing:  96%|█████████▋| 311/323 [39:20<05:32, 27.71s/rows, ETA (sec)=91.07]"
     ]
    },
    {
     "name": "stdout",
     "output_type": "stream",
     "text": [
      "\n",
      "Original Sentence: He is facing charges of violating a court order , public violence , assault , theft , and damage to property during the 2016 protest against `` colonised '' tertiary education .\n",
      "Tagged Sentence: He is facing charges of violating a court order , public violence , assault , theft , and damage to property <trigger>during</trigger> the <cause>2016 protest against `` colonised '' tertiary education</cause> .\n",
      "Label: 1\n",
      "---\n"
     ]
    },
    {
     "name": "stderr",
     "output_type": "stream",
     "text": [
      "Processing:  97%|█████████▋| 312/323 [39:45<04:56, 26.95s/rows, ETA (sec)=84.10]"
     ]
    },
    {
     "name": "stdout",
     "output_type": "stream",
     "text": [
      "\n",
      "Original Sentence: The drivers allegedly shot Mandisi Ngomani several times in the back while he was running away from them several days before a taxi strike in September last year .\n",
      "Tagged Sentence: NoTag\n",
      "Label: 0\n",
      "---\n"
     ]
    },
    {
     "name": "stderr",
     "output_type": "stream",
     "text": [
      "Processing:  97%|█████████▋| 313/323 [40:12<04:30, 27.10s/rows, ETA (sec)=77.09]"
     ]
    },
    {
     "name": "stdout",
     "output_type": "stream",
     "text": [
      "\n",
      "Original Sentence: Assembly polls : BJP , Congress workers clash in Madhya Pradesh - Indian Express PTI , PTI : Mhow , Thu Nov 21 2013 , 14:33 hrs A case under various sections of the IPC was registered against Congress workers ( PTI : Picture for representation )\n",
      "Tagged Sentence: NoTag\n",
      "Label: 0\n",
      "---\n"
     ]
    },
    {
     "name": "stderr",
     "output_type": "stream",
     "text": [
      "Processing:  97%|█████████▋| 314/323 [40:40<04:04, 27.18s/rows, ETA (sec)=69.95]"
     ]
    },
    {
     "name": "stdout",
     "output_type": "stream",
     "text": [
      "\n",
      "Original Sentence: Seven BJP workers were injured in a clash with their Congress counterparts at Pigdambar village in Mhow tahsil of poll-bound Madhya Pradesh , police said on Thursday .\n",
      "Tagged Sentence: NoTag\n",
      "Label: 0\n",
      "---\n"
     ]
    },
    {
     "name": "stderr",
     "output_type": "stream",
     "text": [
      "Processing:  98%|█████████▊| 315/323 [41:06<03:35, 26.96s/rows, ETA (sec)=62.65]"
     ]
    },
    {
     "name": "stdout",
     "output_type": "stream",
     "text": [
      "\n",
      "Original Sentence: The incident occurred when the BJP workers travelling in an SUV were allegedly intercepted at the village last night by the Congress workers , they said .\n",
      "Tagged Sentence: <effect>The incident occurred</effect> <trigger>when</trigger> <cause>the BJP workers travelling in an SUV were allegedly intercepted at the village last night by the Congress workers</cause>, they said.\n",
      "Label: 1\n",
      "---\n"
     ]
    },
    {
     "name": "stderr",
     "output_type": "stream",
     "text": [
      "Processing:  98%|█████████▊| 316/323 [41:34<03:09, 27.07s/rows, ETA (sec)=55.25]"
     ]
    },
    {
     "name": "stdout",
     "output_type": "stream",
     "text": [
      "\n",
      "Original Sentence: An altercation broke out between the two groups , which turned into fisticuffs , police said .\n",
      "Tagged Sentence: An <cause>altercation broke out between the two groups</cause>, which <trigger>turned into</trigger> <effect>fisticuffs</effect>, police said.\n",
      "Label: 1\n",
      "---\n"
     ]
    },
    {
     "name": "stderr",
     "output_type": "stream",
     "text": [
      "Processing:  98%|█████████▊| 317/323 [42:02<02:45, 27.53s/rows, ETA (sec)=47.75]"
     ]
    },
    {
     "name": "stdout",
     "output_type": "stream",
     "text": [
      "\n",
      "Original Sentence: Rallies by ruling BJP and Congress are going on in full swing ahead of the November 25 Assembly elections .\n",
      "Tagged Sentence: <effect>Rallies by ruling BJP and Congress are going on in full swing</effect> <trigger>ahead of</trigger> <cause>the November 25 Assembly elections</cause>.\n",
      "Label: 1\n",
      "---\n"
     ]
    },
    {
     "name": "stderr",
     "output_type": "stream",
     "text": [
      "Processing:  98%|█████████▊| 318/323 [42:30<02:17, 27.49s/rows, ETA (sec)=40.10]"
     ]
    },
    {
     "name": "stdout",
     "output_type": "stream",
     "text": [
      "\n",
      "Original Sentence: Newly appointed municipal manager of Richmond , KZN , shot dead Giordano Stolley DURBAN , March 6 ( ANA ) - Just days before he was due to take up his post , Richmond 's newly appointed municipal manager , Edward Sithole , was gunned down in the town on Monday morning .\n",
      "Tagged Sentence: NoTag\n",
      "Label: 0\n",
      "---\n"
     ]
    },
    {
     "name": "stderr",
     "output_type": "stream",
     "text": [
      "Processing:  99%|█████████▉| 319/323 [42:55<01:47, 26.91s/rows, ETA (sec)=32.30]"
     ]
    },
    {
     "name": "stdout",
     "output_type": "stream",
     "text": [
      "\n",
      "Original Sentence: Police spokesman , Lieutenant Colonel Thulani Zwane , said : `` Today , at about 08:45 , a man believed to be in his forties was attacked by two unknown suspects who shot him at Victoria Road , Richmond . ''\n",
      "Tagged Sentence: NoTag\n",
      "Label: 0\n",
      "---\n"
     ]
    },
    {
     "name": "stderr",
     "output_type": "stream",
     "text": [
      "Processing:  99%|█████████▉| 320/323 [43:25<01:23, 27.73s/rows, ETA (sec)=24.42]"
     ]
    },
    {
     "name": "stdout",
     "output_type": "stream",
     "text": [
      "\n",
      "Original Sentence: National Freedom Party spokesman , Sabelo Sigudu , said : `` The National Freedom Party ( NFP ) wishes to express words of condolence on the sad shooting and killing of Mr Sithole , the Municipality Manager of Richmond Local Municipality , which took place this morning . ''\n",
      "Tagged Sentence: National Freedom Party spokesman, Sabelo Sigudu, said: `` The National Freedom Party ( NFP ) wishes to express words of condolence <trigger>on</trigger> the <cause>sad shooting and killing of Mr Sithole, the Municipality Manager of Richmond Local Municipality, which took place this morning</cause>. ''\n",
      "Label: 1\n",
      "---\n"
     ]
    },
    {
     "name": "stderr",
     "output_type": "stream",
     "text": [
      "Processing:  99%|█████████▉| 321/323 [43:51<00:54, 27.41s/rows, ETA (sec)=16.40]"
     ]
    },
    {
     "name": "stdout",
     "output_type": "stream",
     "text": [
      "\n",
      "Original Sentence: He described the shooting as `` evil '' .\n",
      "Tagged Sentence: NoTag\n",
      "Label: 0\n",
      "---\n"
     ]
    },
    {
     "name": "stderr",
     "output_type": "stream",
     "text": [
      "Processing: 100%|█████████▉| 322/323 [44:18<00:27, 27.12s/rows, ETA (sec)=8.26] "
     ]
    },
    {
     "name": "stdout",
     "output_type": "stream",
     "text": [
      "\n",
      "Original Sentence: On Sunday , three explosions in the south of the region killed two people and injured many others .\n",
      "Tagged Sentence: On Sunday , <cause>three explosions in the south of the region</cause> <trigger>killed</trigger> <effect>two people</effect> and <trigger>injured</trigger> <effect>many others</effect> .\n",
      "Label: 1\n",
      "---\n"
     ]
    },
    {
     "name": "stderr",
     "output_type": "stream",
     "text": [
      "Processing: 100%|██████████| 323/323 [44:48<00:00,  8.32s/rows, ETA (sec)=0.00]"
     ]
    },
    {
     "name": "stdout",
     "output_type": "stream",
     "text": [
      "\n",
      "Original Sentence: Uighur groups abroad say the clashes are a desperate protest against religious oppression and economic marginalisation .\n",
      "Tagged Sentence: Uighur groups abroad say the clashes are a desperate <effect>protest</effect> <trigger>against</trigger> <cause>religious oppression and economic marginalisation</cause>.\n",
      "Label: 1\n",
      "---\n"
     ]
    },
    {
     "name": "stderr",
     "output_type": "stream",
     "text": [
      "\n"
     ]
    }
   ],
   "source": [
    "total_rows = len(df)  \n",
    "start_time = time.time()\n",
    "\n",
    "with tqdm(total=total_rows, desc=\"Processing\", unit=\"rows\") as pbar:\n",
    "    for index, row in df.iterrows():\n",
    "\n",
    "        try:\n",
    "            with open(\"test_pred.json\", \"r\", encoding=\"utf-8\") as f:\n",
    "                data = json.load(f)\n",
    "        except (FileNotFoundError, json.JSONDecodeError):\n",
    "            data = []\n",
    "\n",
    "        flag = 0\n",
    "\n",
    "        for i in range(len(data)):\n",
    "            if data[i][\"original\"] == row[\"text\"]:\n",
    "                print(i, \" Skipped.\")\n",
    "                flag = 1\n",
    "                break\n",
    "\n",
    "        if flag == 1:\n",
    "            pbar.update(1)\n",
    "            continue\n",
    "\n",
    "        llm_output = generate(llm, row[\"text\"], graph, embeddings)\n",
    "        match = re.search(r\"\\{.*\\}\", llm_output, re.DOTALL)\n",
    "        if match:\n",
    "            json_data = match.group(0)\n",
    "            try:\n",
    "                json_data = json.loads(json_data)\n",
    "            except json.JSONDecodeError:\n",
    "                print(f\"Error: Invalid JSON at row {index}. Skipping...\")\n",
    "                pbar.update(1)\n",
    "                continue\n",
    "        else:\n",
    "            print(f\"Error: No JSON found in row {index}. Skipping...\")\n",
    "            pbar.update(1)\n",
    "            continue\n",
    "\n",
    "        tagged = json_data.get(\"tagged\", \"\")\n",
    "        label = json_data.get(\"label\", \"\")\n",
    "        data.append({\"tagged\": tagged, \"label\": label, \"original\": row[\"text\"]})\n",
    "\n",
    "        with open(\"test_pred.json\", \"w\", encoding=\"utf-8\") as f:\n",
    "            json.dump(data, f, indent=4, ensure_ascii=False)\n",
    "\n",
    "        pbar.update(1)\n",
    "        elapsed_time = time.time() - start_time\n",
    "        avg_time_per_row = elapsed_time / (index + 1)\n",
    "        remaining_time = avg_time_per_row * (total_rows - (index + 1))\n",
    "        pbar.set_postfix({\"ETA (sec)\": f\"{remaining_time:.2f}\"})\n",
    "\n",
    "        print(\"\\nOriginal Sentence:\", row[\"text\"])\n",
    "        print(\"Tagged Sentence:\", tagged)\n",
    "        print(\"Label:\", label)\n",
    "        print(\"---\")"
   ]
  },
  {
   "cell_type": "markdown",
   "metadata": {},
   "source": [
    "# Get F1 Score"
   ]
  },
  {
   "cell_type": "code",
   "execution_count": 3,
   "metadata": {},
   "outputs": [],
   "source": [
    "with open(\"test_pred.json\", \"r\", encoding=\"utf-8\") as file:\n",
    "    data = json.load(file)"
   ]
  },
  {
   "cell_type": "code",
   "execution_count": 4,
   "metadata": {},
   "outputs": [],
   "source": [
    "df_predictions = pd.DataFrame(data, columns=[ \"tagged\", \"label\", \"original\"])"
   ]
  },
  {
   "cell_type": "code",
   "execution_count": 5,
   "metadata": {},
   "outputs": [
    {
     "data": {
      "text/html": [
       "<div>\n",
       "<style scoped>\n",
       "    .dataframe tbody tr th:only-of-type {\n",
       "        vertical-align: middle;\n",
       "    }\n",
       "\n",
       "    .dataframe tbody tr th {\n",
       "        vertical-align: top;\n",
       "    }\n",
       "\n",
       "    .dataframe thead th {\n",
       "        text-align: right;\n",
       "    }\n",
       "</style>\n",
       "<table border=\"1\" class=\"dataframe\">\n",
       "  <thead>\n",
       "    <tr style=\"text-align: right;\">\n",
       "      <th></th>\n",
       "      <th>tagged</th>\n",
       "      <th>label</th>\n",
       "      <th>original</th>\n",
       "    </tr>\n",
       "  </thead>\n",
       "  <tbody>\n",
       "    <tr>\n",
       "      <th>0</th>\n",
       "      <td>The movement was &lt;effect&gt;catapulted into the h...</td>\n",
       "      <td>1</td>\n",
       "      <td>The movement was catapulted into the headlines...</td>\n",
       "    </tr>\n",
       "    <tr>\n",
       "      <th>1</th>\n",
       "      <td>Several thousand protesters took to the street...</td>\n",
       "      <td>1</td>\n",
       "      <td>Several thousand protesters took to the street...</td>\n",
       "    </tr>\n",
       "    <tr>\n",
       "      <th>2</th>\n",
       "      <td>“They try every means to oppress us,” complain...</td>\n",
       "      <td>1</td>\n",
       "      <td>“ They try every means to oppress us , ” compl...</td>\n",
       "    </tr>\n",
       "    <tr>\n",
       "      <th>3</th>\n",
       "      <td>NoTag</td>\n",
       "      <td>0</td>\n",
       "      <td>Chan Ho-tin , the 25-year-old founder of the H...</td>\n",
       "    </tr>\n",
       "    <tr>\n",
       "      <th>4</th>\n",
       "      <td>“ It is somehow like a revolution – no one wil...</td>\n",
       "      <td>1</td>\n",
       "      <td>“ It is somehow like a revolution – no one wil...</td>\n",
       "    </tr>\n",
       "    <tr>\n",
       "      <th>...</th>\n",
       "      <td>...</td>\n",
       "      <td>...</td>\n",
       "      <td>...</td>\n",
       "    </tr>\n",
       "    <tr>\n",
       "      <th>318</th>\n",
       "      <td>National Freedom Party spokesman, Sabelo Sigud...</td>\n",
       "      <td>1</td>\n",
       "      <td>National Freedom Party spokesman , Sabelo Sigu...</td>\n",
       "    </tr>\n",
       "    <tr>\n",
       "      <th>319</th>\n",
       "      <td>NoTag</td>\n",
       "      <td>0</td>\n",
       "      <td>He described the shooting as `` evil '' .</td>\n",
       "    </tr>\n",
       "    <tr>\n",
       "      <th>320</th>\n",
       "      <td>On Sunday , &lt;cause&gt;three explosions in the sou...</td>\n",
       "      <td>1</td>\n",
       "      <td>On Sunday , three explosions in the south of t...</td>\n",
       "    </tr>\n",
       "    <tr>\n",
       "      <th>321</th>\n",
       "      <td>Uighur groups abroad say the clashes are a des...</td>\n",
       "      <td>1</td>\n",
       "      <td>Uighur groups abroad say the clashes are a des...</td>\n",
       "    </tr>\n",
       "    <tr>\n",
       "      <th>322</th>\n",
       "      <td>NoTag</td>\n",
       "      <td>0</td>\n",
       "      <td>There was a tense stand-off when thousands of ...</td>\n",
       "    </tr>\n",
       "  </tbody>\n",
       "</table>\n",
       "<p>323 rows × 3 columns</p>\n",
       "</div>"
      ],
      "text/plain": [
       "                                                tagged  label  \\\n",
       "0    The movement was <effect>catapulted into the h...      1   \n",
       "1    Several thousand protesters took to the street...      1   \n",
       "2    “They try every means to oppress us,” complain...      1   \n",
       "3                                                NoTag      0   \n",
       "4    “ It is somehow like a revolution – no one wil...      1   \n",
       "..                                                 ...    ...   \n",
       "318  National Freedom Party spokesman, Sabelo Sigud...      1   \n",
       "319                                              NoTag      0   \n",
       "320  On Sunday , <cause>three explosions in the sou...      1   \n",
       "321  Uighur groups abroad say the clashes are a des...      1   \n",
       "322                                              NoTag      0   \n",
       "\n",
       "                                              original  \n",
       "0    The movement was catapulted into the headlines...  \n",
       "1    Several thousand protesters took to the street...  \n",
       "2    “ They try every means to oppress us , ” compl...  \n",
       "3    Chan Ho-tin , the 25-year-old founder of the H...  \n",
       "4    “ It is somehow like a revolution – no one wil...  \n",
       "..                                                 ...  \n",
       "318  National Freedom Party spokesman , Sabelo Sigu...  \n",
       "319          He described the shooting as `` evil '' .  \n",
       "320  On Sunday , three explosions in the south of t...  \n",
       "321  Uighur groups abroad say the clashes are a des...  \n",
       "322  There was a tense stand-off when thousands of ...  \n",
       "\n",
       "[323 rows x 3 columns]"
      ]
     },
     "execution_count": 5,
     "metadata": {},
     "output_type": "execute_result"
    }
   ],
   "source": [
    "df_predictions"
   ]
  },
  {
   "cell_type": "code",
   "execution_count": 6,
   "metadata": {},
   "outputs": [],
   "source": [
    "df_predictions.rename(columns={\n",
    "    \"original\": \"original_sentence\",\n",
    "    \"tagged\": \"tagged_sentence\",\n",
    "    \"label\": \"label\"\n",
    "}, inplace=True)"
   ]
  },
  {
   "cell_type": "code",
   "execution_count": 7,
   "metadata": {},
   "outputs": [],
   "source": [
    "df_predictions[\"label\"] = pd.to_numeric(df_predictions[\"label\"], errors='coerce')"
   ]
  },
  {
   "cell_type": "code",
   "execution_count": 8,
   "metadata": {},
   "outputs": [
    {
     "data": {
      "text/html": [
       "<div>\n",
       "<style scoped>\n",
       "    .dataframe tbody tr th:only-of-type {\n",
       "        vertical-align: middle;\n",
       "    }\n",
       "\n",
       "    .dataframe tbody tr th {\n",
       "        vertical-align: top;\n",
       "    }\n",
       "\n",
       "    .dataframe thead th {\n",
       "        text-align: right;\n",
       "    }\n",
       "</style>\n",
       "<table border=\"1\" class=\"dataframe\">\n",
       "  <thead>\n",
       "    <tr style=\"text-align: right;\">\n",
       "      <th></th>\n",
       "      <th>tagged_sentence</th>\n",
       "      <th>label</th>\n",
       "      <th>original_sentence</th>\n",
       "    </tr>\n",
       "  </thead>\n",
       "  <tbody>\n",
       "    <tr>\n",
       "      <th>0</th>\n",
       "      <td>The movement was &lt;effect&gt;catapulted into the h...</td>\n",
       "      <td>1</td>\n",
       "      <td>The movement was catapulted into the headlines...</td>\n",
       "    </tr>\n",
       "    <tr>\n",
       "      <th>1</th>\n",
       "      <td>Several thousand protesters took to the street...</td>\n",
       "      <td>1</td>\n",
       "      <td>Several thousand protesters took to the street...</td>\n",
       "    </tr>\n",
       "    <tr>\n",
       "      <th>2</th>\n",
       "      <td>“They try every means to oppress us,” complain...</td>\n",
       "      <td>1</td>\n",
       "      <td>“ They try every means to oppress us , ” compl...</td>\n",
       "    </tr>\n",
       "    <tr>\n",
       "      <th>3</th>\n",
       "      <td>NoTag</td>\n",
       "      <td>0</td>\n",
       "      <td>Chan Ho-tin , the 25-year-old founder of the H...</td>\n",
       "    </tr>\n",
       "    <tr>\n",
       "      <th>4</th>\n",
       "      <td>“ It is somehow like a revolution – no one wil...</td>\n",
       "      <td>1</td>\n",
       "      <td>“ It is somehow like a revolution – no one wil...</td>\n",
       "    </tr>\n",
       "    <tr>\n",
       "      <th>...</th>\n",
       "      <td>...</td>\n",
       "      <td>...</td>\n",
       "      <td>...</td>\n",
       "    </tr>\n",
       "    <tr>\n",
       "      <th>318</th>\n",
       "      <td>National Freedom Party spokesman, Sabelo Sigud...</td>\n",
       "      <td>1</td>\n",
       "      <td>National Freedom Party spokesman , Sabelo Sigu...</td>\n",
       "    </tr>\n",
       "    <tr>\n",
       "      <th>319</th>\n",
       "      <td>NoTag</td>\n",
       "      <td>0</td>\n",
       "      <td>He described the shooting as `` evil '' .</td>\n",
       "    </tr>\n",
       "    <tr>\n",
       "      <th>320</th>\n",
       "      <td>On Sunday , &lt;cause&gt;three explosions in the sou...</td>\n",
       "      <td>1</td>\n",
       "      <td>On Sunday , three explosions in the south of t...</td>\n",
       "    </tr>\n",
       "    <tr>\n",
       "      <th>321</th>\n",
       "      <td>Uighur groups abroad say the clashes are a des...</td>\n",
       "      <td>1</td>\n",
       "      <td>Uighur groups abroad say the clashes are a des...</td>\n",
       "    </tr>\n",
       "    <tr>\n",
       "      <th>322</th>\n",
       "      <td>NoTag</td>\n",
       "      <td>0</td>\n",
       "      <td>There was a tense stand-off when thousands of ...</td>\n",
       "    </tr>\n",
       "  </tbody>\n",
       "</table>\n",
       "<p>323 rows × 3 columns</p>\n",
       "</div>"
      ],
      "text/plain": [
       "                                       tagged_sentence  label  \\\n",
       "0    The movement was <effect>catapulted into the h...      1   \n",
       "1    Several thousand protesters took to the street...      1   \n",
       "2    “They try every means to oppress us,” complain...      1   \n",
       "3                                                NoTag      0   \n",
       "4    “ It is somehow like a revolution – no one wil...      1   \n",
       "..                                                 ...    ...   \n",
       "318  National Freedom Party spokesman, Sabelo Sigud...      1   \n",
       "319                                              NoTag      0   \n",
       "320  On Sunday , <cause>three explosions in the sou...      1   \n",
       "321  Uighur groups abroad say the clashes are a des...      1   \n",
       "322                                              NoTag      0   \n",
       "\n",
       "                                     original_sentence  \n",
       "0    The movement was catapulted into the headlines...  \n",
       "1    Several thousand protesters took to the street...  \n",
       "2    “ They try every means to oppress us , ” compl...  \n",
       "3    Chan Ho-tin , the 25-year-old founder of the H...  \n",
       "4    “ It is somehow like a revolution – no one wil...  \n",
       "..                                                 ...  \n",
       "318  National Freedom Party spokesman , Sabelo Sigu...  \n",
       "319          He described the shooting as `` evil '' .  \n",
       "320  On Sunday , three explosions in the south of t...  \n",
       "321  Uighur groups abroad say the clashes are a des...  \n",
       "322  There was a tense stand-off when thousands of ...  \n",
       "\n",
       "[323 rows x 3 columns]"
      ]
     },
     "execution_count": 8,
     "metadata": {},
     "output_type": "execute_result"
    }
   ],
   "source": [
    "df_predictions"
   ]
  },
  {
   "cell_type": "code",
   "execution_count": 9,
   "metadata": {},
   "outputs": [
    {
     "data": {
      "text/html": [
       "<div>\n",
       "<style scoped>\n",
       "    .dataframe tbody tr th:only-of-type {\n",
       "        vertical-align: middle;\n",
       "    }\n",
       "\n",
       "    .dataframe tbody tr th {\n",
       "        vertical-align: top;\n",
       "    }\n",
       "\n",
       "    .dataframe thead th {\n",
       "        text-align: right;\n",
       "    }\n",
       "</style>\n",
       "<table border=\"1\" class=\"dataframe\">\n",
       "  <thead>\n",
       "    <tr style=\"text-align: right;\">\n",
       "      <th></th>\n",
       "      <th>index</th>\n",
       "      <th>text</th>\n",
       "      <th>label</th>\n",
       "      <th>agreement</th>\n",
       "      <th>num_votes</th>\n",
       "      <th>sample_set</th>\n",
       "    </tr>\n",
       "  </thead>\n",
       "  <tbody>\n",
       "    <tr>\n",
       "      <th>0</th>\n",
       "      <td>train_10_0</td>\n",
       "      <td>The movement was catapulted into the headlines...</td>\n",
       "      <td>1</td>\n",
       "      <td>0.666667</td>\n",
       "      <td>6</td>\n",
       "      <td>train_10</td>\n",
       "    </tr>\n",
       "    <tr>\n",
       "      <th>1</th>\n",
       "      <td>train_10_1</td>\n",
       "      <td>Several thousand protesters took to the street...</td>\n",
       "      <td>1</td>\n",
       "      <td>0.833333</td>\n",
       "      <td>6</td>\n",
       "      <td>train_10</td>\n",
       "    </tr>\n",
       "    <tr>\n",
       "      <th>2</th>\n",
       "      <td>train_10_2</td>\n",
       "      <td>“ They try every means to oppress us , ” compl...</td>\n",
       "      <td>1</td>\n",
       "      <td>0.833333</td>\n",
       "      <td>6</td>\n",
       "      <td>train_10</td>\n",
       "    </tr>\n",
       "    <tr>\n",
       "      <th>3</th>\n",
       "      <td>train_10_3</td>\n",
       "      <td>Chan Ho-tin , the 25-year-old founder of the H...</td>\n",
       "      <td>0</td>\n",
       "      <td>0.833333</td>\n",
       "      <td>6</td>\n",
       "      <td>train_10</td>\n",
       "    </tr>\n",
       "    <tr>\n",
       "      <th>4</th>\n",
       "      <td>train_10_4</td>\n",
       "      <td>“ It is somehow like a revolution – no one wil...</td>\n",
       "      <td>1</td>\n",
       "      <td>0.500000</td>\n",
       "      <td>6</td>\n",
       "      <td>train_10</td>\n",
       "    </tr>\n",
       "    <tr>\n",
       "      <th>...</th>\n",
       "      <td>...</td>\n",
       "      <td>...</td>\n",
       "      <td>...</td>\n",
       "      <td>...</td>\n",
       "      <td>...</td>\n",
       "      <td>...</td>\n",
       "    </tr>\n",
       "    <tr>\n",
       "      <th>318</th>\n",
       "      <td>train_10_318</td>\n",
       "      <td>Police spokesman , Lieutenant Colonel Thulani ...</td>\n",
       "      <td>0</td>\n",
       "      <td>0.500000</td>\n",
       "      <td>4</td>\n",
       "      <td>train_10</td>\n",
       "    </tr>\n",
       "    <tr>\n",
       "      <th>319</th>\n",
       "      <td>train_10_319</td>\n",
       "      <td>National Freedom Party spokesman , Sabelo Sigu...</td>\n",
       "      <td>1</td>\n",
       "      <td>0.750000</td>\n",
       "      <td>4</td>\n",
       "      <td>train_10</td>\n",
       "    </tr>\n",
       "    <tr>\n",
       "      <th>320</th>\n",
       "      <td>train_10_320</td>\n",
       "      <td>He described the shooting as `` evil '' .</td>\n",
       "      <td>0</td>\n",
       "      <td>1.000000</td>\n",
       "      <td>4</td>\n",
       "      <td>train_10</td>\n",
       "    </tr>\n",
       "    <tr>\n",
       "      <th>321</th>\n",
       "      <td>train_10_321</td>\n",
       "      <td>On Sunday , three explosions in the south of t...</td>\n",
       "      <td>1</td>\n",
       "      <td>1.000000</td>\n",
       "      <td>4</td>\n",
       "      <td>train_10</td>\n",
       "    </tr>\n",
       "    <tr>\n",
       "      <th>322</th>\n",
       "      <td>train_10_322</td>\n",
       "      <td>Uighur groups abroad say the clashes are a des...</td>\n",
       "      <td>1</td>\n",
       "      <td>0.750000</td>\n",
       "      <td>4</td>\n",
       "      <td>train_10</td>\n",
       "    </tr>\n",
       "  </tbody>\n",
       "</table>\n",
       "<p>323 rows × 6 columns</p>\n",
       "</div>"
      ],
      "text/plain": [
       "            index                                               text  label  \\\n",
       "0      train_10_0  The movement was catapulted into the headlines...      1   \n",
       "1      train_10_1  Several thousand protesters took to the street...      1   \n",
       "2      train_10_2  “ They try every means to oppress us , ” compl...      1   \n",
       "3      train_10_3  Chan Ho-tin , the 25-year-old founder of the H...      0   \n",
       "4      train_10_4  “ It is somehow like a revolution – no one wil...      1   \n",
       "..            ...                                                ...    ...   \n",
       "318  train_10_318  Police spokesman , Lieutenant Colonel Thulani ...      0   \n",
       "319  train_10_319  National Freedom Party spokesman , Sabelo Sigu...      1   \n",
       "320  train_10_320          He described the shooting as `` evil '' .      0   \n",
       "321  train_10_321  On Sunday , three explosions in the south of t...      1   \n",
       "322  train_10_322  Uighur groups abroad say the clashes are a des...      1   \n",
       "\n",
       "     agreement  num_votes sample_set  \n",
       "0     0.666667          6   train_10  \n",
       "1     0.833333          6   train_10  \n",
       "2     0.833333          6   train_10  \n",
       "3     0.833333          6   train_10  \n",
       "4     0.500000          6   train_10  \n",
       "..         ...        ...        ...  \n",
       "318   0.500000          4   train_10  \n",
       "319   0.750000          4   train_10  \n",
       "320   1.000000          4   train_10  \n",
       "321   1.000000          4   train_10  \n",
       "322   0.750000          4   train_10  \n",
       "\n",
       "[323 rows x 6 columns]"
      ]
     },
     "execution_count": 9,
     "metadata": {},
     "output_type": "execute_result"
    }
   ],
   "source": [
    "df"
   ]
  },
  {
   "cell_type": "code",
   "execution_count": 10,
   "metadata": {},
   "outputs": [],
   "source": [
    "df_predictions[\"label\"] = pd.to_numeric(df_predictions[\"label\"], errors='coerce').fillna(0).astype(int)"
   ]
  },
  {
   "cell_type": "code",
   "execution_count": 11,
   "metadata": {},
   "outputs": [
    {
     "data": {
      "text/html": [
       "<div>\n",
       "<style scoped>\n",
       "    .dataframe tbody tr th:only-of-type {\n",
       "        vertical-align: middle;\n",
       "    }\n",
       "\n",
       "    .dataframe tbody tr th {\n",
       "        vertical-align: top;\n",
       "    }\n",
       "\n",
       "    .dataframe thead th {\n",
       "        text-align: right;\n",
       "    }\n",
       "</style>\n",
       "<table border=\"1\" class=\"dataframe\">\n",
       "  <thead>\n",
       "    <tr style=\"text-align: right;\">\n",
       "      <th></th>\n",
       "      <th>tagged_sentence</th>\n",
       "      <th>label</th>\n",
       "      <th>original_sentence</th>\n",
       "    </tr>\n",
       "  </thead>\n",
       "  <tbody>\n",
       "    <tr>\n",
       "      <th>0</th>\n",
       "      <td>The movement was &lt;effect&gt;catapulted into the h...</td>\n",
       "      <td>1</td>\n",
       "      <td>The movement was catapulted into the headlines...</td>\n",
       "    </tr>\n",
       "    <tr>\n",
       "      <th>1</th>\n",
       "      <td>Several thousand protesters took to the street...</td>\n",
       "      <td>1</td>\n",
       "      <td>Several thousand protesters took to the street...</td>\n",
       "    </tr>\n",
       "    <tr>\n",
       "      <th>2</th>\n",
       "      <td>“They try every means to oppress us,” complain...</td>\n",
       "      <td>1</td>\n",
       "      <td>“ They try every means to oppress us , ” compl...</td>\n",
       "    </tr>\n",
       "    <tr>\n",
       "      <th>3</th>\n",
       "      <td>NoTag</td>\n",
       "      <td>0</td>\n",
       "      <td>Chan Ho-tin , the 25-year-old founder of the H...</td>\n",
       "    </tr>\n",
       "    <tr>\n",
       "      <th>4</th>\n",
       "      <td>“ It is somehow like a revolution – no one wil...</td>\n",
       "      <td>1</td>\n",
       "      <td>“ It is somehow like a revolution – no one wil...</td>\n",
       "    </tr>\n",
       "    <tr>\n",
       "      <th>...</th>\n",
       "      <td>...</td>\n",
       "      <td>...</td>\n",
       "      <td>...</td>\n",
       "    </tr>\n",
       "    <tr>\n",
       "      <th>318</th>\n",
       "      <td>National Freedom Party spokesman, Sabelo Sigud...</td>\n",
       "      <td>1</td>\n",
       "      <td>National Freedom Party spokesman , Sabelo Sigu...</td>\n",
       "    </tr>\n",
       "    <tr>\n",
       "      <th>319</th>\n",
       "      <td>NoTag</td>\n",
       "      <td>0</td>\n",
       "      <td>He described the shooting as `` evil '' .</td>\n",
       "    </tr>\n",
       "    <tr>\n",
       "      <th>320</th>\n",
       "      <td>On Sunday , &lt;cause&gt;three explosions in the sou...</td>\n",
       "      <td>1</td>\n",
       "      <td>On Sunday , three explosions in the south of t...</td>\n",
       "    </tr>\n",
       "    <tr>\n",
       "      <th>321</th>\n",
       "      <td>Uighur groups abroad say the clashes are a des...</td>\n",
       "      <td>1</td>\n",
       "      <td>Uighur groups abroad say the clashes are a des...</td>\n",
       "    </tr>\n",
       "    <tr>\n",
       "      <th>322</th>\n",
       "      <td>NoTag</td>\n",
       "      <td>0</td>\n",
       "      <td>There was a tense stand-off when thousands of ...</td>\n",
       "    </tr>\n",
       "  </tbody>\n",
       "</table>\n",
       "<p>323 rows × 3 columns</p>\n",
       "</div>"
      ],
      "text/plain": [
       "                                       tagged_sentence  label  \\\n",
       "0    The movement was <effect>catapulted into the h...      1   \n",
       "1    Several thousand protesters took to the street...      1   \n",
       "2    “They try every means to oppress us,” complain...      1   \n",
       "3                                                NoTag      0   \n",
       "4    “ It is somehow like a revolution – no one wil...      1   \n",
       "..                                                 ...    ...   \n",
       "318  National Freedom Party spokesman, Sabelo Sigud...      1   \n",
       "319                                              NoTag      0   \n",
       "320  On Sunday , <cause>three explosions in the sou...      1   \n",
       "321  Uighur groups abroad say the clashes are a des...      1   \n",
       "322                                              NoTag      0   \n",
       "\n",
       "                                     original_sentence  \n",
       "0    The movement was catapulted into the headlines...  \n",
       "1    Several thousand protesters took to the street...  \n",
       "2    “ They try every means to oppress us , ” compl...  \n",
       "3    Chan Ho-tin , the 25-year-old founder of the H...  \n",
       "4    “ It is somehow like a revolution – no one wil...  \n",
       "..                                                 ...  \n",
       "318  National Freedom Party spokesman , Sabelo Sigu...  \n",
       "319          He described the shooting as `` evil '' .  \n",
       "320  On Sunday , three explosions in the south of t...  \n",
       "321  Uighur groups abroad say the clashes are a des...  \n",
       "322  There was a tense stand-off when thousands of ...  \n",
       "\n",
       "[323 rows x 3 columns]"
      ]
     },
     "execution_count": 11,
     "metadata": {},
     "output_type": "execute_result"
    }
   ],
   "source": [
    "df_predictions"
   ]
  },
  {
   "cell_type": "code",
   "execution_count": 12,
   "metadata": {},
   "outputs": [],
   "source": [
    "common_df = df.merge(df_predictions, left_on=\"text\", right_on=\"original_sentence\", suffixes=('_df', '_pred'))"
   ]
  },
  {
   "cell_type": "code",
   "execution_count": 13,
   "metadata": {},
   "outputs": [
    {
     "data": {
      "text/html": [
       "<div>\n",
       "<style scoped>\n",
       "    .dataframe tbody tr th:only-of-type {\n",
       "        vertical-align: middle;\n",
       "    }\n",
       "\n",
       "    .dataframe tbody tr th {\n",
       "        vertical-align: top;\n",
       "    }\n",
       "\n",
       "    .dataframe thead th {\n",
       "        text-align: right;\n",
       "    }\n",
       "</style>\n",
       "<table border=\"1\" class=\"dataframe\">\n",
       "  <thead>\n",
       "    <tr style=\"text-align: right;\">\n",
       "      <th></th>\n",
       "      <th>index</th>\n",
       "      <th>text</th>\n",
       "      <th>label_df</th>\n",
       "      <th>agreement</th>\n",
       "      <th>num_votes</th>\n",
       "      <th>sample_set</th>\n",
       "      <th>tagged_sentence</th>\n",
       "      <th>label_pred</th>\n",
       "      <th>original_sentence</th>\n",
       "    </tr>\n",
       "  </thead>\n",
       "  <tbody>\n",
       "    <tr>\n",
       "      <th>0</th>\n",
       "      <td>train_10_0</td>\n",
       "      <td>The movement was catapulted into the headlines...</td>\n",
       "      <td>1</td>\n",
       "      <td>0.666667</td>\n",
       "      <td>6</td>\n",
       "      <td>train_10</td>\n",
       "      <td>The movement was &lt;effect&gt;catapulted into the h...</td>\n",
       "      <td>1</td>\n",
       "      <td>The movement was catapulted into the headlines...</td>\n",
       "    </tr>\n",
       "    <tr>\n",
       "      <th>1</th>\n",
       "      <td>train_10_1</td>\n",
       "      <td>Several thousand protesters took to the street...</td>\n",
       "      <td>1</td>\n",
       "      <td>0.833333</td>\n",
       "      <td>6</td>\n",
       "      <td>train_10</td>\n",
       "      <td>Several thousand protesters took to the street...</td>\n",
       "      <td>1</td>\n",
       "      <td>Several thousand protesters took to the street...</td>\n",
       "    </tr>\n",
       "    <tr>\n",
       "      <th>2</th>\n",
       "      <td>train_10_2</td>\n",
       "      <td>“ They try every means to oppress us , ” compl...</td>\n",
       "      <td>1</td>\n",
       "      <td>0.833333</td>\n",
       "      <td>6</td>\n",
       "      <td>train_10</td>\n",
       "      <td>“They try every means to oppress us,” complain...</td>\n",
       "      <td>1</td>\n",
       "      <td>“ They try every means to oppress us , ” compl...</td>\n",
       "    </tr>\n",
       "    <tr>\n",
       "      <th>3</th>\n",
       "      <td>train_10_3</td>\n",
       "      <td>Chan Ho-tin , the 25-year-old founder of the H...</td>\n",
       "      <td>0</td>\n",
       "      <td>0.833333</td>\n",
       "      <td>6</td>\n",
       "      <td>train_10</td>\n",
       "      <td>NoTag</td>\n",
       "      <td>0</td>\n",
       "      <td>Chan Ho-tin , the 25-year-old founder of the H...</td>\n",
       "    </tr>\n",
       "    <tr>\n",
       "      <th>4</th>\n",
       "      <td>train_10_4</td>\n",
       "      <td>“ It is somehow like a revolution – no one wil...</td>\n",
       "      <td>1</td>\n",
       "      <td>0.500000</td>\n",
       "      <td>6</td>\n",
       "      <td>train_10</td>\n",
       "      <td>“ It is somehow like a revolution – no one wil...</td>\n",
       "      <td>1</td>\n",
       "      <td>“ It is somehow like a revolution – no one wil...</td>\n",
       "    </tr>\n",
       "    <tr>\n",
       "      <th>...</th>\n",
       "      <td>...</td>\n",
       "      <td>...</td>\n",
       "      <td>...</td>\n",
       "      <td>...</td>\n",
       "      <td>...</td>\n",
       "      <td>...</td>\n",
       "      <td>...</td>\n",
       "      <td>...</td>\n",
       "      <td>...</td>\n",
       "    </tr>\n",
       "    <tr>\n",
       "      <th>318</th>\n",
       "      <td>train_10_318</td>\n",
       "      <td>Police spokesman , Lieutenant Colonel Thulani ...</td>\n",
       "      <td>0</td>\n",
       "      <td>0.500000</td>\n",
       "      <td>4</td>\n",
       "      <td>train_10</td>\n",
       "      <td>NoTag</td>\n",
       "      <td>0</td>\n",
       "      <td>Police spokesman , Lieutenant Colonel Thulani ...</td>\n",
       "    </tr>\n",
       "    <tr>\n",
       "      <th>319</th>\n",
       "      <td>train_10_319</td>\n",
       "      <td>National Freedom Party spokesman , Sabelo Sigu...</td>\n",
       "      <td>1</td>\n",
       "      <td>0.750000</td>\n",
       "      <td>4</td>\n",
       "      <td>train_10</td>\n",
       "      <td>National Freedom Party spokesman, Sabelo Sigud...</td>\n",
       "      <td>1</td>\n",
       "      <td>National Freedom Party spokesman , Sabelo Sigu...</td>\n",
       "    </tr>\n",
       "    <tr>\n",
       "      <th>320</th>\n",
       "      <td>train_10_320</td>\n",
       "      <td>He described the shooting as `` evil '' .</td>\n",
       "      <td>0</td>\n",
       "      <td>1.000000</td>\n",
       "      <td>4</td>\n",
       "      <td>train_10</td>\n",
       "      <td>NoTag</td>\n",
       "      <td>0</td>\n",
       "      <td>He described the shooting as `` evil '' .</td>\n",
       "    </tr>\n",
       "    <tr>\n",
       "      <th>321</th>\n",
       "      <td>train_10_321</td>\n",
       "      <td>On Sunday , three explosions in the south of t...</td>\n",
       "      <td>1</td>\n",
       "      <td>1.000000</td>\n",
       "      <td>4</td>\n",
       "      <td>train_10</td>\n",
       "      <td>On Sunday , &lt;cause&gt;three explosions in the sou...</td>\n",
       "      <td>1</td>\n",
       "      <td>On Sunday , three explosions in the south of t...</td>\n",
       "    </tr>\n",
       "    <tr>\n",
       "      <th>322</th>\n",
       "      <td>train_10_322</td>\n",
       "      <td>Uighur groups abroad say the clashes are a des...</td>\n",
       "      <td>1</td>\n",
       "      <td>0.750000</td>\n",
       "      <td>4</td>\n",
       "      <td>train_10</td>\n",
       "      <td>Uighur groups abroad say the clashes are a des...</td>\n",
       "      <td>1</td>\n",
       "      <td>Uighur groups abroad say the clashes are a des...</td>\n",
       "    </tr>\n",
       "  </tbody>\n",
       "</table>\n",
       "<p>323 rows × 9 columns</p>\n",
       "</div>"
      ],
      "text/plain": [
       "            index                                               text  \\\n",
       "0      train_10_0  The movement was catapulted into the headlines...   \n",
       "1      train_10_1  Several thousand protesters took to the street...   \n",
       "2      train_10_2  “ They try every means to oppress us , ” compl...   \n",
       "3      train_10_3  Chan Ho-tin , the 25-year-old founder of the H...   \n",
       "4      train_10_4  “ It is somehow like a revolution – no one wil...   \n",
       "..            ...                                                ...   \n",
       "318  train_10_318  Police spokesman , Lieutenant Colonel Thulani ...   \n",
       "319  train_10_319  National Freedom Party spokesman , Sabelo Sigu...   \n",
       "320  train_10_320          He described the shooting as `` evil '' .   \n",
       "321  train_10_321  On Sunday , three explosions in the south of t...   \n",
       "322  train_10_322  Uighur groups abroad say the clashes are a des...   \n",
       "\n",
       "     label_df  agreement  num_votes sample_set  \\\n",
       "0           1   0.666667          6   train_10   \n",
       "1           1   0.833333          6   train_10   \n",
       "2           1   0.833333          6   train_10   \n",
       "3           0   0.833333          6   train_10   \n",
       "4           1   0.500000          6   train_10   \n",
       "..        ...        ...        ...        ...   \n",
       "318         0   0.500000          4   train_10   \n",
       "319         1   0.750000          4   train_10   \n",
       "320         0   1.000000          4   train_10   \n",
       "321         1   1.000000          4   train_10   \n",
       "322         1   0.750000          4   train_10   \n",
       "\n",
       "                                       tagged_sentence  label_pred  \\\n",
       "0    The movement was <effect>catapulted into the h...           1   \n",
       "1    Several thousand protesters took to the street...           1   \n",
       "2    “They try every means to oppress us,” complain...           1   \n",
       "3                                                NoTag           0   \n",
       "4    “ It is somehow like a revolution – no one wil...           1   \n",
       "..                                                 ...         ...   \n",
       "318                                              NoTag           0   \n",
       "319  National Freedom Party spokesman, Sabelo Sigud...           1   \n",
       "320                                              NoTag           0   \n",
       "321  On Sunday , <cause>three explosions in the sou...           1   \n",
       "322  Uighur groups abroad say the clashes are a des...           1   \n",
       "\n",
       "                                     original_sentence  \n",
       "0    The movement was catapulted into the headlines...  \n",
       "1    Several thousand protesters took to the street...  \n",
       "2    “ They try every means to oppress us , ” compl...  \n",
       "3    Chan Ho-tin , the 25-year-old founder of the H...  \n",
       "4    “ It is somehow like a revolution – no one wil...  \n",
       "..                                                 ...  \n",
       "318  Police spokesman , Lieutenant Colonel Thulani ...  \n",
       "319  National Freedom Party spokesman , Sabelo Sigu...  \n",
       "320          He described the shooting as `` evil '' .  \n",
       "321  On Sunday , three explosions in the south of t...  \n",
       "322  Uighur groups abroad say the clashes are a des...  \n",
       "\n",
       "[323 rows x 9 columns]"
      ]
     },
     "execution_count": 13,
     "metadata": {},
     "output_type": "execute_result"
    }
   ],
   "source": [
    "common_df"
   ]
  },
  {
   "cell_type": "code",
   "execution_count": 15,
   "metadata": {},
   "outputs": [
    {
     "name": "stdout",
     "output_type": "stream",
     "text": [
      "F1 Score: 0.7774480712166172\n",
      "Accuracy: 0.7678018575851393\n",
      "Precision: 0.8238993710691824\n",
      "Recall: 0.7359550561797753\n",
      "Matthews Correlation Coefficient: 0.5400757092117167\n"
     ]
    }
   ],
   "source": [
    "f1 = f1_score(common_df['label_df'], common_df['label_pred'])\n",
    "print(\"F1 Score:\", f1)\n",
    "\n",
    "accuracy = accuracy_score(common_df['label_df'], common_df['label_pred'])\n",
    "print(\"Accuracy:\", accuracy)\n",
    "\n",
    "precision = precision_score(common_df['label_df'], common_df['label_pred'])\n",
    "print(\"Precision:\", precision)\n",
    "\n",
    "recall = recall_score(common_df['label_df'], common_df['label_pred'])\n",
    "print(\"Recall:\", recall)\n",
    "\n",
    "MCC = matthews_corrcoef(common_df['label_df'], common_df['label_pred'])\n",
    "print(\"Matthews Correlation Coefficient:\", MCC)"
   ]
  },
  {
   "cell_type": "markdown",
   "metadata": {},
   "source": [
    "# F1 Score calculation after 10 examples given "
   ]
  },
  {
   "cell_type": "code",
   "execution_count": 10,
   "metadata": {},
   "outputs": [
    {
     "name": "stderr",
     "output_type": "stream",
     "text": [
      "Processing:  16%|█▋        | 53/323 [00:00<00:00, 525.81rows/s]"
     ]
    },
    {
     "name": "stdout",
     "output_type": "stream",
     "text": [
      "0  Skipped.\n",
      "1  Skipped.\n",
      "2  Skipped.\n",
      "3  Skipped.\n",
      "4  Skipped.\n",
      "5  Skipped.\n",
      "6  Skipped.\n",
      "7  Skipped.\n",
      "8  Skipped.\n",
      "9  Skipped.\n",
      "10  Skipped.\n",
      "11  Skipped.\n",
      "12  Skipped.\n",
      "13  Skipped.\n",
      "14  Skipped.\n",
      "15  Skipped.\n",
      "16  Skipped.\n",
      "17  Skipped.\n",
      "18  Skipped.\n",
      "19  Skipped.\n",
      "20  Skipped.\n",
      "21  Skipped.\n",
      "22  Skipped.\n",
      "23  Skipped.\n",
      "24  Skipped.\n",
      "25  Skipped.\n",
      "26  Skipped.\n",
      "27  Skipped.\n",
      "28  Skipped.\n",
      "29  Skipped.\n",
      "30  Skipped.\n",
      "31  Skipped.\n",
      "32  Skipped.\n",
      "33  Skipped.\n",
      "34  Skipped.\n",
      "35  Skipped.\n",
      "36  Skipped.\n",
      "37  Skipped.\n",
      "38  Skipped.\n",
      "39  Skipped.\n",
      "40  Skipped.\n",
      "41  Skipped.\n",
      "42  Skipped.\n",
      "43  Skipped.\n",
      "44  Skipped.\n",
      "45  Skipped.\n",
      "46  Skipped.\n",
      "47  Skipped.\n",
      "48  Skipped.\n",
      "49  Skipped.\n",
      "50  Skipped.\n",
      "51  Skipped.\n",
      "52  Skipped.\n",
      "53  Skipped.\n",
      "54  Skipped.\n",
      "55  Skipped.\n",
      "56  Skipped.\n",
      "57  Skipped.\n",
      "58  Skipped.\n",
      "59  Skipped.\n",
      "60  Skipped.\n",
      "61  Skipped.\n",
      "62  Skipped.\n",
      "63  Skipped.\n",
      "64  Skipped.\n",
      "65  Skipped.\n",
      "66  Skipped.\n",
      "67  Skipped.\n",
      "68  Skipped.\n",
      "69  Skipped.\n",
      "70  Skipped.\n",
      "71  Skipped.\n",
      "72  Skipped.\n",
      "73  Skipped.\n",
      "74  Skipped.\n",
      "75  Skipped.\n",
      "76  Skipped.\n",
      "77  Skipped.\n",
      "78  Skipped.\n",
      "79  Skipped.\n",
      "80  Skipped.\n",
      "81  Skipped.\n",
      "82  Skipped.\n",
      "83  Skipped.\n",
      "84  Skipped.\n",
      "85  Skipped.\n",
      "86  Skipped.\n",
      "87  Skipped.\n",
      "88  Skipped.\n",
      "89  Skipped.\n",
      "90  Skipped.\n",
      "91  Skipped.\n",
      "92  Skipped.\n",
      "93  Skipped.\n",
      "94  Skipped.\n",
      "95  Skipped.\n",
      "96  Skipped.\n",
      "97  Skipped.\n",
      "98  Skipped.\n",
      "99  Skipped.\n",
      "100  Skipped.\n",
      "101  Skipped.\n",
      "102  Skipped.\n",
      "103  Skipped.\n",
      "104  Skipped.\n",
      "105  Skipped.\n",
      "106  Skipped.\n",
      "107  Skipped.\n",
      "108  Skipped.\n"
     ]
    },
    {
     "name": "stderr",
     "output_type": "stream",
     "text": [
      "Processing:  34%|███▍      | 110/323 [00:05<00:12, 16.76rows/s, ETA (sec)=10.94]"
     ]
    },
    {
     "name": "stdout",
     "output_type": "stream",
     "text": [
      "\n",
      "Original Sentence: I saw university students taking part in social movements and how universities are a place where there is the value of common governance by both teachers and students Lau Tsz-kei He said his political awakening came in 2012 , when he took part in a protest against compulsory national education for public schools , intended to strengthen “ national identity awareness ” and nurture patriotism towards China .\n",
      "Tagged Sentence: I saw university students taking part in social movements and how universities are a place where there is the value of common governance by both teachers and students Lau Tsz-kei He said his political awakening came in 2012, when he took part in a protest against compulsory national education for public schools, intended to strengthen 'national identity awareness' and nurture patriotism towards China.\n",
      "Label: 0\n",
      "---\n"
     ]
    },
    {
     "name": "stderr",
     "output_type": "stream",
     "text": [
      "Processing:  34%|███▍      | 111/323 [00:18<00:12, 16.76rows/s, ETA (sec)=35.23]"
     ]
    },
    {
     "name": "stdout",
     "output_type": "stream",
     "text": [
      "\n",
      "Original Sentence: Two years later , he took part in the pro-democracy Occupy protests .\n",
      "Tagged Sentence: NoTag\n",
      "Label: 0\n",
      "---\n"
     ]
    },
    {
     "name": "stderr",
     "output_type": "stream",
     "text": [
      "Processing:  35%|███▍      | 112/323 [00:51<02:33,  1.37rows/s, ETA (sec)=96.46]"
     ]
    },
    {
     "name": "stdout",
     "output_type": "stream",
     "text": [
      "\n",
      "Original Sentence: Lau cited students storming a meeting room back in 2015 to protest against Chin ’ s appointment following a short consultation held during the exam period .\n",
      "Tagged Sentence: Lau cited <effect>students storming a meeting room</effect> back in 2015 to <trigger>protest against</trigger> <cause>Chin’s appointment following a short consultation held during the exam period</cause>.\n",
      "Label: 1\n",
      "---\n"
     ]
    },
    {
     "name": "stderr",
     "output_type": "stream",
     "text": [
      "Processing:  35%|███▍      | 113/323 [01:29<05:13,  1.50s/rows, ETA (sec)=165.57]"
     ]
    },
    {
     "name": "stdout",
     "output_type": "stream",
     "text": [
      "\n",
      "Original Sentence: Looking back at the Mandarin furore , the Year One social science student said he was sorry that his attitude during the standoff could have made it harder for students to speak up in future , as they might worry about getting suspended themselves .\n",
      "Tagged Sentence: Looking back at the Mandarin furore, the Year One social science student said he was sorry that his <cause>attitude during the standoff</cause> <trigger>could have made it harder</trigger> <effect>for students to speak up in future</effect>, as they might worry about getting suspended themselves.\n",
      "Label: 1\n",
      "---\n"
     ]
    },
    {
     "name": "stderr",
     "output_type": "stream",
     "text": [
      "Processing:  35%|███▌      | 114/323 [02:08<08:56,  2.57s/rows, ETA (sec)=234.78]"
     ]
    },
    {
     "name": "stdout",
     "output_type": "stream",
     "text": [
      "\n",
      "Original Sentence: He said the university ’ s senate would discuss the Mandarin requirement at its next meeting on February 12 , and that he believed school bosses ’ willingness to review it was the fruit of their protest .\n",
      "Tagged Sentence: He said the university’s senate would discuss the Mandarin requirement at its next meeting on February 12, and that he believed <cause>their protest</cause> <trigger>was the fruit of</trigger> <effect>school bosses’ willingness to review it</effect>.\n",
      "Label: 1\n",
      "---\n"
     ]
    },
    {
     "name": "stderr",
     "output_type": "stream",
     "text": [
      "Processing:  36%|███▌      | 115/323 [02:42<13:11,  3.80s/rows, ETA (sec)=293.22]"
     ]
    },
    {
     "name": "stdout",
     "output_type": "stream",
     "text": [
      "\n",
      "Original Sentence: Vijayan was speaking at a protest meeting against the report , convened by the party at nearby Kodencherry in the district .\n",
      "Tagged Sentence: NoTag\n",
      "Label: 0\n",
      "---\n"
     ]
    },
    {
     "name": "stderr",
     "output_type": "stream",
     "text": [
      "Processing:  36%|███▌      | 116/323 [03:23<19:57,  5.79s/rows, ETA (sec)=362.69]"
     ]
    },
    {
     "name": "stdout",
     "output_type": "stream",
     "text": [
      "\n",
      "Original Sentence: Veterans Slam Government for Shifting Goalpost 04th September 2015 04:21 AM NEW DELHI : Deadlock over the ‘ One rank One Pension ’ ( OROP ) scheme persisted on Thursday with agitating ex-servicemen accusing the government of “ constantly shifting the goalpost ” and not coming out with any “ concrete proposal ” to resolve the issue .\n",
      "Tagged Sentence: Veterans Slam Government for Shifting Goalpost 04th September 2015 04:21 AM NEW DELHI : Deadlock over the ‘One rank One Pension’ (OROP) scheme persisted on Thursday with agitating ex-servicemen <trigger>accusing</trigger> the government of “constantly shifting the goalpost” and not coming out with any “concrete proposal” to resolve the issue.\n",
      "Label: 1\n",
      "---\n"
     ]
    },
    {
     "name": "stderr",
     "output_type": "stream",
     "text": [
      "Processing:  36%|███▌      | 117/323 [03:57<26:52,  7.83s/rows, ETA (sec)=419.03]"
     ]
    },
    {
     "name": "stdout",
     "output_type": "stream",
     "text": [
      "\n",
      "Original Sentence: ” On their protest rally in Bihar , Captain V K Gandhi ( Retd ) , general secretary of Indian Ex - Servicemen Movement , said , “ We are not taking a political stand .\n",
      "Tagged Sentence: NoTag\n",
      "Label: 0\n",
      "---\n"
     ]
    },
    {
     "name": "stderr",
     "output_type": "stream",
     "text": [
      "Processing:  37%|███▋      | 118/323 [04:01<25:15,  7.39s/rows, ETA (sec)=418.80]"
     ]
    },
    {
     "name": "stdout",
     "output_type": "stream",
     "text": [
      "\n",
      "Original Sentence: The veterans , whose agitation entered the 81st day on Thursday , said the government sent seven mediators to talk to them but all had come with “ different concessions ” .\n",
      "Tagged Sentence: NoTag\n",
      "Label: 0\n",
      "---\n"
     ]
    },
    {
     "name": "stderr",
     "output_type": "stream",
     "text": [
      "Processing:  37%|███▋      | 119/323 [04:13<25:08,  7.39s/rows, ETA (sec)=434.49]"
     ]
    },
    {
     "name": "stdout",
     "output_type": "stream",
     "text": [
      "\n",
      "Original Sentence: PAU staffs hunger strike continues - Indian Express Express News Service , Express News Service : Ludhiana , Tue Dec 22 2009 , 04:49 hrs The chain hunger strike against the state government by the PAU Employees and Teachers Joint Forum continued on eleventh day today The employees are agitating against the negative attitude of the state government and the university administration for not providing funds for implementng the revised pay scales from August 2009 .\n",
      "Tagged Sentence: PAU staff’s <effect>hunger strike continues</effect> - Indian Express the News Service , Express News Service : Ludhiana , Tue Dec 22 2009 , 04:49 hrs The chain <effect>hunger strike against the state government by the PAU Employees and Teachers Joint Forum continued on eleventh day today</effect> <trigger>against</trigger> <cause>the attitude of the state government and the university administration for not providing funds for implementing the revised pay scales from August 2009</cause>.\n",
      "Label: 1\n",
      "---\n"
     ]
    },
    {
     "name": "stderr",
     "output_type": "stream",
     "text": [
      "Processing:  37%|███▋      | 120/323 [04:53<38:04, 11.26s/rows, ETA (sec)=495.86]"
     ]
    },
    {
     "name": "stdout",
     "output_type": "stream",
     "text": [
      "\n",
      "Original Sentence: Govt warns striking truckers - Indian Express ENS Economic Bureau , ENS Economic Bureau : New Delhi , Tue Jan 06 2009 , 00:42 hrs The government has refused to bow down to the demands of striking truckers and is considering strict action if essential services are not restored by the members of the All India Motor Transport Congress ( AIMTC ) in the next few days .\n",
      "Tagged Sentence: Govt warns striking truckers - Indian Express ENS Economic Bureau , ENS Economic Bureau : New Delhi , Tue Jan 06 2009 , 00:42 hrs The government has <cause>refused to bow down to the demands of striking truckers</cause> and is <trigger>considering strict action</trigger> <effect>if essential services are not restored by the members of the All India Motor Transport Congress ( AIMTC ) in the next few days</effect>.\n",
      "Label: 1\n",
      "---\n"
     ]
    },
    {
     "name": "stderr",
     "output_type": "stream",
     "text": [
      "Processing:  37%|███▋      | 121/323 [05:27<47:56, 14.24s/rows, ETA (sec)=546.76]"
     ]
    },
    {
     "name": "stdout",
     "output_type": "stream",
     "text": [
      "\n",
      "Original Sentence: According to a statement by the union transport secretary Brahm Dutt , \" If truckers continue with the strike , then the law of the land will take its course .\n",
      "Tagged Sentence: According to a statement by the union transport secretary Brahm Dutt , ' <trigger>if</trigger> <cause>truckers continue with the strike</cause> , <trigger>then</trigger> <effect>the law of the land will take its course</effect> .\n",
      "Label: 1\n",
      "---\n"
     ]
    },
    {
     "name": "stderr",
     "output_type": "stream",
     "text": [
      "Processing:  38%|███▊      | 122/323 [05:33<43:28, 12.98s/rows, ETA (sec)=549.67]"
     ]
    },
    {
     "name": "stdout",
     "output_type": "stream",
     "text": [
      "\n",
      "Original Sentence: \" The strike comes at a time when the government has just managed some cushion on the inflation front , which has finally started on a downward trend .\n",
      "Tagged Sentence: The <effect>strike</effect> comes <trigger>at a time when</trigger> the government has just managed some cushion on the inflation front, which has finally started on a downward trend.\n",
      "Label: 1\n",
      "---\n"
     ]
    },
    {
     "name": "stderr",
     "output_type": "stream",
     "text": [
      "Processing:  38%|███▊      | 123/323 [06:09<57:09, 17.15s/rows, ETA (sec)=600.90]"
     ]
    },
    {
     "name": "stdout",
     "output_type": "stream",
     "text": [
      "\n",
      "Original Sentence: While Tamil Nadu , Andhra Pradesh , Maharshtra , Haryana and Punjab are actively participating in the strike , Bihar , Northeast states and Kerala have refused to join them as they claim that they are truck owners and not transporters like the AIMTC members .\n",
      "Tagged Sentence: While Tamil Nadu, Andhra Pradesh, Maharashtra, Haryana, and Punjab are actively participating in the strike, Bihar, Northeast states, and Kerala have <trigger>as</trigger> <cause>they claim that they are truck owners and not transporters like the AIMTC members</cause> <effect>refused to join them</effect>.\n",
      "Label: 1\n",
      "---\n"
     ]
    },
    {
     "name": "stderr",
     "output_type": "stream",
     "text": [
      "Processing:  38%|███▊      | 124/323 [06:42<1:07:59, 20.50s/rows, ETA (sec)=646.67]"
     ]
    },
    {
     "name": "stdout",
     "output_type": "stream",
     "text": [
      "\n",
      "Original Sentence: Truckers in Bihar have refused to join the strike , saying that it hampers progress .\n",
      "Tagged Sentence: NoTag\n",
      "Label: 0\n",
      "---\n"
     ]
    },
    {
     "name": "stderr",
     "output_type": "stream",
     "text": [
      "Processing:  39%|███▊      | 125/323 [07:16<1:17:46, 23.57s/rows, ETA (sec)=692.13]"
     ]
    },
    {
     "name": "stdout",
     "output_type": "stream",
     "text": [
      "\n",
      "Original Sentence: Demands made in the July strike have all been met by the government and there is no reason why they should go on strike within such a short period , \" road transport secretary said at a press conference in Delhi on Monday .\n",
      "Tagged Sentence: <cause>Demands made in the July strike have all been met by the government</cause> and <effect>there is no reason <trigger>why</trigger> they should go on strike within such a short period</effect>, road transport secretary said at a press conference in Delhi on Monday.\n",
      "Label: 1\n",
      "---\n"
     ]
    },
    {
     "name": "stderr",
     "output_type": "stream",
     "text": [
      "Processing:  39%|███▉      | 126/323 [07:59<1:32:27, 28.16s/rows, ETA (sec)=749.28]"
     ]
    },
    {
     "name": "stdout",
     "output_type": "stream",
     "text": [
      "\n",
      "Original Sentence: The first challenge , ironically , was not how to deal with Beijing officials but how to react to the activities of one of their own : radical \" Long Hair \" Leung Kwok-hung , who headed home after being told he could not cross the border with slogans and T-shirts with messages seeking the vindication of the 1989 democracy protests .\n",
      "Tagged Sentence: The first challenge , ironically , was not how to deal with Beijing officials but how to react to the activities of one of their own : radical ' Long Hair ' Leung Kwok-hung , who <trigger>after being told</trigger> he could not cross the border with slogans and T-shirts with messages seeking the vindication of the 1989 democracy protests <cause>being told he could not cross the border</cause> <effect>headed home</effect> .\n",
      "Label: 1\n",
      "---\n"
     ]
    },
    {
     "name": "stderr",
     "output_type": "stream",
     "text": [
      "Processing:  39%|███▉      | 127/323 [08:33<1:37:12, 29.76s/rows, ETA (sec)=792.55]"
     ]
    },
    {
     "name": "stdout",
     "output_type": "stream",
     "text": [
      "\n",
      "Original Sentence: Whether he managed to get into Shanghai or not , his confrontation with customs officials and high-profile protest were seen by all .\n",
      "Tagged Sentence: NoTag\n",
      "Label: 0\n",
      "---\n"
     ]
    },
    {
     "name": "stderr",
     "output_type": "stream",
     "text": [
      "Processing:  40%|███▉      | 128/323 [09:13<1:45:31, 32.47s/rows, ETA (sec)=842.97]"
     ]
    },
    {
     "name": "stdout",
     "output_type": "stream",
     "text": [
      "\n",
      "Original Sentence: Crackers , drumbeats welcome Rahul ascendancy to Vice President 19th January 2013 09:25 PM Hundreds of Youth Congress and NSUI supporters Saturday welcomed the elevation of Rahul Gandhi as the Congress Vice President by bursting crackers and beating drums outside the venue of the ' Chintan Shivir ' here .\n",
      "Tagged Sentence: NoTag\n",
      "Label: 0\n",
      "---\n"
     ]
    },
    {
     "name": "stderr",
     "output_type": "stream",
     "text": [
      "Processing:  40%|███▉      | 129/323 [09:51<1:50:05, 34.05s/rows, ETA (sec)=889.50]"
     ]
    },
    {
     "name": "stdout",
     "output_type": "stream",
     "text": [
      "\n",
      "Original Sentence: The celebrations by the National Students Union of India and Youth Congress workers had started prior to the official declaration of his number two position .\n",
      "Tagged Sentence: NoTag\n",
      "Label: 0\n",
      "---\n"
     ]
    },
    {
     "name": "stderr",
     "output_type": "stream",
     "text": [
      "Processing:  40%|████      | 130/323 [10:29<1:52:51, 35.08s/rows, ETA (sec)=934.04]"
     ]
    },
    {
     "name": "stdout",
     "output_type": "stream",
     "text": [
      "\n",
      "Original Sentence: We are celebrating and bursting fire crackers , \" Vamshi , a Youth Congress member from Andhra Pradesh told IANS outside the Birla Auditorium , the venue of the ' Chintan Shivir ' .\n",
      "Tagged Sentence: NoTag\n",
      "Label: 0\n",
      "---\n"
     ]
    },
    {
     "name": "stderr",
     "output_type": "stream",
     "text": [
      "Processing:  41%|████      | 131/323 [11:03<1:51:50, 34.95s/rows, ETA (sec)=972.84]"
     ]
    },
    {
     "name": "stdout",
     "output_type": "stream",
     "text": [
      "\n",
      "Original Sentence: Earlier Saturday , firecrackers were set off also outside the 10 , Janpath residence of Congress chief Sonia Gandhi in New Delhi in anticipation of Rahul Gandhi being given a prominent role in the party 's affairs .\n",
      "Tagged Sentence: Earlier Saturday , <effect>firecrackers were set off also outside the 10 , Janpath residence of Congress chief Sonia Gandhi in New Delhi</effect> <trigger>in anticipation of</trigger> <cause>Rahul Gandhi being given a prominent role in the party 's affairs</cause> .\n",
      "Label: 1\n",
      "---\n"
     ]
    },
    {
     "name": "stderr",
     "output_type": "stream",
     "text": [
      "Processing:  41%|████      | 132/323 [11:41<1:53:24, 35.63s/rows, ETA (sec)=1014.37]"
     ]
    },
    {
     "name": "stdout",
     "output_type": "stream",
     "text": [
      "\n",
      "Original Sentence: Student support not needed for disciplinary code review , HKU governing council says Working group ’ s comment counters suggestion by review panel in aftermath of student protests over controversial issues PUBLISHED : Thursday , 29 June , 2017 , 3:33pm ‘ Independence debate should be fair game on campus ’ 28 Nov 2017 The governing body of the University of Hong Kong has said it will not let students stand in the way if it has to review the disciplinary code addressing violence at protests on campus .\n",
      "Tagged Sentence: NoTag\n",
      "Label: 0\n",
      "---\n"
     ]
    },
    {
     "name": "stderr",
     "output_type": "stream",
     "text": [
      "Processing:  41%|████      | 133/323 [12:16<1:52:55, 35.66s/rows, ETA (sec)=1052.54]"
     ]
    },
    {
     "name": "stdout",
     "output_type": "stream",
     "text": [
      "\n",
      "Original Sentence: The controversial issue has previously led to violent disruptions at the council ’ s meetings last year .\n",
      "Tagged Sentence: The <cause>controversial issue</cause> has previously <trigger>led to</trigger> <effect>violent disruptions at the council’s meetings last year</effect>.\n",
      "Label: 1\n",
      "---\n"
     ]
    },
    {
     "name": "stderr",
     "output_type": "stream",
     "text": [
      "Processing:  41%|████▏     | 134/323 [12:49<1:49:20, 34.71s/rows, ETA (sec)=1084.97]"
     ]
    },
    {
     "name": "stdout",
     "output_type": "stream",
     "text": [
      "\n",
      "Original Sentence: In January 2016 , hundreds of students and protesters broke into a council meeting , some jumping on tables , and blocking the exit of members .\n",
      "Tagged Sentence: NoTag\n",
      "Label: 0\n",
      "---\n"
     ]
    },
    {
     "name": "stderr",
     "output_type": "stream",
     "text": [
      "Processing:  42%|████▏     | 135/323 [13:23<1:48:42, 34.69s/rows, ETA (sec)=1119.49]"
     ]
    },
    {
     "name": "stdout",
     "output_type": "stream",
     "text": [
      "\n",
      "Original Sentence: Striking miners of Village Main Reef 's Consolidated Murchison Mine ( ConsMurch ) antimony/gold mine in Phalaborwa , Limpopo , are set to lose their jobs .\n",
      "Tagged Sentence: NoTag\n",
      "Label: 0\n",
      "---\n"
     ]
    },
    {
     "name": "stderr",
     "output_type": "stream",
     "text": [
      "Processing:  42%|████▏     | 136/323 [13:55<1:45:09, 33.74s/rows, ETA (sec)=1148.65]"
     ]
    },
    {
     "name": "stdout",
     "output_type": "stream",
     "text": [
      "\n",
      "Original Sentence: The company obtained a court interdict on Wednesday permitting it to dismiss over 900 miners who have embarked on an unprotected strike .\n",
      "Tagged Sentence: The company obtained a <trigger>court interdict on Wednesday permitting it</trigger> to <effect>dismiss over 900 miners</effect> who have embarked on an <cause>unprotected strike</cause>.\n",
      "Label: 1\n",
      "---\n"
     ]
    },
    {
     "name": "stderr",
     "output_type": "stream",
     "text": [
      "Processing:  42%|████▏     | 137/323 [14:27<1:42:56, 33.21s/rows, ETA (sec)=1177.55]"
     ]
    },
    {
     "name": "stdout",
     "output_type": "stream",
     "text": [
      "\n",
      "Original Sentence: The unprotected strike began as a sit-in by about 100 miners on July 12 .\n",
      "Tagged Sentence: NoTag\n",
      "Label: 0\n",
      "---\n"
     ]
    },
    {
     "name": "stderr",
     "output_type": "stream",
     "text": [
      "Processing:  43%|████▎     | 138/323 [15:01<1:43:00, 33.41s/rows, ETA (sec)=1208.14]"
     ]
    },
    {
     "name": "stdout",
     "output_type": "stream",
     "text": [
      "\n",
      "Original Sentence: It said the miners had illegally blocked access to the mine ’ s Monarch Decline Shaft and endangering both assets and their own lives .\n",
      "Tagged Sentence: NoTag\n",
      "Label: 0\n",
      "---\n"
     ]
    },
    {
     "name": "stderr",
     "output_type": "stream",
     "text": [
      "Processing:  43%|████▎     | 139/323 [15:36<1:44:04, 33.94s/rows, ETA (sec)=1239.53]"
     ]
    },
    {
     "name": "stdout",
     "output_type": "stream",
     "text": [
      "\n",
      "Original Sentence: `` These employees are in effective control of the shaft and are preventing negotiators from accessing the underground employees . ''\n",
      "Tagged Sentence: NoTag\n",
      "Label: 0\n",
      "---\n"
     ]
    },
    {
     "name": "stderr",
     "output_type": "stream",
     "text": [
      "Processing:  43%|████▎     | 140/323 [16:08<1:41:47, 33.37s/rows, ETA (sec)=1265.89]"
     ]
    },
    {
     "name": "stdout",
     "output_type": "stream",
     "text": [
      "\n",
      "Original Sentence: The company said negotiations were continuing between management and NUM officials with in a bid to bring an end to the strike .\n",
      "Tagged Sentence: NoTag\n",
      "Label: 0\n",
      "---\n"
     ]
    },
    {
     "name": "stderr",
     "output_type": "stream",
     "text": [
      "Processing:  44%|████▎     | 141/323 [16:46<1:45:51, 34.90s/rows, ETA (sec)=1299.69]"
     ]
    },
    {
     "name": "stdout",
     "output_type": "stream",
     "text": [
      "\n",
      "Original Sentence: Rise against Rights Violation in Tibet : Monk 09th September 2011 03:10 AM CHENNAI : Freedom for Tibet from Chinese clutches was the only slogan that filled the air as students from Tibet and eleven monks from Gaden Jangtse Monastery in Karnataka gathered in Chennai to protest the death of monks and the recent self immolation by a young monk in Tibet .\n",
      "Tagged Sentence: Rise against Rights Violation in Tibet : Monk 09th September 2011 03:10 AM CHENNAI : Freedom for Tibet from Chinese clutches was the only slogan that filled the air as <effect>students from Tibet and eleven monks from Gaden Jangtse Monastery in Karnataka gathered in Chennai</effect> <trigger>to protest</trigger> <cause>the death of monks and the recent self immolation by a young monk in Tibet</cause> .\n",
      "Label: 1\n",
      "---\n"
     ]
    },
    {
     "name": "stderr",
     "output_type": "stream",
     "text": [
      "Processing:  44%|████▍     | 142/323 [17:25<1:48:44, 36.05s/rows, ETA (sec)=1332.82]"
     ]
    },
    {
     "name": "stdout",
     "output_type": "stream",
     "text": [
      "\n",
      "Original Sentence: On August 15 , Tsewang Norbu ( 29 ) , a monk from Nyatso Monastery in Tibet , in an act of desperation , and helplessness , committed self immolation to bring to focus the increasing human rights crisis in Tibet under Chinese rule .\n",
      "Tagged Sentence: On August 15 , Tsewang Norbu ( 29 ) , a monk from Nyatso Monastery in Tibet , in an act of desperation , and helplessness , <trigger>to</trigger> <cause>bring to focus the increasing human rights crisis in Tibet under Chinese rule</cause> <effect>committed self immolation</effect> .\n",
      "Label: 1\n",
      "---\n"
     ]
    },
    {
     "name": "stderr",
     "output_type": "stream",
     "text": [
      "Processing:  44%|████▍     | 143/323 [18:05<1:51:53, 37.30s/rows, ETA (sec)=1366.80]"
     ]
    },
    {
     "name": "stdout",
     "output_type": "stream",
     "text": [
      "\n",
      "Original Sentence: Lobsang Jampa , a monk from Gaden Jangtse Monastery who participated in the hunger fast , gave a curtain call to fellow Tibetians : “ This act of self immolation by the young monk mirrors the pathetic state of affairs in Tibet .\n",
      "Tagged Sentence: NoTag\n",
      "Label: 0\n",
      "---\n"
     ]
    },
    {
     "name": "stderr",
     "output_type": "stream",
     "text": [
      "Processing:  45%|████▍     | 144/323 [18:43<1:51:30, 37.37s/rows, ETA (sec)=1396.46]"
     ]
    },
    {
     "name": "stdout",
     "output_type": "stream",
     "text": [
      "\n",
      "Original Sentence: We cannot remain mute spectators while our brothers and sisters in Tibet suffer everyday under the Chinese rule . ” The Chennai fast is part of a marathon hunger fast launched by the monks of the Gaden Jangste Monastery in various metros of India in an effort to internationalise the worsening human rights situation in Tibet .\n",
      "Tagged Sentence: We cannot remain mute spectators while our brothers and sisters in Tibet <cause>suffer everyday under the Chinese rule</cause> . \" The Chennai fast is part of a marathon hunger fast launched by the monks of the Gaden Jangste Monastery in various metros of India <trigger>in an effort to</trigger> <effect>internationalise the worsening human rights situation in Tibet</effect> .\n",
      "Label: 1\n",
      "---\n"
     ]
    },
    {
     "name": "stderr",
     "output_type": "stream",
     "text": [
      "Processing:  45%|████▍     | 145/323 [19:17<1:48:03, 36.42s/rows, ETA (sec)=1421.06]"
     ]
    },
    {
     "name": "stdout",
     "output_type": "stream",
     "text": [
      "\n",
      "Original Sentence: The Chennai fast was supported by the Tibetan Students Association of Madras ( TSAM ) .\n",
      "Tagged Sentence: NoTag\n",
      "Label: 0\n",
      "---\n"
     ]
    },
    {
     "name": "stderr",
     "output_type": "stream",
     "text": [
      "Processing:  45%|████▌     | 146/323 [19:57<1:50:13, 37.37s/rows, ETA (sec)=1451.37]"
     ]
    },
    {
     "name": "stdout",
     "output_type": "stream",
     "text": [
      "\n",
      "Original Sentence: Rinchem Namgyal , President of TSAM , said , “ This hunger fast is an effort to internationalise the plight of our people who are suffering under the Chinese regime .\n",
      "Tagged Sentence: Rinchem Namgyal , President of TSAM , said , \"<effect>This hunger fast</effect> is an <trigger>effort</trigger> to <cause>internationalise the plight of our people who are suffering under the Chinese regime</cause>.\n",
      "Label: 1\n",
      "---\n"
     ]
    },
    {
     "name": "stderr",
     "output_type": "stream",
     "text": [
      "Processing:  46%|████▌     | 147/323 [20:35<1:50:25, 37.64s/rows, ETA (sec)=1479.19]"
     ]
    },
    {
     "name": "stdout",
     "output_type": "stream",
     "text": [
      "\n",
      "Original Sentence: Lucknow : Farmers protest for toll free travel spreads December 07 , 2012 00:00 IST The protests by famers in Uttar Pradesh led by the Bharatiya Kisan Union ( BKU ) , seeking free access at all toll bridges in the state , is spreading fast and wide .\n",
      "Tagged Sentence: Lucknow : Farmers <trigger>led by the Bharatiya Kisan Union ( BKU )</trigger> <cause>seeking free access at all toll bridges in the state</cause> , <effect>protests by famers in Uttar Pradesh is spreading fast and wide</effect> .\n",
      "Label: 1\n",
      "---\n"
     ]
    },
    {
     "name": "stderr",
     "output_type": "stream",
     "text": [
      "Processing:  46%|████▌     | 148/323 [21:13<1:49:54, 37.68s/rows, ETA (sec)=1505.52]"
     ]
    },
    {
     "name": "stdout",
     "output_type": "stream",
     "text": [
      "\n",
      "Original Sentence: On Wednesday , they took over the Gorakhpur toll plaza and opened it for free to all vehicles .\n",
      "Tagged Sentence: NoTag\n",
      "Label: 0\n",
      "---\n"
     ]
    },
    {
     "name": "stderr",
     "output_type": "stream",
     "text": [
      "Processing:  46%|████▌     | 149/323 [21:47<1:46:10, 36.61s/rows, ETA (sec)=1526.71]"
     ]
    },
    {
     "name": "stdout",
     "output_type": "stream",
     "text": [
      "\n",
      "Original Sentence: They also seized the Sivayan toll plaza on national highway 58 .\n",
      "Tagged Sentence: NoTag\n",
      "Label: 0\n",
      "---\n"
     ]
    },
    {
     "name": "stderr",
     "output_type": "stream",
     "text": [
      "Processing:  46%|████▋     | 150/323 [22:23<1:44:48, 36.35s/rows, ETA (sec)=1549.03]"
     ]
    },
    {
     "name": "stdout",
     "output_type": "stream",
     "text": [
      "\n",
      "Original Sentence: They are already holding on to the Dasna toll plaza for the fourth day .\n",
      "Tagged Sentence: NoTag\n",
      "Label: 0\n",
      "---\n"
     ]
    },
    {
     "name": "stderr",
     "output_type": "stream",
     "text": [
      "Processing:  47%|████▋     | 151/323 [23:00<1:44:48, 36.56s/rows, ETA (sec)=1572.09]"
     ]
    },
    {
     "name": "stdout",
     "output_type": "stream",
     "text": [
      "\n",
      "Original Sentence: The union also holds the Shahjahanpur toll plaza .\n",
      "Tagged Sentence: NoTag\n",
      "Label: 0\n",
      "---\n"
     ]
    },
    {
     "name": "stderr",
     "output_type": "stream",
     "text": [
      "Processing:  47%|████▋     | 152/323 [23:37<1:45:09, 36.90s/rows, ETA (sec)=1595.06]"
     ]
    },
    {
     "name": "stdout",
     "output_type": "stream",
     "text": [
      "\n",
      "Original Sentence: The farmers have been protesting against the toll tax on the Yamuna Expressway for more than a month and say that it was just a matter of time before they lay seize of toll plazas across the state .\n",
      "Tagged Sentence: The farmers have been <effect>protesting against the toll tax on the Yamuna Expressway for more than a month</effect> and say that it was just a matter of time before they lay seize of toll plazas across the state.\n",
      "Label: 1\n",
      "---\n"
     ]
    },
    {
     "name": "stderr",
     "output_type": "stream",
     "text": [
      "Processing:  47%|████▋     | 153/323 [24:14<1:44:35, 36.92s/rows, ETA (sec)=1616.43]"
     ]
    },
    {
     "name": "stdout",
     "output_type": "stream",
     "text": [
      "\n",
      "Original Sentence: Xinjiang , a massive north-western region bordering several central Asian states , has seen an explosion of ethnic violence in recent months — mainly mass stabbings , bombings and vehicular attacks perpetrated by Uighurs , a predominantly Muslim group of eight million , against majority Han Chinese .\n",
      "Tagged Sentence: NoTag\n",
      "Label: 0\n",
      "---\n"
     ]
    },
    {
     "name": "stderr",
     "output_type": "stream",
     "text": [
      "Processing:  48%|████▊     | 154/323 [24:50<1:42:59, 36.57s/rows, ETA (sec)=1635.73]"
     ]
    },
    {
     "name": "stdout",
     "output_type": "stream",
     "text": [
      "\n",
      "Original Sentence: Uighur activists call the attacks a reflection of homegrown grievances , including severe cultural and religious restrictions .\n",
      "Tagged Sentence: Uighur activists call <effect>the attacks</effect> <trigger>a reflection of</trigger> <cause>homegrown grievances, including severe cultural and religious restrictions</cause>.\n",
      "Label: 1\n",
      "---\n"
     ]
    },
    {
     "name": "stderr",
     "output_type": "stream",
     "text": [
      "Processing:  48%|████▊     | 155/323 [25:27<1:42:58, 36.78s/rows, ETA (sec)=1655.95]"
     ]
    },
    {
     "name": "stdout",
     "output_type": "stream",
     "text": [
      "\n",
      "Original Sentence: Authorities denied him food for 10 days in March after a band of knife-wielding Uighurs executed a brutal terror attack at a southern Chinese train station .\n",
      "Tagged Sentence: Authorities <effect>denied him food for 10 days in March</effect> <trigger>after</trigger> <cause>a band of knife-wielding Uighurs executed a brutal terror attack at a southern Chinese train station</cause>.\n",
      "Label: 1\n",
      "---\n"
     ]
    },
    {
     "name": "stderr",
     "output_type": "stream",
     "text": [
      "Processing:  48%|████▊     | 156/323 [26:03<1:41:27, 36.45s/rows, ETA (sec)=1673.75]"
     ]
    },
    {
     "name": "stdout",
     "output_type": "stream",
     "text": [
      "\n",
      "Original Sentence: Authorities have accused Tohti of playing a role in inciting numerous violent incidents , including a “ terror attack ” near the desert city Kashgar last spring which killed 21 people , and an attack on a police station in Lukqun , a nearby town of 30,000 people , that left dozens of people dead last June .\n",
      "Tagged Sentence: NoTag\n",
      "Label: 0\n",
      "---\n"
     ]
    },
    {
     "name": "stderr",
     "output_type": "stream",
     "text": [
      "Processing:  49%|████▊     | 157/323 [26:36<1:38:15, 35.51s/rows, ETA (sec)=1688.37]"
     ]
    },
    {
     "name": "stdout",
     "output_type": "stream",
     "text": [
      "\n",
      "Original Sentence: The ANC in the North West has threatened to take action against unruly members who disrupted a provincial executive committee ( PEC ) meeting , the party said on Thursday .\n",
      "Tagged Sentence: NoTag\n",
      "Label: 0\n",
      "---\n"
     ]
    },
    {
     "name": "stderr",
     "output_type": "stream",
     "text": [
      "Processing:  49%|████▉     | 158/323 [27:15<1:40:02, 36.38s/rows, ETA (sec)=1707.68]"
     ]
    },
    {
     "name": "stdout",
     "output_type": "stream",
     "text": [
      "\n",
      "Original Sentence: North West ANC spokesman Kenny Morolong said members protested on Sunday against the `` recall '' of two mayors who allegedly contravened ANC policies and were involved in acts of corruption .\n",
      "Tagged Sentence: North West ANC spokesman Kenny Morolong said members <effect>protested on Sunday</effect> <trigger>against</trigger> the `` recall '' of two mayors who allegedly contravened ANC policies and were involved in acts of corruption <cause>.\n",
      "Label: 1\n",
      "---\n"
     ]
    },
    {
     "name": "stderr",
     "output_type": "stream",
     "text": [
      "Processing:  49%|████▉     | 159/323 [27:48<1:36:33, 35.33s/rows, ETA (sec)=1720.55]"
     ]
    },
    {
     "name": "stdout",
     "output_type": "stream",
     "text": [
      "\n",
      "Original Sentence: `` We did not know about the disruptions outside .\n",
      "Tagged Sentence: NoTag\n",
      "Label: 0\n",
      "---\n"
     ]
    },
    {
     "name": "stderr",
     "output_type": "stream",
     "text": [
      "Processing:  50%|████▉     | 160/323 [28:21<1:34:13, 34.69s/rows, ETA (sec)=1733.19]"
     ]
    },
    {
     "name": "stdout",
     "output_type": "stream",
     "text": [
      "\n",
      "Original Sentence: It did not have any affect on the progress of the meeting , '' Morolong said .\n",
      "Tagged Sentence: NoTag\n",
      "Label: 0\n",
      "---\n"
     ]
    },
    {
     "name": "stderr",
     "output_type": "stream",
     "text": [
      "Processing:  50%|████▉     | 161/323 [28:51<1:29:53, 33.29s/rows, ETA (sec)=1742.08]"
     ]
    },
    {
     "name": "stdout",
     "output_type": "stream",
     "text": [
      "\n",
      "Original Sentence: Mantashe told the Sowetan newspaper that he did not regard the protest as a disruption .\n",
      "Tagged Sentence: NoTag\n",
      "Label: 0\n",
      "---\n"
     ]
    },
    {
     "name": "stderr",
     "output_type": "stream",
     "text": [
      "Processing:  50%|█████     | 162/323 [29:25<1:30:15, 33.64s/rows, ETA (sec)=1754.88]"
     ]
    },
    {
     "name": "stdout",
     "output_type": "stream",
     "text": [
      "\n",
      "Original Sentence: `` There were demonstrations outside , but the meeting of the PEC continued , '' he said .\n",
      "Tagged Sentence: NoTag\n",
      "Label: 0\n",
      "---\n"
     ]
    },
    {
     "name": "stderr",
     "output_type": "stream",
     "text": [
      "Processing:  50%|█████     | 163/323 [29:56<1:27:45, 32.91s/rows, ETA (sec)=1763.91]"
     ]
    },
    {
     "name": "stdout",
     "output_type": "stream",
     "text": [
      "\n",
      "Original Sentence: Morolong said another group of ANC members would also face disciplinary measures after it disrupted a meeting on Wednesday .\n",
      "Tagged Sentence: Morolong said an <cause>ANC member would also face disciplinary measures</cause> <trigger>after</trigger> it <effect>disrupted a meeting on Wednesday</effect>.\n",
      "Label: 1\n",
      "---\n"
     ]
    },
    {
     "name": "stderr",
     "output_type": "stream",
     "text": [
      "Processing:  51%|█████     | 164/323 [30:30<1:27:27, 33.00s/rows, ETA (sec)=1774.41]"
     ]
    },
    {
     "name": "stdout",
     "output_type": "stream",
     "text": [
      "\n",
      "Original Sentence: Four cops , three Maoists killed in Maharashtra 19th May 2011 06:29 PM NAGPUR ( Maharashtra ): At least four policemen and three Maoists , including a woman , were killed Thursday in fierce gun battles in two locations in Maharashtra 's Gadchiroli district , police said .\n",
      "Tagged Sentence: Four cops , three Maoists killed in Maharashtra 19th May 2011 06:29 PM NAGPUR ( Maharashtra ): At least four policemen and three Maoists , including a woman , were killed Thursday <trigger>in</trigger> <cause>fierce gun battles in two locations in Maharashtra's Gadchiroli district</cause>, <effect>At least four policemen and three Maoists were killed</effect>.\n",
      "Label: 1\n",
      "---\n"
     ]
    },
    {
     "name": "stderr",
     "output_type": "stream",
     "text": [
      "Processing:  51%|█████     | 165/323 [31:06<1:29:10, 33.87s/rows, ETA (sec)=1786.92]"
     ]
    },
    {
     "name": "stdout",
     "output_type": "stream",
     "text": [
      "\n",
      "Original Sentence: First gunfight took place near Nargonda village .\n",
      "Tagged Sentence: NoTag\n",
      "Label: 0\n",
      "---\n"
     ]
    },
    {
     "name": "stderr",
     "output_type": "stream",
     "text": [
      "Processing:  51%|█████▏    | 166/323 [31:40<1:29:00, 34.01s/rows, ETA (sec)=1797.41]"
     ]
    },
    {
     "name": "stdout",
     "output_type": "stream",
     "text": [
      "\n",
      "Original Sentence: The fight started when rebels ambushed a police team Thursday morning , an official of the Anti-Naxal Squad said here .\n",
      "Tagged Sentence: The <effect>fight started</effect> when <trigger>rebels ambushed a police team Thursday morning</trigger>, an official of the Anti-Naxal Squad said here.\n",
      "Label: 1\n",
      "---\n"
     ]
    },
    {
     "name": "stderr",
     "output_type": "stream",
     "text": [
      "Processing:  52%|█████▏    | 167/323 [32:15<1:29:04, 34.26s/rows, ETA (sec)=1807.80]"
     ]
    },
    {
     "name": "stdout",
     "output_type": "stream",
     "text": [
      "\n",
      "Original Sentence: Two Maoists were killed when police returned fire , he said .\n",
      "Tagged Sentence: Two <effect>Maoists were killed</effect> when <trigger>police returned fire</trigger>, he said.\n",
      "Label: 1\n",
      "---\n"
     ]
    },
    {
     "name": "stderr",
     "output_type": "stream",
     "text": [
      "Processing:  52%|█████▏    | 168/323 [32:49<1:28:07, 34.11s/rows, ETA (sec)=1816.67]"
     ]
    },
    {
     "name": "stdout",
     "output_type": "stream",
     "text": [
      "\n",
      "Original Sentence: One policeman of the C -60 battalion , Chinna Vetta , was killed while two others - Sadhu Palli and Shankar Govase - were seriously injured , he said .\n",
      "Tagged Sentence: NoTag\n",
      "Label: 0\n",
      "---\n"
     ]
    },
    {
     "name": "stderr",
     "output_type": "stream",
     "text": [
      "Processing:  52%|█████▏    | 169/323 [33:21<1:26:13, 33.60s/rows, ETA (sec)=1823.79]"
     ]
    },
    {
     "name": "stdout",
     "output_type": "stream",
     "text": [
      "\n",
      "Original Sentence: In the other gun battle in the same district , two officers , a police man and a rebel were killed near Tadgaon village , the official said .\n",
      "Tagged Sentence: NoTag\n",
      "Label: 0\n",
      "---\n"
     ]
    },
    {
     "name": "stderr",
     "output_type": "stream",
     "text": [
      "Processing:  53%|█████▎    | 170/323 [33:52<1:23:52, 32.89s/rows, ETA (sec)=1829.41]"
     ]
    },
    {
     "name": "stdout",
     "output_type": "stream",
     "text": [
      "\n",
      "Original Sentence: The identities of the security personnel killed in the second gunfight were not immediately available .\n",
      "Tagged Sentence: NoTag\n",
      "Label: 0\n",
      "---\n"
     ]
    },
    {
     "name": "stderr",
     "output_type": "stream",
     "text": [
      "Processing:  53%|█████▎    | 171/323 [34:24<1:22:42, 32.65s/rows, ETA (sec)=1835.35]"
     ]
    },
    {
     "name": "stdout",
     "output_type": "stream",
     "text": [
      "\n",
      "Original Sentence: According to the official , both the gun battles started around 9 p.m. and were still going on .\n",
      "Tagged Sentence: NoTag\n",
      "Label: 0\n",
      "---\n"
     ]
    },
    {
     "name": "stderr",
     "output_type": "stream",
     "text": [
      "Processing:  53%|█████▎    | 172/323 [35:00<1:24:19, 33.51s/rows, ETA (sec)=1843.84]"
     ]
    },
    {
     "name": "stdout",
     "output_type": "stream",
     "text": [
      "\n",
      "Original Sentence: State Home Minister R.R. Patil , who rushed to Gadchiroli , told reporters in the afternoon that the police have recovered the bodies of two Maoists gunned down in the fight .\n",
      "Tagged Sentence: NoTag\n",
      "Label: 0\n",
      "---\n"
     ]
    },
    {
     "name": "stderr",
     "output_type": "stream",
     "text": [
      "Processing:  54%|█████▎    | 173/323 [35:33<1:23:23, 33.36s/rows, ETA (sec)=1849.67]"
     ]
    },
    {
     "name": "stdout",
     "output_type": "stream",
     "text": [
      "\n",
      "Original Sentence: \" The Maoists attacked the police patrols in the forests .\n",
      "Tagged Sentence: NoTag\n",
      "Label: 0\n",
      "---\n"
     ]
    },
    {
     "name": "stderr",
     "output_type": "stream",
     "text": [
      "Processing:  54%|█████▍    | 174/323 [36:11<1:26:35, 34.87s/rows, ETA (sec)=1859.66]"
     ]
    },
    {
     "name": "stdout",
     "output_type": "stream",
     "text": [
      "\n",
      "Original Sentence: Staff of the South Rand hospital in Johannesburg protested on Wednesday , demanding the dismissal of the hospital 's chief executive for his `` aggressive '' treatment of them .\n",
      "Tagged Sentence: Staff of the South Rand hospital in Johannesburg <effect>protested on Wednesday</effect>, <trigger>demanding</trigger> <cause>the dismissal of the hospital's chief executive for his `` aggressive '' treatment of them</cause>.\n",
      "Label: 1\n",
      "---\n"
     ]
    },
    {
     "name": "stderr",
     "output_type": "stream",
     "text": [
      "Processing:  54%|█████▍    | 175/323 [36:49<1:28:04, 35.71s/rows, ETA (sec)=1868.48]"
     ]
    },
    {
     "name": "stdout",
     "output_type": "stream",
     "text": [
      "\n",
      "Original Sentence: In their memorandum , the workers said the chief executive , Dr Mabatho Tshabalala , shouted at them , favoured his friends and practised nepotism at the hospital .\n",
      "Tagged Sentence: NoTag\n",
      "Label: 0\n",
      "---\n"
     ]
    },
    {
     "name": "stderr",
     "output_type": "stream",
     "text": [
      "Processing:  54%|█████▍    | 176/323 [37:20<1:24:14, 34.38s/rows, ETA (sec)=1871.44]"
     ]
    },
    {
     "name": "stdout",
     "output_type": "stream",
     "text": [
      "\n",
      "Original Sentence: The protest at Rosettenvile was attended by cleaners , doctors and nurses .\n",
      "Tagged Sentence: NoTag\n",
      "Label: 0\n",
      "---\n"
     ]
    },
    {
     "name": "stderr",
     "output_type": "stream",
     "text": [
      "Processing:  55%|█████▍    | 177/323 [37:56<1:24:42, 34.81s/rows, ETA (sec)=1877.75]"
     ]
    },
    {
     "name": "stdout",
     "output_type": "stream",
     "text": [
      "\n",
      "Original Sentence: Jack Bloom , the Democratic Alliance 's health spokesman in Gauteng , who attended the protest , said two more doctors had resigned from the hospital in the last three months .\n",
      "Tagged Sentence: NoTag\n",
      "Label: 0\n",
      "---\n"
     ]
    },
    {
     "name": "stderr",
     "output_type": "stream",
     "text": [
      "Processing:  55%|█████▌    | 178/323 [38:36<1:27:56, 36.39s/rows, ETA (sec)=1887.05]"
     ]
    },
    {
     "name": "stdout",
     "output_type": "stream",
     "text": [
      "\n",
      "Original Sentence: Protest against Metro car shed at Charkop - Indian Express Express News Service , Express News Service : Mumbai , Thu Dec 18 2008 , 23:43 hrs Slum dwellers residing on the land allocated for the construction of a depot , which is part of the Charkop-Bandra-Mankhurd Metro Rail project , on Wednesday protested Mumbai Regional Development Authority 's ( MMRDA ) move after its officials visited the site for surveying the plot of land .\n",
      "Tagged Sentence: Protest against Metro car shed at Charkop - Indian Express Express News Service , Express News Service : Mumbai , Thu Dec 18 2008 , 23:43 hrs Slum dwellers residing on the land allocated for the construction of a depot , which is part of the Charkop-Bandra-Mankhurd Metro Rail project , on Wednesday <trigger>protested</trigger> Mumbai Regional Development Authority 's ( MMRDA ) <cause>move after its officials visited the site for surveying the plot of land</cause>.</effect>\n",
      "Label: 1\n",
      "---\n"
     ]
    },
    {
     "name": "stderr",
     "output_type": "stream",
     "text": [
      "Processing:  55%|█████▌    | 179/323 [39:11<1:26:11, 35.91s/rows, ETA (sec)=1891.56]"
     ]
    },
    {
     "name": "stdout",
     "output_type": "stream",
     "text": [
      "\n",
      "Original Sentence: The MMRDA officials had to flee the site after the opposition from the locals .\n",
      "Tagged Sentence: The MMRDA officials had to <effect>flee the site</effect> <trigger>after</trigger> <cause>the opposition from the locals</cause>.\n",
      "Label: 1\n",
      "---\n"
     ]
    },
    {
     "name": "stderr",
     "output_type": "stream",
     "text": [
      "Processing:  56%|█████▌    | 180/323 [39:47<1:26:02, 36.10s/rows, ETA (sec)=1897.02]"
     ]
    },
    {
     "name": "stdout",
     "output_type": "stream",
     "text": [
      "\n",
      "Original Sentence: Despite this , if the protest continues , we will have to initiate a strong police action , \" said MMRDA Commissioner Ratnakar Gaikwad .\n",
      "Tagged Sentence: Despite this, <trigger>if</trigger> the <cause>protest continues</cause>, we will have to initiate a <effect>strong police action</effect>, \" said MMRDA Commissioner Ratnakar Gaikwad.\n",
      "Label: 1\n",
      "---\n"
     ]
    },
    {
     "name": "stderr",
     "output_type": "stream",
     "text": [
      "Processing:  56%|█████▌    | 181/323 [40:20<1:22:55, 35.04s/rows, ETA (sec)=1898.90]"
     ]
    },
    {
     "name": "stdout",
     "output_type": "stream",
     "text": [
      "\n",
      "Original Sentence: The crowd that had been protesting in front of the court burst into war songs marching down Voortrekker Street , saying they were going to set alight a sunflower crop field near Tlhabologang .\n",
      "Tagged Sentence: NoTag\n",
      "Label: 0\n",
      "---\n"
     ]
    },
    {
     "name": "stderr",
     "output_type": "stream",
     "text": [
      "Processing:  56%|█████▋    | 182/323 [40:55<1:22:12, 34.98s/rows, ETA (sec)=1902.16]"
     ]
    },
    {
     "name": "stdout",
     "output_type": "stream",
     "text": [
      "\n",
      "Original Sentence: There were reports of a house being torched by irate residents after they learnt that the accused had been granted bail .\n",
      "Tagged Sentence: There were reports of <effect>a house being torched</effect> by irate residents <trigger>after</trigger> they learnt that <cause>the accused had been granted bail</cause>.\n",
      "Label: 1\n",
      "---\n"
     ]
    },
    {
     "name": "stderr",
     "output_type": "stream",
     "text": [
      "Processing:  57%|█████▋    | 183/323 [41:30<1:21:55, 35.11s/rows, ETA (sec)=1905.44]"
     ]
    },
    {
     "name": "stdout",
     "output_type": "stream",
     "text": [
      "\n",
      "Original Sentence: An infiltration bid in Gurez sector where two militants were killed ; three fierce encounters in which a senior BSF officer , two BSF men and six militants were killed and a broad daylight grenade attack on Congress headquarters in the city centre marked the day today .\n",
      "Tagged Sentence: NoTag\n",
      "Label: 0\n",
      "---\n"
     ]
    },
    {
     "name": "stderr",
     "output_type": "stream",
     "text": [
      "Processing:  57%|█████▋    | 184/323 [42:07<1:22:39, 35.68s/rows, ETA (sec)=1909.50]"
     ]
    },
    {
     "name": "stdout",
     "output_type": "stream",
     "text": [
      "\n",
      "Original Sentence: In an encounter with militants at Mallapora village near Charar-e-Sharief , CO of 171 battalion of BSF V.K. Purohit along with a head constable and a constable were killed .\n",
      "Tagged Sentence: In <trigger>In</trigger> <cause>an encounter with militants at Mallapora village near Charar-e-Sharief</cause>, <effect>CO of 171 battalion of BSF V.K. Purohit along with a head constable and a constable were killed</effect>.\n",
      "Label: 1\n",
      "---\n"
     ]
    },
    {
     "name": "stderr",
     "output_type": "stream",
     "text": [
      "Processing:  57%|█████▋    | 185/323 [42:42<1:21:07, 35.27s/rows, ETA (sec)=1911.12]"
     ]
    },
    {
     "name": "stdout",
     "output_type": "stream",
     "text": [
      "\n",
      "Original Sentence: Two militants had also been killed in the fire fight .\n",
      "Tagged Sentence: <effect>Two militants had also been killed</effect> <trigger>in</trigger> <cause>the fire fight</cause>.\n",
      "Label: 1\n",
      "---\n"
     ]
    },
    {
     "name": "stderr",
     "output_type": "stream",
     "text": [
      "Processing:  58%|█████▊    | 186/323 [43:15<1:19:22, 34.76s/rows, ETA (sec)=1911.80]"
     ]
    },
    {
     "name": "stdout",
     "output_type": "stream",
     "text": [
      "\n",
      "Original Sentence: While the encounter was going on , militants attacked the Congress partys headquarters on MA road in the city centre .\n",
      "Tagged Sentence: NoTag\n",
      "Label: 0\n",
      "---\n"
     ]
    },
    {
     "name": "stderr",
     "output_type": "stream",
     "text": [
      "Processing:  58%|█████▊    | 187/323 [43:48<1:17:20, 34.12s/rows, ETA (sec)=1911.43]"
     ]
    },
    {
     "name": "stdout",
     "output_type": "stream",
     "text": [
      "\n",
      "Original Sentence: However , nobody was injured in the grenade attack .\n",
      "Tagged Sentence: NoTag\n",
      "Label: 0\n",
      "---\n"
     ]
    },
    {
     "name": "stderr",
     "output_type": "stream",
     "text": [
      "Processing:  58%|█████▊    | 188/323 [44:21<1:16:03, 33.80s/rows, ETA (sec)=1911.02]"
     ]
    },
    {
     "name": "stdout",
     "output_type": "stream",
     "text": [
      "\n",
      "Original Sentence: The militants also attacked and injured five policemen when they hurled a grenade towards the cavalcade of SP , South City , Mukesh Singh at Jehangir Chowk nearby .\n",
      "Tagged Sentence: The militants also <effect>attacked and injured five policemen</effect> <trigger>when</trigger> they <cause>hurled a grenade towards the cavalcade of SP, South City, Mukesh Singh at Jehangir Chowk nearby</cause>\n",
      "Label: 1\n",
      "---\n"
     ]
    },
    {
     "name": "stderr",
     "output_type": "stream",
     "text": [
      "Processing:  59%|█████▊    | 189/323 [44:58<1:18:05, 34.97s/rows, ETA (sec)=1913.55]"
     ]
    },
    {
     "name": "stdout",
     "output_type": "stream",
     "text": [
      "\n",
      "Original Sentence: There was an encounter between security forces and the militants in Baramulla town as well where two militants were killed early this morning .\n",
      "Tagged Sentence: There was an <cause>encounter between security forces and the militants in Baramulla town as well</cause> <trigger>where</trigger> <effect>two militants were killed early this morning</effect>.\n",
      "Label: 1\n",
      "---\n"
     ]
    },
    {
     "name": "stderr",
     "output_type": "stream",
     "text": [
      "Processing:  59%|█████▉    | 190/323 [45:33<1:16:58, 34.73s/rows, ETA (sec)=1913.18]"
     ]
    },
    {
     "name": "stdout",
     "output_type": "stream",
     "text": [
      "\n",
      "Original Sentence: Troops also killed two militants making infiltration bids in Gurez sector today .\n",
      "Tagged Sentence: NoTag\n",
      "Label: 0\n",
      "---\n"
     ]
    },
    {
     "name": "stderr",
     "output_type": "stream",
     "text": [
      "Processing:  59%|█████▉    | 191/323 [46:09<1:17:13, 35.10s/rows, ETA (sec)=1913.72]"
     ]
    },
    {
     "name": "stdout",
     "output_type": "stream",
     "text": [
      "\n",
      "Original Sentence: Lessons will resume at Tshwane University of Technology on Wednesday following a protest by students at the institution 's Soshanguve campus .\n",
      "Tagged Sentence: Lessons will resume at Tshwane University of Technology on Wednesday <trigger>following</trigger> a <cause>protest by students at the institution's Soshanguve campus</cause>.\n",
      "Label: 1\n",
      "---\n"
     ]
    },
    {
     "name": "stderr",
     "output_type": "stream",
     "text": [
      "Processing:  59%|█████▉    | 192/323 [46:42<1:15:30, 34.59s/rows, ETA (sec)=1912.11]"
     ]
    },
    {
     "name": "stdout",
     "output_type": "stream",
     "text": [
      "\n",
      "Original Sentence: Students went on a rampage on Tuesday in protest of increased fees , which had led to violent demonstrations earlier this year , Radio 702 reports .\n",
      "Tagged Sentence: Students went on a rampage on Tuesday <trigger>in protest of</trigger> <cause>increased fees</cause>, which had led to violent demonstrations earlier this year, Radio 702 reports.\n",
      "Label: 1\n",
      "---\n"
     ]
    },
    {
     "name": "stderr",
     "output_type": "stream",
     "text": [
      "Processing:  60%|█████▉    | 193/323 [47:13<1:12:44, 33.57s/rows, ETA (sec)=1908.70]"
     ]
    },
    {
     "name": "stdout",
     "output_type": "stream",
     "text": [
      "\n",
      "Original Sentence: Hundreds of angry students set fire to tyres and barricaded the gates to the Soshanguve campus earlier on Tuesday .\n",
      "Tagged Sentence: NoTag\n",
      "Label: 0\n",
      "---\n"
     ]
    },
    {
     "name": "stderr",
     "output_type": "stream",
     "text": [
      "Processing:  60%|██████    | 194/323 [47:48<1:12:51, 33.89s/rows, ETA (sec)=1907.28]"
     ]
    },
    {
     "name": "stdout",
     "output_type": "stream",
     "text": [
      "\n",
      "Original Sentence: The ANCWL intends approaching the Equality Court after protesting teachers displayed a pair of panties they said belonged to Basic Education Minister Angie Motshekga .\n",
      "Tagged Sentence: The ANCWL intends approaching the Equality Court <trigger>after</trigger> <cause>protesting teachers displayed a pair of panties they said belonged to Basic Education Minister Angie Motshekga</cause>.\n",
      "Label: 1\n",
      "---\n"
     ]
    },
    {
     "name": "stderr",
     "output_type": "stream",
     "text": [
      "Processing:  60%|██████    | 195/323 [48:25<1:14:40, 35.01s/rows, ETA (sec)=1907.48]"
     ]
    },
    {
     "name": "stdout",
     "output_type": "stream",
     "text": [
      "\n",
      "Original Sentence: `` The African National Congress 's Women 's League noted with dismay disturbing media reports about some Sadtu members publicly displaying a piece of underwear attributed to Basic Education Minister Angie Motshekga during last week 's protest march , '' Limpopo ANCWL secretary Maleke Mokganyetsi said in a statement .\n",
      "Tagged Sentence: NoTag\n",
      "Label: 0\n",
      "---\n"
     ]
    },
    {
     "name": "stderr",
     "output_type": "stream",
     "text": [
      "Processing:  61%|██████    | 196/323 [49:02<1:15:14, 35.54s/rows, ETA (sec)=1906.77]"
     ]
    },
    {
     "name": "stdout",
     "output_type": "stream",
     "text": [
      "\n",
      "Original Sentence: Describing the SA Democratic Teachers ' Union as `` counter-revolutionary '' , Mokganyetsi said protesters who displayed the panties in Pretoria on Wednesday had to be condemned .\n",
      "Tagged Sentence: NoTag\n",
      "Label: 0\n",
      "---\n"
     ]
    },
    {
     "name": "stderr",
     "output_type": "stream",
     "text": [
      "Processing:  61%|██████    | 197/323 [49:39<1:15:15, 35.83s/rows, ETA (sec)=1905.50]"
     ]
    },
    {
     "name": "stdout",
     "output_type": "stream",
     "text": [
      "\n",
      "Original Sentence: The Sadtu protest was a call for the resignation of Motshekga and her director general Bobby Soobrayan .\n",
      "Tagged Sentence: NoTag\n",
      "Label: 0\n",
      "---\n"
     ]
    },
    {
     "name": "stderr",
     "output_type": "stream",
     "text": [
      "Processing:  61%|██████▏   | 198/323 [50:13<1:13:36, 35.33s/rows, ETA (sec)=1902.40]"
     ]
    },
    {
     "name": "stdout",
     "output_type": "stream",
     "text": [
      "\n",
      "Original Sentence: The slogan `` Puluma ya Angie '' is written in black pen across its front .\n",
      "Tagged Sentence: NoTag\n",
      "Label: 0\n",
      "---\n"
     ]
    },
    {
     "name": "stderr",
     "output_type": "stream",
     "text": [
      "Processing:  62%|██████▏   | 199/323 [50:55<1:17:29, 37.50s/rows, ETA (sec)=1904.21]"
     ]
    },
    {
     "name": "stdout",
     "output_type": "stream",
     "text": [
      "\n",
      "Original Sentence: Chikkamagaluru : BJP activists take out march , demand George ’ s resignation July 17 , 2016 00:00 IST Workers of the Bharatiya Janata Party ( BJP ) took out a march in Chikkamagaluru on Saturday demanding the resignation of Bengaluru Development Minister K.J. George and a CBI probe into the death of Dy.SP M.K. Ganapathy .\n",
      "Tagged Sentence: Chikkamagaluru : BJP activists take out march , demand George ’ s resignation July 17 , 2016 00:00 IST Workers of the Bharatiya Janata Party ( BJP ) took out a <effect>march</effect> in Chikkamagaluru on Saturday <trigger>demanding</trigger> the <cause>resignation of Bengaluru Development Minister K.J. George and a CBI probe into the death of Dy.SP M.K. Ganapathy</cause>.\n",
      "Label: 1\n",
      "---\n"
     ]
    },
    {
     "name": "stderr",
     "output_type": "stream",
     "text": [
      "Processing:  62%|██████▏   | 200/323 [51:31<1:15:30, 36.83s/rows, ETA (sec)=1901.11]"
     ]
    },
    {
     "name": "stdout",
     "output_type": "stream",
     "text": [
      "\n",
      "Original Sentence: The protest march was taken out under the leadership of BJP State president B.S. Yeddyurappa .\n",
      "Tagged Sentence: NoTag\n",
      "Label: 0\n",
      "---\n"
     ]
    },
    {
     "name": "stderr",
     "output_type": "stream",
     "text": [
      "Processing:  62%|██████▏   | 201/323 [52:06<1:14:03, 36.42s/rows, ETA (sec)=1897.79]"
     ]
    },
    {
     "name": "stdout",
     "output_type": "stream",
     "text": [
      "\n",
      "Original Sentence: Addressing the protesters , Mr. Yeddyurappa said the BJP would continue its protest until Mr. George resigned .\n",
      "Tagged Sentence: Addressing the protesters , Mr. Yeddyurappa said the BJP would continue its <effect>protest</effect> <trigger>until</trigger> <cause>Mr. George resigned</cause> .\n",
      "Label: 1\n",
      "---\n"
     ]
    },
    {
     "name": "stderr",
     "output_type": "stream",
     "text": [
      "Processing:  63%|██████▎   | 202/323 [52:45<1:14:39, 37.02s/rows, ETA (sec)=1895.94]"
     ]
    },
    {
     "name": "stdout",
     "output_type": "stream",
     "text": [
      "\n",
      "Original Sentence: “ We will continue our protest seeking justice in the Dy.SP Ganapathy case .\n",
      "Tagged Sentence: NoTag\n",
      "Label: 0\n",
      "---\n"
     ]
    },
    {
     "name": "stderr",
     "output_type": "stream",
     "text": [
      "Processing:  63%|██████▎   | 203/323 [53:22<1:14:29, 37.24s/rows, ETA (sec)=1893.32]"
     ]
    },
    {
     "name": "stdout",
     "output_type": "stream",
     "text": [
      "\n",
      "Original Sentence: Days and months after the November 2008 Mumbai terrorist attacks , Pranab Mukherjee , then external affairs minister , announced a “ pause ” to bilateral relations till Pakistan cooperates in the investigation process .\n",
      "Tagged Sentence: Days and months after the <cause>November 2008 Mumbai terrorist attacks</cause> , Pranab Mukherjee , then external affairs minister , announced a 'pause' to bilateral relations <trigger>till Pakistan cooperates</trigger> in the investigation process .\n",
      "Label: 1\n",
      "---\n"
     ]
    },
    {
     "name": "stderr",
     "output_type": "stream",
     "text": [
      "Processing:  63%|██████▎   | 204/323 [53:58<1:13:05, 36.86s/rows, ETA (sec)=1889.32]"
     ]
    },
    {
     "name": "stdout",
     "output_type": "stream",
     "text": [
      "\n",
      "Original Sentence: Even Jaish-e-Mohammad ( JeM ) , the outfit which carried out the attack on the Indian Parliament , is returning from a period of hibernation .\n",
      "Tagged Sentence: NoTag\n",
      "Label: 0\n",
      "---\n"
     ]
    },
    {
     "name": "stderr",
     "output_type": "stream",
     "text": [
      "Processing:  63%|██████▎   | 205/323 [54:32<1:10:38, 35.92s/rows, ETA (sec)=1883.72]"
     ]
    },
    {
     "name": "stdout",
     "output_type": "stream",
     "text": [
      "\n",
      "Original Sentence: Mumbai Beat Posted : Tue Dec 29 1998 IST MUMBAI , December 28 : The administrative staff of Akashvani and Doordarshan have declared a three-day total strike .\n",
      "Tagged Sentence: NoTag\n",
      "Label: 0\n",
      "---\n"
     ]
    },
    {
     "name": "stderr",
     "output_type": "stream",
     "text": [
      "Processing:  64%|██████▍   | 206/323 [55:09<1:10:23, 36.09s/rows, ETA (sec)=1879.42]"
     ]
    },
    {
     "name": "stdout",
     "output_type": "stream",
     "text": [
      "\n",
      "Original Sentence: This agitation is in response to the government 's apathy towards the staff of the two corporations who are on work-to-rule stir .\n",
      "Tagged Sentence: This <effect>agitation</effect> is <trigger>in response to</trigger> the <cause>government's apathy towards the staff of the two corporations who are on work-to-rule stir</cause>.\n",
      "Label: 1\n",
      "---\n"
     ]
    },
    {
     "name": "stderr",
     "output_type": "stream",
     "text": [
      "Processing:  64%|██████▍   | 207/323 [55:50<1:12:46, 37.64s/rows, ETA (sec)=1877.48]"
     ]
    },
    {
     "name": "stdout",
     "output_type": "stream",
     "text": [
      "\n",
      "Original Sentence: Sangram ends fast at Pyari ’ s request 17th December 2012 11:41 AM After all the talks of injustice and fabricated charges over which Sangram Mohanty took to hunger strike in R Udaygiri jail , it took a letter of five sentences from Odisha Jan Morcha ( OJM ) leader Pyarimohan Mohapatra to call off the agitation on Sunday .\n",
      "Tagged Sentence: Sangram ends fast <trigger>at Pyari’s request</trigger> 17th December 2012 11:41 AM After all the talks of injustice and fabricated charges over which Sangram Mohanty took to hunger strike in R Udaygiri jail, it took a <cause>letter of five sentences from Odisha Jan Morcha (OJM) leader Pyarimohan Mohapatra</cause> to call off the agitation on Sunday.\n",
      "Label: 1\n",
      "---\n"
     ]
    },
    {
     "name": "stderr",
     "output_type": "stream",
     "text": [
      "Processing:  64%|██████▍   | 208/323 [56:28<1:12:36, 37.88s/rows, ETA (sec)=1873.60]"
     ]
    },
    {
     "name": "stdout",
     "output_type": "stream",
     "text": [
      "\n",
      "Original Sentence: Sangram broke his 11 - day fast and was shifted to District Headquarters Hospital at Paralakhemundi minutes after two OJM office-bearers carried the letter to him .\n",
      "Tagged Sentence: NoTag\n",
      "Label: 0\n",
      "---\n"
     ]
    },
    {
     "name": "stderr",
     "output_type": "stream",
     "text": [
      "Processing:  65%|██████▍   | 209/323 [57:07<1:12:32, 38.18s/rows, ETA (sec)=1869.62]"
     ]
    },
    {
     "name": "stdout",
     "output_type": "stream",
     "text": [
      "\n",
      "Original Sentence: In the letter , which was written on an OJM letterhead , Pyari lauded Sangram ’ s non-violent agitation against injustice but asked him to refrain from the strike anymore since his services would be required for the people as well as for his outfit of which the latter is a member .\n",
      "Tagged Sentence: In the letter, which was written on an OJM letterhead, Pyari lauded Sangram’s non-violent agitation against injustice but asked him to <effect>refrain from the strike anymore</effect> <trigger>since</trigger> <cause>his services would be required for the people as well as for his outfit of which the latter is a member</cause>.\n",
      "Label: 1\n",
      "---\n"
     ]
    },
    {
     "name": "stderr",
     "output_type": "stream",
     "text": [
      "Processing:  65%|██████▌   | 210/323 [57:40<1:09:10, 36.73s/rows, ETA (sec)=1862.34]"
     ]
    },
    {
     "name": "stdout",
     "output_type": "stream",
     "text": [
      "\n",
      "Original Sentence: He had been on hunger strike since then .\n",
      "Tagged Sentence: NoTag\n",
      "Label: 0\n",
      "---\n"
     ]
    },
    {
     "name": "stderr",
     "output_type": "stream",
     "text": [
      "Processing:  65%|██████▌   | 211/323 [58:17<1:08:15, 36.57s/rows, ETA (sec)=1856.32]"
     ]
    },
    {
     "name": "stdout",
     "output_type": "stream",
     "text": [
      "\n",
      "Original Sentence: The end to hunger strike came as a relief to the jail administration .\n",
      "Tagged Sentence: NoTag\n",
      "Label: 0\n",
      "---\n"
     ]
    },
    {
     "name": "stderr",
     "output_type": "stream",
     "text": [
      "Processing:  66%|██████▌   | 212/323 [58:55<1:08:35, 37.08s/rows, ETA (sec)=1851.11]"
     ]
    },
    {
     "name": "stdout",
     "output_type": "stream",
     "text": [
      "\n",
      "Original Sentence: The treating doctors said Sangram lost around 5 kg due to the hunger strike .\n",
      "Tagged Sentence: The treating doctors said <effect>Sangram lost around 5 kg</effect> <trigger>due to</trigger> <cause>the hunger strike</cause>.\n",
      "Label: 1\n",
      "---\n"
     ]
    },
    {
     "name": "stderr",
     "output_type": "stream",
     "text": [
      "Processing:  66%|██████▌   | 213/323 [59:32<1:08:11, 37.20s/rows, ETA (sec)=1845.18]"
     ]
    },
    {
     "name": "stdout",
     "output_type": "stream",
     "text": [
      "\n",
      "Original Sentence: TAMIL NADU Police denies permission for fast April 01 , 2006 00:00 IST Staff Reporter UDUMALPET : The announcement of candidates for Udumalpet constituency by the ruling All India Anna Dravida Munnetra Kazhagam and the opposition Dravida Munnetra Kazhagam drew protest from a section of partymen .\n",
      "Tagged Sentence: TAMIL NADU Police denies permission for fast April 01 , 2006 00:00 IST Staff Reporter UDUMALPET : The <cause>announcement of candidates for Udumalpet constituency by the ruling All India Anna Dravida Munnetra Kazhagam and the opposition Dravida Munnetra Kazhagam</cause> <trigger>drew</trigger> <effect>protest from a section of partymen</effect> .\n",
      "Label: 1\n",
      "---\n"
     ]
    },
    {
     "name": "stderr",
     "output_type": "stream",
     "text": [
      "Processing:  66%|██████▋   | 214/323 [1:00:14<1:10:03, 38.56s/rows, ETA (sec)=1841.12]"
     ]
    },
    {
     "name": "stdout",
     "output_type": "stream",
     "text": [
      "\n",
      "Original Sentence: On Thursday night around 25 dissidents in the DMK tried to burn the former Minister and district secretary of the party , Pongalur N. Palanisamy , in effigy for choosing the candidate .\n",
      "Tagged Sentence: On Thursday night <effect>around 25 dissidents in the DMK tried to burn the former Minister and district secretary of the party, Pongalur N. Palanisamy, in effigy</effect> <trigger>for</trigger> <cause>choosing the candidate</cause>.\n",
      "Label: 1\n",
      "---\n"
     ]
    },
    {
     "name": "stderr",
     "output_type": "stream",
     "text": [
      "Processing:  67%|██████▋   | 215/323 [1:00:51<1:08:20, 37.96s/rows, ETA (sec)=1834.11]"
     ]
    },
    {
     "name": "stdout",
     "output_type": "stream",
     "text": [
      "\n",
      "Original Sentence: Auto , taxi stir off 17th November 2012 09:26 AM The auto , taxi strike was called off on Friday , after a joint coordination committee meeting decision to accept the fare revision suggested by the state govt .\n",
      "Tagged Sentence: Auto , taxi stir off 17th November 2012 09:26 AM The auto , taxi strike was <effect>called off</effect> on Friday , <trigger>after a joint coordination committee meeting decision</trigger> to accept the <cause>fare revision suggested by the state govt</cause> .\n",
      "Label: 1\n",
      "---\n"
     ]
    },
    {
     "name": "stderr",
     "output_type": "stream",
     "text": [
      "Processing:  67%|██████▋   | 216/323 [1:01:26<1:06:29, 37.28s/rows, ETA (sec)=1826.40]"
     ]
    },
    {
     "name": "stdout",
     "output_type": "stream",
     "text": [
      "\n",
      "Original Sentence: The indefinite auto , taxi strike was launched on Thursday by various trade unions seeking a fare hike .\n",
      "Tagged Sentence: The indefinite auto , taxi strike was launched on Thursday by various trade unions <trigger>seeking</trigger> a fare hike <cause>to seek a fare hike</cause>.\n",
      "Label: 1\n",
      "---\n"
     ]
    },
    {
     "name": "stderr",
     "output_type": "stream",
     "text": [
      "Processing:  67%|██████▋   | 217/323 [1:01:59<1:03:21, 35.87s/rows, ETA (sec)=1816.90]"
     ]
    },
    {
     "name": "stdout",
     "output_type": "stream",
     "text": [
      "\n",
      "Original Sentence: Though the government on Thursday increased the minimum charge for auto travel to Rs 14 and that of taxis to Rs 100 , the trade unions were not ready to withdraw the strike .\n",
      "Tagged Sentence: NoTag\n",
      "Label: 0\n",
      "---\n"
     ]
    },
    {
     "name": "stderr",
     "output_type": "stream",
     "text": [
      "Processing:  67%|██████▋   | 218/323 [1:02:36<1:03:10, 36.10s/rows, ETA (sec)=1809.15]"
     ]
    },
    {
     "name": "stdout",
     "output_type": "stream",
     "text": [
      "\n",
      "Original Sentence: It is learnt that many leaders of auto rickshaw trade unions are not happy about the decision to withdraw the strike as their demand onminimum fare was not met. “ We will meet the Transport Minister on November 21 in this regard , ” said Kozhikode District Motor and Engineering Workers Union secretary Balan Nair .\n",
      "Tagged Sentence: It is learnt that many leaders of auto rickshaw trade unions are <effect>not happy</effect> about the decision to withdraw the strike <trigger>as</trigger> their <cause>demand on minimum fare was not met</cause>. “ We will meet the Transport Minister on November 21 in this regard , ” said Kozhikode District Motor and Engineering Workers Union secretary Balan Nair .\n",
      "Label: 1\n",
      "---\n"
     ]
    },
    {
     "name": "stderr",
     "output_type": "stream",
     "text": [
      "Processing:  68%|██████▊   | 219/323 [1:03:14<1:03:33, 36.67s/rows, ETA (sec)=1801.78]"
     ]
    },
    {
     "name": "stdout",
     "output_type": "stream",
     "text": [
      "\n",
      "Original Sentence: Kochi : Lawyers boycott courts July 23 , 2016 00:00 IST For the second day , lawyers boycotted the High Court and other courts in the city on Friday in response to a call by the Kerala High Court Advocates ’ Association .\n",
      "Tagged Sentence: Kochi : Lawyers <effect>boycotted the High Court and other courts in the city on Friday</effect> <trigger>in response to</trigger> a <cause>call by the Kerala High Court Advocates’ Association</cause>.\n",
      "Label: 1\n",
      "---\n"
     ]
    },
    {
     "name": "stderr",
     "output_type": "stream",
     "text": [
      "Processing:  68%|██████▊   | 220/323 [1:03:50<1:02:57, 36.68s/rows, ETA (sec)=1793.52]"
     ]
    },
    {
     "name": "stdout",
     "output_type": "stream",
     "text": [
      "\n",
      "Original Sentence: The association decided to boycott the courts to express solidarity with the lawyers at the Thiruvananthapuram Bar Association , in the wake of what it called attacks on lawyers .\n",
      "Tagged Sentence: The association <trigger>in the wake of</trigger> what it called <cause>attacks on lawyers</cause> decided to <effect>boycott the courts</effect> to express solidarity with the lawyers at the Thiruvananthapuram Bar Association.\n",
      "Label: 1\n",
      "---\n"
     ]
    },
    {
     "name": "stderr",
     "output_type": "stream",
     "text": [
      "Processing:  68%|██████▊   | 221/323 [1:04:24<1:00:41, 35.70s/rows, ETA (sec)=1783.50]"
     ]
    },
    {
     "name": "stdout",
     "output_type": "stream",
     "text": [
      "\n",
      "Original Sentence: June 4 march suffers ' worst ever ' turnout PUBLISHED : Monday , 29 May , 2000 , 12:00am The annual pro-democracy march marking the 1989 Tiananmen Square massacre yesterday had what is believed to have been its lowest ever turnout , with only an estimated 1,000 people taking part .\n",
      "Tagged Sentence: NoTag\n",
      "Label: 0\n",
      "---\n"
     ]
    },
    {
     "name": "stderr",
     "output_type": "stream",
     "text": [
      "Processing:  69%|██████▊   | 222/323 [1:05:00<1:00:32, 35.97s/rows, ETA (sec)=1774.71]"
     ]
    },
    {
     "name": "stdout",
     "output_type": "stream",
     "text": [
      "\n",
      "Original Sentence: Eighteen children , aged from three to 14 , led the protest , organised by the Hongkong Alliance in Support of the Patriotic Democratic Movement in China .\n",
      "Tagged Sentence: NoTag\n",
      "Label: 0\n",
      "---\n"
     ]
    },
    {
     "name": "stderr",
     "output_type": "stream",
     "text": [
      "Processing:  69%|██████▉   | 223/323 [1:05:38<1:00:57, 36.57s/rows, ETA (sec)=1766.29]"
     ]
    },
    {
     "name": "stdout",
     "output_type": "stream",
     "text": [
      "\n",
      "Original Sentence: Alliance head Szeto Wah , also a Democratic Party legislator , said the children took part to demonstrate the theme of ' keeping the fire [ of democracy ] alive ' and to teach the younger generation about democratic development on the mainland .\n",
      "Tagged Sentence: Alliance head Szeto Wah, also a Democratic Party legislator, said the children <effect>took part</effect> <trigger>to</trigger> <cause>demonstrate the theme of 'keeping the fire [of democracy] alive'</cause> and <trigger>to</trigger> <cause>teach the younger generation about democratic development on the mainland</cause>.\n",
      "Label: 1\n",
      "---\n"
     ]
    },
    {
     "name": "stderr",
     "output_type": "stream",
     "text": [
      "Processing:  69%|██████▉   | 224/323 [1:06:13<59:35, 36.12s/rows, ETA (sec)=1756.32]  "
     ]
    },
    {
     "name": "stdout",
     "output_type": "stream",
     "text": [
      "\n",
      "Original Sentence: Chanting anti-communist slogans and waving banners , the children led the demonstrators carrying black and white placards through the streets of Causeway Bay , Wan Chai , and on to the Central Government Offices in Central .\n",
      "Tagged Sentence: NoTag\n",
      "Label: 0\n",
      "---\n"
     ]
    },
    {
     "name": "stderr",
     "output_type": "stream",
     "text": [
      "Processing:  70%|██████▉   | 225/323 [1:06:48<58:04, 35.55s/rows, ETA (sec)=1745.76]"
     ]
    },
    {
     "name": "stdout",
     "output_type": "stream",
     "text": [
      "\n",
      "Original Sentence: Among those taking part was the April 5th Action Group , whose members carried a wooden coffin to commemorate those killed in the crackdown .\n",
      "Tagged Sentence: Among those taking part was the April 5th Action Group, whose members <trigger>carried a wooden coffin</trigger> <cause>to commemorate those killed in the crackdown</cause>.\n",
      "Label: 1\n",
      "---\n"
     ]
    },
    {
     "name": "stderr",
     "output_type": "stream",
     "text": [
      "Processing:  70%|██████▉   | 226/323 [1:07:24<57:45, 35.72s/rows, ETA (sec)=1735.80]"
     ]
    },
    {
     "name": "stdout",
     "output_type": "stream",
     "text": [
      "\n",
      "Original Sentence: Twenty activists from the group made a detour and carried the coffin to the Office of the Commissioner for the Ministry of Foreign Affairs in Kennedy Road .\n",
      "Tagged Sentence: NoTag\n",
      "Label: 0\n",
      "---\n"
     ]
    },
    {
     "name": "stderr",
     "output_type": "stream",
     "text": [
      "Processing:  70%|███████   | 227/323 [1:07:57<56:08, 35.09s/rows, ETA (sec)=1724.56]"
     ]
    },
    {
     "name": "stdout",
     "output_type": "stream",
     "text": [
      "\n",
      "Original Sentence: They left after dumping the coffin at the office entrance .\n",
      "Tagged Sentence: They <trigger>after</trigger> <cause>dumping the coffin at the office entrance</cause> <effect>left</effect>.\n",
      "Label: 1\n",
      "---\n"
     ]
    },
    {
     "name": "stderr",
     "output_type": "stream",
     "text": [
      "Processing:  71%|███████   | 228/323 [1:08:36<57:09, 36.10s/rows, ETA (sec)=1715.13]"
     ]
    },
    {
     "name": "stdout",
     "output_type": "stream",
     "text": [
      "\n",
      "Original Sentence: Nine-year-old Lee Sik-chi , daughter of Frontier legislator Lee Cheuk-yan , assumed heavier duties this year than at previous protests she had attended , holding a banner at the head of the rally .\n",
      "Tagged Sentence: NoTag\n",
      "Label: 0\n",
      "---\n"
     ]
    },
    {
     "name": "stderr",
     "output_type": "stream",
     "text": [
      "Processing:  71%|███████   | 229/323 [1:09:09<55:15, 35.27s/rows, ETA (sec)=1703.35]"
     ]
    },
    {
     "name": "stdout",
     "output_type": "stream",
     "text": [
      "\n",
      "Original Sentence: ' The June 4 incident was about a group of university students who wished to fight for democracy , ' she said .\n",
      "Tagged Sentence: NoTag\n",
      "Label: 0\n",
      "---\n"
     ]
    },
    {
     "name": "stderr",
     "output_type": "stream",
     "text": [
      "Processing:  71%|███████   | 230/323 [1:09:44<54:37, 35.25s/rows, ETA (sec)=1692.13]"
     ]
    },
    {
     "name": "stdout",
     "output_type": "stream",
     "text": [
      "\n",
      "Original Sentence: ' Mr Szeto claimed 2,000 people joined the march , but observers estimated the turnout at between 900 and 1,000 .\n",
      "Tagged Sentence: NoTag\n",
      "Label: 0\n",
      "---\n"
     ]
    },
    {
     "name": "stderr",
     "output_type": "stream",
     "text": [
      "Processing:  72%|███████▏  | 231/323 [1:10:14<51:38, 33.68s/rows, ETA (sec)=1678.64]"
     ]
    },
    {
     "name": "stdout",
     "output_type": "stream",
     "text": [
      "\n",
      "Original Sentence: The alliance claimed 4,000 took part last year .\n",
      "Tagged Sentence: NoTag\n",
      "Label: 0\n",
      "---\n"
     ]
    },
    {
     "name": "stderr",
     "output_type": "stream",
     "text": [
      "Processing:  72%|███████▏  | 232/323 [1:10:55<54:20, 35.83s/rows, ETA (sec)=1669.27]"
     ]
    },
    {
     "name": "stdout",
     "output_type": "stream",
     "text": [
      "\n",
      "Original Sentence: ANDHRA PRADESH Trade unions stage dharna August 10 , 2016 00:00 IST Seven trade unions and employee federations of Central and State governments on Tuesday staged a dharna at the Collector ’ s office protesting dilution of labour laws , allowing FDI from 49 to 100 per cent in defence , railways , insurance , multi brand retail sale , banking sectors .\n",
      "Tagged Sentence: ANDHRA PRADESH Trade unions <trigger>protesting</trigger> <cause>dilution of labour laws , allowing FDI from 49 to 100 per cent in defence , railways , insurance , multi brand retail sale , banking sectors</cause> <effect>stage dharna</effect> August 10 , 2016 00:00 IST Seven trade unions and employee federations of Central and State governments on Tuesday staged a dharna at the Collector ’ s office.\n",
      "Label: 1\n",
      "---\n"
     ]
    },
    {
     "name": "stderr",
     "output_type": "stream",
     "text": [
      "Processing:  72%|███████▏  | 233/323 [1:11:31<53:45, 35.84s/rows, ETA (sec)=1657.69]"
     ]
    },
    {
     "name": "stdout",
     "output_type": "stream",
     "text": [
      "\n",
      "Original Sentence: Members of INTUC , AITUC , HMS , CITU , IFTU , YSRUTC and AICTUC were also protesting against the anti-worker policies .\n",
      "Tagged Sentence: Members of INTUC , AITUC , HMS , CITU , IFTU , YSRUTC and AICTUC were also <effect>protesting</effect> <trigger>against</trigger> the <cause>anti-worker policies</cause> .\n",
      "Label: 1\n",
      "---\n"
     ]
    },
    {
     "name": "stderr",
     "output_type": "stream",
     "text": [
      "Processing:  72%|███████▏  | 234/323 [1:12:08<53:32, 36.09s/rows, ETA (sec)=1646.21]"
     ]
    },
    {
     "name": "stdout",
     "output_type": "stream",
     "text": [
      "\n",
      "Original Sentence: Democratic Alliance councillors in Johannesburg on Friday called on trade unions to be held liable for damages caused during last month 's strikes .\n",
      "Tagged Sentence: Democratic Alliance councillors in Johannesburg on Friday called on trade unions to be held liable for <effect>damages</effect> <trigger>caused</trigger> during <cause>last month's strikes</cause>.\n",
      "Label: 1\n",
      "---\n"
     ]
    },
    {
     "name": "stderr",
     "output_type": "stream",
     "text": [
      "Processing:  73%|███████▎  | 235/323 [1:12:43<52:39, 35.90s/rows, ETA (sec)=1634.06]"
     ]
    },
    {
     "name": "stdout",
     "output_type": "stream",
     "text": [
      "\n",
      "Original Sentence: `` During these strikes ... extensive damage was caused to public property , '' said Paul Smit , a DA councillor in the city .\n",
      "Tagged Sentence: During these <cause>strikes</cause> ... <trigger>extensive damage was caused to public property</trigger> , '' said Paul Smit , a DA councillor in the city .\n",
      "Label: 1\n",
      "---\n"
     ]
    },
    {
     "name": "stderr",
     "output_type": "stream",
     "text": [
      "Processing:  73%|███████▎  | 236/323 [1:13:19<52:04, 35.91s/rows, ETA (sec)=1621.90]"
     ]
    },
    {
     "name": "stdout",
     "output_type": "stream",
     "text": [
      "\n",
      "Original Sentence: The two said the unions should be held `` liable , and pay up , for all damages caused during strikes '' .\n",
      "Tagged Sentence: NoTag\n",
      "Label: 0\n",
      "---\n"
     ]
    },
    {
     "name": "stderr",
     "output_type": "stream",
     "text": [
      "Processing:  73%|███████▎  | 237/323 [1:13:54<51:10, 35.71s/rows, ETA (sec)=1609.28]"
     ]
    },
    {
     "name": "stdout",
     "output_type": "stream",
     "text": [
      "\n",
      "Original Sentence: Cosatu in North West on Wednesday queried Lanxess chrome mine 's move to suspend some workers after a recent strike at the Rustenburg mine .\n",
      "Tagged Sentence: Cosatu in North West on Wednesday queried Lanxess chrome mine's move to <trigger>after</trigger> a recent <cause>strike at the Rustenburg mine</cause> to <effect>suspend some workers</effect>.\n",
      "Label: 1\n",
      "---\n"
     ]
    },
    {
     "name": "stderr",
     "output_type": "stream",
     "text": [
      "Processing:  74%|███████▎  | 238/323 [1:14:29<50:10, 35.41s/rows, ETA (sec)=1596.28]"
     ]
    },
    {
     "name": "stdout",
     "output_type": "stream",
     "text": [
      "\n",
      "Original Sentence: `` The management , jointly with NUM , signed an agreement on this matter , including the removal of disciplinary cases against all workers who were part of the strike , '' said provincial secretary Solly Phetoe .\n",
      "Tagged Sentence: NoTag\n",
      "Label: 0\n",
      "---\n"
     ]
    },
    {
     "name": "stderr",
     "output_type": "stream",
     "text": [
      "Processing:  74%|███████▍  | 239/323 [1:15:02<48:20, 34.53s/rows, ETA (sec)=1582.31]"
     ]
    },
    {
     "name": "stdout",
     "output_type": "stream",
     "text": [
      "\n",
      "Original Sentence: Work resumed at Lanxess on Monday after workers went on strike to demand that they receive part of a performance bonus they believed they were entitled to .\n",
      "Tagged Sentence: Work resumed at Lanxess on Monday <trigger>after</trigger> workers went on <cause>strike to demand that they receive part of a performance bonus they believed they were entitled to</cause>. <effect>Work resumed at Lanxess on Monday</effect>\n",
      "Label: 1\n",
      "---\n"
     ]
    },
    {
     "name": "stderr",
     "output_type": "stream",
     "text": [
      "Processing:  74%|███████▍  | 240/323 [1:15:37<48:17, 34.91s/rows, ETA (sec)=1569.35]"
     ]
    },
    {
     "name": "stdout",
     "output_type": "stream",
     "text": [
      "\n",
      "Original Sentence: The Congress of SA Trade Unions said management and the National Union of Mineworkers had signed an agreement on ending the strike , which included the removal of disciplinary cases .\n",
      "Tagged Sentence: NoTag\n",
      "Label: 0\n",
      "---\n"
     ]
    },
    {
     "name": "stderr",
     "output_type": "stream",
     "text": [
      "Processing:  75%|███████▍  | 241/323 [1:16:14<48:29, 35.48s/rows, ETA (sec)=1556.53]"
     ]
    },
    {
     "name": "stdout",
     "output_type": "stream",
     "text": [
      "\n",
      "Original Sentence: `` Evidence found on security video footage revealed that the employees were involved in acts of intimidation , inciting other employees , destroying property or being violent , '' spokeswoman Sibonile Dube said in a statement .\n",
      "Tagged Sentence: Evidence found on security video footage <trigger>revealed</trigger> that the employees were involved in <cause>acts of intimidation, inciting other employees, destroying property or being violent</cause>,'' spokeswoman Sibonile Dube said in a statement.\n",
      "Label: 1\n",
      "---\n"
     ]
    },
    {
     "name": "stderr",
     "output_type": "stream",
     "text": [
      "Processing:  75%|███████▍  | 242/323 [1:16:46<46:21, 34.34s/rows, ETA (sec)=1541.79]"
     ]
    },
    {
     "name": "stdout",
     "output_type": "stream",
     "text": [
      "\n",
      "Original Sentence: In the settlement agreement , Lanxess reserved its rights with regards to the illegal strike .\n",
      "Tagged Sentence: NoTag\n",
      "Label: 0\n",
      "---\n"
     ]
    },
    {
     "name": "stderr",
     "output_type": "stream",
     "text": [
      "Processing:  75%|███████▌  | 243/323 [1:17:26<47:56, 35.95s/rows, ETA (sec)=1529.57]"
     ]
    },
    {
     "name": "stdout",
     "output_type": "stream",
     "text": [
      "\n",
      "Original Sentence: PSU Insurance employees protest privatisation 23rd November 2011 01:27 AM HYDERABAD : Employees working in the government-owned Life Insurance Corporation of India and the four general insurance companies held lunch-hour protest demonstrations at their offices on Tuesday , opposing moves to liberalise the insurance sector .\n",
      "Tagged Sentence: PSU Insurance employees <effect>protest privatisation</effect> 23rd November 2011 01:27 AM HYDERABAD : Employees working in the government-owned Life Insurance Corporation of India and the four general insurance companies <trigger>opposing</trigger> <cause>moves to liberalise the insurance sector</cause> held lunch-hour protest demonstrations at their offices on Tuesday.\n",
      "Label: 1\n",
      "---\n"
     ]
    },
    {
     "name": "stderr",
     "output_type": "stream",
     "text": [
      "Processing:  76%|███████▌  | 244/323 [1:18:04<48:27, 36.81s/rows, ETA (sec)=1516.82]"
     ]
    },
    {
     "name": "stdout",
     "output_type": "stream",
     "text": [
      "\n",
      "Original Sentence: The secretariat of All India Insurance Employees Association ( AIIEA ) , which met in New Delhi recently , gave a call for demonstrations on the first day of the winter session of Parliament against the attempts of the Congress-led UPA government at the Centre to have two legislations aimed at further liberalising the insurance sector .\n",
      "Tagged Sentence: The secretariat of All India Insurance Employees Association ( AIIEA ), which met in New Delhi recently, gave a call for <effect>demonstrations on the first day of the winter session of Parliament</effect> <trigger>against</trigger> the attempts of the Congress-led UPA government at the Centre to have two legislations aimed at further liberalising the insurance sector.\n",
      "Label: 1\n",
      "---\n"
     ]
    },
    {
     "name": "stderr",
     "output_type": "stream",
     "text": [
      "Processing:  76%|███████▌  | 245/323 [1:18:41<47:48, 36.78s/rows, ETA (sec)=1503.20]"
     ]
    },
    {
     "name": "stdout",
     "output_type": "stream",
     "text": [
      "\n",
      "Original Sentence: KERALA RSS worker ’ s murder : three persons wanted October 26 , 2008 00:00 IST Staff Reporter They are associates of murdered CPI(M) activist Vishnu Suspects were seen in front of the CPI ( M ) office at Vanchiyoor on the previous day of the murder injuries on Renjith ’ s body indicate that there were more than five assailants Thiruvananthapuram : The police have said that they are searching mainly for three persons — ‘ Karate ’ Suresh , Ambalamukku Krishnakumar and Vanchiyoor Hariprasad — in connection with the murder of Rashtriya Swayamsevak Sangh ( RSS ) activist Renjith at Mannanthala on October 17 .\n",
      "Tagged Sentence: NoTag\n",
      "Label: 0\n",
      "---\n"
     ]
    },
    {
     "name": "stderr",
     "output_type": "stream",
     "text": [
      "Processing:  76%|███████▌  | 246/323 [1:19:18<47:26, 36.97s/rows, ETA (sec)=1489.61]"
     ]
    },
    {
     "name": "stdout",
     "output_type": "stream",
     "text": [
      "\n",
      "Original Sentence: The police believe that Renjith was killed in retaliation to the murder of Communist Party of India ( Marxist ) activist Vanchiyoor Vishnu this April .\n",
      "Tagged Sentence: The police believe that <effect>Renjith was killed</effect> <trigger>in retaliation to</trigger> <cause>the murder of Communist Party of India (Marxist) activist Vanchiyoor Vishnu this April</cause>.\n",
      "Label: 1\n",
      "---\n"
     ]
    },
    {
     "name": "stderr",
     "output_type": "stream",
     "text": [
      "Processing:  76%|███████▋  | 247/323 [1:19:55<46:42, 36.87s/rows, ETA (sec)=1475.58]"
     ]
    },
    {
     "name": "stdout",
     "output_type": "stream",
     "text": [
      "\n",
      "Original Sentence: Suresh and Krishnakumar , along with absconding ‘ gang leader ’ Om Prakash , are also accused in the killing of alleged mobster ‘ Aprani ’ Krishnakumar in 2007 .\n",
      "Tagged Sentence: NoTag\n",
      "Label: 0\n",
      "---\n"
     ]
    },
    {
     "name": "stderr",
     "output_type": "stream",
     "text": [
      "Processing:  77%|███████▋  | 248/323 [1:20:33<46:31, 37.22s/rows, ETA (sec)=1461.80]"
     ]
    },
    {
     "name": "stdout",
     "output_type": "stream",
     "text": [
      "\n",
      "Original Sentence: Suresh was named as accused in the murder of ‘ Changidi ’ Vinod , an associate of Aprani Krishnakumar , in 2006 .\n",
      "Tagged Sentence: NoTag\n",
      "Label: 0\n",
      "---\n"
     ]
    },
    {
     "name": "stderr",
     "output_type": "stream",
     "text": [
      "Processing:  77%|███████▋  | 249/323 [1:21:13<46:52, 38.00s/rows, ETA (sec)=1448.35]"
     ]
    },
    {
     "name": "stdout",
     "output_type": "stream",
     "text": [
      "\n",
      "Original Sentence: Hariprasad and Krishnakumar are the main suspects in the retaliatory attack on RSS activist Mohanan in the aftermath of Vishnu ’ s murder .\n",
      "Tagged Sentence: Hariprasad and Krishnakumar are the main suspects in the <effect>retaliatory attack on RSS activist Mohanan</effect> <trigger>in the aftermath of</trigger> <cause>Vishnu’s murder</cause>.\n",
      "Label: 1\n",
      "---\n"
     ]
    },
    {
     "name": "stderr",
     "output_type": "stream",
     "text": [
      "Processing:  77%|███████▋  | 250/323 [1:21:52<46:30, 38.23s/rows, ETA (sec)=1434.38]"
     ]
    },
    {
     "name": "stdout",
     "output_type": "stream",
     "text": [
      "\n",
      "Original Sentence: The police said that some of the suspects were seen partying in front of the CPI ( M ) office at Vanchiyoor on the previous day of Renjith ’ s murder .\n",
      "Tagged Sentence: NoTag\n",
      "Label: 0\n",
      "---\n"
     ]
    },
    {
     "name": "stderr",
     "output_type": "stream",
     "text": [
      "Processing:  78%|███████▊  | 251/323 [1:22:28<45:12, 37.68s/rows, ETA (sec)=1419.53]"
     ]
    },
    {
     "name": "stdout",
     "output_type": "stream",
     "text": [
      "\n",
      "Original Sentence: The police have posted men in front of the office , the regular hangout of the main suspects in Renjith murder case , to prevent any retaliatory attack by RSS men .\n",
      "Tagged Sentence: The police have posted men in front of the office, the regular hangout of the main suspects in Renjith murder case, <trigger>to</trigger> <cause>prevent any retaliatory attack by RSS men</cause>. <effect>The police have posted men in front of the office</effect>\n",
      "Label: 1\n",
      "---\n"
     ]
    },
    {
     "name": "stderr",
     "output_type": "stream",
     "text": [
      "Processing:  78%|███████▊  | 252/323 [1:23:03<43:37, 36.87s/rows, ETA (sec)=1404.12]"
     ]
    },
    {
     "name": "stdout",
     "output_type": "stream",
     "text": [
      "\n",
      "Original Sentence: They said RSS cadres close to Renjith could retaliate against two top CPM leaders in the district if they suspected that the police were not doing enough to solve the murder .\n",
      "Tagged Sentence: They said <effect>RSS cadres close to Renjith could retaliate against two top CPM leaders in the district</effect> <trigger>if</trigger> <cause>they suspected that the police were not doing enough to solve the murder</cause>.\n",
      "Label: 1\n",
      "---\n"
     ]
    },
    {
     "name": "stderr",
     "output_type": "stream",
     "text": [
      "Processing:  78%|███████▊  | 253/323 [1:23:42<43:45, 37.51s/rows, ETA (sec)=1389.66]"
     ]
    },
    {
     "name": "stdout",
     "output_type": "stream",
     "text": [
      "\n",
      "Original Sentence: They said the suspects had initially planned to kill ‘ Kakotta ’ Manoj , one of the main accused in the Vishnu murder case .\n",
      "Tagged Sentence: NoTag\n",
      "Label: 0\n",
      "---\n"
     ]
    },
    {
     "name": "stderr",
     "output_type": "stream",
     "text": [
      "Processing:  79%|███████▊  | 254/323 [1:24:17<42:10, 36.67s/rows, ETA (sec)=1373.85]"
     ]
    },
    {
     "name": "stdout",
     "output_type": "stream",
     "text": [
      "\n",
      "Original Sentence: The police suspect that the conspiracy to kill Renjith was hatched at Muttathara and airport area .\n",
      "Tagged Sentence: NoTag\n",
      "Label: 0\n",
      "---\n"
     ]
    },
    {
     "name": "stderr",
     "output_type": "stream",
     "text": [
      "Processing:  79%|███████▉  | 255/323 [1:24:55<42:10, 37.21s/rows, ETA (sec)=1358.88]"
     ]
    },
    {
     "name": "stdout",
     "output_type": "stream",
     "text": [
      "\n",
      "Original Sentence: They are investigating an airport-based gang leader and CPI(M) functionary in connection with the murder conspiracy .\n",
      "Tagged Sentence: They are investigating an airport-based gang leader and CPI(M) functionary <trigger>in connection with</trigger> the <cause>murder conspiracy</cause>\n",
      "Label: 1\n",
      "---\n"
     ]
    },
    {
     "name": "stderr",
     "output_type": "stream",
     "text": [
      "Processing:  79%|███████▉  | 256/323 [1:25:34<41:55, 37.55s/rows, ETA (sec)=1343.71]"
     ]
    },
    {
     "name": "stdout",
     "output_type": "stream",
     "text": [
      "\n",
      "Original Sentence: Some of Vishnu ’ s associates had switched off their cell phones on October 16 and switched them on only after Renjith was killed .\n",
      "Tagged Sentence: NoTag\n",
      "Label: 0\n",
      "---\n"
     ]
    },
    {
     "name": "stderr",
     "output_type": "stream",
     "text": [
      "Processing:  80%|███████▉  | 257/323 [1:26:11<41:04, 37.34s/rows, ETA (sec)=1327.96]"
     ]
    },
    {
     "name": "stdout",
     "output_type": "stream",
     "text": [
      "\n",
      "Original Sentence: The Crime Branch zeroed in on the culprits by identifying those who used their cell phones in the vicinity of the mobile phone towers near the murder spot at time of the crime .\n",
      "Tagged Sentence: The Crime Branch <effect>zeroed in on the culprits</effect> by <trigger>identifying</trigger> <cause>those who used their cell phones in the vicinity of the mobile phone towers near the murder spot at time of the crime</cause>.\n",
      "Label: 1\n",
      "---\n"
     ]
    },
    {
     "name": "stderr",
     "output_type": "stream",
     "text": [
      "Processing:  80%|███████▉  | 258/323 [1:26:51<41:27, 38.27s/rows, ETA (sec)=1312.96]"
     ]
    },
    {
     "name": "stdout",
     "output_type": "stream",
     "text": [
      "\n",
      "Original Sentence: Its significance to British colonial government also made it an important location for protests and demonstrations , the most significant of which was the hunger strike against the Star Ferry fare hike of 1966 , and also the campaign to protect the sovereignty of the Diaoyu Islands by patriotic students back in 1971 .\n",
      "Tagged Sentence: Its <cause>significance to British colonial government</cause> also <trigger>made</trigger> it an <effect>important location for protests and demonstrations</effect>, the most significant of which was the hunger strike against the Star Ferry fare hike of 1966, and also the campaign to protect the sovereignty of the Diaoyu Islands by patriotic students back in 1971.\n",
      "Label: 1\n",
      "---\n"
     ]
    },
    {
     "name": "stderr",
     "output_type": "stream",
     "text": [
      "Processing:  80%|████████  | 259/323 [1:27:33<41:55, 39.31s/rows, ETA (sec)=1298.08]"
     ]
    },
    {
     "name": "stdout",
     "output_type": "stream",
     "text": [
      "\n",
      "Original Sentence: Protest against waste dumping at Dadumajra - Indian Express Express News Service , Express News Service : Chandigarh , Tue Jun 28 2011 , 04:14 hrs Irked over heaps of garbage piling up at the dumping ground in Dadumajra , the residents of the area held a protest demanding the dumping be stopped at the site .\n",
      "Tagged Sentence: Protest against waste dumping at Dadumajra - Indian Express Express News Service , Express News Service : Chandigarh , Tue Jun 28 2011 , 04:14 hrs <trigger>Irked over</trigger> <cause>heaps of garbage piling up at the dumping ground in Dadumajra</cause>, the residents of the area held a <effect>protest demanding the dumping be stopped at the site</effect>.\n",
      "Label: 1\n",
      "---\n"
     ]
    },
    {
     "name": "stderr",
     "output_type": "stream",
     "text": [
      "Processing:  80%|████████  | 260/323 [1:28:05<39:12, 37.34s/rows, ETA (sec)=1280.82]"
     ]
    },
    {
     "name": "stdout",
     "output_type": "stream",
     "text": [
      "\n",
      "Original Sentence: For around two hours in the morning the residents did not allow trucks of the Municipal Corporation to dump refuse at the ground .\n",
      "Tagged Sentence: NoTag\n",
      "Label: 0\n",
      "---\n"
     ]
    },
    {
     "name": "stderr",
     "output_type": "stream",
     "text": [
      "Processing:  81%|████████  | 261/323 [1:28:42<38:18, 37.07s/rows, ETA (sec)=1264.32]"
     ]
    },
    {
     "name": "stdout",
     "output_type": "stream",
     "text": [
      "\n",
      "Original Sentence: Raising slogans against the civic body , the protesters , led by area councillor Kamlesh , demanded that the waste be taken to the garbage processing plant that has been set up to process the refuse .\n",
      "Tagged Sentence: Raising slogans against the civic body , the protesters , led by area councillor Kamlesh , demanded that the waste be taken to the garbage processing plant that has been set up to process the refuse .\n",
      "Label: 1\n",
      "---\n"
     ]
    },
    {
     "name": "stderr",
     "output_type": "stream",
     "text": [
      "Processing:  81%|████████  | 262/323 [1:29:12<35:40, 35.10s/rows, ETA (sec)=1246.28]"
     ]
    },
    {
     "name": "stdout",
     "output_type": "stream",
     "text": [
      "\n",
      "Original Sentence: The trucks were not allowed to move till the Municipal Commissioner Prerna Puri reached the site .\n",
      "Tagged Sentence: The trucks were not allowed to move <trigger>till</trigger> <cause>the Municipal Commissioner Prerna Puri reached the site</cause> .\n",
      "Label: 1\n",
      "---\n"
     ]
    },
    {
     "name": "stderr",
     "output_type": "stream",
     "text": [
      "Processing:  81%|████████▏ | 263/323 [1:29:47<34:48, 34.81s/rows, ETA (sec)=1228.98]"
     ]
    },
    {
     "name": "stdout",
     "output_type": "stream",
     "text": [
      "\n",
      "Original Sentence: Striking mineworkers have threatened to halt all mining operations around Rustenburg within a week if their employers do not accede to their R12,500 pay demand .\n",
      "Tagged Sentence: Striking mineworkers have <effect>threatened to halt all mining operations around Rustenburg within a week</effect> <trigger>if</trigger> their employers do not accede to their R12,500 pay demand<cause>.</cause>\n",
      "Label: 1\n",
      "---\n"
     ]
    },
    {
     "name": "stderr",
     "output_type": "stream",
     "text": [
      "Processing:  82%|████████▏ | 264/323 [1:30:24<35:05, 35.68s/rows, ETA (sec)=1212.34]"
     ]
    },
    {
     "name": "stdout",
     "output_type": "stream",
     "text": [
      "\n",
      "Original Sentence: On Wednesday , a leader of striking workers at Anglo American Platinum ( Amplats ) , Evans Ramokga , said the protest action would intensify .\n",
      "Tagged Sentence: NoTag\n",
      "Label: 0\n",
      "---\n"
     ]
    },
    {
     "name": "stderr",
     "output_type": "stream",
     "text": [
      "Processing:  82%|████████▏ | 265/323 [1:30:57<33:39, 34.82s/rows, ETA (sec)=1194.48]"
     ]
    },
    {
     "name": "stdout",
     "output_type": "stream",
     "text": [
      "\n",
      "Original Sentence: `` On Thursday we are going to combine efforts with the striking comrades at Lonmin mines .\n",
      "Tagged Sentence: NoTag\n",
      "Label: 0\n",
      "---\n"
     ]
    },
    {
     "name": "stderr",
     "output_type": "stream",
     "text": [
      "Processing:  82%|████████▏ | 266/323 [1:31:29<32:14, 33.94s/rows, ETA (sec)=1176.31]"
     ]
    },
    {
     "name": "stdout",
     "output_type": "stream",
     "text": [
      "\n",
      "Original Sentence: There was a tense stand-off when thousands of mineworkers marched on the premises of Amplats 's smelters on Wednesday .\n",
      "Tagged Sentence: NoTag\n",
      "Label: 0\n",
      "---\n"
     ]
    },
    {
     "name": "stderr",
     "output_type": "stream",
     "text": [
      "Processing:  83%|████████▎ | 267/323 [1:32:05<32:17, 34.59s/rows, ETA (sec)=1158.91]"
     ]
    },
    {
     "name": "stdout",
     "output_type": "stream",
     "text": [
      "\n",
      "Original Sentence: `` If it were not for this industrial action , most of us would be deep inside shafts , sweating for Anglo Platinum .\n",
      "Tagged Sentence: If it were not for <trigger>the industrial action</trigger>, most of us would be deep inside shafts, sweating for Anglo Platinum.\n",
      "Label: 1\n",
      "---\n"
     ]
    },
    {
     "name": "stderr",
     "output_type": "stream",
     "text": [
      "Processing:  83%|████████▎ | 268/323 [1:32:37<31:00, 33.83s/rows, ETA (sec)=1140.55]"
     ]
    },
    {
     "name": "stdout",
     "output_type": "stream",
     "text": [
      "\n",
      "Original Sentence: `` The people who are chanting around the mines are from neighbouring communities and we can not identify who they are , '' said Amplats spokeswoman Mpumi Sithole .\n",
      "Tagged Sentence: NoTag\n",
      "Label: 0\n",
      "---\n"
     ]
    },
    {
     "name": "stderr",
     "output_type": "stream",
     "text": [
      "Processing:  83%|████████▎ | 269/323 [1:33:10<30:19, 33.70s/rows, ETA (sec)=1122.35]"
     ]
    },
    {
     "name": "stdout",
     "output_type": "stream",
     "text": [
      "\n",
      "Original Sentence: A large group of protesters , carrying traditional weapons , gathered at a Thembelani mine shaft on Wednesday morning .\n",
      "Tagged Sentence: NoTag\n",
      "Label: 0\n",
      "---\n"
     ]
    },
    {
     "name": "stderr",
     "output_type": "stream",
     "text": [
      "Processing:  84%|████████▎ | 270/323 [1:33:43<29:23, 33.26s/rows, ETA (sec)=1103.82]"
     ]
    },
    {
     "name": "stdout",
     "output_type": "stream",
     "text": [
      "\n",
      "Original Sentence: Most of the protesters sat in a field in the sun .\n",
      "Tagged Sentence: NoTag\n",
      "Label: 0\n",
      "---\n"
     ]
    },
    {
     "name": "stderr",
     "output_type": "stream",
     "text": [
      "Processing:  84%|████████▍ | 271/323 [1:34:18<29:17, 33.80s/rows, ETA (sec)=1085.72]"
     ]
    },
    {
     "name": "stdout",
     "output_type": "stream",
     "text": [
      "\n",
      "Original Sentence: Small groups , clutching sticks and clubs , marched , sang , and danced .\n",
      "Tagged Sentence: NoTag\n",
      "Label: 0\n",
      "---\n"
     ]
    },
    {
     "name": "stderr",
     "output_type": "stream",
     "text": [
      "Processing:  84%|████████▍ | 272/323 [1:34:50<28:15, 33.24s/rows, ETA (sec)=1066.91]"
     ]
    },
    {
     "name": "stdout",
     "output_type": "stream",
     "text": [
      "\n",
      "Original Sentence: They joined the protesters , but declined to speak to the media about their role in the strike .\n",
      "Tagged Sentence: NoTag\n",
      "Label: 0\n",
      "---\n"
     ]
    },
    {
     "name": "stderr",
     "output_type": "stream",
     "text": [
      "Processing:  85%|████████▍ | 273/323 [1:35:28<28:58, 34.76s/rows, ETA (sec)=1049.18]"
     ]
    },
    {
     "name": "stdout",
     "output_type": "stream",
     "text": [
      "\n",
      "Original Sentence: Kendrapara Aftermath : Cops Asked to Follow SOP 13th August 2015 07:19 AM BHUBANESWAR : The State Police has issued a circular to all the police ranges and districts asking them to stick to standard operating procedures ( SOPs ) during law and order situation even as the Opposition parties try to score brownie points from the Kendrapara incident .\n",
      "Tagged Sentence: NoTag\n",
      "Label: 0\n",
      "---\n"
     ]
    },
    {
     "name": "stderr",
     "output_type": "stream",
     "text": [
      "Processing:  85%|████████▍ | 274/323 [1:36:06<29:17, 35.87s/rows, ETA (sec)=1031.32]"
     ]
    },
    {
     "name": "stdout",
     "output_type": "stream",
     "text": [
      "\n",
      "Original Sentence: In the wake of the law and order situation in Kendrapara last week , during protests against the self-styled godman Sarathi Baba , public anger was directed at the district police .\n",
      "Tagged Sentence: In the wake of the <trigger>law and order situation in Kendrapara last week</trigger>, during <cause>protests against the self-styled godman Sarathi Baba</cause>, public anger was directed at the district police.\n",
      "Label: 1\n",
      "---\n"
     ]
    },
    {
     "name": "stderr",
     "output_type": "stream",
     "text": [
      "Processing:  85%|████████▌ | 275/323 [1:36:38<27:34, 34.47s/rows, ETA (sec)=1012.04]"
     ]
    },
    {
     "name": "stdout",
     "output_type": "stream",
     "text": [
      "\n",
      "Original Sentence: The stone pelting incident that ensued led to injury of at least nine policemen though no injury to any agitator was recorded .\n",
      "Tagged Sentence: The <cause>stone pelting incident that ensued</cause> <trigger>led to</trigger> <effect>injury of at least nine policemen</effect> though no injury to any agitator was recorded.\n",
      "Label: 1\n",
      "---\n"
     ]
    },
    {
     "name": "stderr",
     "output_type": "stream",
     "text": [
      "Processing:  85%|████████▌ | 276/323 [1:37:18<28:17, 36.12s/rows, ETA (sec)=994.18] "
     ]
    },
    {
     "name": "stdout",
     "output_type": "stream",
     "text": [
      "\n",
      "Original Sentence: Protester who threw water bottle at Hong Kong cop gets 80 hours of community service PUBLISHED : Wednesday , 05 August , 2015 , 12:24pm A vocational student was ordered today to perform 80 hours of community service for throwing a plastic water bottle at a police officer , injuring the officer ’ s right thigh during protests in March against parallel trading .\n",
      "Tagged Sentence: Protester who threw water bottle at Hong Kong cop gets 80 hours of community service PUBLISHED : Wednesday , 05 August , 2015 , 12:24pm A vocational student was ordered today to perform 80 hours of community service <trigger>for</trigger> <cause>throwing a plastic water bottle at a police officer</cause>, <effect>injuring the officer’s right thigh</effect> during protests in March against parallel trading.\n",
      "Label: 1\n",
      "---\n"
     ]
    },
    {
     "name": "stderr",
     "output_type": "stream",
     "text": [
      "Processing:  86%|████████▌ | 277/323 [1:37:58<28:39, 37.38s/rows, ETA (sec)=976.21]"
     ]
    },
    {
     "name": "stdout",
     "output_type": "stream",
     "text": [
      "\n",
      "Original Sentence: Tuen Mun Court Deputy Magistrate So Kai-cheung said he determined the sentence based on the recommendations of a community service order report , which says 20 - year-old Chiu Kwok-hong showed remorse for the incident .\n",
      "Tagged Sentence: Tuen Mun Court Deputy Magistrate So Kai-cheung said he <trigger>based on</trigger> the recommendations of a community service order report <cause>determined the sentence</cause>, which says 20-year-old Chiu Kwok-hong <effect>showed remorse for the incident</effect>.\n",
      "Label: 1\n",
      "---\n"
     ]
    },
    {
     "name": "stderr",
     "output_type": "stream",
     "text": [
      "Processing:  86%|████████▌ | 278/323 [1:38:32<27:23, 36.52s/rows, ETA (sec)=957.14]"
     ]
    },
    {
     "name": "stdout",
     "output_type": "stream",
     "text": [
      "\n",
      "Original Sentence: The court heard previously that at about 8.20 pm on March 1 , chief inspector Lee Shek-lun was deployed to perform crowd-control duties in Yuen Long , where protesters were rallying against cross-border traders .\n",
      "Tagged Sentence: The court heard previously that at about 8.20 pm on March 1 , chief inspector Lee Shek-lun was deployed to perform crowd-control duties in Yuen Long , where <trigger>protesters were rallying</trigger> against cross-border traders <cause>to perform crowd-control duties</cause> <effect>chief inspector Lee Shek-lun was deployed</effect>.\n",
      "Label: 1\n",
      "---\n"
     ]
    },
    {
     "name": "stderr",
     "output_type": "stream",
     "text": [
      "Processing:  86%|████████▋ | 279/323 [1:39:10<26:57, 36.76s/rows, ETA (sec)=938.40]"
     ]
    },
    {
     "name": "stdout",
     "output_type": "stream",
     "text": [
      "\n",
      "Original Sentence: Emerging from a crowd , Chiu suddenly threw a blue , plastic water bottle which hit Lee ’ s right thigh .\n",
      "Tagged Sentence: NoTag\n",
      "Label: 0\n",
      "---\n"
     ]
    },
    {
     "name": "stderr",
     "output_type": "stream",
     "text": [
      "Processing:  87%|████████▋ | 280/323 [1:39:43<25:30, 35.59s/rows, ETA (sec)=918.84]"
     ]
    },
    {
     "name": "stdout",
     "output_type": "stream",
     "text": [
      "\n",
      "Original Sentence: Under caution , Chiu told police officers : “ I did throw the blue water bottle at him .\n",
      "Tagged Sentence: NoTag\n",
      "Label: 0\n",
      "---\n"
     ]
    },
    {
     "name": "stderr",
     "output_type": "stream",
     "text": [
      "Processing:  87%|████████▋ | 281/323 [1:40:27<26:47, 38.28s/rows, ETA (sec)=900.94]"
     ]
    },
    {
     "name": "stdout",
     "output_type": "stream",
     "text": [
      "\n",
      "Original Sentence: In mitigation submissions , Chiu ’ s lawyers said he participated in the protest because the parallel traders had harmed Hong Kong ’ s economy , and he hurled the bottle at Lee because he saw Lee pulling the strap of a bag of a female protester .\n",
      "Tagged Sentence: In mitigation submissions , Chiu’s lawyers said <effect>he participated in the protest</effect> <trigger>because</trigger> <cause>the parallel traders had harmed Hong Kong’s economy</cause> , and <effect>he hurled the bottle at Lee</effect> <trigger>because</trigger> <cause>he saw Lee pulling the strap of a bag of a female protester</cause>.\n",
      "Label: 1\n",
      "---\n"
     ]
    },
    {
     "name": "stderr",
     "output_type": "stream",
     "text": [
      "Processing:  87%|████████▋ | 282/323 [1:41:05<26:03, 38.14s/rows, ETA (sec)=881.87]"
     ]
    },
    {
     "name": "stdout",
     "output_type": "stream",
     "text": [
      "\n",
      "Original Sentence: Zulu has been charged with assaulting police director Jonathan Ndlovu during an IFP election rally at Hlabisa soccer stadium three weeks ago .\n",
      "Tagged Sentence: NoTag\n",
      "Label: 0\n",
      "---\n"
     ]
    },
    {
     "name": "stderr",
     "output_type": "stream",
     "text": [
      "Processing:  88%|████████▊ | 283/323 [1:41:39<24:35, 36.88s/rows, ETA (sec)=862.12]"
     ]
    },
    {
     "name": "stdout",
     "output_type": "stream",
     "text": [
      "\n",
      "Original Sentence: The alleged assault occurred when police prevented party followers carrying traditional weapons from entering the stadium .\n",
      "Tagged Sentence: The alleged <trigger>when</trigger> <cause>police prevented party followers carrying traditional weapons from entering the stadium</cause> occurred <effect>the alleged assault</effect>.\n",
      "Label: 1\n",
      "---\n"
     ]
    },
    {
     "name": "stderr",
     "output_type": "stream",
     "text": [
      "Processing:  88%|████████▊ | 284/323 [1:42:17<24:07, 37.12s/rows, ETA (sec)=842.78]"
     ]
    },
    {
     "name": "stdout",
     "output_type": "stream",
     "text": [
      "\n",
      "Original Sentence: When Zulu made his second brief appearance on Thursday , a group of people wearing Inkatha Freedom Party T-shirts and holding placards protested outside the Empangeni Regional Court north of Durban , while the courtroom itself was packed to capacity .\n",
      "Tagged Sentence: NoTag\n",
      "Label: 0\n",
      "---\n"
     ]
    },
    {
     "name": "stderr",
     "output_type": "stream",
     "text": [
      "Processing:  88%|████████▊ | 285/323 [1:42:56<23:58, 37.85s/rows, ETA (sec)=823.56]"
     ]
    },
    {
     "name": "stdout",
     "output_type": "stream",
     "text": [
      "\n",
      "Original Sentence: LN Hospital docs hold public meet about decorum - Indian Express Express News Service , Express News Service : New Delhi , Sun Apr 29 2012 , 03:52 hrs A week after doctors at Lok Nayak Hospital went on strike following two incidents of patients ' relatives roughing up the hospital staff , authorities and the police have taken security concerns to the masses .\n",
      "Tagged Sentence: A week after <effect>doctors at Lok Nayak Hospital went on strike</effect> <trigger>following</trigger> <cause>two incidents of patients' relatives roughing up the hospital staff</cause>, authorities and the police have taken security concerns to the masses.\n",
      "Label: 1\n",
      "---\n"
     ]
    },
    {
     "name": "stderr",
     "output_type": "stream",
     "text": [
      "Processing:  89%|████████▊ | 286/323 [1:43:32<22:55, 37.18s/rows, ETA (sec)=803.69]"
     ]
    },
    {
     "name": "stdout",
     "output_type": "stream",
     "text": [
      "\n",
      "Original Sentence: A public meeting between the doctors and residents of Daryanganj and Kamala Market was organised at Turkman Gate by police officials and senior leaders of the Muslim community on Saturday .\n",
      "Tagged Sentence: NoTag\n",
      "Label: 0\n",
      "---\n"
     ]
    },
    {
     "name": "stderr",
     "output_type": "stream",
     "text": [
      "Processing:  89%|████████▉ | 287/323 [1:44:08<22:10, 36.95s/rows, ETA (sec)=783.81]"
     ]
    },
    {
     "name": "stdout",
     "output_type": "stream",
     "text": [
      "\n",
      "Original Sentence: Speaking at the meeting , ACP ( Daryaganj ) Om Prakash said , \" This is the first such meeting where doctors and your leaders have come together to appeal to you , to help doctors help you .\n",
      "Tagged Sentence: NoTag\n",
      "Label: 0\n",
      "---\n"
     ]
    },
    {
     "name": "stderr",
     "output_type": "stream",
     "text": [
      "Processing:  89%|████████▉ | 288/323 [1:44:44<21:16, 36.46s/rows, ETA (sec)=763.69]"
     ]
    },
    {
     "name": "stdout",
     "output_type": "stream",
     "text": [
      "\n",
      "Original Sentence: The leaders of the union also said the local taxi drivers had launched an attack against the online taxi drivers at the airport .\n",
      "Tagged Sentence: NoTag\n",
      "Label: 0\n",
      "---\n"
     ]
    },
    {
     "name": "stderr",
     "output_type": "stream",
     "text": [
      "Processing:  89%|████████▉ | 289/323 [1:45:18<20:24, 36.00s/rows, ETA (sec)=743.41]"
     ]
    },
    {
     "name": "stdout",
     "output_type": "stream",
     "text": [
      "\n",
      "Original Sentence: Earlier , some trade unions representing local taxi operators had come out in protest against the online taxi networks such as Uber and Ola .\n",
      "Tagged Sentence: Earlier , some <effect>trade unions representing local taxi operators had come out in protest</effect> <trigger>against</trigger> <cause>the online taxi networks such as Uber and Ola</cause> .\n",
      "Label: 1\n",
      "---\n"
     ]
    },
    {
     "name": "stderr",
     "output_type": "stream",
     "text": [
      "Processing:  90%|████████▉ | 290/323 [1:45:55<19:56, 36.27s/rows, ETA (sec)=723.26]"
     ]
    },
    {
     "name": "stdout",
     "output_type": "stream",
     "text": [
      "\n",
      "Original Sentence: KERALA Bus strike total in district October 31 , 2008 00:00 IST People ’ s woes : Passengers struggling to get into a bus at the KSRTC bus station in the city on Thursday following a strike called by private bus operators in the State .\n",
      "Tagged Sentence: KERALA Bus <cause>strike called by private bus operators in the State</cause> total in district October 31 , 2008 00:00 IST People’s woes : <effect>Passengers struggling to get into a bus at the KSRTC bus station in the city on Thursday</effect> <trigger>following</trigger> a strike.\n",
      "Label: 1\n",
      "---\n"
     ]
    },
    {
     "name": "stderr",
     "output_type": "stream",
     "text": [
      "Processing:  90%|█████████ | 291/323 [1:46:32<19:27, 36.49s/rows, ETA (sec)=703.00]"
     ]
    },
    {
     "name": "stdout",
     "output_type": "stream",
     "text": [
      "\n",
      "Original Sentence: – | Photo Credit : Photo : S.R.K. Staff Reporter KOZHIKODE : People were put to hardship as private buses went off the roads in deference to the State-wide token strike called against the decision of State government not to renew licence issued to buses .\n",
      "Tagged Sentence: People were put to <effect>hardship</effect> as private buses went off the roads in deference to the State-wide token strike called against the decision of State government not to renew licence issued to buses.\n",
      "Label: 1\n",
      "---\n"
     ]
    },
    {
     "name": "stderr",
     "output_type": "stream",
     "text": [
      "Processing:  90%|█████████ | 292/323 [1:47:05<18:13, 35.29s/rows, ETA (sec)=682.15]"
     ]
    },
    {
     "name": "stdout",
     "output_type": "stream",
     "text": [
      "\n",
      "Original Sentence: The strike was total in the district .\n",
      "Tagged Sentence: NoTag\n",
      "Label: 0\n",
      "---\n"
     ]
    },
    {
     "name": "stderr",
     "output_type": "stream",
     "text": [
      "Processing:  91%|█████████ | 293/323 [1:47:44<18:16, 36.56s/rows, ETA (sec)=661.94]"
     ]
    },
    {
     "name": "stdout",
     "output_type": "stream",
     "text": [
      "\n",
      "Original Sentence: PRP aspirant goes on fast 27th March 2009 03:44 AM HYDERABAD : In a surprise development , a staunch supporter of the Praja Rajyam Party , Venkat Prasad , launched an indefinite hunger strike in front of the party office here today .\n",
      "Tagged Sentence: NoTag\n",
      "Label: 0\n",
      "---\n"
     ]
    },
    {
     "name": "stderr",
     "output_type": "stream",
     "text": [
      "Processing:  91%|█████████ | 294/323 [1:48:23<17:56, 37.11s/rows, ETA (sec)=641.48]"
     ]
    },
    {
     "name": "stdout",
     "output_type": "stream",
     "text": [
      "\n",
      "Original Sentence: He has played a key role in organising the Praja Ankita Yatras of Chiranjeevi .\n",
      "Tagged Sentence: NoTag\n",
      "Label: 0\n",
      "---\n"
     ]
    },
    {
     "name": "stderr",
     "output_type": "stream",
     "text": [
      "Processing:  91%|█████████▏| 295/323 [1:49:01<17:24, 37.32s/rows, ETA (sec)=620.85]"
     ]
    },
    {
     "name": "stdout",
     "output_type": "stream",
     "text": [
      "\n",
      "Original Sentence: Irked over this move , Venkat Prasad launched a hunger strike along with the other aspirants .\n",
      "Tagged Sentence: Irked over <trigger>this move</trigger> , <cause>Venkata Prasad launched a hunger strike along with the other aspirants</cause> .\n",
      "Label: 1\n",
      "---\n"
     ]
    },
    {
     "name": "stderr",
     "output_type": "stream",
     "text": [
      "Processing:  92%|█████████▏| 296/323 [1:49:35<16:21, 36.36s/rows, ETA (sec)=599.77]"
     ]
    },
    {
     "name": "stdout",
     "output_type": "stream",
     "text": [
      "\n",
      "Original Sentence: However , he called off the fast after getting a call from the Chiranjeevi ’ s camp in East Godavari district .\n",
      "Tagged Sentence: However , he <effect>called off the fast</effect> <trigger>after</trigger> <cause>getting a call from the Chiranjeevi ’ s camp in East Godavari district</cause> .\n",
      "Label: 1\n",
      "---\n"
     ]
    },
    {
     "name": "stderr",
     "output_type": "stream",
     "text": [
      "Processing:  92%|█████████▏| 297/323 [1:50:11<15:45, 36.35s/rows, ETA (sec)=578.79]"
     ]
    },
    {
     "name": "stdout",
     "output_type": "stream",
     "text": [
      "\n",
      "Original Sentence: STR in danger : Forest staff on indefinite hunger strike 23rd February 2013 11:44 AM Worried over the protection of Similipal biosphere and Kuldiha wildlife sanctuary , over 500 forest staffers , including foresters and forest guards , are on an indefinite strike from Friday over their demands .\n",
      "Tagged Sentence: Worried over the protection of Similipal biosphere and Kuldiha wildlife sanctuary, over 500 forest staffers, including foresters and forest guards, are on an <trigger>indefinite strike from Friday</trigger> over their demands.\n",
      "Label: 1\n",
      "---\n"
     ]
    },
    {
     "name": "stderr",
     "output_type": "stream",
     "text": [
      "Processing:  92%|█████████▏| 298/323 [1:50:42<14:30, 34.81s/rows, ETA (sec)=557.28]"
     ]
    },
    {
     "name": "stdout",
     "output_type": "stream",
     "text": [
      "\n",
      "Original Sentence: Their strike came a day after over 150 hunters made an unsuccessful attempt to enter the core area of Similipal Tiger Reserve ( STR ) for hunting wild animals .\n",
      "Tagged Sentence: Their <effect>strike</effect> came <trigger>a day after</trigger> over 150 hunters made an unsuccessful attempt to enter the core area of Similipal Tiger Reserve ( STR ) for hunting wild animals.\n",
      "Label: 1\n",
      "---\n"
     ]
    },
    {
     "name": "stderr",
     "output_type": "stream",
     "text": [
      "Processing:  93%|█████████▎| 299/323 [1:51:19<14:09, 35.41s/rows, ETA (sec)=536.15]"
     ]
    },
    {
     "name": "stdout",
     "output_type": "stream",
     "text": [
      "\n",
      "Original Sentence: Meanwhile , the forest staffers under the banner of Odisha Non-Gazetted Forest Service Association ( ONGFSA ) are sitting on an indefinite strike demanding enhancement of pay scale of forest guards as per the Sixth Pay Commission , regularisation of contractual foresters and forest guards and post upgradation of forest guards , foresters and deputy rangers .\n",
      "Tagged Sentence: Meanwhile , the forest staffers under the banner of Odisha Non-Gazetted Forest Service Association ( ONGFSA ) are sitting on an <effect>indefinite strike</effect> <trigger>demanding</trigger> <cause>enhancement of pay scale of forest guards as per the Sixth Pay Commission , regularisation of contractual foresters and forest guards and post upgradation of forest guards , foresters and deputy rangers</cause> .\n",
      "Label: 1\n",
      "---\n"
     ]
    },
    {
     "name": "stderr",
     "output_type": "stream",
     "text": [
      "Processing:  93%|█████████▎| 300/323 [1:51:58<13:58, 36.45s/rows, ETA (sec)=515.08]"
     ]
    },
    {
     "name": "stdout",
     "output_type": "stream",
     "text": [
      "\n",
      "Original Sentence: “ The strike will continue till our demands are conceded , ” said Mayurbhanj circle president Khageswar Sethy .\n",
      "Tagged Sentence: “<effect>The strike will continue</effect> <trigger>till</trigger> <cause>our demands are conceded</cause>,” said Mayurbhanj circle president Khageswar Sethy.\n",
      "Label: 1\n",
      "---\n"
     ]
    },
    {
     "name": "stderr",
     "output_type": "stream",
     "text": [
      "Processing:  93%|█████████▎| 301/323 [1:52:35<13:26, 36.68s/rows, ETA (sec)=493.77]"
     ]
    },
    {
     "name": "stdout",
     "output_type": "stream",
     "text": [
      "\n",
      "Original Sentence: Jaswant Singh had referred to three issues , the Gujarat communal carnage , the cash-for-votes scam and the Kandahar plane hijack and blamed Advani on all the three counts .\n",
      "Tagged Sentence: Jaswant Singh had referred to <cause>three issues, the Gujarat communal carnage, the cash-for-votes scam and the Kandahar plane hijack</cause> and <trigger>blamed</trigger> <effect>Advani on all the three counts</effect>.\n",
      "Label: 1\n",
      "---\n"
     ]
    },
    {
     "name": "stderr",
     "output_type": "stream",
     "text": [
      "Processing:  93%|█████████▎| 302/323 [1:53:22<13:55, 39.79s/rows, ETA (sec)=473.04]"
     ]
    },
    {
     "name": "stdout",
     "output_type": "stream",
     "text": [
      "\n",
      "Original Sentence: Singh had recently blamed Advani for coming to Gujarat Chief Minister Narendra Modi ’ s rescue and ensured that he was not sacked , in the wake of the riots .\n",
      "Tagged Sentence: Singh had recently <effect>blamed Advani</effect> <trigger>in the wake of the riots</trigger> <cause>for coming to Gujarat Chief Minister Narendra Modi’s rescue and ensured that he was not sacked</cause>.\n",
      "Label: 1\n",
      "---\n"
     ]
    },
    {
     "name": "stderr",
     "output_type": "stream",
     "text": [
      "Processing:  94%|█████████▍| 303/323 [1:53:51<12:07, 36.36s/rows, ETA (sec)=450.90]"
     ]
    },
    {
     "name": "stdout",
     "output_type": "stream",
     "text": [
      "\n",
      "Original Sentence: On Kandahar plane hijack issue , Singh said Advani was not speaking the truth .\n",
      "Tagged Sentence: NoTag\n",
      "Label: 0\n",
      "---\n"
     ]
    },
    {
     "name": "stderr",
     "output_type": "stream",
     "text": [
      "Processing:  94%|█████████▍| 304/323 [1:54:28<11:39, 36.79s/rows, ETA (sec)=429.30]"
     ]
    },
    {
     "name": "stdout",
     "output_type": "stream",
     "text": [
      "\n",
      "Original Sentence: Elaborating on the three issues , Singhvi said , “ The BJP gave sermons on Raj Dharma and turned a Nelson ’ s eye to the communal carnage , which became a big blot on the fair name of the country . ”\n",
      "Tagged Sentence: Elaborating on the three issues , Singhvi said , \"The BJP gave sermons on Raj Dharma and <trigger>turned a Nelson’s eye to the communal carnage</trigger>, <cause>which became</cause> a <effect>big blot on the fair name of the country</effect>.\"\n",
      "Label: 1\n",
      "---\n"
     ]
    },
    {
     "name": "stderr",
     "output_type": "stream",
     "text": [
      "Processing:  94%|█████████▍| 305/323 [1:55:09<11:22, 37.90s/rows, ETA (sec)=407.77]"
     ]
    },
    {
     "name": "stdout",
     "output_type": "stream",
     "text": [
      "\n",
      "Original Sentence: THALASSERY : End political killings : Rajnath September 27 , 2014 00:00 IST Says decision on CBI probe into Manoj murder soon Union Home Minister Rajnath Singh has said that a decision on the probe by the Central Bureau of Investigation ( CBI ) into the murder of Rashtriya Swayamsevak Sangh ( RSS ) functionary E. Manoj will be taken soon .\n",
      "Tagged Sentence: NoTag\n",
      "Label: 0\n",
      "---\n"
     ]
    },
    {
     "name": "stderr",
     "output_type": "stream",
     "text": [
      "Processing:  95%|█████████▍| 306/323 [1:55:50<10:59, 38.81s/rows, ETA (sec)=386.13]"
     ]
    },
    {
     "name": "stdout",
     "output_type": "stream",
     "text": [
      "\n",
      "Original Sentence: Addressing members of the families of Bharatiya Janata Party ( BJP ) and RSS workers who had lost their lives in attacks by alleged Communist Party of India ( Marxist ) workers in the region on Friday , Mr. Singh said a decision on the CBI investigation , recommended by the State government into the murder of Manoj , would be taken soon .\n",
      "Tagged Sentence: NoTag\n",
      "Label: 0\n",
      "---\n"
     ]
    },
    {
     "name": "stderr",
     "output_type": "stream",
     "text": [
      "Processing:  95%|█████████▌| 307/323 [1:56:25<10:03, 37.73s/rows, ETA (sec)=364.07]"
     ]
    },
    {
     "name": "stdout",
     "output_type": "stream",
     "text": [
      "\n",
      "Original Sentence: The Minister said he had spoken to Chief Minister Oommen Chandy after the murder and demanded that action be taken to end violence in the region .\n",
      "Tagged Sentence: NoTag\n",
      "Label: 0\n",
      "---\n"
     ]
    },
    {
     "name": "stderr",
     "output_type": "stream",
     "text": [
      "Processing:  95%|█████████▌| 308/323 [1:57:04<09:33, 38.24s/rows, ETA (sec)=342.12]"
     ]
    },
    {
     "name": "stdout",
     "output_type": "stream",
     "text": [
      "\n",
      "Original Sentence: After the visit , he addressed the gathering of the families of slain BJP-RSS workers at the RSS office nearby .\n",
      "Tagged Sentence: After the <trigger>visit</trigger>, he <cause>addressed the gathering of the families of slain BJP-RSS workers</cause> at the RSS office nearby.\n",
      "Label: 1\n",
      "---\n"
     ]
    },
    {
     "name": "stderr",
     "output_type": "stream",
     "text": [
      "Processing:  96%|█████████▌| 309/323 [1:57:37<08:32, 36.60s/rows, ETA (sec)=319.77]"
     ]
    },
    {
     "name": "stdout",
     "output_type": "stream",
     "text": [
      "\n",
      "Original Sentence: Large number of BJP-RSS workers turned up at the venue to attend the function held in the afternoon .\n",
      "Tagged Sentence: Large number of BJP-RSS workers turned up at the venue <trigger>to</trigger> <cause>attend the function held in the afternoon</cause>.\n",
      "Label: 1\n",
      "---\n"
     ]
    },
    {
     "name": "stderr",
     "output_type": "stream",
     "text": [
      "Processing:  96%|█████████▌| 310/323 [1:58:14<07:57, 36.73s/rows, ETA (sec)=297.52]"
     ]
    },
    {
     "name": "stdout",
     "output_type": "stream",
     "text": [
      "\n",
      "Original Sentence: The function was held amid tight police security in view of the tense situation in the area in the aftermath of the murder of Manoj .\n",
      "Tagged Sentence: The function was held amid <effect>tight police security</effect> <trigger>in view of</trigger> the <cause>tense situation in the area in the aftermath of the murder of Manoj</cause>.\n",
      "Label: 1\n",
      "---\n"
     ]
    },
    {
     "name": "stderr",
     "output_type": "stream",
     "text": [
      "Processing:  96%|█████████▋| 311/323 [1:58:49<07:13, 36.16s/rows, ETA (sec)=275.10]"
     ]
    },
    {
     "name": "stdout",
     "output_type": "stream",
     "text": [
      "\n",
      "Original Sentence: He is facing charges of violating a court order , public violence , assault , theft , and damage to property during the 2016 protest against `` colonised '' tertiary education .\n",
      "Tagged Sentence: <effect>He is facing charges of violating a court order, public violence, assault, theft, and damage to property</effect> <trigger>during</trigger> <cause>the 2016 protest against `` colonised '' tertiary education</cause>.\n",
      "Label: 1\n",
      "---\n"
     ]
    },
    {
     "name": "stderr",
     "output_type": "stream",
     "text": [
      "Processing:  97%|█████████▋| 312/323 [1:59:22<06:28, 35.34s/rows, ETA (sec)=252.54]"
     ]
    },
    {
     "name": "stdout",
     "output_type": "stream",
     "text": [
      "\n",
      "Original Sentence: The drivers allegedly shot Mandisi Ngomani several times in the back while he was running away from them several days before a taxi strike in September last year .\n",
      "Tagged Sentence: The drivers <trigger>allegedly shot Mandisi Ngomani several times in the back while he was running away from them</trigger> <cause>several days before a taxi strike in September last year</cause>.\n",
      "Label: 1\n",
      "---\n"
     ]
    },
    {
     "name": "stderr",
     "output_type": "stream",
     "text": [
      "Processing:  97%|█████████▋| 313/323 [2:00:01<06:04, 36.43s/rows, ETA (sec)=230.09]"
     ]
    },
    {
     "name": "stdout",
     "output_type": "stream",
     "text": [
      "\n",
      "Original Sentence: Assembly polls : BJP , Congress workers clash in Madhya Pradesh - Indian Express PTI , PTI : Mhow , Thu Nov 21 2013 , 14:33 hrs A case under various sections of the IPC was registered against Congress workers ( PTI : Picture for representation )\n",
      "Tagged Sentence: NoTag\n",
      "Label: 0\n",
      "---\n"
     ]
    },
    {
     "name": "stderr",
     "output_type": "stream",
     "text": [
      "Processing:  97%|█████████▋| 314/323 [2:00:42<05:38, 37.58s/rows, ETA (sec)=207.58]"
     ]
    },
    {
     "name": "stdout",
     "output_type": "stream",
     "text": [
      "\n",
      "Original Sentence: Seven BJP workers were injured in a clash with their Congress counterparts at Pigdambar village in Mhow tahsil of poll-bound Madhya Pradesh , police said on Thursday .\n",
      "Tagged Sentence: Seven BJP workers were <effect>injured</effect> <trigger>in a clash</trigger> <cause>with their Congress counterparts at Pigdambar village in Mhow tahsil of poll-bound Madhya Pradesh</cause>, police said on Thursday.\n",
      "Label: 1\n",
      "---\n"
     ]
    },
    {
     "name": "stderr",
     "output_type": "stream",
     "text": [
      "Processing:  98%|█████████▊| 315/323 [2:01:17<04:55, 36.95s/rows, ETA (sec)=184.83]"
     ]
    },
    {
     "name": "stdout",
     "output_type": "stream",
     "text": [
      "\n",
      "Original Sentence: The incident occurred when the BJP workers travelling in an SUV were allegedly intercepted at the village last night by the Congress workers , they said .\n",
      "Tagged Sentence: <effect>The incident occurred</effect> <trigger>when</trigger> <cause>the BJP workers travelling in an SUV were allegedly intercepted at the village last night by the Congress workers</cause>, they said.\n",
      "Label: 1\n",
      "---\n"
     ]
    },
    {
     "name": "stderr",
     "output_type": "stream",
     "text": [
      "Processing:  98%|█████████▊| 316/323 [2:01:50<04:10, 35.83s/rows, ETA (sec)=161.95]"
     ]
    },
    {
     "name": "stdout",
     "output_type": "stream",
     "text": [
      "\n",
      "Original Sentence: An altercation broke out between the two groups , which turned into fisticuffs , police said .\n",
      "Tagged Sentence: An <cause>altercation broke out between the two groups</cause> , <trigger>which turned into</trigger> <effect>fisticuffs</effect> , police said .\n",
      "Label: 1\n",
      "---\n"
     ]
    },
    {
     "name": "stderr",
     "output_type": "stream",
     "text": [
      "Processing:  98%|█████████▊| 317/323 [2:02:22<03:27, 34.62s/rows, ETA (sec)=138.98]"
     ]
    },
    {
     "name": "stdout",
     "output_type": "stream",
     "text": [
      "\n",
      "Original Sentence: Rallies by ruling BJP and Congress are going on in full swing ahead of the November 25 Assembly elections .\n",
      "Tagged Sentence: NoTag\n",
      "Label: 0\n",
      "---\n"
     ]
    },
    {
     "name": "stderr",
     "output_type": "stream",
     "text": [
      "Processing:  98%|█████████▊| 318/323 [2:02:56<02:52, 34.49s/rows, ETA (sec)=115.99]"
     ]
    },
    {
     "name": "stdout",
     "output_type": "stream",
     "text": [
      "\n",
      "Original Sentence: Newly appointed municipal manager of Richmond , KZN , shot dead Giordano Stolley DURBAN , March 6 ( ANA ) - Just days before he was due to take up his post , Richmond 's newly appointed municipal manager , Edward Sithole , was gunned down in the town on Monday morning .\n",
      "Tagged Sentence: NoTag\n",
      "Label: 0\n",
      "---\n"
     ]
    },
    {
     "name": "stderr",
     "output_type": "stream",
     "text": [
      "Processing:  99%|█████████▉| 319/323 [2:03:57<02:48, 42.23s/rows, ETA (sec)=93.26] "
     ]
    },
    {
     "name": "stdout",
     "output_type": "stream",
     "text": [
      "\n",
      "Original Sentence: Police spokesman , Lieutenant Colonel Thulani Zwane , said : `` Today , at about 08:45 , a man believed to be in his forties was attacked by two unknown suspects who shot him at Victoria Road , Richmond . ''\n",
      "Tagged Sentence: NoTag\n",
      "Label: 0\n",
      "---\n"
     ]
    },
    {
     "name": "stderr",
     "output_type": "stream",
     "text": [
      "Processing:  99%|█████████▉| 320/323 [2:04:42<02:09, 43.28s/rows, ETA (sec)=70.15]"
     ]
    },
    {
     "name": "stdout",
     "output_type": "stream",
     "text": [
      "\n",
      "Original Sentence: National Freedom Party spokesman , Sabelo Sigudu , said : `` The National Freedom Party ( NFP ) wishes to express words of condolence on the sad shooting and killing of Mr Sithole , the Municipality Manager of Richmond Local Municipality , which took place this morning . ''\n",
      "Tagged Sentence: NoTag\n",
      "Label: 0\n",
      "---\n"
     ]
    },
    {
     "name": "stderr",
     "output_type": "stream",
     "text": [
      "Processing:  99%|█████████▉| 321/323 [2:04:59<01:10, 35.13s/rows, ETA (sec)=46.72]"
     ]
    },
    {
     "name": "stdout",
     "output_type": "stream",
     "text": [
      "\n",
      "Original Sentence: He described the shooting as `` evil '' .\n",
      "Tagged Sentence: NoTag\n",
      "Label: 0\n",
      "---\n"
     ]
    },
    {
     "name": "stderr",
     "output_type": "stream",
     "text": [
      "Processing: 100%|█████████▉| 322/323 [2:05:42<00:37, 37.63s/rows, ETA (sec)=23.42]"
     ]
    },
    {
     "name": "stdout",
     "output_type": "stream",
     "text": [
      "\n",
      "Original Sentence: On Sunday , three explosions in the south of the region killed two people and injured many others .\n",
      "Tagged Sentence: NoTag\n",
      "Label: 0\n",
      "---\n"
     ]
    },
    {
     "name": "stderr",
     "output_type": "stream",
     "text": [
      "Processing: 100%|██████████| 323/323 [2:06:03<00:00, 23.42s/rows, ETA (sec)=0.00] "
     ]
    },
    {
     "name": "stdout",
     "output_type": "stream",
     "text": [
      "\n",
      "Original Sentence: Uighur groups abroad say the clashes are a desperate protest against religious oppression and economic marginalisation .\n",
      "Tagged Sentence: Uighur groups abroad say the <effect>clashes</effect> are a desperate <trigger>protest</trigger> against <cause>religious oppression and economic marginalisation</cause>.\n",
      "Label: 1\n",
      "---\n"
     ]
    },
    {
     "name": "stderr",
     "output_type": "stream",
     "text": [
      "\n"
     ]
    }
   ],
   "source": [
    "total_rows = len(df)  \n",
    "start_time = time.time()\n",
    "\n",
    "with tqdm(total=total_rows, desc=\"Processing\", unit=\"rows\") as pbar:\n",
    "    for index, row in df.iterrows():\n",
    "\n",
    "        try:\n",
    "            with open(\"test_pred_1.json\", \"r\", encoding=\"utf-8\") as f:\n",
    "                data = json.load(f)\n",
    "        except (FileNotFoundError, json.JSONDecodeError):\n",
    "            data = []\n",
    "\n",
    "        flag = 0\n",
    "\n",
    "        for i in range(len(data)):\n",
    "            if data[i][\"original\"] == row[\"text\"]:\n",
    "                print(i, \" Skipped.\")\n",
    "                flag = 1\n",
    "                break\n",
    "\n",
    "        if flag == 1:\n",
    "            pbar.update(1)\n",
    "            continue\n",
    "\n",
    "        llm_output = generate(llm, row[\"text\"], graph, embeddings)\n",
    "        match = re.search(r\"\\{.*\\}\", llm_output, re.DOTALL)\n",
    "        if match:\n",
    "            json_data = match.group(0)\n",
    "            try:\n",
    "                json_data = json.loads(json_data)\n",
    "            except json.JSONDecodeError:\n",
    "                print(f\"Error: Invalid JSON at row {index}. Skipping...\")\n",
    "                pbar.update(1)\n",
    "                continue\n",
    "        else:\n",
    "            print(f\"Error: No JSON found in row {index}. Skipping...\")\n",
    "            pbar.update(1)\n",
    "            continue\n",
    "\n",
    "        tagged = json_data.get(\"tagged\", \"\")\n",
    "        label = json_data.get(\"label\", \"\")\n",
    "        data.append({\"tagged\": tagged, \"label\": label, \"original\": row[\"text\"]})\n",
    "\n",
    "        with open(\"test_pred_1.json\", \"w\", encoding=\"utf-8\") as f:\n",
    "            json.dump(data, f, indent=4, ensure_ascii=False)\n",
    "\n",
    "        pbar.update(1)\n",
    "        elapsed_time = time.time() - start_time\n",
    "        avg_time_per_row = elapsed_time / (index + 1)\n",
    "        remaining_time = avg_time_per_row * (total_rows - (index + 1))\n",
    "        pbar.set_postfix({\"ETA (sec)\": f\"{remaining_time:.2f}\"})\n",
    "\n",
    "        print(\"\\nOriginal Sentence:\", row[\"text\"])\n",
    "        print(\"Tagged Sentence:\", tagged)\n",
    "        print(\"Label:\", label)\n",
    "        print(\"---\")"
   ]
  },
  {
   "cell_type": "code",
   "execution_count": 16,
   "metadata": {},
   "outputs": [],
   "source": [
    "with open(\"test_pred_1.json\", \"r\", encoding=\"utf-8\") as file:\n",
    "    data = json.load(file)"
   ]
  },
  {
   "cell_type": "code",
   "execution_count": 17,
   "metadata": {},
   "outputs": [],
   "source": [
    "df_predictions = pd.DataFrame(data, columns=[ \"tagged\", \"label\", \"original\"])"
   ]
  },
  {
   "cell_type": "code",
   "execution_count": 18,
   "metadata": {},
   "outputs": [],
   "source": [
    "df_predictions.rename(columns={\n",
    "    \"original\": \"original_sentence\",\n",
    "    \"tagged\": \"tagged_sentence\",\n",
    "    \"label\": \"label\"\n",
    "}, inplace=True)"
   ]
  },
  {
   "cell_type": "code",
   "execution_count": 19,
   "metadata": {},
   "outputs": [],
   "source": [
    "df_predictions[\"label\"] = pd.to_numeric(df_predictions[\"label\"], errors='coerce')"
   ]
  },
  {
   "cell_type": "code",
   "execution_count": 20,
   "metadata": {},
   "outputs": [],
   "source": [
    "df_predictions[\"label\"] = pd.to_numeric(df_predictions[\"label\"], errors='coerce').fillna(0).astype(int)"
   ]
  },
  {
   "cell_type": "code",
   "execution_count": 21,
   "metadata": {},
   "outputs": [
    {
     "data": {
      "text/html": [
       "<div>\n",
       "<style scoped>\n",
       "    .dataframe tbody tr th:only-of-type {\n",
       "        vertical-align: middle;\n",
       "    }\n",
       "\n",
       "    .dataframe tbody tr th {\n",
       "        vertical-align: top;\n",
       "    }\n",
       "\n",
       "    .dataframe thead th {\n",
       "        text-align: right;\n",
       "    }\n",
       "</style>\n",
       "<table border=\"1\" class=\"dataframe\">\n",
       "  <thead>\n",
       "    <tr style=\"text-align: right;\">\n",
       "      <th></th>\n",
       "      <th>tagged_sentence</th>\n",
       "      <th>label</th>\n",
       "      <th>original_sentence</th>\n",
       "    </tr>\n",
       "  </thead>\n",
       "  <tbody>\n",
       "    <tr>\n",
       "      <th>0</th>\n",
       "      <td>The movement was catapulted into the headlines...</td>\n",
       "      <td>1</td>\n",
       "      <td>The movement was catapulted into the headlines...</td>\n",
       "    </tr>\n",
       "    <tr>\n",
       "      <th>1</th>\n",
       "      <td>Several thousand &lt;effect&gt;protesters took to th...</td>\n",
       "      <td>1</td>\n",
       "      <td>Several thousand protesters took to the street...</td>\n",
       "    </tr>\n",
       "    <tr>\n",
       "      <th>2</th>\n",
       "      <td>“ They try every means to oppress us , ” compl...</td>\n",
       "      <td>1</td>\n",
       "      <td>“ They try every means to oppress us , ” compl...</td>\n",
       "    </tr>\n",
       "    <tr>\n",
       "      <th>3</th>\n",
       "      <td>NoTag</td>\n",
       "      <td>0</td>\n",
       "      <td>Chan Ho-tin , the 25-year-old founder of the H...</td>\n",
       "    </tr>\n",
       "    <tr>\n",
       "      <th>4</th>\n",
       "      <td>NoTag</td>\n",
       "      <td>0</td>\n",
       "      <td>“ It is somehow like a revolution – no one wil...</td>\n",
       "    </tr>\n",
       "    <tr>\n",
       "      <th>...</th>\n",
       "      <td>...</td>\n",
       "      <td>...</td>\n",
       "      <td>...</td>\n",
       "    </tr>\n",
       "    <tr>\n",
       "      <th>318</th>\n",
       "      <td>NoTag</td>\n",
       "      <td>0</td>\n",
       "      <td>Police spokesman , Lieutenant Colonel Thulani ...</td>\n",
       "    </tr>\n",
       "    <tr>\n",
       "      <th>319</th>\n",
       "      <td>NoTag</td>\n",
       "      <td>0</td>\n",
       "      <td>National Freedom Party spokesman , Sabelo Sigu...</td>\n",
       "    </tr>\n",
       "    <tr>\n",
       "      <th>320</th>\n",
       "      <td>NoTag</td>\n",
       "      <td>0</td>\n",
       "      <td>He described the shooting as `` evil '' .</td>\n",
       "    </tr>\n",
       "    <tr>\n",
       "      <th>321</th>\n",
       "      <td>NoTag</td>\n",
       "      <td>0</td>\n",
       "      <td>On Sunday , three explosions in the south of t...</td>\n",
       "    </tr>\n",
       "    <tr>\n",
       "      <th>322</th>\n",
       "      <td>Uighur groups abroad say the &lt;effect&gt;clashes&lt;/...</td>\n",
       "      <td>1</td>\n",
       "      <td>Uighur groups abroad say the clashes are a des...</td>\n",
       "    </tr>\n",
       "  </tbody>\n",
       "</table>\n",
       "<p>323 rows × 3 columns</p>\n",
       "</div>"
      ],
      "text/plain": [
       "                                       tagged_sentence  label  \\\n",
       "0    The movement was catapulted into the headlines...      1   \n",
       "1    Several thousand <effect>protesters took to th...      1   \n",
       "2    “ They try every means to oppress us , ” compl...      1   \n",
       "3                                                NoTag      0   \n",
       "4                                                NoTag      0   \n",
       "..                                                 ...    ...   \n",
       "318                                              NoTag      0   \n",
       "319                                              NoTag      0   \n",
       "320                                              NoTag      0   \n",
       "321                                              NoTag      0   \n",
       "322  Uighur groups abroad say the <effect>clashes</...      1   \n",
       "\n",
       "                                     original_sentence  \n",
       "0    The movement was catapulted into the headlines...  \n",
       "1    Several thousand protesters took to the street...  \n",
       "2    “ They try every means to oppress us , ” compl...  \n",
       "3    Chan Ho-tin , the 25-year-old founder of the H...  \n",
       "4    “ It is somehow like a revolution – no one wil...  \n",
       "..                                                 ...  \n",
       "318  Police spokesman , Lieutenant Colonel Thulani ...  \n",
       "319  National Freedom Party spokesman , Sabelo Sigu...  \n",
       "320          He described the shooting as `` evil '' .  \n",
       "321  On Sunday , three explosions in the south of t...  \n",
       "322  Uighur groups abroad say the clashes are a des...  \n",
       "\n",
       "[323 rows x 3 columns]"
      ]
     },
     "execution_count": 21,
     "metadata": {},
     "output_type": "execute_result"
    }
   ],
   "source": [
    "df_predictions"
   ]
  },
  {
   "cell_type": "code",
   "execution_count": 22,
   "metadata": {},
   "outputs": [],
   "source": [
    "common_df = df.merge(df_predictions, left_on=\"text\", right_on=\"original_sentence\", suffixes=('_df', '_pred'))"
   ]
  },
  {
   "cell_type": "code",
   "execution_count": 24,
   "metadata": {},
   "outputs": [
    {
     "name": "stdout",
     "output_type": "stream",
     "text": [
      "F1 Score: 0.8045977011494253\n",
      "Accuracy: 0.7894736842105263\n",
      "Precision: 0.8235294117647058\n",
      "Recall: 0.7865168539325843\n",
      "Matthews Correlation Coefficient: 0.5773875500645679\n"
     ]
    }
   ],
   "source": [
    "f1 = f1_score(common_df['label_df'], common_df['label_pred'])\n",
    "print(\"F1 Score:\", f1)\n",
    "\n",
    "accuracy = accuracy_score(common_df['label_df'], common_df['label_pred'])\n",
    "print(\"Accuracy:\", accuracy)\n",
    "\n",
    "precision = precision_score(common_df['label_df'], common_df['label_pred'])\n",
    "print(\"Precision:\", precision)\n",
    "\n",
    "recall = recall_score(common_df['label_df'], common_df['label_pred'])\n",
    "print(\"Recall:\", recall)\n",
    "\n",
    "MCC = matthews_corrcoef(common_df['label_df'], common_df['label_pred'])\n",
    "print(\"Matthews Correlation Coefficient:\", MCC)"
   ]
  },
  {
   "cell_type": "markdown",
   "metadata": {},
   "source": [
    "# F1 Score After 15 examples retrieved"
   ]
  },
  {
   "cell_type": "code",
   "execution_count": 8,
   "metadata": {},
   "outputs": [
    {
     "name": "stderr",
     "output_type": "stream",
     "text": [
      "Processing:  47%|████▋     | 152/323 [00:00<00:00, 752.52rows/s]"
     ]
    },
    {
     "name": "stdout",
     "output_type": "stream",
     "text": [
      "0  Skipped.\n",
      "1  Skipped.\n",
      "2  Skipped.\n",
      "3  Skipped.\n",
      "4  Skipped.\n",
      "5  Skipped.\n",
      "6  Skipped.\n",
      "7  Skipped.\n",
      "8  Skipped.\n",
      "9  Skipped.\n",
      "10  Skipped.\n",
      "11  Skipped.\n",
      "12  Skipped.\n",
      "13  Skipped.\n",
      "14  Skipped.\n",
      "15  Skipped.\n",
      "16  Skipped.\n",
      "17  Skipped.\n",
      "18  Skipped.\n",
      "19  Skipped.\n",
      "20  Skipped.\n",
      "21  Skipped.\n",
      "22  Skipped.\n",
      "23  Skipped.\n",
      "24  Skipped.\n",
      "25  Skipped.\n",
      "26  Skipped.\n",
      "27  Skipped.\n",
      "28  Skipped.\n",
      "29  Skipped.\n",
      "30  Skipped.\n",
      "31  Skipped.\n",
      "32  Skipped.\n",
      "33  Skipped.\n",
      "34  Skipped.\n",
      "35  Skipped.\n",
      "36  Skipped.\n",
      "37  Skipped.\n",
      "38  Skipped.\n",
      "39  Skipped.\n",
      "40  Skipped.\n",
      "41  Skipped.\n",
      "42  Skipped.\n",
      "43  Skipped.\n",
      "44  Skipped.\n",
      "45  Skipped.\n",
      "46  Skipped.\n",
      "47  Skipped.\n",
      "48  Skipped.\n",
      "49  Skipped.\n",
      "50  Skipped.\n",
      "51  Skipped.\n",
      "52  Skipped.\n",
      "53  Skipped.\n",
      "54  Skipped.\n",
      "55  Skipped.\n",
      "56  Skipped.\n",
      "57  Skipped.\n",
      "58  Skipped.\n",
      "59  Skipped.\n",
      "60  Skipped.\n",
      "61  Skipped.\n",
      "62  Skipped.\n",
      "63  Skipped.\n",
      "64  Skipped.\n",
      "65  Skipped.\n",
      "66  Skipped.\n",
      "67  Skipped.\n",
      "68  Skipped.\n",
      "69  Skipped.\n",
      "70  Skipped.\n",
      "71  Skipped.\n",
      "72  Skipped.\n",
      "73  Skipped.\n",
      "74  Skipped.\n",
      "75  Skipped.\n",
      "76  Skipped.\n",
      "77  Skipped.\n",
      "78  Skipped.\n",
      "79  Skipped.\n",
      "80  Skipped.\n",
      "81  Skipped.\n",
      "82  Skipped.\n",
      "83  Skipped.\n",
      "84  Skipped.\n",
      "85  Skipped.\n",
      "86  Skipped.\n",
      "87  Skipped.\n",
      "88  Skipped.\n",
      "89  Skipped.\n",
      "90  Skipped.\n",
      "91  Skipped.\n",
      "92  Skipped.\n",
      "93  Skipped.\n",
      "94  Skipped.\n",
      "95  Skipped.\n",
      "96  Skipped.\n",
      "97  Skipped.\n",
      "98  Skipped.\n",
      "99  Skipped.\n",
      "100  Skipped.\n",
      "101  Skipped.\n",
      "102  Skipped.\n",
      "103  Skipped.\n",
      "104  Skipped.\n",
      "105  Skipped.\n",
      "106  Skipped.\n",
      "107  Skipped.\n",
      "108  Skipped.\n",
      "109  Skipped.\n",
      "110  Skipped.\n",
      "111  Skipped.\n",
      "112  Skipped.\n",
      "113  Skipped.\n",
      "114  Skipped.\n",
      "115  Skipped.\n",
      "116  Skipped.\n",
      "117  Skipped.\n",
      "118  Skipped.\n",
      "119  Skipped.\n",
      "120  Skipped.\n",
      "121  Skipped.\n",
      "122  Skipped.\n",
      "123  Skipped.\n",
      "124  Skipped.\n",
      "125  Skipped.\n",
      "126  Skipped.\n",
      "127  Skipped.\n",
      "128  Skipped.\n",
      "129  Skipped.\n",
      "130  Skipped.\n",
      "131  Skipped.\n",
      "132  Skipped.\n",
      "133  Skipped.\n",
      "134  Skipped.\n",
      "135  Skipped.\n",
      "136  Skipped.\n",
      "137  Skipped.\n",
      "138  Skipped.\n",
      "139  Skipped.\n",
      "140  Skipped.\n",
      "141  Skipped.\n",
      "142  Skipped.\n",
      "143  Skipped.\n",
      "144  Skipped.\n",
      "145  Skipped.\n",
      "146  Skipped.\n",
      "147  Skipped.\n",
      "148  Skipped.\n",
      "149  Skipped.\n",
      "150  Skipped.\n",
      "151  Skipped.\n",
      "152  Skipped.\n",
      "153  Skipped.\n",
      "154  Skipped.\n",
      "155  Skipped.\n",
      "156  Skipped.\n",
      "157  Skipped.\n",
      "158  Skipped.\n",
      "159  Skipped.\n",
      "160  Skipped.\n",
      "161  Skipped.\n",
      "162  Skipped.\n",
      "163  Skipped.\n",
      "164  Skipped.\n",
      "165  Skipped.\n",
      "166  Skipped.\n",
      "167  Skipped.\n",
      "168  Skipped.\n",
      "169  Skipped.\n",
      "170  Skipped.\n"
     ]
    },
    {
     "name": "stderr",
     "output_type": "stream",
     "text": [
      "Processing:  53%|█████▎    | 172/323 [00:11<00:00, 752.52rows/s, ETA (sec)=10.02]"
     ]
    },
    {
     "name": "stdout",
     "output_type": "stream",
     "text": [
      "\n",
      "Original Sentence: State Home Minister R.R. Patil , who rushed to Gadchiroli , told reporters in the afternoon that the police have recovered the bodies of two Maoists gunned down in the fight .\n",
      "Tagged Sentence: NoTag\n",
      "Label: 0\n",
      "---\n"
     ]
    },
    {
     "name": "stderr",
     "output_type": "stream",
     "text": [
      "Processing:  54%|█████▎    | 173/323 [00:36<00:48,  3.08rows/s, ETA (sec)=31.48] "
     ]
    },
    {
     "name": "stdout",
     "output_type": "stream",
     "text": [
      "\n",
      "Original Sentence: \" The Maoists attacked the police patrols in the forests .\n",
      "Tagged Sentence: NoTag\n",
      "Label: 0\n",
      "---\n"
     ]
    },
    {
     "name": "stderr",
     "output_type": "stream",
     "text": [
      "Processing:  54%|█████▍    | 174/323 [01:24<02:18,  1.08rows/s, ETA (sec)=72.29]"
     ]
    },
    {
     "name": "stdout",
     "output_type": "stream",
     "text": [
      "\n",
      "Original Sentence: Staff of the South Rand hospital in Johannesburg protested on Wednesday , demanding the dismissal of the hospital 's chief executive for his `` aggressive '' treatment of them .\n",
      "Tagged Sentence: Staff of the South Rand hospital in Johannesburg <effect>protested</effect> on Wednesday, <trigger>demanding</trigger> <cause>the dismissal of the hospital's chief executive for his `` aggressive '' treatment of them</cause>.\n",
      "Label: 1\n",
      "---\n"
     ]
    },
    {
     "name": "stderr",
     "output_type": "stream",
     "text": [
      "Processing:  54%|█████▍    | 175/323 [02:08<04:12,  1.70s/rows, ETA (sec)=109.04]"
     ]
    },
    {
     "name": "stdout",
     "output_type": "stream",
     "text": [
      "\n",
      "Original Sentence: In their memorandum , the workers said the chief executive , Dr Mabatho Tshabalala , shouted at them , favoured his friends and practised nepotism at the hospital .\n",
      "Tagged Sentence: NoTag\n",
      "Label: 0\n",
      "---\n"
     ]
    },
    {
     "name": "stderr",
     "output_type": "stream",
     "text": [
      "Processing:  54%|█████▍    | 176/323 [02:48<06:26,  2.63s/rows, ETA (sec)=140.35]"
     ]
    },
    {
     "name": "stdout",
     "output_type": "stream",
     "text": [
      "\n",
      "Original Sentence: The protest at Rosettenvile was attended by cleaners , doctors and nurses .\n",
      "Tagged Sentence: NoTag\n",
      "Label: 0\n",
      "---\n"
     ]
    },
    {
     "name": "stderr",
     "output_type": "stream",
     "text": [
      "Processing:  55%|█████▍    | 177/323 [03:31<09:45,  4.01s/rows, ETA (sec)=174.20]"
     ]
    },
    {
     "name": "stdout",
     "output_type": "stream",
     "text": [
      "\n",
      "Original Sentence: Jack Bloom , the Democratic Alliance 's health spokesman in Gauteng , who attended the protest , said two more doctors had resigned from the hospital in the last three months .\n",
      "Tagged Sentence: NoTag\n",
      "Label: 0\n",
      "---\n"
     ]
    },
    {
     "name": "stderr",
     "output_type": "stream",
     "text": [
      "Processing:  55%|█████▌    | 178/323 [04:21<14:51,  6.15s/rows, ETA (sec)=212.75]"
     ]
    },
    {
     "name": "stdout",
     "output_type": "stream",
     "text": [
      "\n",
      "Original Sentence: Protest against Metro car shed at Charkop - Indian Express Express News Service , Express News Service : Mumbai , Thu Dec 18 2008 , 23:43 hrs Slum dwellers residing on the land allocated for the construction of a depot , which is part of the Charkop-Bandra-Mankhurd Metro Rail project , on Wednesday protested Mumbai Regional Development Authority 's ( MMRDA ) move after its officials visited the site for surveying the plot of land .\n",
      "Tagged Sentence: Protest against Metro car shed at Charkop - Indian Express Express News Service , Express News Service : Mumbai , Thu Dec 18 2008 , 23:43 hrs Slum dwellers residing on the land allocated for the construction of a depot , which is part of the Charkop-Bandra-Mankhurd Metro Rail project , on Wednesday <effect>protested</effect> <trigger>after</trigger> <cause>Mumbai Regional Development Authority 's ( MMRDA ) move</cause> after its officials visited the site for surveying the plot of land.\n",
      "Label: 1\n",
      "---\n"
     ]
    },
    {
     "name": "stderr",
     "output_type": "stream",
     "text": [
      "Processing:  55%|█████▌    | 179/323 [05:01<19:53,  8.29s/rows, ETA (sec)=242.66]"
     ]
    },
    {
     "name": "stdout",
     "output_type": "stream",
     "text": [
      "\n",
      "Original Sentence: The MMRDA officials had to flee the site after the opposition from the locals .\n",
      "Tagged Sentence: The MMRDA officials <effect>had to flee the site</effect> <trigger>after</trigger> the <cause>opposition from the locals</cause>.\n",
      "Label: 1\n",
      "---\n"
     ]
    },
    {
     "name": "stderr",
     "output_type": "stream",
     "text": [
      "Processing:  56%|█████▌    | 180/323 [05:45<26:45, 11.23s/rows, ETA (sec)=274.77]"
     ]
    },
    {
     "name": "stdout",
     "output_type": "stream",
     "text": [
      "\n",
      "Original Sentence: Despite this , if the protest continues , we will have to initiate a strong police action , \" said MMRDA Commissioner Ratnakar Gaikwad .\n",
      "Tagged Sentence: Despite this, <trigger>if</trigger> the <cause>protest continues</cause>, we will have to <effect>initiate a strong police action</effect>, \" said MMRDA Commissioner Ratnakar Gaikwad.\n",
      "Label: 1\n",
      "---\n"
     ]
    },
    {
     "name": "stderr",
     "output_type": "stream",
     "text": [
      "Processing:  56%|█████▌    | 181/323 [06:26<33:43, 14.25s/rows, ETA (sec)=302.87]"
     ]
    },
    {
     "name": "stdout",
     "output_type": "stream",
     "text": [
      "\n",
      "Original Sentence: The crowd that had been protesting in front of the court burst into war songs marching down Voortrekker Street , saying they were going to set alight a sunflower crop field near Tlhabologang .\n",
      "Tagged Sentence: NoTag\n",
      "Label: 0\n",
      "---\n"
     ]
    },
    {
     "name": "stderr",
     "output_type": "stream",
     "text": [
      "Processing:  56%|█████▋    | 182/323 [07:05<41:07, 17.50s/rows, ETA (sec)=329.49]"
     ]
    },
    {
     "name": "stdout",
     "output_type": "stream",
     "text": [
      "\n",
      "Original Sentence: There were reports of a house being torched by irate residents after they learnt that the accused had been granted bail .\n",
      "Tagged Sentence: There were reports of <effect>a house being torched by irate residents</effect> <trigger>after</trigger> they learnt that <cause>the accused had been granted bail</cause> .\n",
      "Label: 1\n",
      "---\n"
     ]
    },
    {
     "name": "stderr",
     "output_type": "stream",
     "text": [
      "Processing:  57%|█████▋    | 183/323 [07:47<49:48, 21.34s/rows, ETA (sec)=357.53]"
     ]
    },
    {
     "name": "stdout",
     "output_type": "stream",
     "text": [
      "\n",
      "Original Sentence: An infiltration bid in Gurez sector where two militants were killed ; three fierce encounters in which a senior BSF officer , two BSF men and six militants were killed and a broad daylight grenade attack on Congress headquarters in the city centre marked the day today .\n",
      "Tagged Sentence: NoTag\n",
      "Label: 0\n",
      "---\n"
     ]
    },
    {
     "name": "stderr",
     "output_type": "stream",
     "text": [
      "Processing:  57%|█████▋    | 184/323 [08:32<59:41, 25.77s/rows, ETA (sec)=387.45]"
     ]
    },
    {
     "name": "stdout",
     "output_type": "stream",
     "text": [
      "\n",
      "Original Sentence: In an encounter with militants at Mallapora village near Charar-e-Sharief , CO of 171 battalion of BSF V.K. Purohit along with a head constable and a constable were killed .\n",
      "Tagged Sentence: NoTag\n",
      "Label: 0\n",
      "---\n"
     ]
    },
    {
     "name": "stderr",
     "output_type": "stream",
     "text": [
      "Processing:  57%|█████▋    | 185/323 [09:16<1:07:53, 29.52s/rows, ETA (sec)=415.33]"
     ]
    },
    {
     "name": "stdout",
     "output_type": "stream",
     "text": [
      "\n",
      "Original Sentence: Two militants had also been killed in the fire fight .\n",
      "Tagged Sentence: Two militants had also been <trigger>killed</trigger> in the <cause>fire fight</cause>.\n",
      "Label: 1\n",
      "---\n"
     ]
    },
    {
     "name": "stderr",
     "output_type": "stream",
     "text": [
      "Processing:  58%|█████▊    | 186/323 [09:58<1:13:47, 32.32s/rows, ETA (sec)=440.87]"
     ]
    },
    {
     "name": "stdout",
     "output_type": "stream",
     "text": [
      "\n",
      "Original Sentence: While the encounter was going on , militants attacked the Congress partys headquarters on MA road in the city centre .\n",
      "Tagged Sentence: NoTag\n",
      "Label: 0\n",
      "---\n"
     ]
    },
    {
     "name": "stderr",
     "output_type": "stream",
     "text": [
      "Processing:  58%|█████▊    | 187/323 [10:36<1:16:23, 33.70s/rows, ETA (sec)=462.92]"
     ]
    },
    {
     "name": "stdout",
     "output_type": "stream",
     "text": [
      "\n",
      "Original Sentence: However , nobody was injured in the grenade attack .\n",
      "Tagged Sentence: NoTag\n",
      "Label: 0\n",
      "---\n"
     ]
    },
    {
     "name": "stderr",
     "output_type": "stream",
     "text": [
      "Processing:  58%|█████▊    | 188/323 [11:18<1:20:39, 35.85s/rows, ETA (sec)=487.19]"
     ]
    },
    {
     "name": "stdout",
     "output_type": "stream",
     "text": [
      "\n",
      "Original Sentence: The militants also attacked and injured five policemen when they hurled a grenade towards the cavalcade of SP , South City , Mukesh Singh at Jehangir Chowk nearby .\n",
      "Tagged Sentence: The militants also <effect>attacked and injured five policemen</effect> <trigger>when</trigger> <cause>they hurled a grenade towards the cavalcade of SP, South City, Mukesh Singh at Jehangir Chowk nearby</cause>.\n",
      "Label: 1\n",
      "---\n"
     ]
    },
    {
     "name": "stderr",
     "output_type": "stream",
     "text": [
      "Processing:  59%|█████▊    | 189/323 [12:02<1:25:01, 38.07s/rows, ETA (sec)=512.26]"
     ]
    },
    {
     "name": "stdout",
     "output_type": "stream",
     "text": [
      "\n",
      "Original Sentence: There was an encounter between security forces and the militants in Baramulla town as well where two militants were killed early this morning .\n",
      "Tagged Sentence: NoTag\n",
      "Label: 0\n",
      "---\n"
     ]
    },
    {
     "name": "stderr",
     "output_type": "stream",
     "text": [
      "Processing:  59%|█████▉    | 190/323 [12:45<1:27:36, 39.52s/rows, ETA (sec)=536.06]"
     ]
    },
    {
     "name": "stdout",
     "output_type": "stream",
     "text": [
      "\n",
      "Original Sentence: Troops also killed two militants making infiltration bids in Gurez sector today .\n",
      "Tagged Sentence: Troops also <effect>killed two militants</effect> <trigger>making</trigger> <cause>infiltration bids in Gurez sector today</cause>.\n",
      "Label: 1\n",
      "---\n"
     ]
    },
    {
     "name": "stderr",
     "output_type": "stream",
     "text": [
      "Processing:  59%|█████▉    | 191/323 [13:32<1:31:09, 41.44s/rows, ETA (sec)=561.19]"
     ]
    },
    {
     "name": "stdout",
     "output_type": "stream",
     "text": [
      "\n",
      "Original Sentence: Lessons will resume at Tshwane University of Technology on Wednesday following a protest by students at the institution 's Soshanguve campus .\n",
      "Tagged Sentence: Lessons will <effect>resume at Tshwane University of Technology on Wednesday</effect> <trigger>following</trigger> a <cause>protest by students at the institution's Soshanguve campus</cause>.\n",
      "Label: 1\n",
      "---\n"
     ]
    },
    {
     "name": "stderr",
     "output_type": "stream",
     "text": [
      "Processing:  59%|█████▉    | 192/323 [14:13<1:30:30, 41.46s/rows, ETA (sec)=582.36]"
     ]
    },
    {
     "name": "stdout",
     "output_type": "stream",
     "text": [
      "\n",
      "Original Sentence: Students went on a rampage on Tuesday in protest of increased fees , which had led to violent demonstrations earlier this year , Radio 702 reports .\n",
      "Tagged Sentence: Students went on a <effect>rampage</effect> on Tuesday <trigger>in protest of</trigger> <cause>increased fees</cause>, which had led to violent demonstrations earlier this year, Radio 702 reports.\n",
      "Label: 1\n",
      "---\n"
     ]
    },
    {
     "name": "stderr",
     "output_type": "stream",
     "text": [
      "Processing:  60%|█████▉    | 193/323 [14:52<1:28:14, 40.73s/rows, ETA (sec)=601.17]"
     ]
    },
    {
     "name": "stdout",
     "output_type": "stream",
     "text": [
      "\n",
      "Original Sentence: Hundreds of angry students set fire to tyres and barricaded the gates to the Soshanguve campus earlier on Tuesday .\n",
      "Tagged Sentence: NoTag\n",
      "Label: 0\n",
      "---\n"
     ]
    },
    {
     "name": "stderr",
     "output_type": "stream",
     "text": [
      "Processing:  60%|██████    | 194/323 [15:33<1:27:56, 40.90s/rows, ETA (sec)=620.94]"
     ]
    },
    {
     "name": "stdout",
     "output_type": "stream",
     "text": [
      "\n",
      "Original Sentence: The ANCWL intends approaching the Equality Court after protesting teachers displayed a pair of panties they said belonged to Basic Education Minister Angie Motshekga .\n",
      "Tagged Sentence: NoTag\n",
      "Label: 0\n",
      "---\n"
     ]
    },
    {
     "name": "stderr",
     "output_type": "stream",
     "text": [
      "Processing:  60%|██████    | 195/323 [16:22<1:32:03, 43.16s/rows, ETA (sec)=644.81]"
     ]
    },
    {
     "name": "stdout",
     "output_type": "stream",
     "text": [
      "\n",
      "Original Sentence: `` The African National Congress 's Women 's League noted with dismay disturbing media reports about some Sadtu members publicly displaying a piece of underwear attributed to Basic Education Minister Angie Motshekga during last week 's protest march , '' Limpopo ANCWL secretary Maleke Mokganyetsi said in a statement .\n",
      "Tagged Sentence: The African National Congress's Women's League <effect>noted with dismay disturbing media reports</effect> <trigger>about</trigger> <cause>some Sadtu members publicly displaying a piece of underwear attributed to Basic Education Minister Angie Motshekga during last week's protest march</cause>,</tagged>\n",
      "Label: 1\n",
      "---\n"
     ]
    },
    {
     "name": "stderr",
     "output_type": "stream",
     "text": [
      "Processing:  61%|██████    | 196/323 [17:08<1:33:00, 43.94s/rows, ETA (sec)=666.18]"
     ]
    },
    {
     "name": "stdout",
     "output_type": "stream",
     "text": [
      "\n",
      "Original Sentence: Describing the SA Democratic Teachers ' Union as `` counter-revolutionary '' , Mokganyetsi said protesters who displayed the panties in Pretoria on Wednesday had to be condemned .\n",
      "Tagged Sentence: NoTag\n",
      "Label: 0\n",
      "---\n"
     ]
    },
    {
     "name": "stderr",
     "output_type": "stream",
     "text": [
      "Processing:  61%|██████    | 197/323 [17:55<1:34:36, 45.05s/rows, ETA (sec)=688.06]"
     ]
    },
    {
     "name": "stdout",
     "output_type": "stream",
     "text": [
      "\n",
      "Original Sentence: The Sadtu protest was a call for the resignation of Motshekga and her director general Bobby Soobrayan .\n",
      "Tagged Sentence: NoTag\n",
      "Label: 0\n",
      "---\n"
     ]
    },
    {
     "name": "stderr",
     "output_type": "stream",
     "text": [
      "Processing:  61%|██████▏   | 198/323 [18:39<1:33:20, 44.80s/rows, ETA (sec)=707.08]"
     ]
    },
    {
     "name": "stdout",
     "output_type": "stream",
     "text": [
      "\n",
      "Original Sentence: The slogan `` Puluma ya Angie '' is written in black pen across its front .\n",
      "Tagged Sentence: NoTag\n",
      "Label: 0\n",
      "---\n"
     ]
    },
    {
     "name": "stderr",
     "output_type": "stream",
     "text": [
      "Processing:  62%|██████▏   | 199/323 [19:31<1:36:32, 46.71s/rows, ETA (sec)=729.79]"
     ]
    },
    {
     "name": "stdout",
     "output_type": "stream",
     "text": [
      "\n",
      "Original Sentence: Chikkamagaluru : BJP activists take out march , demand George ’ s resignation July 17 , 2016 00:00 IST Workers of the Bharatiya Janata Party ( BJP ) took out a march in Chikkamagaluru on Saturday demanding the resignation of Bengaluru Development Minister K.J. George and a CBI probe into the death of Dy.SP M.K. Ganapathy .\n",
      "Tagged Sentence: Chikkamagaluru : BJP activists <effect>take out march</effect> , <trigger>demanding</trigger> <cause>George’s resignation July 17 , 2016 00:00 IST Workers of the Bharatiya Janata Party ( BJP ) took out a march in Chikkamagaluru on Saturday</cause> and a CBI probe into the death of dy.SP M.K. Ganapathy .\n",
      "Label: 1\n",
      "---\n"
     ]
    },
    {
     "name": "stderr",
     "output_type": "stream",
     "text": [
      "Processing:  62%|██████▏   | 200/323 [20:16<1:35:08, 46.41s/rows, ETA (sec)=748.38]"
     ]
    },
    {
     "name": "stdout",
     "output_type": "stream",
     "text": [
      "\n",
      "Original Sentence: The protest march was taken out under the leadership of BJP State president B.S. Yeddyurappa .\n",
      "Tagged Sentence: NoTag\n",
      "Label: 0\n",
      "---\n"
     ]
    },
    {
     "name": "stderr",
     "output_type": "stream",
     "text": [
      "Processing:  62%|██████▏   | 201/323 [21:02<1:33:38, 46.05s/rows, ETA (sec)=766.06]"
     ]
    },
    {
     "name": "stdout",
     "output_type": "stream",
     "text": [
      "\n",
      "Original Sentence: Addressing the protesters , Mr. Yeddyurappa said the BJP would continue its protest until Mr. George resigned .\n",
      "Tagged Sentence: Addressing the protesters, Mr. Yeddyurappa said <effect>the BJP would continue its protest</effect> <trigger>until</trigger> <cause>Mr. George resigned</cause>.\n",
      "Label: 1\n",
      "---\n"
     ]
    },
    {
     "name": "stderr",
     "output_type": "stream",
     "text": [
      "Processing:  63%|██████▎   | 202/323 [21:49<1:33:28, 46.36s/rows, ETA (sec)=784.21]"
     ]
    },
    {
     "name": "stdout",
     "output_type": "stream",
     "text": [
      "\n",
      "Original Sentence: “ We will continue our protest seeking justice in the Dy.SP Ganapathy case .\n",
      "Tagged Sentence: <effect>We will continue our protest</effect> <trigger>seeking</trigger> <cause>justice in the Dy.SP Ganapathy case</cause>.\n",
      "Label: 1\n",
      "---\n"
     ]
    },
    {
     "name": "stderr",
     "output_type": "stream",
     "text": [
      "Processing:  63%|██████▎   | 203/323 [22:39<1:34:58, 47.49s/rows, ETA (sec)=803.53]"
     ]
    },
    {
     "name": "stdout",
     "output_type": "stream",
     "text": [
      "\n",
      "Original Sentence: Days and months after the November 2008 Mumbai terrorist attacks , Pranab Mukherjee , then external affairs minister , announced a “ pause ” to bilateral relations till Pakistan cooperates in the investigation process .\n",
      "Tagged Sentence: Days and months after the <cause>November 2008 Mumbai terrorist attacks</cause>, Pranab Mukherjee, then external affairs minister, announced a 'pause' to bilateral relations <trigger>till</trigger> Pakistan cooperates in the investigation process.\n",
      "Label: 1\n",
      "---\n"
     ]
    },
    {
     "name": "stderr",
     "output_type": "stream",
     "text": [
      "Processing:  63%|██████▎   | 204/323 [23:22<1:31:34, 46.17s/rows, ETA (sec)=818.07]"
     ]
    },
    {
     "name": "stdout",
     "output_type": "stream",
     "text": [
      "\n",
      "Original Sentence: Even Jaish-e-Mohammad ( JeM ) , the outfit which carried out the attack on the Indian Parliament , is returning from a period of hibernation .\n",
      "Tagged Sentence: NoTag\n",
      "Label: 0\n",
      "---\n"
     ]
    },
    {
     "name": "stderr",
     "output_type": "stream",
     "text": [
      "Processing:  63%|██████▎   | 205/323 [24:04<1:28:21, 44.93s/rows, ETA (sec)=831.42]"
     ]
    },
    {
     "name": "stdout",
     "output_type": "stream",
     "text": [
      "\n",
      "Original Sentence: Mumbai Beat Posted : Tue Dec 29 1998 IST MUMBAI , December 28 : The administrative staff of Akashvani and Doordarshan have declared a three-day total strike .\n",
      "Tagged Sentence: NoTag\n",
      "Label: 0\n",
      "---\n"
     ]
    },
    {
     "name": "stderr",
     "output_type": "stream",
     "text": [
      "Processing:  64%|██████▍   | 206/323 [24:48<1:27:03, 44.64s/rows, ETA (sec)=845.35]"
     ]
    },
    {
     "name": "stdout",
     "output_type": "stream",
     "text": [
      "\n",
      "Original Sentence: This agitation is in response to the government 's apathy towards the staff of the two corporations who are on work-to-rule stir .\n",
      "Tagged Sentence: This <effect>agitation</effect> is <trigger>in response to</trigger> the <cause>government's apathy towards the staff of the two corporations who are on work-to-rule stir</cause>.\n",
      "Label: 1\n",
      "---\n"
     ]
    },
    {
     "name": "stderr",
     "output_type": "stream",
     "text": [
      "Processing:  64%|██████▍   | 207/323 [25:38<1:29:12, 46.15s/rows, ETA (sec)=861.91]"
     ]
    },
    {
     "name": "stdout",
     "output_type": "stream",
     "text": [
      "\n",
      "Original Sentence: Sangram ends fast at Pyari ’ s request 17th December 2012 11:41 AM After all the talks of injustice and fabricated charges over which Sangram Mohanty took to hunger strike in R Udaygiri jail , it took a letter of five sentences from Odisha Jan Morcha ( OJM ) leader Pyarimohan Mohapatra to call off the agitation on Sunday .\n",
      "Tagged Sentence: Sangram ends <effect>fast</effect> <trigger>at</trigger> <cause>Pyarimohan Mohapatra's request</cause> 17th December 2012 11:41 AM After all the talks of injustice and fabricated charges over which Sangram Mohanty took to hunger strike in R Udaygiri jail, it took a letter of five sentences from Odisha Jan Morcha (OJM) leader Pyarimohan Mohapatra to call off the agitation on Sunday.\n",
      "Label: 1\n",
      "---\n"
     ]
    },
    {
     "name": "stderr",
     "output_type": "stream",
     "text": [
      "Processing:  64%|██████▍   | 208/323 [26:28<1:30:57, 47.46s/rows, ETA (sec)=878.30]"
     ]
    },
    {
     "name": "stdout",
     "output_type": "stream",
     "text": [
      "\n",
      "Original Sentence: Sangram broke his 11 - day fast and was shifted to District Headquarters Hospital at Paralakhemundi minutes after two OJM office-bearers carried the letter to him .\n",
      "Tagged Sentence: Sangram broke his <trigger>11 - day fast</trigger> and was shifted to District Headquarters Hospital at Paralakhemundi minutes after two OJM office-bearers carried the letter to him.\n",
      "Label: 1\n",
      "---\n"
     ]
    },
    {
     "name": "stderr",
     "output_type": "stream",
     "text": [
      "Processing:  65%|██████▍   | 209/323 [27:17<1:30:49, 47.80s/rows, ETA (sec)=893.00]"
     ]
    },
    {
     "name": "stdout",
     "output_type": "stream",
     "text": [
      "\n",
      "Original Sentence: In the letter , which was written on an OJM letterhead , Pyari lauded Sangram ’ s non-violent agitation against injustice but asked him to refrain from the strike anymore since his services would be required for the people as well as for his outfit of which the latter is a member .\n",
      "Tagged Sentence: In the letter, which was written on an OJM letterhead, Pyari lauded Sangram’s non-violent agitation against injustice but <effect>asked him to refrain from the strike anymore</effect> <trigger>since</trigger> <cause>his services would be required for the people as well as for his outfit of which the latter is a member</cause>.\n",
      "Label: 1\n",
      "---\n"
     ]
    },
    {
     "name": "stderr",
     "output_type": "stream",
     "text": [
      "Processing:  65%|██████▌   | 210/323 [28:01<1:28:12, 46.83s/rows, ETA (sec)=904.94]"
     ]
    },
    {
     "name": "stdout",
     "output_type": "stream",
     "text": [
      "\n",
      "Original Sentence: He had been on hunger strike since then .\n",
      "Tagged Sentence: NoTag\n",
      "Label: 0\n",
      "---\n"
     ]
    },
    {
     "name": "stderr",
     "output_type": "stream",
     "text": [
      "Processing:  65%|██████▌   | 211/323 [28:45<1:25:51, 46.00s/rows, ETA (sec)=916.07]"
     ]
    },
    {
     "name": "stdout",
     "output_type": "stream",
     "text": [
      "\n",
      "Original Sentence: The end to hunger strike came as a relief to the jail administration .\n",
      "Tagged Sentence: The <effect>end to hunger strike</effect> came <trigger>as</trigger> a <cause>relief to the jail administration</cause>.\n",
      "Label: 1\n",
      "---\n"
     ]
    },
    {
     "name": "stderr",
     "output_type": "stream",
     "text": [
      "Processing:  66%|██████▌   | 212/323 [29:30<1:24:18, 45.57s/rows, ETA (sec)=926.94]"
     ]
    },
    {
     "name": "stdout",
     "output_type": "stream",
     "text": [
      "\n",
      "Original Sentence: The treating doctors said Sangram lost around 5 kg due to the hunger strike .\n",
      "Tagged Sentence: The treating doctors said Sangram <effect>lost around 5 kg</effect> <trigger>due to</trigger> <cause>the hunger strike</cause>.\n",
      "Label: 1\n",
      "---\n"
     ]
    },
    {
     "name": "stderr",
     "output_type": "stream",
     "text": [
      "Processing:  66%|██████▌   | 213/323 [30:20<1:25:56, 46.88s/rows, ETA (sec)=940.06]"
     ]
    },
    {
     "name": "stdout",
     "output_type": "stream",
     "text": [
      "\n",
      "Original Sentence: TAMIL NADU Police denies permission for fast April 01 , 2006 00:00 IST Staff Reporter UDUMALPET : The announcement of candidates for Udumalpet constituency by the ruling All India Anna Dravida Munnetra Kazhagam and the opposition Dravida Munnetra Kazhagam drew protest from a section of partymen .\n",
      "Tagged Sentence: TAMIL NADU Police denies permission for fast April 01 , 2006 00:00 IST Staff Reporter UDUMALPET : <cause>The announcement of candidates for Udumalpet constituency by the ruling All India Anna Dravida Munnetra Kazhagam and the opposition Dravida Munnetra Kazhagam</cause> <trigger>drew</trigger> <effect>protest</effect> from a section of partymen.\n",
      "Label: 1\n",
      "---\n"
     ]
    },
    {
     "name": "stderr",
     "output_type": "stream",
     "text": [
      "Processing:  66%|██████▋   | 214/323 [31:11<1:27:34, 48.21s/rows, ETA (sec)=953.30]"
     ]
    },
    {
     "name": "stdout",
     "output_type": "stream",
     "text": [
      "\n",
      "Original Sentence: On Thursday night around 25 dissidents in the DMK tried to burn the former Minister and district secretary of the party , Pongalur N. Palanisamy , in effigy for choosing the candidate .\n",
      "Tagged Sentence: On Thursday night around <effect>25 dissidents in the DMK tried to burn the former Minister and district secretary of the party, Pongalur N. Palanisamy, in effigy</effect> <trigger>for</trigger> <cause>choosing the candidate</cause>.\n",
      "Label: 1\n",
      "---\n"
     ]
    },
    {
     "name": "stderr",
     "output_type": "stream",
     "text": [
      "Processing:  67%|██████▋   | 215/323 [31:55<1:24:28, 46.93s/rows, ETA (sec)=962.23]"
     ]
    },
    {
     "name": "stdout",
     "output_type": "stream",
     "text": [
      "\n",
      "Original Sentence: Auto , taxi stir off 17th November 2012 09:26 AM The auto , taxi strike was called off on Friday , after a joint coordination committee meeting decision to accept the fare revision suggested by the state govt .\n",
      "Tagged Sentence: Auto , taxi stir off 17th November 2012 09:26 AM <effect>the auto , taxi strike was called off on Friday</effect> <trigger>after</trigger> <cause>a joint coordination committee meeting decision to accept the fare revision suggested by the state govt</cause>.\n",
      "Label: 1\n",
      "---\n"
     ]
    },
    {
     "name": "stderr",
     "output_type": "stream",
     "text": [
      "Processing:  67%|██████▋   | 216/323 [32:38<1:21:47, 45.87s/rows, ETA (sec)=970.40]"
     ]
    },
    {
     "name": "stdout",
     "output_type": "stream",
     "text": [
      "\n",
      "Original Sentence: The indefinite auto , taxi strike was launched on Thursday by various trade unions seeking a fare hike .\n",
      "Tagged Sentence: <effect>The indefinite auto, taxi strike</effect> was launched on Thursday by various trade unions <trigger>seeking</trigger> <cause>a fare hike</cause>.\n",
      "Label: 1\n",
      "---\n"
     ]
    },
    {
     "name": "stderr",
     "output_type": "stream",
     "text": [
      "Processing:  67%|██████▋   | 217/323 [33:25<1:21:20, 46.04s/rows, ETA (sec)=979.59]"
     ]
    },
    {
     "name": "stdout",
     "output_type": "stream",
     "text": [
      "\n",
      "Original Sentence: Though the government on Thursday increased the minimum charge for auto travel to Rs 14 and that of taxis to Rs 100 , the trade unions were not ready to withdraw the strike .\n",
      "Tagged Sentence: Though <cause>the government on Thursday increased the minimum charge for auto travel to Rs 14 and that of taxis to Rs 100</cause> <trigger>Though</trigger> <effect>the trade unions were not ready to withdraw the strike</effect>.\n",
      "Label: 1\n",
      "---\n"
     ]
    },
    {
     "name": "stderr",
     "output_type": "stream",
     "text": [
      "Processing:  67%|██████▋   | 218/323 [34:15<1:22:49, 47.33s/rows, ETA (sec)=990.14]"
     ]
    },
    {
     "name": "stdout",
     "output_type": "stream",
     "text": [
      "\n",
      "Original Sentence: It is learnt that many leaders of auto rickshaw trade unions are not happy about the decision to withdraw the strike as their demand onminimum fare was not met. “ We will meet the Transport Minister on November 21 in this regard , ” said Kozhikode District Motor and Engineering Workers Union secretary Balan Nair .\n",
      "Tagged Sentence: It is learnt that <effect>many leaders of auto rickshaw trade unions are not happy about the decision to withdraw the strike</effect> <trigger>as</trigger> <cause>their demand on minimum fare was not met</cause>. “ We will meet the Transport Minister on November 21 in this regard , ” said Kozhikode District Motor and Engineering Workers Union secretary Balan Nair .\n",
      "Label: 1\n",
      "---\n"
     ]
    },
    {
     "name": "stderr",
     "output_type": "stream",
     "text": [
      "Processing:  68%|██████▊   | 219/323 [35:03<1:22:21, 47.51s/rows, ETA (sec)=999.00]"
     ]
    },
    {
     "name": "stdout",
     "output_type": "stream",
     "text": [
      "\n",
      "Original Sentence: Kochi : Lawyers boycott courts July 23 , 2016 00:00 IST For the second day , lawyers boycotted the High Court and other courts in the city on Friday in response to a call by the Kerala High Court Advocates ’ Association .\n",
      "Tagged Sentence: Kochi : Lawyers <effect>boycotted the High Court and other courts in the city on Friday</effect> in <trigger>response to</trigger> a <cause>call by the Kerala High Court Advocates ’ Association</cause>.\n",
      "Label: 1\n",
      "---\n"
     ]
    },
    {
     "name": "stderr",
     "output_type": "stream",
     "text": [
      "Processing:  68%|██████▊   | 220/323 [35:46<1:19:03, 46.05s/rows, ETA (sec)=1004.86]"
     ]
    },
    {
     "name": "stdout",
     "output_type": "stream",
     "text": [
      "\n",
      "Original Sentence: The association decided to boycott the courts to express solidarity with the lawyers at the Thiruvananthapuram Bar Association , in the wake of what it called attacks on lawyers .\n",
      "Tagged Sentence: The association <trigger>in the wake of</trigger> what it called <cause>attacks on lawyers</cause> decided to <effect>boycott the courts</effect> to express solidarity with the lawyers at the Thiruvananthapuram Bar Association.\n",
      "Label: 1\n",
      "---\n"
     ]
    },
    {
     "name": "stderr",
     "output_type": "stream",
     "text": [
      "Processing:  68%|██████▊   | 221/323 [36:30<1:17:31, 45.60s/rows, ETA (sec)=1011.17]"
     ]
    },
    {
     "name": "stdout",
     "output_type": "stream",
     "text": [
      "\n",
      "Original Sentence: June 4 march suffers ' worst ever ' turnout PUBLISHED : Monday , 29 May , 2000 , 12:00am The annual pro-democracy march marking the 1989 Tiananmen Square massacre yesterday had what is believed to have been its lowest ever turnout , with only an estimated 1,000 people taking part .\n",
      "Tagged Sentence: <cause>the 1989 Tiananmen Square massacre</cause> yesterday had what is believed to have been its lowest ever turnout , with only an estimated 1,000 people taking part .\n",
      "Label: 1\n",
      "---\n"
     ]
    },
    {
     "name": "stderr",
     "output_type": "stream",
     "text": [
      "Processing:  69%|██████▊   | 222/323 [37:13<1:15:12, 44.67s/rows, ETA (sec)=1016.08]"
     ]
    },
    {
     "name": "stdout",
     "output_type": "stream",
     "text": [
      "\n",
      "Original Sentence: Eighteen children , aged from three to 14 , led the protest , organised by the Hongkong Alliance in Support of the Patriotic Democratic Movement in China .\n",
      "Tagged Sentence: NoTag\n",
      "Label: 0\n",
      "---\n"
     ]
    },
    {
     "name": "stderr",
     "output_type": "stream",
     "text": [
      "Processing:  69%|██████▉   | 223/323 [38:01<1:15:58, 45.58s/rows, ETA (sec)=1022.90]"
     ]
    },
    {
     "name": "stdout",
     "output_type": "stream",
     "text": [
      "\n",
      "Original Sentence: Alliance head Szeto Wah , also a Democratic Party legislator , said the children took part to demonstrate the theme of ' keeping the fire [ of democracy ] alive ' and to teach the younger generation about democratic development on the mainland .\n",
      "Tagged Sentence: Alliance head Szeto Wah, also a Democratic Party legislator, said the children took part <trigger>to</trigger> <cause>demonstrate the theme of 'keeping the fire [of democracy] alive'</cause> and <trigger>to</trigger> <cause>teach the younger generation about democratic development on the mainland</cause>.\n",
      "Label: 1\n",
      "---\n"
     ]
    },
    {
     "name": "stderr",
     "output_type": "stream",
     "text": [
      "Processing:  69%|██████▉   | 224/323 [38:43<1:13:33, 44.58s/rows, ETA (sec)=1026.82]"
     ]
    },
    {
     "name": "stdout",
     "output_type": "stream",
     "text": [
      "\n",
      "Original Sentence: Chanting anti-communist slogans and waving banners , the children led the demonstrators carrying black and white placards through the streets of Causeway Bay , Wan Chai , and on to the Central Government Offices in Central .\n",
      "Tagged Sentence: NoTag\n",
      "Label: 0\n",
      "---\n"
     ]
    },
    {
     "name": "stderr",
     "output_type": "stream",
     "text": [
      "Processing:  70%|██████▉   | 225/323 [39:24<1:11:06, 43.54s/rows, ETA (sec)=1029.84]"
     ]
    },
    {
     "name": "stdout",
     "output_type": "stream",
     "text": [
      "\n",
      "Original Sentence: Among those taking part was the April 5th Action Group , whose members carried a wooden coffin to commemorate those killed in the crackdown .\n",
      "Tagged Sentence: Among those taking part was the April 5th Action Group, whose members <effect>carried a wooden coffin</effect> <trigger>to commemorate</trigger> <cause>those killed in the crackdown</cause>.\n",
      "Label: 1\n",
      "---\n"
     ]
    },
    {
     "name": "stderr",
     "output_type": "stream",
     "text": [
      "Processing:  70%|██████▉   | 226/323 [40:13<1:13:16, 45.33s/rows, ETA (sec)=1036.07]"
     ]
    },
    {
     "name": "stdout",
     "output_type": "stream",
     "text": [
      "\n",
      "Original Sentence: Twenty activists from the group made a detour and carried the coffin to the Office of the Commissioner for the Ministry of Foreign Affairs in Kennedy Road .\n",
      "Tagged Sentence: NoTag\n",
      "Label: 0\n",
      "---\n"
     ]
    },
    {
     "name": "stderr",
     "output_type": "stream",
     "text": [
      "Processing:  70%|███████   | 227/323 [40:53<1:09:46, 43.61s/rows, ETA (sec)=1037.61]"
     ]
    },
    {
     "name": "stdout",
     "output_type": "stream",
     "text": [
      "\n",
      "Original Sentence: They left after dumping the coffin at the office entrance .\n",
      "Tagged Sentence: They <trigger>after</trigger> <cause>dumping the coffin at the office entrance</cause> left.\n",
      "Label: 1\n",
      "---\n"
     ]
    },
    {
     "name": "stderr",
     "output_type": "stream",
     "text": [
      "Processing:  71%|███████   | 228/323 [41:41<1:11:02, 44.87s/rows, ETA (sec)=1042.22]"
     ]
    },
    {
     "name": "stdout",
     "output_type": "stream",
     "text": [
      "\n",
      "Original Sentence: Nine-year-old Lee Sik-chi , daughter of Frontier legislator Lee Cheuk-yan , assumed heavier duties this year than at previous protests she had attended , holding a banner at the head of the rally .\n",
      "Tagged Sentence: NoTag\n",
      "Label: 0\n",
      "---\n"
     ]
    },
    {
     "name": "stderr",
     "output_type": "stream",
     "text": [
      "Processing:  71%|███████   | 229/323 [42:23<1:09:13, 44.19s/rows, ETA (sec)=1044.23]"
     ]
    },
    {
     "name": "stdout",
     "output_type": "stream",
     "text": [
      "\n",
      "Original Sentence: ' The June 4 incident was about a group of university students who wished to fight for democracy , ' she said .\n",
      "Tagged Sentence: NoTag\n",
      "Label: 0\n",
      "---\n"
     ]
    },
    {
     "name": "stderr",
     "output_type": "stream",
     "text": [
      "Processing:  71%|███████   | 230/323 [43:06<1:07:38, 43.63s/rows, ETA (sec)=1045.76]"
     ]
    },
    {
     "name": "stdout",
     "output_type": "stream",
     "text": [
      "\n",
      "Original Sentence: ' Mr Szeto claimed 2,000 people joined the march , but observers estimated the turnout at between 900 and 1,000 .\n",
      "Tagged Sentence: NoTag\n",
      "Label: 0\n",
      "---\n"
     ]
    },
    {
     "name": "stderr",
     "output_type": "stream",
     "text": [
      "Processing:  72%|███████▏  | 231/323 [43:46<1:05:11, 42.52s/rows, ETA (sec)=1045.93]"
     ]
    },
    {
     "name": "stdout",
     "output_type": "stream",
     "text": [
      "\n",
      "Original Sentence: The alliance claimed 4,000 took part last year .\n",
      "Tagged Sentence: NoTag\n",
      "Label: 0\n",
      "---\n"
     ]
    },
    {
     "name": "stderr",
     "output_type": "stream",
     "text": [
      "Processing:  72%|███████▏  | 232/323 [44:37<1:08:26, 45.13s/rows, ETA (sec)=1050.19]"
     ]
    },
    {
     "name": "stdout",
     "output_type": "stream",
     "text": [
      "\n",
      "Original Sentence: ANDHRA PRADESH Trade unions stage dharna August 10 , 2016 00:00 IST Seven trade unions and employee federations of Central and State governments on Tuesday staged a dharna at the Collector ’ s office protesting dilution of labour laws , allowing FDI from 49 to 100 per cent in defence , railways , insurance , multi brand retail sale , banking sectors .\n",
      "Tagged Sentence: ANDHRA PRADESH Trade unions <trigger>protesting</trigger> <cause>dilution of labour laws , allowing FDI from 49 to 100 per cent in defence , railways , insurance , multi brand retail sale , banking sectors</cause> stage <effect>dharna</effect> August 10 , 2016 00:00 IST Seven trade unions and employee federations of Central and State governments on Tuesday staged a dharna at the Collector’s office.\n",
      "Label: 1\n",
      "---\n"
     ]
    },
    {
     "name": "stderr",
     "output_type": "stream",
     "text": [
      "Processing:  72%|███████▏  | 233/323 [45:22<1:07:36, 45.07s/rows, ETA (sec)=1051.55]"
     ]
    },
    {
     "name": "stdout",
     "output_type": "stream",
     "text": [
      "\n",
      "Original Sentence: Members of INTUC , AITUC , HMS , CITU , IFTU , YSRUTC and AICTUC were also protesting against the anti-worker policies .\n",
      "Tagged Sentence: Members of INTUC, AITUC, HMS, CITU, IFTU, YSRUTC and AICTUC were also <trigger>protesting</trigger> <effect>against</effect> <cause>the anti-worker policies</cause>.\n",
      "Label: 1\n",
      "---\n"
     ]
    },
    {
     "name": "stderr",
     "output_type": "stream",
     "text": [
      "Processing:  72%|███████▏  | 234/323 [46:05<1:06:11, 44.62s/rows, ETA (sec)=1051.99]"
     ]
    },
    {
     "name": "stdout",
     "output_type": "stream",
     "text": [
      "\n",
      "Original Sentence: Democratic Alliance councillors in Johannesburg on Friday called on trade unions to be held liable for damages caused during last month 's strikes .\n",
      "Tagged Sentence: Democratic Alliance councillors in Johannesburg on Friday called on trade unions to be held liable for <effect>damages</effect> <trigger>caused during</trigger> <cause>last month's strikes</cause>.\n",
      "Label: 1\n",
      "---\n"
     ]
    },
    {
     "name": "stderr",
     "output_type": "stream",
     "text": [
      "Processing:  73%|███████▎  | 235/323 [46:49<1:04:56, 44.27s/rows, ETA (sec)=1052.02]"
     ]
    },
    {
     "name": "stdout",
     "output_type": "stream",
     "text": [
      "\n",
      "Original Sentence: `` During these strikes ... extensive damage was caused to public property , '' said Paul Smit , a DA councillor in the city .\n",
      "Tagged Sentence: During these <trigger>caused</trigger> <cause>strikes</cause> ... <effect>extensive damage was</effect> to public property, '' said Paul Smit, a DA councillor in the city.\n",
      "Label: 1\n",
      "---\n"
     ]
    },
    {
     "name": "stderr",
     "output_type": "stream",
     "text": [
      "Processing:  73%|███████▎  | 236/323 [47:30<1:03:01, 43.46s/rows, ETA (sec)=1050.98]"
     ]
    },
    {
     "name": "stdout",
     "output_type": "stream",
     "text": [
      "\n",
      "Original Sentence: The two said the unions should be held `` liable , and pay up , for all damages caused during strikes '' .\n",
      "Tagged Sentence: The two said the unions should be `` liable , and pay up , for all <effect>damages</effect> <trigger>caused</trigger> during <cause>strikes</cause> '' .\n",
      "Label: 1\n",
      "---\n"
     ]
    },
    {
     "name": "stderr",
     "output_type": "stream",
     "text": [
      "Processing:  73%|███████▎  | 237/323 [48:15<1:02:54, 43.89s/rows, ETA (sec)=1050.81]"
     ]
    },
    {
     "name": "stdout",
     "output_type": "stream",
     "text": [
      "\n",
      "Original Sentence: Cosatu in North West on Wednesday queried Lanxess chrome mine 's move to suspend some workers after a recent strike at the Rustenburg mine .\n",
      "Tagged Sentence: Cosatu in North West on Wednesday queried <trigger>after</trigger> Lanxess chrome mine's move to <cause>suspend some workers</cause> <trigger>after</trigger> a recent strike at the Rustenburg mine.\n",
      "Label: 1\n",
      "---\n"
     ]
    },
    {
     "name": "stderr",
     "output_type": "stream",
     "text": [
      "Processing:  74%|███████▎  | 238/323 [48:58<1:01:49, 43.64s/rows, ETA (sec)=1049.60]"
     ]
    },
    {
     "name": "stdout",
     "output_type": "stream",
     "text": [
      "\n",
      "Original Sentence: `` The management , jointly with NUM , signed an agreement on this matter , including the removal of disciplinary cases against all workers who were part of the strike , '' said provincial secretary Solly Phetoe .\n",
      "Tagged Sentence: NoTag\n",
      "Label: 0\n",
      "---\n"
     ]
    },
    {
     "name": "stderr",
     "output_type": "stream",
     "text": [
      "Processing:  74%|███████▍  | 239/323 [49:39<59:38, 42.60s/rows, ETA (sec)=1047.03]  "
     ]
    },
    {
     "name": "stdout",
     "output_type": "stream",
     "text": [
      "\n",
      "Original Sentence: Work resumed at Lanxess on Monday after workers went on strike to demand that they receive part of a performance bonus they believed they were entitled to .\n",
      "Tagged Sentence: Work resumed at Lanxess on Monday after <cause>workers went on strike to demand that they receive part of a performance bonus they believed they were entitled to</cause>.\n",
      "Label: 1\n",
      "---\n"
     ]
    },
    {
     "name": "stderr",
     "output_type": "stream",
     "text": [
      "Processing:  74%|███████▍  | 240/323 [50:21<59:03, 42.69s/rows, ETA (sec)=1045.09]"
     ]
    },
    {
     "name": "stdout",
     "output_type": "stream",
     "text": [
      "\n",
      "Original Sentence: The Congress of SA Trade Unions said management and the National Union of Mineworkers had signed an agreement on ending the strike , which included the removal of disciplinary cases .\n",
      "Tagged Sentence: NoTag\n",
      "Label: 0\n",
      "---\n"
     ]
    },
    {
     "name": "stderr",
     "output_type": "stream",
     "text": [
      "Processing:  75%|███████▍  | 241/323 [51:07<59:21, 43.44s/rows, ETA (sec)=1043.59]"
     ]
    },
    {
     "name": "stdout",
     "output_type": "stream",
     "text": [
      "\n",
      "Original Sentence: `` Evidence found on security video footage revealed that the employees were involved in acts of intimidation , inciting other employees , destroying property or being violent , '' spokeswoman Sibonile Dube said in a statement .\n",
      "Tagged Sentence: Evidence found on security video footage <trigger>revealed that</trigger> <cause>the employees were involved in acts of intimidation, inciting other employees, destroying property or being violent</cause>, '' spokeswoman Sibonile Dube said in a statement.\n",
      "Label: 1\n",
      "---\n"
     ]
    },
    {
     "name": "stderr",
     "output_type": "stream",
     "text": [
      "Processing:  75%|███████▍  | 242/323 [51:46<56:56, 42.18s/rows, ETA (sec)=1039.74]"
     ]
    },
    {
     "name": "stdout",
     "output_type": "stream",
     "text": [
      "\n",
      "Original Sentence: In the settlement agreement , Lanxess reserved its rights with regards to the illegal strike .\n",
      "Tagged Sentence: NoTag\n",
      "Label: 0\n",
      "---\n"
     ]
    },
    {
     "name": "stderr",
     "output_type": "stream",
     "text": [
      "Processing:  75%|███████▌  | 243/323 [52:36<59:14, 44.43s/rows, ETA (sec)=1039.03]"
     ]
    },
    {
     "name": "stdout",
     "output_type": "stream",
     "text": [
      "\n",
      "Original Sentence: PSU Insurance employees protest privatisation 23rd November 2011 01:27 AM HYDERABAD : Employees working in the government-owned Life Insurance Corporation of India and the four general insurance companies held lunch-hour protest demonstrations at their offices on Tuesday , opposing moves to liberalise the insurance sector .\n",
      "Tagged Sentence: PSU Insurance employees protest privatisation 23rd November 2011 01:27 AM HYDERABAD : Employees working in the government-owned Life Insurance Corporation of India and the four general insurance companies held lunch-hour protest demonstrations at their offices on Tuesday , <trigger>opposing</trigger> <cause>moves to liberalise the insurance sector</cause> .\n",
      "Label: 1\n",
      "---\n"
     ]
    },
    {
     "name": "stderr",
     "output_type": "stream",
     "text": [
      "Processing:  76%|███████▌  | 244/323 [53:21<59:03, 44.85s/rows, ETA (sec)=1036.68]"
     ]
    },
    {
     "name": "stdout",
     "output_type": "stream",
     "text": [
      "\n",
      "Original Sentence: The secretariat of All India Insurance Employees Association ( AIIEA ) , which met in New Delhi recently , gave a call for demonstrations on the first day of the winter session of Parliament against the attempts of the Congress-led UPA government at the Centre to have two legislations aimed at further liberalising the insurance sector .\n",
      "Tagged Sentence: The secretariat of All India Insurance Employees Association ( AIIEA ), which met in New Delhi recently, gave a call for <effect>demonstrations on the first day of the winter session of Parliament</effect> <trigger>against</trigger> the attempts of the Congress-led UPA government at the Centre to have two legislations aimed at further liberalising the insurance sector.\n",
      "Label: 1\n",
      "---\n"
     ]
    },
    {
     "name": "stderr",
     "output_type": "stream",
     "text": [
      "Processing:  76%|███████▌  | 245/323 [54:07<58:36, 45.08s/rows, ETA (sec)=1033.90]"
     ]
    },
    {
     "name": "stdout",
     "output_type": "stream",
     "text": [
      "\n",
      "Original Sentence: KERALA RSS worker ’ s murder : three persons wanted October 26 , 2008 00:00 IST Staff Reporter They are associates of murdered CPI(M) activist Vishnu Suspects were seen in front of the CPI ( M ) office at Vanchiyoor on the previous day of the murder injuries on Renjith ’ s body indicate that there were more than five assailants Thiruvananthapuram : The police have said that they are searching mainly for three persons — ‘ Karate ’ Suresh , Ambalamukku Krishnakumar and Vanchiyoor Hariprasad — in connection with the murder of Rashtriya Swayamsevak Sangh ( RSS ) activist Renjith at Mannanthala on October 17 .\n",
      "Tagged Sentence: KERALA RSS worker ’ s murder : three persons wanted October 26 , 2008 00:00 IST Staff Reporter They are associates of murdered CPI(M) activist Vishnu Suspects were seen in front of the CPI ( M ) office at Vanchiyoor on the previous day of the murder injuries on Renjith ’ s body indicate that there were more than five assailants Thiruvananthapuram : The police have said that they are searching mainly for three persons — ‘ Karate ’ Suresh , Ambalamukku Krishnakumar and Vanchiyoor Hariprasad — <trigger>in connection with</trigger> the <cause>murder of Rashtriya Swayamsevak Sangh ( RSS ) activist Renjith at Mannanthala on October 17</cause>. <effect>The police have said that they are searching mainly for three persons — ‘ Karate ’ Suresh , Ambalamukku Krishnakumar and Vanchiyoor Hariprasad</effect>.\n",
      "Label: 1\n",
      "---\n"
     ]
    },
    {
     "name": "stderr",
     "output_type": "stream",
     "text": [
      "Processing:  76%|███████▌  | 246/323 [54:54<58:36, 45.67s/rows, ETA (sec)=1031.22]"
     ]
    },
    {
     "name": "stdout",
     "output_type": "stream",
     "text": [
      "\n",
      "Original Sentence: The police believe that Renjith was killed in retaliation to the murder of Communist Party of India ( Marxist ) activist Vanchiyoor Vishnu this April .\n",
      "Tagged Sentence: The police believe that <effect>Renjith was killed</effect> <trigger>in retaliation to</trigger> <cause>the murder of Communist Party of India (Marxist) activist Vanchiyoor Vishnu this April</cause>.\n",
      "Label: 1\n",
      "---\n"
     ]
    },
    {
     "name": "stderr",
     "output_type": "stream",
     "text": [
      "Processing:  76%|███████▋  | 247/323 [55:42<58:46, 46.40s/rows, ETA (sec)=1028.51]"
     ]
    },
    {
     "name": "stdout",
     "output_type": "stream",
     "text": [
      "\n",
      "Original Sentence: Suresh and Krishnakumar , along with absconding ‘ gang leader ’ Om Prakash , are also accused in the killing of alleged mobster ‘ Aprani ’ Krishnakumar in 2007 .\n",
      "Tagged Sentence: Suresh and Krishnakumar, along with absconding ‘ gang leader ’ Om Prakash, are also <cause>accused</cause> <trigger>in</trigger> <effect>the killing of alleged mobster ‘ Aprani ’ Krishnakumar in 2007</effect>.\n",
      "Label: 1\n",
      "---\n"
     ]
    },
    {
     "name": "stderr",
     "output_type": "stream",
     "text": [
      "Processing:  77%|███████▋  | 248/323 [56:28<57:37, 46.10s/rows, ETA (sec)=1024.62]"
     ]
    },
    {
     "name": "stdout",
     "output_type": "stream",
     "text": [
      "\n",
      "Original Sentence: Suresh was named as accused in the murder of ‘ Changidi ’ Vinod , an associate of Aprani Krishnakumar , in 2006 .\n",
      "Tagged Sentence: NoTag\n",
      "Label: 0\n",
      "---\n"
     ]
    },
    {
     "name": "stderr",
     "output_type": "stream",
     "text": [
      "Processing:  77%|███████▋  | 249/323 [57:16<57:52, 46.92s/rows, ETA (sec)=1021.41]"
     ]
    },
    {
     "name": "stdout",
     "output_type": "stream",
     "text": [
      "\n",
      "Original Sentence: Hariprasad and Krishnakumar are the main suspects in the retaliatory attack on RSS activist Mohanan in the aftermath of Vishnu ’ s murder .\n",
      "Tagged Sentence: NoTag\n",
      "Label: 0\n",
      "---\n"
     ]
    },
    {
     "name": "stderr",
     "output_type": "stream",
     "text": [
      "Processing:  77%|███████▋  | 250/323 [58:00<56:00, 46.04s/rows, ETA (sec)=1016.42]"
     ]
    },
    {
     "name": "stdout",
     "output_type": "stream",
     "text": [
      "\n",
      "Original Sentence: The police said that some of the suspects were seen partying in front of the CPI ( M ) office at Vanchiyoor on the previous day of Renjith ’ s murder .\n",
      "Tagged Sentence: NoTag\n",
      "Label: 0\n",
      "---\n"
     ]
    },
    {
     "name": "stderr",
     "output_type": "stream",
     "text": [
      "Processing:  78%|███████▊  | 251/323 [58:44<54:28, 45.39s/rows, ETA (sec)=1011.09]"
     ]
    },
    {
     "name": "stdout",
     "output_type": "stream",
     "text": [
      "\n",
      "Original Sentence: The police have posted men in front of the office , the regular hangout of the main suspects in Renjith murder case , to prevent any retaliatory attack by RSS men .\n",
      "Tagged Sentence: The police have <effect>posted men in front of the office</effect>, the regular hangout of the main suspects in Renjith murder case, <trigger>to</trigger> <cause>prevent any retaliatory attack by RSS men</cause>.\n",
      "Label: 1\n",
      "---\n"
     ]
    },
    {
     "name": "stderr",
     "output_type": "stream",
     "text": [
      "Processing:  78%|███████▊  | 252/323 [59:29<53:33, 45.26s/rows, ETA (sec)=1005.76]"
     ]
    },
    {
     "name": "stdout",
     "output_type": "stream",
     "text": [
      "\n",
      "Original Sentence: They said RSS cadres close to Renjith could retaliate against two top CPM leaders in the district if they suspected that the police were not doing enough to solve the murder .\n",
      "Tagged Sentence: They said <cause>RSS cadres close to Renjith could retaliate against two top CPM leaders in the district</cause> <trigger>if</trigger> <effect>they suspected that the police were not doing enough to solve the murder</effect>.\n",
      "Label: 1\n",
      "---\n"
     ]
    },
    {
     "name": "stderr",
     "output_type": "stream",
     "text": [
      "Processing:  78%|███████▊  | 253/323 [1:00:19<54:14, 46.49s/rows, ETA (sec)=1001.33]"
     ]
    },
    {
     "name": "stdout",
     "output_type": "stream",
     "text": [
      "\n",
      "Original Sentence: They said the suspects had initially planned to kill ‘ Kakotta ’ Manoj , one of the main accused in the Vishnu murder case .\n",
      "Tagged Sentence: NoTag\n",
      "Label: 0\n",
      "---\n"
     ]
    },
    {
     "name": "stderr",
     "output_type": "stream",
     "text": [
      "Processing:  79%|███████▊  | 254/323 [1:01:01<52:11, 45.39s/rows, ETA (sec)=994.77] "
     ]
    },
    {
     "name": "stdout",
     "output_type": "stream",
     "text": [
      "\n",
      "Original Sentence: The police suspect that the conspiracy to kill Renjith was hatched at Muttathara and airport area .\n",
      "Tagged Sentence: NoTag\n",
      "Label: 0\n",
      "---\n"
     ]
    },
    {
     "name": "stderr",
     "output_type": "stream",
     "text": [
      "Processing:  79%|███████▉  | 255/323 [1:01:46<51:16, 45.24s/rows, ETA (sec)=988.48]"
     ]
    },
    {
     "name": "stdout",
     "output_type": "stream",
     "text": [
      "\n",
      "Original Sentence: They are investigating an airport-based gang leader and CPI(M) functionary in connection with the murder conspiracy .\n",
      "Tagged Sentence: NoTag\n",
      "Label: 0\n",
      "---\n"
     ]
    },
    {
     "name": "stderr",
     "output_type": "stream",
     "text": [
      "Processing:  79%|███████▉  | 256/323 [1:02:33<50:55, 45.61s/rows, ETA (sec)=982.30]"
     ]
    },
    {
     "name": "stdout",
     "output_type": "stream",
     "text": [
      "\n",
      "Original Sentence: Some of Vishnu ’ s associates had switched off their cell phones on October 16 and switched them on only after Renjith was killed .\n",
      "Tagged Sentence: NoTag\n",
      "Label: 0\n",
      "---\n"
     ]
    },
    {
     "name": "stderr",
     "output_type": "stream",
     "text": [
      "Processing:  80%|███████▉  | 257/323 [1:03:17<49:38, 45.13s/rows, ETA (sec)=975.17]"
     ]
    },
    {
     "name": "stdout",
     "output_type": "stream",
     "text": [
      "\n",
      "Original Sentence: The Crime Branch zeroed in on the culprits by identifying those who used their cell phones in the vicinity of the mobile phone towers near the murder spot at time of the crime .\n",
      "Tagged Sentence: The Crime Branch <effect>zeroed in on the culprits</effect> by <trigger>identifying</trigger> <cause>those who used their cell phones in the vicinity of the mobile phone towers near the murder spot at time of the crime</cause>.\n",
      "Label: 1\n",
      "---\n"
     ]
    },
    {
     "name": "stderr",
     "output_type": "stream",
     "text": [
      "Processing:  80%|███████▉  | 258/323 [1:04:04<49:25, 45.62s/rows, ETA (sec)=968.46]"
     ]
    },
    {
     "name": "stdout",
     "output_type": "stream",
     "text": [
      "\n",
      "Original Sentence: Its significance to British colonial government also made it an important location for protests and demonstrations , the most significant of which was the hunger strike against the Star Ferry fare hike of 1966 , and also the campaign to protect the sovereignty of the Diaoyu Islands by patriotic students back in 1971 .\n",
      "Tagged Sentence: Its <cause>significance to British colonial government</cause> also <trigger>made</trigger> it an <effect>important location for protests and demonstrations</effect>, the most significant of which was the hunger strike against the Star Ferry fare hike of 1966, and also the campaign to protect the sovereignty of the Diaoyu Islands by patriotic students back in 1971.\n",
      "Label: 1\n",
      "---\n"
     ]
    },
    {
     "name": "stderr",
     "output_type": "stream",
     "text": [
      "Processing:  80%|████████  | 259/323 [1:04:55<50:33, 47.40s/rows, ETA (sec)=962.62]"
     ]
    },
    {
     "name": "stdout",
     "output_type": "stream",
     "text": [
      "\n",
      "Original Sentence: Protest against waste dumping at Dadumajra - Indian Express Express News Service , Express News Service : Chandigarh , Tue Jun 28 2011 , 04:14 hrs Irked over heaps of garbage piling up at the dumping ground in Dadumajra , the residents of the area held a protest demanding the dumping be stopped at the site .\n",
      "Tagged Sentence: Protest against waste dumping at Dadumajra - Indian Express Express News Service , Express News Service : Chandigarh , Tue Jun 28 2011 , 04:14 hrs <trigger>over</trigger> heaps of garbage piling up at the dumping ground in Dadumajra , the residents of the area <cause>held a protest demanding the dumping be stopped at the site</cause>.\n",
      "Label: 1\n",
      "---\n"
     ]
    },
    {
     "name": "stderr",
     "output_type": "stream",
     "text": [
      "Processing:  80%|████████  | 260/323 [1:05:35<47:18, 45.06s/rows, ETA (sec)=953.53]"
     ]
    },
    {
     "name": "stdout",
     "output_type": "stream",
     "text": [
      "\n",
      "Original Sentence: For around two hours in the morning the residents did not allow trucks of the Municipal Corporation to dump refuse at the ground .\n",
      "Tagged Sentence: For <trigger>around two hours in the morning</trigger> the <cause>residents did not allow trucks of the Municipal Corporation to dump refuse at the ground</cause>.\n",
      "Label: 1\n",
      "---\n"
     ]
    },
    {
     "name": "stderr",
     "output_type": "stream",
     "text": [
      "Processing:  81%|████████  | 261/323 [1:06:18<46:10, 44.68s/rows, ETA (sec)=945.20]"
     ]
    },
    {
     "name": "stdout",
     "output_type": "stream",
     "text": [
      "\n",
      "Original Sentence: Raising slogans against the civic body , the protesters , led by area councillor Kamlesh , demanded that the waste be taken to the garbage processing plant that has been set up to process the refuse .\n",
      "Tagged Sentence: Raising <effect>slogans against the civic body</effect> , the protesters , led by area councillor Kamlesh , <trigger>demanding</trigger> that the waste be taken to the garbage processing plant that has been set up to process the refuse.\n",
      "Label: 1\n",
      "---\n"
     ]
    },
    {
     "name": "stderr",
     "output_type": "stream",
     "text": [
      "Processing:  81%|████████  | 262/323 [1:06:57<43:32, 42.82s/rows, ETA (sec)=935.37]"
     ]
    },
    {
     "name": "stdout",
     "output_type": "stream",
     "text": [
      "\n",
      "Original Sentence: The trucks were not allowed to move till the Municipal Commissioner Prerna Puri reached the site .\n",
      "Tagged Sentence: The <effect>trucks were not allowed to move</effect> <trigger>till</trigger> the <cause>Municipal Commissioner Prerna Puri reached the site</cause>.\n",
      "Label: 1\n",
      "---\n"
     ]
    },
    {
     "name": "stderr",
     "output_type": "stream",
     "text": [
      "Processing:  81%|████████▏ | 263/323 [1:07:39<42:31, 42.52s/rows, ETA (sec)=926.08]"
     ]
    },
    {
     "name": "stdout",
     "output_type": "stream",
     "text": [
      "\n",
      "Original Sentence: Striking mineworkers have threatened to halt all mining operations around Rustenburg within a week if their employers do not accede to their R12,500 pay demand .\n",
      "Tagged Sentence: Striking mineworkers have <effect>threatened to halt all mining operations around Rustenburg within a week</effect> <trigger>if</trigger> <cause>their employers do not accede to their R12,500 pay demand</cause>.\n",
      "Label: 1\n",
      "---\n"
     ]
    },
    {
     "name": "stderr",
     "output_type": "stream",
     "text": [
      "Processing:  82%|████████▏ | 264/323 [1:08:23<42:22, 43.10s/rows, ETA (sec)=917.12]"
     ]
    },
    {
     "name": "stdout",
     "output_type": "stream",
     "text": [
      "\n",
      "Original Sentence: On Wednesday , a leader of striking workers at Anglo American Platinum ( Amplats ) , Evans Ramokga , said the protest action would intensify .\n",
      "Tagged Sentence: NoTag\n",
      "Label: 0\n",
      "---\n"
     ]
    },
    {
     "name": "stderr",
     "output_type": "stream",
     "text": [
      "Processing:  82%|████████▏ | 265/323 [1:09:04<41:06, 42.52s/rows, ETA (sec)=907.19]"
     ]
    },
    {
     "name": "stdout",
     "output_type": "stream",
     "text": [
      "\n",
      "Original Sentence: `` On Thursday we are going to combine efforts with the striking comrades at Lonmin mines .\n",
      "Tagged Sentence: NoTag\n",
      "Label: 0\n",
      "---\n"
     ]
    },
    {
     "name": "stderr",
     "output_type": "stream",
     "text": [
      "Processing:  82%|████████▏ | 266/323 [1:09:44<39:40, 41.75s/rows, ETA (sec)=896.76]"
     ]
    },
    {
     "name": "stdout",
     "output_type": "stream",
     "text": [
      "\n",
      "Original Sentence: There was a tense stand-off when thousands of mineworkers marched on the premises of Amplats 's smelters on Wednesday .\n",
      "Tagged Sentence: There was a <effect>tense stand-off</effect> <trigger>when</trigger> <cause>thousands of mineworkers marched on the premises of Amplats's smelters</cause> on Wednesday.\n",
      "Label: 1\n",
      "---\n"
     ]
    },
    {
     "name": "stderr",
     "output_type": "stream",
     "text": [
      "Processing:  83%|████████▎ | 267/323 [1:10:30<39:56, 42.79s/rows, ETA (sec)=887.21]"
     ]
    },
    {
     "name": "stdout",
     "output_type": "stream",
     "text": [
      "\n",
      "Original Sentence: `` If it were not for this industrial action , most of us would be deep inside shafts , sweating for Anglo Platinum .\n",
      "Tagged Sentence: ``<cause>industrial action</cause><trigger>If it were not for this</trigger><effect>most of us would be deep inside shafts, sweating for Anglo Platinum</effect>``\n",
      "Label: 1\n",
      "---\n"
     ]
    },
    {
     "name": "stderr",
     "output_type": "stream",
     "text": [
      "Processing:  83%|████████▎ | 268/323 [1:11:10<38:36, 42.12s/rows, ETA (sec)=876.44]"
     ]
    },
    {
     "name": "stdout",
     "output_type": "stream",
     "text": [
      "\n",
      "Original Sentence: `` The people who are chanting around the mines are from neighbouring communities and we can not identify who they are , '' said Amplats spokeswoman Mpumi Sithole .\n",
      "Tagged Sentence: NoTag\n",
      "Label: 0\n",
      "---\n"
     ]
    },
    {
     "name": "stderr",
     "output_type": "stream",
     "text": [
      "Processing:  83%|████████▎ | 269/323 [1:11:49<37:09, 41.28s/rows, ETA (sec)=865.20]"
     ]
    },
    {
     "name": "stdout",
     "output_type": "stream",
     "text": [
      "\n",
      "Original Sentence: A large group of protesters , carrying traditional weapons , gathered at a Thembelani mine shaft on Wednesday morning .\n",
      "Tagged Sentence: NoTag\n",
      "Label: 0\n",
      "---\n"
     ]
    },
    {
     "name": "stderr",
     "output_type": "stream",
     "text": [
      "Processing:  84%|████████▎ | 270/323 [1:12:29<35:55, 40.66s/rows, ETA (sec)=853.73]"
     ]
    },
    {
     "name": "stdout",
     "output_type": "stream",
     "text": [
      "\n",
      "Original Sentence: Most of the protesters sat in a field in the sun .\n",
      "Tagged Sentence: NoTag\n",
      "Label: 0\n",
      "---\n"
     ]
    },
    {
     "name": "stderr",
     "output_type": "stream",
     "text": [
      "Processing:  84%|████████▍ | 271/323 [1:13:11<35:45, 41.26s/rows, ETA (sec)=842.71]"
     ]
    },
    {
     "name": "stdout",
     "output_type": "stream",
     "text": [
      "\n",
      "Original Sentence: Small groups , clutching sticks and clubs , marched , sang , and danced .\n",
      "Tagged Sentence: NoTag\n",
      "Label: 0\n",
      "---\n"
     ]
    },
    {
     "name": "stderr",
     "output_type": "stream",
     "text": [
      "Processing:  84%|████████▍ | 272/323 [1:13:48<33:55, 39.91s/rows, ETA (sec)=830.36]"
     ]
    },
    {
     "name": "stdout",
     "output_type": "stream",
     "text": [
      "\n",
      "Original Sentence: They joined the protesters , but declined to speak to the media about their role in the strike .\n",
      "Tagged Sentence: NoTag\n",
      "Label: 0\n",
      "---\n"
     ]
    },
    {
     "name": "stderr",
     "output_type": "stream",
     "text": [
      "Processing:  85%|████████▍ | 273/323 [1:14:36<35:16, 42.33s/rows, ETA (sec)=819.89]"
     ]
    },
    {
     "name": "stdout",
     "output_type": "stream",
     "text": [
      "\n",
      "Original Sentence: Kendrapara Aftermath : Cops Asked to Follow SOP 13th August 2015 07:19 AM BHUBANESWAR : The State Police has issued a circular to all the police ranges and districts asking them to stick to standard operating procedures ( SOPs ) during law and order situation even as the Opposition parties try to score brownie points from the Kendrapara incident .\n",
      "Tagged Sentence: Kendrapara Aftermath : Cops Asked to Follow SOP 13th August 2015 07:19 AM BHUBANESWAR : The State Police has issued a circular to all the police ranges and districts asking them to stick to standard operating procedures ( SOPs ) during law and order situation <trigger>even as</trigger> the Opposition parties try to score brownie points from the <cause>Kendrapara incident</cause>.\n",
      "Label: 1\n",
      "---\n"
     ]
    },
    {
     "name": "stderr",
     "output_type": "stream",
     "text": [
      "Processing:  85%|████████▍ | 274/323 [1:15:24<35:52, 43.94s/rows, ETA (sec)=809.08]"
     ]
    },
    {
     "name": "stdout",
     "output_type": "stream",
     "text": [
      "\n",
      "Original Sentence: In the wake of the law and order situation in Kendrapara last week , during protests against the self-styled godman Sarathi Baba , public anger was directed at the district police .\n",
      "Tagged Sentence: <trigger>In the wake of</trigger> the <cause>law and order situation in Kendrapara last week, during protests against the self-styled godman Sarathi Baba</cause>, <effect>public anger was directed at the district police</effect>.\n",
      "Label: 1\n",
      "---\n"
     ]
    },
    {
     "name": "stderr",
     "output_type": "stream",
     "text": [
      "Processing:  85%|████████▌ | 275/323 [1:16:02<33:48, 42.25s/rows, ETA (sec)=796.38]"
     ]
    },
    {
     "name": "stdout",
     "output_type": "stream",
     "text": [
      "\n",
      "Original Sentence: The stone pelting incident that ensued led to injury of at least nine policemen though no injury to any agitator was recorded .\n",
      "Tagged Sentence: The <cause>stone pelting incident that ensued</cause> <trigger>led to</trigger> <effect>injury of at least nine policemen</effect> though no injury to any agitator was recorded.\n",
      "Label: 1\n",
      "---\n"
     ]
    },
    {
     "name": "stderr",
     "output_type": "stream",
     "text": [
      "Processing:  85%|████████▌ | 276/323 [1:16:49<34:15, 43.73s/rows, ETA (sec)=784.99]"
     ]
    },
    {
     "name": "stdout",
     "output_type": "stream",
     "text": [
      "\n",
      "Original Sentence: Protester who threw water bottle at Hong Kong cop gets 80 hours of community service PUBLISHED : Wednesday , 05 August , 2015 , 12:24pm A vocational student was ordered today to perform 80 hours of community service for throwing a plastic water bottle at a police officer , injuring the officer ’ s right thigh during protests in March against parallel trading .\n",
      "Tagged Sentence: Protester who threw water bottle at Hong Kong cop gets <effect>80 hours of community service</effect> PUBLISHED : Wednesday , 05 August , 2015 , 12:24pm A vocational student was ordered today to perform <effect>80 hours of community service</effect> <trigger>for</trigger> <cause>throwing a plastic water bottle at a police officer , injuring the officer’s right thigh during protests in March against parallel trading</cause>.\n",
      "Label: 1\n",
      "---\n"
     ]
    },
    {
     "name": "stderr",
     "output_type": "stream",
     "text": [
      "Processing:  86%|████████▌ | 277/323 [1:17:38<34:38, 45.18s/rows, ETA (sec)=773.58]"
     ]
    },
    {
     "name": "stdout",
     "output_type": "stream",
     "text": [
      "\n",
      "Original Sentence: Tuen Mun Court Deputy Magistrate So Kai-cheung said he determined the sentence based on the recommendations of a community service order report , which says 20 - year-old Chiu Kwok-hong showed remorse for the incident .\n",
      "Tagged Sentence: Tuen Mun Court Deputy Magistrate So Kai-cheung said he <effect>determined the sentence</effect> <trigger>based on</trigger> the <cause>recommendations of a community service order report</cause>, which says 20-year-old Chiu Kwok-hong showed remorse for the incident.\n",
      "Label: 1\n",
      "---\n"
     ]
    },
    {
     "name": "stderr",
     "output_type": "stream",
     "text": [
      "Processing:  86%|████████▌ | 278/323 [1:18:22<33:35, 44.80s/rows, ETA (sec)=761.15]"
     ]
    },
    {
     "name": "stdout",
     "output_type": "stream",
     "text": [
      "\n",
      "Original Sentence: The court heard previously that at about 8.20 pm on March 1 , chief inspector Lee Shek-lun was deployed to perform crowd-control duties in Yuen Long , where protesters were rallying against cross-border traders .\n",
      "Tagged Sentence: The court heard previously that at about 8.20 pm on March 1, chief inspector Lee Shek-lun was deployed to perform crowd-control duties in Yuen Long, where protesters were rallying against cross-border traders.\n",
      "Label: 1\n",
      "---\n"
     ]
    },
    {
     "name": "stderr",
     "output_type": "stream",
     "text": [
      "Processing:  86%|████████▋ | 279/323 [1:19:09<33:21, 45.50s/rows, ETA (sec)=749.00]"
     ]
    },
    {
     "name": "stdout",
     "output_type": "stream",
     "text": [
      "\n",
      "Original Sentence: Emerging from a crowd , Chiu suddenly threw a blue , plastic water bottle which hit Lee ’ s right thigh .\n",
      "Tagged Sentence: Emerging from a crowd, Chiu suddenly <cause>threw a blue, plastic water bottle</cause> <trigger>which</trigger> <effect>hit Lee’s right thigh</effect>.\n",
      "Label: 1\n",
      "---\n"
     ]
    },
    {
     "name": "stderr",
     "output_type": "stream",
     "text": [
      "Processing:  87%|████████▋ | 280/323 [1:19:50<31:41, 44.23s/rows, ETA (sec)=735.70]"
     ]
    },
    {
     "name": "stdout",
     "output_type": "stream",
     "text": [
      "\n",
      "Original Sentence: Under caution , Chiu told police officers : “ I did throw the blue water bottle at him .\n",
      "Tagged Sentence: NoTag\n",
      "Label: 0\n",
      "---\n"
     ]
    },
    {
     "name": "stderr",
     "output_type": "stream",
     "text": [
      "Processing:  87%|████████▋ | 281/323 [1:20:38<31:48, 45.44s/rows, ETA (sec)=723.25]"
     ]
    },
    {
     "name": "stdout",
     "output_type": "stream",
     "text": [
      "\n",
      "Original Sentence: In mitigation submissions , Chiu ’ s lawyers said he participated in the protest because the parallel traders had harmed Hong Kong ’ s economy , and he hurled the bottle at Lee because he saw Lee pulling the strap of a bag of a female protester .\n",
      "Tagged Sentence: In mitigation submissions, Chiu’s lawyers said <effect>he participated in the protest</effect> <trigger>because</trigger> <cause>the parallel traders had harmed Hong Kong’s economy</cause>, and <effect>he hurled the bottle at Lee</effect> <trigger>because</trigger> <cause>he saw Lee pulling the strap of a female protester</cause>.\n",
      "Label: 1\n",
      "---\n"
     ]
    },
    {
     "name": "stderr",
     "output_type": "stream",
     "text": [
      "Processing:  87%|████████▋ | 282/323 [1:21:25<31:18, 45.83s/rows, ETA (sec)=710.32]"
     ]
    },
    {
     "name": "stdout",
     "output_type": "stream",
     "text": [
      "\n",
      "Original Sentence: Zulu has been charged with assaulting police director Jonathan Ndlovu during an IFP election rally at Hlabisa soccer stadium three weeks ago .\n",
      "Tagged Sentence: Zulu has been <effect>charged</effect> with <trigger>assaulting</trigger> <cause>police director Jonathan Ndlovu during an IFP election rally at Hlabisa soccer stadium three weeks ago</cause>.\n",
      "Label: 1\n",
      "---\n"
     ]
    },
    {
     "name": "stderr",
     "output_type": "stream",
     "text": [
      "Processing:  88%|████████▊ | 283/323 [1:22:07<29:43, 44.58s/rows, ETA (sec)=696.43]"
     ]
    },
    {
     "name": "stdout",
     "output_type": "stream",
     "text": [
      "\n",
      "Original Sentence: The alleged assault occurred when police prevented party followers carrying traditional weapons from entering the stadium .\n",
      "Tagged Sentence: The <effect>alleged assault occurred</effect> <trigger>when</trigger> <cause>police prevented party followers carrying traditional weapons from entering the stadium</cause>.\n",
      "Label: 1\n",
      "---\n"
     ]
    },
    {
     "name": "stderr",
     "output_type": "stream",
     "text": [
      "Processing:  88%|████████▊ | 284/323 [1:22:54<29:24, 45.25s/rows, ETA (sec)=683.06]"
     ]
    },
    {
     "name": "stdout",
     "output_type": "stream",
     "text": [
      "\n",
      "Original Sentence: When Zulu made his second brief appearance on Thursday , a group of people wearing Inkatha Freedom Party T-shirts and holding placards protested outside the Empangeni Regional Court north of Durban , while the courtroom itself was packed to capacity .\n",
      "Tagged Sentence: NoTag\n",
      "Label: 0\n",
      "---\n"
     ]
    },
    {
     "name": "stderr",
     "output_type": "stream",
     "text": [
      "Processing:  88%|████████▊ | 285/323 [1:23:42<29:15, 46.20s/rows, ETA (sec)=669.67]"
     ]
    },
    {
     "name": "stdout",
     "output_type": "stream",
     "text": [
      "\n",
      "Original Sentence: LN Hospital docs hold public meet about decorum - Indian Express Express News Service , Express News Service : New Delhi , Sun Apr 29 2012 , 03:52 hrs A week after doctors at Lok Nayak Hospital went on strike following two incidents of patients ' relatives roughing up the hospital staff , authorities and the police have taken security concerns to the masses .\n",
      "Tagged Sentence: A week after doctors at Lok Nayak Hospital went on <trigger>strike</trigger> <cause>following two incidents of patients' relatives roughing up the hospital staff</cause>, authorities and the police have taken security concerns to the masses.\n",
      "Label: 1\n",
      "---\n"
     ]
    },
    {
     "name": "stderr",
     "output_type": "stream",
     "text": [
      "Processing:  89%|████████▊ | 286/323 [1:24:26<28:01, 45.45s/rows, ETA (sec)=655.42]"
     ]
    },
    {
     "name": "stdout",
     "output_type": "stream",
     "text": [
      "\n",
      "Original Sentence: A public meeting between the doctors and residents of Daryanganj and Kamala Market was organised at Turkman Gate by police officials and senior leaders of the Muslim community on Saturday .\n",
      "Tagged Sentence: NoTag\n",
      "Label: 0\n",
      "---\n"
     ]
    },
    {
     "name": "stderr",
     "output_type": "stream",
     "text": [
      "Processing:  89%|████████▉ | 287/323 [1:25:11<27:19, 45.53s/rows, ETA (sec)=641.22]"
     ]
    },
    {
     "name": "stdout",
     "output_type": "stream",
     "text": [
      "\n",
      "Original Sentence: Speaking at the meeting , ACP ( Daryaganj ) Om Prakash said , \" This is the first such meeting where doctors and your leaders have come together to appeal to you , to help doctors help you .\n",
      "Tagged Sentence: NoTag\n",
      "Label: 0\n",
      "---\n"
     ]
    },
    {
     "name": "stderr",
     "output_type": "stream",
     "text": [
      "Processing:  89%|████████▉ | 288/323 [1:25:51<25:33, 43.82s/rows, ETA (sec)=626.08]"
     ]
    },
    {
     "name": "stdout",
     "output_type": "stream",
     "text": [
      "\n",
      "Original Sentence: The leaders of the union also said the local taxi drivers had launched an attack against the online taxi drivers at the airport .\n",
      "Tagged Sentence: NoTag\n",
      "Label: 0\n",
      "---\n"
     ]
    },
    {
     "name": "stderr",
     "output_type": "stream",
     "text": [
      "Processing:  89%|████████▉ | 289/323 [1:26:36<24:57, 44.06s/rows, ETA (sec)=611.34]"
     ]
    },
    {
     "name": "stdout",
     "output_type": "stream",
     "text": [
      "\n",
      "Original Sentence: Earlier , some trade unions representing local taxi operators had come out in protest against the online taxi networks such as Uber and Ola .\n",
      "Tagged Sentence: Earlier, some trade unions representing local taxi operators had <effect>come out in protest</effect> <trigger>against</trigger> <cause>the online taxi networks such as Uber and Ola</cause>.\n",
      "Label: 1\n",
      "---\n"
     ]
    },
    {
     "name": "stderr",
     "output_type": "stream",
     "text": [
      "Processing:  90%|████████▉ | 290/323 [1:27:21<24:23, 44.34s/rows, ETA (sec)=596.43]"
     ]
    },
    {
     "name": "stdout",
     "output_type": "stream",
     "text": [
      "\n",
      "Original Sentence: KERALA Bus strike total in district October 31 , 2008 00:00 IST People ’ s woes : Passengers struggling to get into a bus at the KSRTC bus station in the city on Thursday following a strike called by private bus operators in the State .\n",
      "Tagged Sentence: KERALA Bus strike total in district October 31 , 2008 00:00 IST People ’ s woes : <effect>Passengers struggling to get into a bus at the KSRTC bus station in the city on Thursday</effect> <trigger>following</trigger> a <cause>strike called by private bus operators in the State</cause> .\n",
      "Label: 1\n",
      "---\n"
     ]
    },
    {
     "name": "stderr",
     "output_type": "stream",
     "text": [
      "Processing:  90%|█████████ | 291/323 [1:28:07<23:57, 44.92s/rows, ETA (sec)=581.46]"
     ]
    },
    {
     "name": "stdout",
     "output_type": "stream",
     "text": [
      "\n",
      "Original Sentence: – | Photo Credit : Photo : S.R.K. Staff Reporter KOZHIKODE : People were put to hardship as private buses went off the roads in deference to the State-wide token strike called against the decision of State government not to renew licence issued to buses .\n",
      "Tagged Sentence: – | Photo Credit : Photo : S.R.K. Staff Reporter KOZHIKODE : <effect>People were put to hardship</effect> <trigger>as</trigger> <cause>private buses went off the roads in deference to the State-wide token strike called against the decision of State government not to renew licence issued to buses</cause>.\n",
      "Label: 1\n",
      "---\n"
     ]
    },
    {
     "name": "stderr",
     "output_type": "stream",
     "text": [
      "Processing:  90%|█████████ | 292/323 [1:28:47<22:28, 43.49s/rows, ETA (sec)=565.62]"
     ]
    },
    {
     "name": "stdout",
     "output_type": "stream",
     "text": [
      "\n",
      "Original Sentence: The strike was total in the district .\n",
      "Tagged Sentence: NoTag\n",
      "Label: 0\n",
      "---\n"
     ]
    },
    {
     "name": "stderr",
     "output_type": "stream",
     "text": [
      "Processing:  91%|█████████ | 293/323 [1:29:34<22:17, 44.59s/rows, ETA (sec)=550.34]"
     ]
    },
    {
     "name": "stdout",
     "output_type": "stream",
     "text": [
      "\n",
      "Original Sentence: PRP aspirant goes on fast 27th March 2009 03:44 AM HYDERABAD : In a surprise development , a staunch supporter of the Praja Rajyam Party , Venkat Prasad , launched an indefinite hunger strike in front of the party office here today .\n",
      "Tagged Sentence: NoTag\n",
      "Label: 0\n",
      "---\n"
     ]
    },
    {
     "name": "stderr",
     "output_type": "stream",
     "text": [
      "Processing:  91%|█████████ | 294/323 [1:30:23<22:10, 45.86s/rows, ETA (sec)=535.00]"
     ]
    },
    {
     "name": "stdout",
     "output_type": "stream",
     "text": [
      "\n",
      "Original Sentence: He has played a key role in organising the Praja Ankita Yatras of Chiranjeevi .\n",
      "Tagged Sentence: NoTag\n",
      "Label: 0\n",
      "---\n"
     ]
    },
    {
     "name": "stderr",
     "output_type": "stream",
     "text": [
      "Processing:  91%|█████████▏| 295/323 [1:31:10<21:30, 46.08s/rows, ETA (sec)=519.22]"
     ]
    },
    {
     "name": "stdout",
     "output_type": "stream",
     "text": [
      "\n",
      "Original Sentence: Irked over this move , Venkat Prasad launched a hunger strike along with the other aspirants .\n",
      "Tagged Sentence: NoTag\n",
      "Label: 0\n",
      "---\n"
     ]
    },
    {
     "name": "stderr",
     "output_type": "stream",
     "text": [
      "Processing:  92%|█████████▏| 296/323 [1:31:52<20:09, 44.80s/rows, ETA (sec)=502.80]"
     ]
    },
    {
     "name": "stdout",
     "output_type": "stream",
     "text": [
      "\n",
      "Original Sentence: However , he called off the fast after getting a call from the Chiranjeevi ’ s camp in East Godavari district .\n",
      "Tagged Sentence: However, he <effect>called off the fast</effect> <trigger>after</trigger> <cause>getting a call from the Chiranjeevi’s camp in East Godavari district</cause>.\n",
      "Label: 1\n",
      "---\n"
     ]
    },
    {
     "name": "stderr",
     "output_type": "stream",
     "text": [
      "Processing:  92%|█████████▏| 297/323 [1:32:40<19:53, 45.91s/rows, ETA (sec)=486.79]"
     ]
    },
    {
     "name": "stdout",
     "output_type": "stream",
     "text": [
      "\n",
      "Original Sentence: STR in danger : Forest staff on indefinite hunger strike 23rd February 2013 11:44 AM Worried over the protection of Similipal biosphere and Kuldiha wildlife sanctuary , over 500 forest staffers , including foresters and forest guards , are on an indefinite strike from Friday over their demands .\n",
      "Tagged Sentence: STR in danger : Forest staff on <trigger>indefinite hunger strike from Friday over their demands</trigger> <cause>worried over the protection of Similipal biosphere and Kuldiha wildlife sanctuary</cause> , over 500 forest staffers , including foresters and forest guards , are on an <effect>indefinite strike</effect> .\n",
      "Label: 1\n",
      "---\n"
     ]
    },
    {
     "name": "stderr",
     "output_type": "stream",
     "text": [
      "Processing:  92%|█████████▏| 298/323 [1:33:22<18:36, 44.68s/rows, ETA (sec)=470.01]"
     ]
    },
    {
     "name": "stdout",
     "output_type": "stream",
     "text": [
      "\n",
      "Original Sentence: Their strike came a day after over 150 hunters made an unsuccessful attempt to enter the core area of Similipal Tiger Reserve ( STR ) for hunting wild animals .\n",
      "Tagged Sentence: Their <effect>strike</effect> came <trigger>a day after</trigger> over 150 hunters made an unsuccessful attempt to enter the core area of Similipal Tiger Reserve ( STR ) for hunting wild animals.\n",
      "Label: 1\n",
      "---\n"
     ]
    },
    {
     "name": "stderr",
     "output_type": "stream",
     "text": [
      "Processing:  93%|█████████▎| 299/323 [1:34:08<18:02, 45.12s/rows, ETA (sec)=453.40]"
     ]
    },
    {
     "name": "stdout",
     "output_type": "stream",
     "text": [
      "\n",
      "Original Sentence: Meanwhile , the forest staffers under the banner of Odisha Non-Gazetted Forest Service Association ( ONGFSA ) are sitting on an indefinite strike demanding enhancement of pay scale of forest guards as per the Sixth Pay Commission , regularisation of contractual foresters and forest guards and post upgradation of forest guards , foresters and deputy rangers .\n",
      "Tagged Sentence: Meanwhile , the forest staffers under the banner of Odisha Non-Gazetted Forest Service Association ( ONGFSA ) are sitting on an <effect>indefinite strike</effect> <trigger>demanding</trigger> <cause>enhancement of pay scale of forest guards as per the Sixth Pay Commission , regularisation of contractual foresters and forest guards and post upgradation of forest guards , foresters and deputy rangers</cause> .\n",
      "Label: 1\n",
      "---\n"
     ]
    },
    {
     "name": "stderr",
     "output_type": "stream",
     "text": [
      "Processing:  93%|█████████▎| 300/323 [1:34:47<16:36, 43.33s/rows, ETA (sec)=436.06]"
     ]
    },
    {
     "name": "stdout",
     "output_type": "stream",
     "text": [
      "\n",
      "Original Sentence: “ The strike will continue till our demands are conceded , ” said Mayurbhanj circle president Khageswar Sethy .\n",
      "Tagged Sentence: <effect>The strike will continue</effect> <trigger>till</trigger> <cause>our demands are conceded</cause>,\" said Mayurbhanj circle president Khageswar Sethy.\n",
      "Label: 1\n",
      "---\n"
     ]
    },
    {
     "name": "stderr",
     "output_type": "stream",
     "text": [
      "Processing:  93%|█████████▎| 301/323 [1:35:34<16:12, 44.21s/rows, ETA (sec)=419.10]"
     ]
    },
    {
     "name": "stdout",
     "output_type": "stream",
     "text": [
      "\n",
      "Original Sentence: Jaswant Singh had referred to three issues , the Gujarat communal carnage , the cash-for-votes scam and the Kandahar plane hijack and blamed Advani on all the three counts .\n",
      "Tagged Sentence: NoTag\n",
      "Label: 0\n",
      "---\n"
     ]
    },
    {
     "name": "stderr",
     "output_type": "stream",
     "text": [
      "Processing:  93%|█████████▎| 302/323 [1:36:25<16:12, 46.30s/rows, ETA (sec)=402.28]"
     ]
    },
    {
     "name": "stdout",
     "output_type": "stream",
     "text": [
      "\n",
      "Original Sentence: Singh had recently blamed Advani for coming to Gujarat Chief Minister Narendra Modi ’ s rescue and ensured that he was not sacked , in the wake of the riots .\n",
      "Tagged Sentence: Singh had recently blamed Advani for coming to Gujarat Chief Minister Narendra Modi’s rescue and ensured that he was not sacked, <trigger>in the wake of</trigger> <cause>the riots</cause>.\n",
      "Label: 1\n",
      "---\n"
     ]
    },
    {
     "name": "stderr",
     "output_type": "stream",
     "text": [
      "Processing:  94%|█████████▍| 303/323 [1:37:07<15:02, 45.15s/rows, ETA (sec)=384.67]"
     ]
    },
    {
     "name": "stdout",
     "output_type": "stream",
     "text": [
      "\n",
      "Original Sentence: On Kandahar plane hijack issue , Singh said Advani was not speaking the truth .\n",
      "Tagged Sentence: NoTag\n",
      "Label: 0\n",
      "---\n"
     ]
    },
    {
     "name": "stderr",
     "output_type": "stream",
     "text": [
      "Processing:  94%|█████████▍| 304/323 [1:37:55<14:31, 45.86s/rows, ETA (sec)=367.20]"
     ]
    },
    {
     "name": "stdout",
     "output_type": "stream",
     "text": [
      "\n",
      "Original Sentence: Elaborating on the three issues , Singhvi said , “ The BJP gave sermons on Raj Dharma and turned a Nelson ’ s eye to the communal carnage , which became a big blot on the fair name of the country . ”\n",
      "Tagged Sentence: Elaborating on the three issues , Singhvi said , \" The BJP gave sermons on Raj Dharma and <cause>turned a Nelson's eye to the communal carnage</cause><trigger>which</trigger> <effect>became a big blot on the fair name of the country</effect>. \"\n",
      "Label: 1\n",
      "---\n"
     ]
    },
    {
     "name": "stderr",
     "output_type": "stream",
     "text": [
      "Processing:  94%|█████████▍| 305/323 [1:38:46<14:17, 47.63s/rows, ETA (sec)=349.79]"
     ]
    },
    {
     "name": "stdout",
     "output_type": "stream",
     "text": [
      "\n",
      "Original Sentence: THALASSERY : End political killings : Rajnath September 27 , 2014 00:00 IST Says decision on CBI probe into Manoj murder soon Union Home Minister Rajnath Singh has said that a decision on the probe by the Central Bureau of Investigation ( CBI ) into the murder of Rashtriya Swayamsevak Sangh ( RSS ) functionary E. Manoj will be taken soon .\n",
      "Tagged Sentence: NoTag\n",
      "Label: 0\n",
      "---\n"
     ]
    },
    {
     "name": "stderr",
     "output_type": "stream",
     "text": [
      "Processing:  95%|█████████▍| 306/323 [1:39:37<13:46, 48.63s/rows, ETA (sec)=332.11]"
     ]
    },
    {
     "name": "stdout",
     "output_type": "stream",
     "text": [
      "\n",
      "Original Sentence: Addressing members of the families of Bharatiya Janata Party ( BJP ) and RSS workers who had lost their lives in attacks by alleged Communist Party of India ( Marxist ) workers in the region on Friday , Mr. Singh said a decision on the CBI investigation , recommended by the State government into the murder of Manoj , would be taken soon .\n",
      "Tagged Sentence: Addressing members of the families of Bharatiya Janata Party ( BJP ) and RSS workers who had <trigger>lost their lives</trigger> <cause>in attacks by alleged Communist Party of India ( Marxist ) workers in the region on Friday</cause>, Mr. Singh said a decision on the CBI investigation , <trigger>recommended</trigger> by the State government into the murder of Manoj , would be taken soon.\n",
      "Label: 1\n",
      "---\n"
     ]
    },
    {
     "name": "stderr",
     "output_type": "stream",
     "text": [
      "Processing:  95%|█████████▌| 307/323 [1:40:23<12:43, 47.73s/rows, ETA (sec)=313.93]"
     ]
    },
    {
     "name": "stdout",
     "output_type": "stream",
     "text": [
      "\n",
      "Original Sentence: The Minister said he had spoken to Chief Minister Oommen Chandy after the murder and demanded that action be taken to end violence in the region .\n",
      "Tagged Sentence: The Minister said he had spoken to Chief Minister Oommen Chandy <trigger>after</trigger> the <cause>murder</cause> and <effect>demanded that action be taken to end violence in the region</effect>.\n",
      "Label: 1\n",
      "---\n"
     ]
    },
    {
     "name": "stderr",
     "output_type": "stream",
     "text": [
      "Processing:  95%|█████████▌| 308/323 [1:41:10<11:51, 47.45s/rows, ETA (sec)=295.64]"
     ]
    },
    {
     "name": "stdout",
     "output_type": "stream",
     "text": [
      "\n",
      "Original Sentence: After the visit , he addressed the gathering of the families of slain BJP-RSS workers at the RSS office nearby .\n",
      "Tagged Sentence: NoTag\n",
      "Label: 0\n",
      "---\n"
     ]
    },
    {
     "name": "stderr",
     "output_type": "stream",
     "text": [
      "Processing:  96%|█████████▌| 309/323 [1:41:53<10:44, 46.04s/rows, ETA (sec)=276.97]"
     ]
    },
    {
     "name": "stdout",
     "output_type": "stream",
     "text": [
      "\n",
      "Original Sentence: Large number of BJP-RSS workers turned up at the venue to attend the function held in the afternoon .\n",
      "Tagged Sentence: Large number of BJP-RSS workers turned up at the venue to <trigger>attend</trigger> the <cause>function held in the afternoon</cause>.\n",
      "Label: 1\n",
      "---\n"
     ]
    },
    {
     "name": "stderr",
     "output_type": "stream",
     "text": [
      "Processing:  96%|█████████▌| 310/323 [1:42:35<09:45, 45.06s/rows, ETA (sec)=258.15]"
     ]
    },
    {
     "name": "stdout",
     "output_type": "stream",
     "text": [
      "\n",
      "Original Sentence: The function was held amid tight police security in view of the tense situation in the area in the aftermath of the murder of Manoj .\n",
      "Tagged Sentence: The function was held amid <effect>tight police security</effect> <trigger>in view of</trigger> <cause>the tense situation in the area in the aftermath of the murder of Manoj</cause>.\n",
      "Label: 1\n",
      "---\n"
     ]
    },
    {
     "name": "stderr",
     "output_type": "stream",
     "text": [
      "Processing:  96%|█████████▋| 311/323 [1:43:17<08:49, 44.13s/rows, ETA (sec)=239.15]"
     ]
    },
    {
     "name": "stdout",
     "output_type": "stream",
     "text": [
      "\n",
      "Original Sentence: He is facing charges of violating a court order , public violence , assault , theft , and damage to property during the 2016 protest against `` colonised '' tertiary education .\n",
      "Tagged Sentence: He is facing charges of violating a court order , public violence , assault , theft , and damage to property <trigger>during</trigger> the 2016 protest against `` colonised '' tertiary education .\n",
      "Label: 1\n",
      "---\n"
     ]
    },
    {
     "name": "stderr",
     "output_type": "stream",
     "text": [
      "Processing:  97%|█████████▋| 312/323 [1:43:59<07:58, 43.49s/rows, ETA (sec)=219.99]"
     ]
    },
    {
     "name": "stdout",
     "output_type": "stream",
     "text": [
      "\n",
      "Original Sentence: The drivers allegedly shot Mandisi Ngomani several times in the back while he was running away from them several days before a taxi strike in September last year .\n",
      "Tagged Sentence: The drivers <cause>allegedly shot Mandisi Ngomani several times in the back</cause> <trigger>while he was running away from them</trigger> several days before <effect>a taxi strike in September last year</effect>.\n",
      "Label: 1\n",
      "---\n"
     ]
    },
    {
     "name": "stderr",
     "output_type": "stream",
     "text": [
      "Processing:  97%|█████████▋| 313/323 [1:44:49<07:33, 45.31s/rows, ETA (sec)=200.94]"
     ]
    },
    {
     "name": "stdout",
     "output_type": "stream",
     "text": [
      "\n",
      "Original Sentence: Assembly polls : BJP , Congress workers clash in Madhya Pradesh - Indian Express PTI , PTI : Mhow , Thu Nov 21 2013 , 14:33 hrs A case under various sections of the IPC was registered against Congress workers ( PTI : Picture for representation )\n",
      "Tagged Sentence: NoTag\n",
      "Label: 0\n",
      "---\n"
     ]
    },
    {
     "name": "stderr",
     "output_type": "stream",
     "text": [
      "Processing:  97%|█████████▋| 314/323 [1:45:32<06:40, 44.55s/rows, ETA (sec)=181.50]"
     ]
    },
    {
     "name": "stdout",
     "output_type": "stream",
     "text": [
      "\n",
      "Original Sentence: Seven BJP workers were injured in a clash with their Congress counterparts at Pigdambar village in Mhow tahsil of poll-bound Madhya Pradesh , police said on Thursday .\n",
      "Tagged Sentence: Seven BJP workers were injured in a <trigger>clash</trigger> with their Congress counterparts at Pigdambar village in Mhow tahsil of poll-bound Madhya Pradesh, police said on Thursday.\n",
      "Label: 1\n",
      "---\n"
     ]
    },
    {
     "name": "stderr",
     "output_type": "stream",
     "text": [
      "Processing:  98%|█████████▊| 315/323 [1:46:17<05:57, 44.72s/rows, ETA (sec)=161.96]"
     ]
    },
    {
     "name": "stdout",
     "output_type": "stream",
     "text": [
      "\n",
      "Original Sentence: The incident occurred when the BJP workers travelling in an SUV were allegedly intercepted at the village last night by the Congress workers , they said .\n",
      "Tagged Sentence: <effect>The incident occurred</effect> <trigger>when</trigger> <cause>the BJP workers travelling in an SUV were allegedly intercepted at the village last night by the Congress workers</cause>, they said.\n",
      "Label: 1\n",
      "---\n"
     ]
    },
    {
     "name": "stderr",
     "output_type": "stream",
     "text": [
      "Processing:  98%|█████████▊| 316/323 [1:46:57<05:04, 43.49s/rows, ETA (sec)=142.17]"
     ]
    },
    {
     "name": "stdout",
     "output_type": "stream",
     "text": [
      "\n",
      "Original Sentence: An altercation broke out between the two groups , which turned into fisticuffs , police said .\n",
      "Tagged Sentence: NoTag\n",
      "Label: 0\n",
      "---\n"
     ]
    },
    {
     "name": "stderr",
     "output_type": "stream",
     "text": [
      "Processing:  98%|█████████▊| 317/323 [1:47:41<04:20, 43.44s/rows, ETA (sec)=122.29]"
     ]
    },
    {
     "name": "stdout",
     "output_type": "stream",
     "text": [
      "\n",
      "Original Sentence: Rallies by ruling BJP and Congress are going on in full swing ahead of the November 25 Assembly elections .\n",
      "Tagged Sentence: NoTag\n",
      "Label: 0\n",
      "---\n"
     ]
    },
    {
     "name": "stderr",
     "output_type": "stream",
     "text": [
      "Processing:  98%|█████████▊| 318/323 [1:48:22<03:34, 42.87s/rows, ETA (sec)=102.24]"
     ]
    },
    {
     "name": "stdout",
     "output_type": "stream",
     "text": [
      "\n",
      "Original Sentence: Newly appointed municipal manager of Richmond , KZN , shot dead Giordano Stolley DURBAN , March 6 ( ANA ) - Just days before he was due to take up his post , Richmond 's newly appointed municipal manager , Edward Sithole , was gunned down in the town on Monday morning .\n",
      "Tagged Sentence: NoTag\n",
      "Label: 0\n",
      "---\n"
     ]
    },
    {
     "name": "stderr",
     "output_type": "stream",
     "text": [
      "Processing:  99%|█████████▉| 319/323 [1:49:05<02:50, 42.73s/rows, ETA (sec)=82.07] "
     ]
    },
    {
     "name": "stdout",
     "output_type": "stream",
     "text": [
      "\n",
      "Original Sentence: Police spokesman , Lieutenant Colonel Thulani Zwane , said : `` Today , at about 08:45 , a man believed to be in his forties was attacked by two unknown suspects who shot him at Victoria Road , Richmond . ''\n",
      "Tagged Sentence: NoTag\n",
      "Label: 0\n",
      "---\n"
     ]
    },
    {
     "name": "stderr",
     "output_type": "stream",
     "text": [
      "Processing:  99%|█████████▉| 320/323 [1:49:51<02:11, 43.91s/rows, ETA (sec)=61.80]"
     ]
    },
    {
     "name": "stdout",
     "output_type": "stream",
     "text": [
      "\n",
      "Original Sentence: National Freedom Party spokesman , Sabelo Sigudu , said : `` The National Freedom Party ( NFP ) wishes to express words of condolence on the sad shooting and killing of Mr Sithole , the Municipality Manager of Richmond Local Municipality , which took place this morning . ''\n",
      "Tagged Sentence: NoTag\n",
      "Label: 0\n",
      "---\n"
     ]
    },
    {
     "name": "stderr",
     "output_type": "stream",
     "text": [
      "Processing:  99%|█████████▉| 321/323 [1:50:28<01:23, 41.86s/rows, ETA (sec)=41.30]"
     ]
    },
    {
     "name": "stdout",
     "output_type": "stream",
     "text": [
      "\n",
      "Original Sentence: He described the shooting as `` evil '' .\n",
      "Tagged Sentence: NoTag\n",
      "Label: 0\n",
      "---\n"
     ]
    },
    {
     "name": "stderr",
     "output_type": "stream",
     "text": [
      "Processing: 100%|█████████▉| 322/323 [1:51:10<00:41, 41.67s/rows, ETA (sec)=20.71]"
     ]
    },
    {
     "name": "stdout",
     "output_type": "stream",
     "text": [
      "\n",
      "Original Sentence: On Sunday , three explosions in the south of the region killed two people and injured many others .\n",
      "Tagged Sentence: NoTag\n",
      "Label: 0\n",
      "---\n"
     ]
    },
    {
     "name": "stderr",
     "output_type": "stream",
     "text": [
      "Processing: 100%|██████████| 323/323 [1:51:57<00:00, 20.80s/rows, ETA (sec)=0.00] "
     ]
    },
    {
     "name": "stdout",
     "output_type": "stream",
     "text": [
      "\n",
      "Original Sentence: Uighur groups abroad say the clashes are a desperate protest against religious oppression and economic marginalisation .\n",
      "Tagged Sentence: Uighur groups abroad say the <effect>clashes</effect> are <trigger>a desperate protest</trigger> <cause>against religious oppression and economic marginalisation</cause>.\n",
      "Label: 1\n",
      "---\n"
     ]
    },
    {
     "name": "stderr",
     "output_type": "stream",
     "text": [
      "\n"
     ]
    }
   ],
   "source": [
    "total_rows = len(df)  \n",
    "start_time = time.time()\n",
    "\n",
    "with tqdm(total=total_rows, desc=\"Processing\", unit=\"rows\") as pbar:\n",
    "    for index, row in df.iterrows():\n",
    "\n",
    "        try:\n",
    "            with open(\"test_pred_2.json\", \"r\", encoding=\"utf-8\") as f:\n",
    "                data = json.load(f)\n",
    "        except (FileNotFoundError, json.JSONDecodeError):\n",
    "            data = []\n",
    "\n",
    "        flag = 0\n",
    "\n",
    "        for i in range(len(data)):\n",
    "            if data[i][\"original\"] == row[\"text\"]:\n",
    "                print(i, \" Skipped.\")\n",
    "                flag = 1\n",
    "                break\n",
    "\n",
    "        if flag == 1:\n",
    "            pbar.update(1)\n",
    "            continue\n",
    "\n",
    "        llm_output = generate(llm, row[\"text\"], graph, embeddings)\n",
    "        match = re.search(r\"\\{.*\\}\", llm_output, re.DOTALL)\n",
    "        if match:\n",
    "            json_data = match.group(0)\n",
    "            try:\n",
    "                json_data = json.loads(json_data)\n",
    "            except json.JSONDecodeError:\n",
    "                print(f\"Error: Invalid JSON at row {index}. Skipping...\")\n",
    "                pbar.update(1)\n",
    "                continue\n",
    "        else:\n",
    "            print(f\"Error: No JSON found in row {index}. Skipping...\")\n",
    "            pbar.update(1)\n",
    "            continue\n",
    "\n",
    "        tagged = json_data.get(\"tagged\", \"\")\n",
    "        label = json_data.get(\"label\", \"\")\n",
    "        data.append({\"tagged\": tagged, \"label\": label, \"original\": row[\"text\"]})\n",
    "\n",
    "        with open(\"test_pred_2.json\", \"w\", encoding=\"utf-8\") as f:\n",
    "            json.dump(data, f, indent=4, ensure_ascii=False)\n",
    "\n",
    "        pbar.update(1)\n",
    "        elapsed_time = time.time() - start_time\n",
    "        avg_time_per_row = elapsed_time / (index + 1)\n",
    "        remaining_time = avg_time_per_row * (total_rows - (index + 1))\n",
    "        pbar.set_postfix({\"ETA (sec)\": f\"{remaining_time:.2f}\"})\n",
    "\n",
    "        print(\"\\nOriginal Sentence:\", row[\"text\"])\n",
    "        print(\"Tagged Sentence:\", tagged)\n",
    "        print(\"Label:\", label)\n",
    "        print(\"---\")"
   ]
  },
  {
   "cell_type": "code",
   "execution_count": 25,
   "metadata": {},
   "outputs": [],
   "source": [
    "with open(\"test_pred_2.json\", \"r\", encoding=\"utf-8\") as file:\n",
    "    data = json.load(file)"
   ]
  },
  {
   "cell_type": "code",
   "execution_count": 26,
   "metadata": {},
   "outputs": [],
   "source": [
    "df_predictions = pd.DataFrame(data, columns=[ \"tagged\", \"label\", \"original\"])"
   ]
  },
  {
   "cell_type": "code",
   "execution_count": 27,
   "metadata": {},
   "outputs": [],
   "source": [
    "df_predictions.rename(columns={\n",
    "    \"original\": \"original_sentence\",\n",
    "    \"tagged\": \"tagged_sentence\",\n",
    "    \"label\": \"label\"\n",
    "}, inplace=True)"
   ]
  },
  {
   "cell_type": "code",
   "execution_count": 28,
   "metadata": {},
   "outputs": [],
   "source": [
    "df_predictions[\"label\"] = pd.to_numeric(df_predictions[\"label\"], errors='coerce')"
   ]
  },
  {
   "cell_type": "code",
   "execution_count": 29,
   "metadata": {},
   "outputs": [],
   "source": [
    "df_predictions[\"label\"] = pd.to_numeric(df_predictions[\"label\"], errors='coerce').fillna(0).astype(int)"
   ]
  },
  {
   "cell_type": "code",
   "execution_count": 30,
   "metadata": {},
   "outputs": [],
   "source": [
    "common_df = df.merge(df_predictions, left_on=\"text\", right_on=\"original_sentence\", suffixes=('_df', '_pred'))"
   ]
  },
  {
   "cell_type": "code",
   "execution_count": 32,
   "metadata": {},
   "outputs": [
    {
     "name": "stdout",
     "output_type": "stream",
     "text": [
      "F1 Score: 0.8184281842818428\n",
      "Accuracy: 0.7925696594427245\n",
      "Precision: 0.7905759162303665\n",
      "Recall: 0.848314606741573\n",
      "Matthews Correlation Coefficient: 0.5792017135727426\n"
     ]
    }
   ],
   "source": [
    "f1 = f1_score(common_df['label_df'], common_df['label_pred'])\n",
    "print(\"F1 Score:\", f1)\n",
    "\n",
    "accuracy = accuracy_score(common_df['label_df'], common_df['label_pred'])\n",
    "print(\"Accuracy:\", accuracy)\n",
    "\n",
    "precision = precision_score(common_df['label_df'], common_df['label_pred'])\n",
    "print(\"Precision:\", precision)\n",
    "\n",
    "recall = recall_score(common_df['label_df'], common_df['label_pred'])\n",
    "print(\"Recall:\", recall)\n",
    "\n",
    "MCC = matthews_corrcoef(common_df['label_df'], common_df['label_pred'])\n",
    "print(\"Matthews Correlation Coefficient:\", MCC)"
   ]
  },
  {
   "cell_type": "markdown",
   "metadata": {},
   "source": [
    "# F1 Score after 20 examples"
   ]
  },
  {
   "cell_type": "code",
   "execution_count": 9,
   "metadata": {},
   "outputs": [
    {
     "name": "stderr",
     "output_type": "stream",
     "text": [
      "Processing:   0%|          | 0/323 [00:00<?, ?rows/s]"
     ]
    },
    {
     "name": "stdout",
     "output_type": "stream",
     "text": [
      "0  Skipped.\n",
      "1  Skipped.\n",
      "2  Skipped.\n",
      "3  Skipped.\n",
      "4  Skipped.\n",
      "5  Skipped.\n",
      "6  Skipped.\n",
      "7  Skipped.\n",
      "8  Skipped.\n",
      "9  Skipped.\n",
      "10  Skipped.\n",
      "11  Skipped.\n",
      "12  Skipped.\n",
      "13  Skipped.\n"
     ]
    },
    {
     "name": "stderr",
     "output_type": "stream",
     "text": [
      "Processing:  29%|██▉       | 95/323 [00:02<00:04, 50.67rows/s, ETA (sec)=49.52]"
     ]
    },
    {
     "name": "stdout",
     "output_type": "stream",
     "text": [
      "\n",
      "Original Sentence: Both sides were raining bombs on each other and Mondal was hit by one of the bombs , \" Murshidabad district magistrate Pervez Ahmed Siddiqui said .\n",
      "Tagged Sentence: NoTag\n",
      "Label: 0\n",
      "---\n",
      "14  Skipped.\n",
      "15  Skipped.\n",
      "16  Skipped.\n",
      "17  Skipped.\n",
      "18  Skipped.\n",
      "19  Skipped.\n",
      "20  Skipped.\n",
      "21  Skipped.\n",
      "22  Skipped.\n",
      "23  Skipped.\n",
      "24  Skipped.\n",
      "25  Skipped.\n",
      "26  Skipped.\n",
      "27  Skipped.\n",
      "28  Skipped.\n",
      "29  Skipped.\n",
      "30  Skipped.\n",
      "31  Skipped.\n",
      "32  Skipped.\n",
      "33  Skipped.\n",
      "34  Skipped.\n",
      "35  Skipped.\n",
      "36  Skipped.\n",
      "37  Skipped.\n",
      "38  Skipped.\n",
      "39  Skipped.\n",
      "40  Skipped.\n",
      "41  Skipped.\n",
      "42  Skipped.\n",
      "43  Skipped.\n",
      "44  Skipped.\n",
      "45  Skipped.\n",
      "46  Skipped.\n",
      "47  Skipped.\n",
      "48  Skipped.\n",
      "49  Skipped.\n",
      "50  Skipped.\n",
      "51  Skipped.\n",
      "52  Skipped.\n",
      "53  Skipped.\n",
      "54  Skipped.\n",
      "55  Skipped.\n",
      "56  Skipped.\n",
      "57  Skipped.\n",
      "58  Skipped.\n",
      "59  Skipped.\n",
      "60  Skipped.\n",
      "61  Skipped.\n",
      "62  Skipped.\n",
      "63  Skipped.\n",
      "64  Skipped.\n",
      "65  Skipped.\n",
      "66  Skipped.\n",
      "67  Skipped.\n",
      "68  Skipped.\n",
      "69  Skipped.\n",
      "70  Skipped.\n",
      "71  Skipped.\n",
      "72  Skipped.\n",
      "73  Skipped.\n",
      "74  Skipped.\n",
      "75  Skipped.\n",
      "76  Skipped.\n",
      "77  Skipped.\n",
      "78  Skipped.\n",
      "79  Skipped.\n",
      "80  Skipped.\n",
      "81  Skipped.\n",
      "82  Skipped.\n",
      "83  Skipped.\n",
      "84  Skipped.\n",
      "85  Skipped.\n",
      "86  Skipped.\n",
      "87  Skipped.\n",
      "88  Skipped.\n",
      "89  Skipped.\n",
      "90  Skipped.\n",
      "91  Skipped.\n",
      "92  Skipped.\n",
      "93  Skipped.\n",
      "94  Skipped.\n",
      "95  Skipped.\n",
      "96  Skipped.\n",
      "97  Skipped.\n",
      "98  Skipped.\n",
      "99  Skipped.\n",
      "100  Skipped.\n",
      "101  Skipped.\n",
      "102  Skipped.\n",
      "103  Skipped.\n",
      "104  Skipped.\n",
      "105  Skipped.\n",
      "106  Skipped.\n",
      "107  Skipped.\n",
      "108  Skipped.\n",
      "109  Skipped.\n",
      "110  Skipped.\n",
      "111  Skipped.\n",
      "112  Skipped.\n",
      "113  Skipped.\n",
      "114  Skipped.\n",
      "115  Skipped.\n",
      "116  Skipped.\n",
      "117  Skipped.\n",
      "118  Skipped.\n",
      "119  Skipped.\n",
      "120  Skipped.\n",
      "121  Skipped.\n",
      "122  Skipped.\n",
      "123  Skipped.\n",
      "124  Skipped.\n",
      "125  Skipped.\n",
      "126  Skipped.\n",
      "127  Skipped.\n",
      "128  Skipped.\n",
      "129  Skipped.\n",
      "130  Skipped.\n",
      "131  Skipped.\n",
      "132  Skipped.\n",
      "133  Skipped.\n",
      "134  Skipped.\n",
      "135  Skipped.\n",
      "136  Skipped.\n",
      "137  Skipped.\n",
      "138  Skipped.\n",
      "139  Skipped.\n",
      "140  Skipped.\n",
      "141  Skipped.\n",
      "142  Skipped.\n",
      "143  Skipped.\n",
      "144  Skipped.\n",
      "145  Skipped.\n",
      "146  Skipped.\n",
      "147  Skipped.\n",
      "148  Skipped.\n",
      "149  Skipped.\n",
      "150  Skipped.\n",
      "151  Skipped.\n",
      "152  Skipped.\n",
      "153  Skipped.\n",
      "154  Skipped.\n"
     ]
    },
    {
     "name": "stderr",
     "output_type": "stream",
     "text": [
      "Processing:  49%|████▊     | 157/323 [00:42<00:54,  3.07rows/s, ETA (sec)=44.57]"
     ]
    },
    {
     "name": "stdout",
     "output_type": "stream",
     "text": [
      "\n",
      "Original Sentence: The ANC in the North West has threatened to take action against unruly members who disrupted a provincial executive committee ( PEC ) meeting , the party said on Thursday .\n",
      "Tagged Sentence: NoTag\n",
      "Label: 0\n",
      "---\n",
      "155  Skipped.\n",
      "156  Skipped.\n",
      "157  Skipped.\n",
      "158  Skipped.\n",
      "159  Skipped.\n",
      "160  Skipped.\n",
      "161  Skipped.\n",
      "162  Skipped.\n",
      "163  Skipped.\n",
      "164  Skipped.\n",
      "165  Skipped.\n",
      "166  Skipped.\n",
      "167  Skipped.\n",
      "168  Skipped.\n",
      "169  Skipped.\n",
      "170  Skipped.\n",
      "171  Skipped.\n",
      "172  Skipped.\n",
      "173  Skipped.\n",
      "174  Skipped.\n",
      "175  Skipped.\n",
      "176  Skipped.\n",
      "177  Skipped.\n",
      "178  Skipped.\n",
      "179  Skipped.\n",
      "180  Skipped.\n",
      "181  Skipped.\n",
      "182  Skipped.\n",
      "183  Skipped.\n",
      "184  Skipped.\n",
      "185  Skipped.\n",
      "186  Skipped.\n",
      "187  Skipped.\n",
      "188  Skipped.\n",
      "189  Skipped.\n",
      "190  Skipped.\n",
      "191  Skipped.\n",
      "192  Skipped.\n",
      "193  Skipped.\n",
      "194  Skipped.\n",
      "195  Skipped.\n",
      "196  Skipped.\n",
      "197  Skipped.\n",
      "198  Skipped.\n",
      "199  Skipped.\n",
      "200  Skipped.\n",
      "201  Skipped.\n",
      "202  Skipped.\n",
      "203  Skipped.\n",
      "204  Skipped.\n",
      "205  Skipped.\n",
      "206  Skipped.\n",
      "207  Skipped.\n",
      "208  Skipped.\n",
      "209  Skipped.\n",
      "210  Skipped.\n"
     ]
    },
    {
     "name": "stderr",
     "output_type": "stream",
     "text": [
      "Processing:  66%|██████▋   | 214/323 [01:38<01:03,  1.71rows/s, ETA (sec)=49.93]"
     ]
    },
    {
     "name": "stdout",
     "output_type": "stream",
     "text": [
      "\n",
      "Original Sentence: On Thursday night around 25 dissidents in the DMK tried to burn the former Minister and district secretary of the party , Pongalur N. Palanisamy , in effigy for choosing the candidate .\n",
      "Tagged Sentence: On Thursday night around <trigger>25 dissidents in the DMK tried to burn the former Minister and district secretary of the party, Pongalur N. Palanisamy, in effigy for</trigger> <cause>choosing the candidate</cause>. <effect>The dissidents tried to burn the former Minister and district secretary of the party, Pongalur N. Palanisamy, in effigy</effect>.\n",
      "Label: 1\n",
      "---\n"
     ]
    },
    {
     "name": "stderr",
     "output_type": "stream",
     "text": [
      "Processing:  67%|██████▋   | 215/323 [02:31<01:58,  1.10s/rows, ETA (sec)=75.86]"
     ]
    },
    {
     "name": "stdout",
     "output_type": "stream",
     "text": [
      "\n",
      "Original Sentence: Auto , taxi stir off 17th November 2012 09:26 AM The auto , taxi strike was called off on Friday , after a joint coordination committee meeting decision to accept the fare revision suggested by the state govt .\n",
      "Tagged Sentence: Auto , taxi stir off 17th November 2012 09:26 AM <effect>The auto , taxi strike was called off</effect> on Friday , <trigger>after</trigger> a joint coordination committee meeting decision to accept the fare revision suggested by the state govt .\n",
      "Label: 1\n",
      "---\n"
     ]
    },
    {
     "name": "stderr",
     "output_type": "stream",
     "text": [
      "Processing:  67%|██████▋   | 216/323 [03:22<03:11,  1.79s/rows, ETA (sec)=100.21]"
     ]
    },
    {
     "name": "stdout",
     "output_type": "stream",
     "text": [
      "\n",
      "Original Sentence: The indefinite auto , taxi strike was launched on Thursday by various trade unions seeking a fare hike .\n",
      "Tagged Sentence: The <effect>indefinite auto , taxi strike was launched</effect> <trigger>by</trigger> <cause>various trade unions seeking a fare hike</cause> on Thursday .\n",
      "Label: 1\n",
      "---\n"
     ]
    },
    {
     "name": "stderr",
     "output_type": "stream",
     "text": [
      "Processing:  67%|██████▋   | 217/323 [04:11<04:47,  2.71s/rows, ETA (sec)=123.03]"
     ]
    },
    {
     "name": "stdout",
     "output_type": "stream",
     "text": [
      "\n",
      "Original Sentence: Though the government on Thursday increased the minimum charge for auto travel to Rs 14 and that of taxis to Rs 100 , the trade unions were not ready to withdraw the strike .\n",
      "Tagged Sentence: <cause>Though the government on Thursday increased the minimum charge for auto travel to Rs 14 and that of taxis to Rs 100</cause> <trigger>though</trigger> <effect>the trade unions were not ready to withdraw the strike</effect>.\n",
      "Label: 1\n",
      "---\n"
     ]
    },
    {
     "name": "stderr",
     "output_type": "stream",
     "text": [
      "Processing:  67%|██████▋   | 218/323 [05:04<07:03,  4.04s/rows, ETA (sec)=146.45]"
     ]
    },
    {
     "name": "stdout",
     "output_type": "stream",
     "text": [
      "\n",
      "Original Sentence: It is learnt that many leaders of auto rickshaw trade unions are not happy about the decision to withdraw the strike as their demand onminimum fare was not met. “ We will meet the Transport Minister on November 21 in this regard , ” said Kozhikode District Motor and Engineering Workers Union secretary Balan Nair .\n",
      "Tagged Sentence: It is learnt that <effect>many leaders of auto rickshaw trade unions are not happy</effect> <trigger>as</trigger> <cause>their demand onminimum fare was not met</cause>. \" We will meet the Transport Minister on November 21 in this regard , \" said Kozhikode District Motor and Engineering Workers Union secretary Balan Nair .\n",
      "Label: 1\n",
      "---\n"
     ]
    },
    {
     "name": "stderr",
     "output_type": "stream",
     "text": [
      "Processing:  68%|██████▊   | 219/323 [06:01<10:25,  6.02s/rows, ETA (sec)=171.80]"
     ]
    },
    {
     "name": "stdout",
     "output_type": "stream",
     "text": [
      "\n",
      "Original Sentence: Kochi : Lawyers boycott courts July 23 , 2016 00:00 IST For the second day , lawyers boycotted the High Court and other courts in the city on Friday in response to a call by the Kerala High Court Advocates ’ Association .\n",
      "Tagged Sentence: Kochi : <effect>Lawyers boycott courts July 23 , 2016 00:00 IST For the second day , lawyers boycotted the High Court and other courts in the city on Friday</effect> <trigger>in response to</trigger> <cause>a call by the Kerala High Court Advocates ’ Association</cause>.\n",
      "Label: 1\n",
      "---\n"
     ]
    },
    {
     "name": "stderr",
     "output_type": "stream",
     "text": [
      "Processing:  68%|██████▊   | 220/323 [06:51<14:06,  8.22s/rows, ETA (sec)=192.82]"
     ]
    },
    {
     "name": "stdout",
     "output_type": "stream",
     "text": [
      "\n",
      "Original Sentence: The association decided to boycott the courts to express solidarity with the lawyers at the Thiruvananthapuram Bar Association , in the wake of what it called attacks on lawyers .\n",
      "Tagged Sentence: The association decided to <cause>boycott the courts</cause> to express solidarity with the lawyers at the Thiruvananthapuram Bar Association , <trigger>in the wake of</trigger> what it called <effect>attacks on lawyers</effect> .\n",
      "Label: 1\n",
      "---\n"
     ]
    },
    {
     "name": "stderr",
     "output_type": "stream",
     "text": [
      "Processing:  68%|██████▊   | 221/323 [07:45<19:09, 11.27s/rows, ETA (sec)=214.97]"
     ]
    },
    {
     "name": "stdout",
     "output_type": "stream",
     "text": [
      "\n",
      "Original Sentence: June 4 march suffers ' worst ever ' turnout PUBLISHED : Monday , 29 May , 2000 , 12:00am The annual pro-democracy march marking the 1989 Tiananmen Square massacre yesterday had what is believed to have been its lowest ever turnout , with only an estimated 1,000 people taking part .\n",
      "Tagged Sentence: June 4 march suffers ' worst ever ' turnout PUBLISHED : Monday , 29 May , 2000 , 12:00am The annual pro-democracy march <trigger>marking</trigger> the <cause>1989 Tiananmen Square massacre</cause> yesterday had what is believed to have been its <effect>lowest ever turnout</effect> , with only an estimated 1,000 people taking part .\n",
      "Label: 1\n",
      "---\n"
     ]
    },
    {
     "name": "stderr",
     "output_type": "stream",
     "text": [
      "Processing:  69%|██████▊   | 222/323 [08:41<25:25, 15.10s/rows, ETA (sec)=237.04]"
     ]
    },
    {
     "name": "stdout",
     "output_type": "stream",
     "text": [
      "\n",
      "Original Sentence: Eighteen children , aged from three to 14 , led the protest , organised by the Hongkong Alliance in Support of the Patriotic Democratic Movement in China .\n",
      "Tagged Sentence: Eighteen children, aged from three to 14, <effect>led the protest</effect>, <trigger>organised by</trigger> <cause>the Hongkong Alliance in Support of the Patriotic Democratic Movement in China</cause>.\n",
      "Label: 1\n",
      "---\n"
     ]
    },
    {
     "name": "stderr",
     "output_type": "stream",
     "text": [
      "Processing:  69%|██████▉   | 223/323 [09:37<32:43, 19.63s/rows, ETA (sec)=258.78]"
     ]
    },
    {
     "name": "stdout",
     "output_type": "stream",
     "text": [
      "\n",
      "Original Sentence: Alliance head Szeto Wah , also a Democratic Party legislator , said the children took part to demonstrate the theme of ' keeping the fire [ of democracy ] alive ' and to teach the younger generation about democratic development on the mainland .\n",
      "Tagged Sentence: Alliance head Szeto Wah, also a Democratic Party legislator, said the children <trigger>to</trigger> <cause>demonstrate the theme of 'keeping the fire [of democracy] alive' and to teach the younger generation about democratic development on the mainland</cause> <effect>took part</effect>.\n",
      "Label: 1\n",
      "---\n"
     ]
    },
    {
     "name": "stderr",
     "output_type": "stream",
     "text": [
      "Processing:  69%|██████▉   | 224/323 [10:27<39:17, 23.81s/rows, ETA (sec)=277.26]"
     ]
    },
    {
     "name": "stdout",
     "output_type": "stream",
     "text": [
      "\n",
      "Original Sentence: Chanting anti-communist slogans and waving banners , the children led the demonstrators carrying black and white placards through the streets of Causeway Bay , Wan Chai , and on to the Central Government Offices in Central .\n",
      "Tagged Sentence: NoTag\n",
      "Label: 0\n",
      "---\n"
     ]
    },
    {
     "name": "stderr",
     "output_type": "stream",
     "text": [
      "Processing:  70%|██████▉   | 225/323 [11:18<46:04, 28.21s/rows, ETA (sec)=295.34]"
     ]
    },
    {
     "name": "stdout",
     "output_type": "stream",
     "text": [
      "\n",
      "Original Sentence: Among those taking part was the April 5th Action Group , whose members carried a wooden coffin to commemorate those killed in the crackdown .\n",
      "Tagged Sentence: NoTag\n",
      "Label: 0\n",
      "---\n"
     ]
    },
    {
     "name": "stderr",
     "output_type": "stream",
     "text": [
      "Processing:  70%|██████▉   | 226/323 [12:12<53:44, 33.24s/rows, ETA (sec)=314.56]"
     ]
    },
    {
     "name": "stdout",
     "output_type": "stream",
     "text": [
      "\n",
      "Original Sentence: Twenty activists from the group made a detour and carried the coffin to the Office of the Commissioner for the Ministry of Foreign Affairs in Kennedy Road .\n",
      "Tagged Sentence: NoTag\n",
      "Label: 0\n",
      "---\n"
     ]
    },
    {
     "name": "stderr",
     "output_type": "stream",
     "text": [
      "Processing:  70%|███████   | 227/323 [13:01<58:23, 36.50s/rows, ETA (sec)=330.49]"
     ]
    },
    {
     "name": "stdout",
     "output_type": "stream",
     "text": [
      "\n",
      "Original Sentence: They left after dumping the coffin at the office entrance .\n",
      "Tagged Sentence: They <trigger>after</trigger> <cause>dumping the coffin at the office entrance</cause> <effect>left</effect>.\n",
      "Label: 1\n",
      "---\n"
     ]
    },
    {
     "name": "stderr",
     "output_type": "stream",
     "text": [
      "Processing:  71%|███████   | 228/323 [13:59<1:05:44, 41.52s/rows, ETA (sec)=349.81]"
     ]
    },
    {
     "name": "stdout",
     "output_type": "stream",
     "text": [
      "\n",
      "Original Sentence: Nine-year-old Lee Sik-chi , daughter of Frontier legislator Lee Cheuk-yan , assumed heavier duties this year than at previous protests she had attended , holding a banner at the head of the rally .\n",
      "Tagged Sentence: NoTag\n",
      "Label: 0\n",
      "---\n"
     ]
    },
    {
     "name": "stderr",
     "output_type": "stream",
     "text": [
      "Processing:  71%|███████   | 229/323 [14:47<1:07:45, 43.25s/rows, ETA (sec)=364.51]"
     ]
    },
    {
     "name": "stdout",
     "output_type": "stream",
     "text": [
      "\n",
      "Original Sentence: ' The June 4 incident was about a group of university students who wished to fight for democracy , ' she said .\n",
      "Tagged Sentence: NoTag\n",
      "Label: 0\n",
      "---\n"
     ]
    },
    {
     "name": "stderr",
     "output_type": "stream",
     "text": [
      "Processing:  71%|███████   | 230/323 [15:37<1:09:41, 44.96s/rows, ETA (sec)=379.18]"
     ]
    },
    {
     "name": "stdout",
     "output_type": "stream",
     "text": [
      "\n",
      "Original Sentence: ' Mr Szeto claimed 2,000 people joined the march , but observers estimated the turnout at between 900 and 1,000 .\n",
      "Tagged Sentence: NoTag\n",
      "Label: 0\n",
      "---\n"
     ]
    },
    {
     "name": "stderr",
     "output_type": "stream",
     "text": [
      "Processing:  72%|███████▏  | 231/323 [16:25<1:10:11, 45.78s/rows, ETA (sec)=392.58]"
     ]
    },
    {
     "name": "stdout",
     "output_type": "stream",
     "text": [
      "\n",
      "Original Sentence: The alliance claimed 4,000 took part last year .\n",
      "Tagged Sentence: NoTag\n",
      "Label: 0\n",
      "---\n"
     ]
    },
    {
     "name": "stderr",
     "output_type": "stream",
     "text": [
      "Processing:  72%|███████▏  | 232/323 [17:23<1:14:26, 49.08s/rows, ETA (sec)=409.21]"
     ]
    },
    {
     "name": "stdout",
     "output_type": "stream",
     "text": [
      "\n",
      "Original Sentence: ANDHRA PRADESH Trade unions stage dharna August 10 , 2016 00:00 IST Seven trade unions and employee federations of Central and State governments on Tuesday staged a dharna at the Collector ’ s office protesting dilution of labour laws , allowing FDI from 49 to 100 per cent in defence , railways , insurance , multi brand retail sale , banking sectors .\n",
      "Tagged Sentence: ANDHRA PRADESH Trade unions <trigger>protesting</trigger> <cause>dilution of labour laws, allowing FDI from 49 to 100 per cent in defence, railways, insurance, multi brand retail sale, banking sectors</cause> <effect>staged a dharna at the Collector’s office</effect> on Tuesday.\n",
      "Label: 1\n",
      "---\n"
     ]
    },
    {
     "name": "stderr",
     "output_type": "stream",
     "text": [
      "Processing:  72%|███████▏  | 233/323 [18:16<1:15:17, 50.19s/rows, ETA (sec)=423.44]"
     ]
    },
    {
     "name": "stdout",
     "output_type": "stream",
     "text": [
      "\n",
      "Original Sentence: Members of INTUC , AITUC , HMS , CITU , IFTU , YSRUTC and AICTUC were also protesting against the anti-worker policies .\n",
      "Tagged Sentence: Members of INTUC , AITUC , HMS , CITU , IFTU , YSRUTC and AICTUC were also <trigger>protesting</trigger> <cause>against the anti-worker policies</cause>.\n",
      "Label: 1\n",
      "---\n"
     ]
    },
    {
     "name": "stderr",
     "output_type": "stream",
     "text": [
      "Processing:  72%|███████▏  | 234/323 [19:07<1:14:55, 50.51s/rows, ETA (sec)=436.45]"
     ]
    },
    {
     "name": "stdout",
     "output_type": "stream",
     "text": [
      "\n",
      "Original Sentence: Democratic Alliance councillors in Johannesburg on Friday called on trade unions to be held liable for damages caused during last month 's strikes .\n",
      "Tagged Sentence: Democratic Alliance councillors in Johannesburg on Friday called on trade unions to be held liable for <effect>damages</effect> <trigger>caused</trigger> during <cause>last month's strikes</cause>.\n",
      "Label: 1\n",
      "---\n"
     ]
    },
    {
     "name": "stderr",
     "output_type": "stream",
     "text": [
      "Processing:  73%|███████▎  | 235/323 [19:57<1:13:54, 50.40s/rows, ETA (sec)=448.48]"
     ]
    },
    {
     "name": "stdout",
     "output_type": "stream",
     "text": [
      "\n",
      "Original Sentence: `` During these strikes ... extensive damage was caused to public property , '' said Paul Smit , a DA councillor in the city .\n",
      "Tagged Sentence: During these <trigger>strikes</trigger> ... <cause>extensive damage was caused to public property</cause> ,'' said Paul Smit , a DA councillor in the city .\n",
      "Label: 1\n",
      "---\n"
     ]
    },
    {
     "name": "stderr",
     "output_type": "stream",
     "text": [
      "Processing:  73%|███████▎  | 236/323 [20:46<1:12:31, 50.01s/rows, ETA (sec)=459.60]"
     ]
    },
    {
     "name": "stdout",
     "output_type": "stream",
     "text": [
      "\n",
      "Original Sentence: The two said the unions should be held `` liable , and pay up , for all damages caused during strikes '' .\n",
      "Tagged Sentence: The two said the unions should be held `` <effect>liable , and pay up</effect> <trigger>caused</trigger> <cause>for all damages caused during strikes</cause> '' .\n",
      "Label: 1\n",
      "---\n"
     ]
    },
    {
     "name": "stderr",
     "output_type": "stream",
     "text": [
      "Processing:  73%|███████▎  | 237/323 [21:39<1:12:43, 50.74s/rows, ETA (sec)=471.43]"
     ]
    },
    {
     "name": "stdout",
     "output_type": "stream",
     "text": [
      "\n",
      "Original Sentence: Cosatu in North West on Wednesday queried Lanxess chrome mine 's move to suspend some workers after a recent strike at the Rustenburg mine .\n",
      "Tagged Sentence: Cosatu in North West on Wednesday <trigger>after</trigger> a recent <cause>strike at the Rustenburg mine</cause> queried <effect>Lanxess chrome mine's move to suspend some workers</effect>.\n",
      "Label: 1\n",
      "---\n"
     ]
    },
    {
     "name": "stderr",
     "output_type": "stream",
     "text": [
      "Processing:  74%|███████▎  | 238/323 [22:32<1:12:57, 51.49s/rows, ETA (sec)=483.02]"
     ]
    },
    {
     "name": "stdout",
     "output_type": "stream",
     "text": [
      "\n",
      "Original Sentence: `` The management , jointly with NUM , signed an agreement on this matter , including the removal of disciplinary cases against all workers who were part of the strike , '' said provincial secretary Solly Phetoe .\n",
      "Tagged Sentence: NoTag\n",
      "Label: 0\n",
      "---\n"
     ]
    },
    {
     "name": "stderr",
     "output_type": "stream",
     "text": [
      "Processing:  74%|███████▍  | 239/323 [23:19<1:10:26, 50.31s/rows, ETA (sec)=492.05]"
     ]
    },
    {
     "name": "stdout",
     "output_type": "stream",
     "text": [
      "\n",
      "Original Sentence: Work resumed at Lanxess on Monday after workers went on strike to demand that they receive part of a performance bonus they believed they were entitled to .\n",
      "Tagged Sentence: <effect>Work resumed at Lanxess on Monday</effect> <trigger>after</trigger> <cause>workers went on strike to demand that they receive part of a performance bonus they believed they were entitled to</cause>.\n",
      "Label: 1\n",
      "---\n"
     ]
    },
    {
     "name": "stderr",
     "output_type": "stream",
     "text": [
      "Processing:  74%|███████▍  | 240/323 [24:10<1:09:47, 50.46s/rows, ETA (sec)=501.73]"
     ]
    },
    {
     "name": "stdout",
     "output_type": "stream",
     "text": [
      "\n",
      "Original Sentence: The Congress of SA Trade Unions said management and the National Union of Mineworkers had signed an agreement on ending the strike , which included the removal of disciplinary cases .\n",
      "Tagged Sentence: The Congress of SA Trade Unions said management and the National Union of Mineworkers had signed an agreement on <trigger>included</trigger> the <cause>removal of disciplinary cases</cause>, which led to the <effect>ending the strike</effect>.\n",
      "Label: 1\n",
      "---\n"
     ]
    },
    {
     "name": "stderr",
     "output_type": "stream",
     "text": [
      "Processing:  75%|███████▍  | 241/323 [25:03<1:09:52, 51.13s/rows, ETA (sec)=511.57]"
     ]
    },
    {
     "name": "stdout",
     "output_type": "stream",
     "text": [
      "\n",
      "Original Sentence: `` Evidence found on security video footage revealed that the employees were involved in acts of intimidation , inciting other employees , destroying property or being violent , '' spokeswoman Sibonile Dube said in a statement .\n",
      "Tagged Sentence: NoTag\n",
      "Label: 0\n",
      "---\n"
     ]
    },
    {
     "name": "stderr",
     "output_type": "stream",
     "text": [
      "Processing:  75%|███████▍  | 242/323 [25:48<1:06:44, 49.44s/rows, ETA (sec)=518.46]"
     ]
    },
    {
     "name": "stdout",
     "output_type": "stream",
     "text": [
      "\n",
      "Original Sentence: In the settlement agreement , Lanxess reserved its rights with regards to the illegal strike .\n",
      "Tagged Sentence: NoTag\n",
      "Label: 0\n",
      "---\n"
     ]
    },
    {
     "name": "stderr",
     "output_type": "stream",
     "text": [
      "Processing:  75%|███████▌  | 243/323 [26:49<1:10:18, 52.73s/rows, ETA (sec)=529.85]"
     ]
    },
    {
     "name": "stdout",
     "output_type": "stream",
     "text": [
      "\n",
      "Original Sentence: PSU Insurance employees protest privatisation 23rd November 2011 01:27 AM HYDERABAD : Employees working in the government-owned Life Insurance Corporation of India and the four general insurance companies held lunch-hour protest demonstrations at their offices on Tuesday , opposing moves to liberalise the insurance sector .\n",
      "Tagged Sentence: PSU Insurance employees <effect>protest privatisation</effect> 23rd November 2011 01:27 AM HYDERABAD : Employees working in the government-owned Life Insurance Corporation of India and the four general insurance companies <trigger>opposing</trigger> <cause>moves to liberalise the insurance sector</cause> held lunch-hour protest demonstrations at their offices on Tuesday.\n",
      "Label: 1\n",
      "---\n"
     ]
    },
    {
     "name": "stderr",
     "output_type": "stream",
     "text": [
      "Processing:  76%|███████▌  | 244/323 [27:44<1:10:27, 53.52s/rows, ETA (sec)=539.01]"
     ]
    },
    {
     "name": "stdout",
     "output_type": "stream",
     "text": [
      "\n",
      "Original Sentence: The secretariat of All India Insurance Employees Association ( AIIEA ) , which met in New Delhi recently , gave a call for demonstrations on the first day of the winter session of Parliament against the attempts of the Congress-led UPA government at the Centre to have two legislations aimed at further liberalising the insurance sector .\n",
      "Tagged Sentence: The secretariat of All India Insurance Employees Association ( AIIEA ), which met in New Delhi recently, <effect>gave a call for demonstrations</effect> on the first day of the winter session of Parliament <trigger>against</trigger> the <cause>attempts of the Congress-led UPA government at the Centre to have two legislations aimed at further liberalising the insurance sector</cause>.\n",
      "Label: 1\n",
      "---\n"
     ]
    },
    {
     "name": "stderr",
     "output_type": "stream",
     "text": [
      "Processing:  76%|███████▌  | 245/323 [28:41<1:10:45, 54.43s/rows, ETA (sec)=548.02]"
     ]
    },
    {
     "name": "stdout",
     "output_type": "stream",
     "text": [
      "\n",
      "Original Sentence: KERALA RSS worker ’ s murder : three persons wanted October 26 , 2008 00:00 IST Staff Reporter They are associates of murdered CPI(M) activist Vishnu Suspects were seen in front of the CPI ( M ) office at Vanchiyoor on the previous day of the murder injuries on Renjith ’ s body indicate that there were more than five assailants Thiruvananthapuram : The police have said that they are searching mainly for three persons — ‘ Karate ’ Suresh , Ambalamukku Krishnakumar and Vanchiyoor Hariprasad — in connection with the murder of Rashtriya Swayamsevak Sangh ( RSS ) activist Renjith at Mannanthala on October 17 .\n",
      "Tagged Sentence: KERALA RSS worker’s murder : three persons wanted October 26, 2008 00:00 IST Staff Reporter They are associates of murdered CPI(M) activist Vishnu Suspects were seen in front of the CPI ( M ) office at Vanchiyoor on the previous day of the murder injuries on Renjith’s body indicate that there were more than five assailants Thiruvananthapuram : The police have said that they are searching mainly for three persons — ‘ Karate ’ Suresh, Ambalamukku Krishnakumar and Vanchiyoor hariprasad — <trigger>in connection with</trigger> the <cause>murder of Rashtriya Swayamsevak Sangh ( RSS ) activist Renjith at Mannanthala on October 17</cause>. <effect>The police have said that they are searching mainly for three persons</effect>\n",
      "Label: 1\n",
      "---\n"
     ]
    },
    {
     "name": "stderr",
     "output_type": "stream",
     "text": [
      "Processing:  76%|███████▌  | 246/323 [28:43<49:50, 38.84s/rows, ETA (sec)=539.56]  "
     ]
    },
    {
     "name": "stdout",
     "output_type": "stream",
     "text": [
      "\n",
      "Original Sentence: The police believe that Renjith was killed in retaliation to the murder of Communist Party of India ( Marxist ) activist Vanchiyoor Vishnu this April .\n",
      "Tagged Sentence: The police believe that <effect>Renjith was killed</effect> <trigger>in retaliation to</trigger> <cause>the murder of Communist Party of India ( Marxist ) activist Vanchiyoor Vishnu this April</cause>.\n",
      "Label: 1\n",
      "---\n"
     ]
    },
    {
     "name": "stderr",
     "output_type": "stream",
     "text": [
      "Processing:  76%|███████▋  | 247/323 [29:32<52:56, 41.80s/rows, ETA (sec)=545.38]"
     ]
    },
    {
     "name": "stdout",
     "output_type": "stream",
     "text": [
      "\n",
      "Original Sentence: Suresh and Krishnakumar , along with absconding ‘ gang leader ’ Om Prakash , are also accused in the killing of alleged mobster ‘ Aprani ’ Krishnakumar in 2007 .\n",
      "Tagged Sentence: NoTag\n",
      "Label: 0\n",
      "---\n"
     ]
    },
    {
     "name": "stderr",
     "output_type": "stream",
     "text": [
      "Processing:  77%|███████▋  | 248/323 [30:24<56:04, 44.86s/rows, ETA (sec)=551.76]"
     ]
    },
    {
     "name": "stdout",
     "output_type": "stream",
     "text": [
      "\n",
      "Original Sentence: Suresh was named as accused in the murder of ‘ Changidi ’ Vinod , an associate of Aprani Krishnakumar , in 2006 .\n",
      "Tagged Sentence: Suresh was named <trigger>as accused</trigger> <cause>in the murder of ‘ Changidi ’ Vinod , an associate of Aprani Krishnakumar , in 2006</cause>.\n",
      "Label: 1\n",
      "---\n"
     ]
    },
    {
     "name": "stderr",
     "output_type": "stream",
     "text": [
      "Processing:  77%|███████▋  | 249/323 [31:22<1:00:07, 48.75s/rows, ETA (sec)=559.40]"
     ]
    },
    {
     "name": "stdout",
     "output_type": "stream",
     "text": [
      "\n",
      "Original Sentence: Hariprasad and Krishnakumar are the main suspects in the retaliatory attack on RSS activist Mohanan in the aftermath of Vishnu ’ s murder .\n",
      "Tagged Sentence: Hariprasad and Krishnakumar are the main suspects in the <effect>retaliatory attack on RSS activist Mohanan</effect> <trigger>in the aftermath of</trigger> <cause>Vishnu’s murder</cause> .\n",
      "Label: 1\n",
      "---\n"
     ]
    },
    {
     "name": "stderr",
     "output_type": "stream",
     "text": [
      "Processing:  77%|███████▋  | 250/323 [32:14<1:00:34, 49.78s/rows, ETA (sec)=564.87]"
     ]
    },
    {
     "name": "stdout",
     "output_type": "stream",
     "text": [
      "\n",
      "Original Sentence: The police said that some of the suspects were seen partying in front of the CPI ( M ) office at Vanchiyoor on the previous day of Renjith ’ s murder .\n",
      "Tagged Sentence: NoTag\n",
      "Label: 0\n",
      "---\n"
     ]
    },
    {
     "name": "stderr",
     "output_type": "stream",
     "text": [
      "Processing:  78%|███████▊  | 251/323 [33:06<1:00:31, 50.43s/rows, ETA (sec)=569.82]"
     ]
    },
    {
     "name": "stdout",
     "output_type": "stream",
     "text": [
      "\n",
      "Original Sentence: The police have posted men in front of the office , the regular hangout of the main suspects in Renjith murder case , to prevent any retaliatory attack by RSS men .\n",
      "Tagged Sentence: The police have <cause>posted men in front of the office</cause> , the regular hangout of the main suspects in Renjith murder case , <trigger>to</trigger> <effect>prevent any retaliatory attack by RSS men</effect> .\n",
      "Label: 1\n",
      "---\n"
     ]
    },
    {
     "name": "stderr",
     "output_type": "stream",
     "text": [
      "Processing:  78%|███████▊  | 252/323 [34:00<1:00:53, 51.45s/rows, ETA (sec)=574.84]"
     ]
    },
    {
     "name": "stdout",
     "output_type": "stream",
     "text": [
      "\n",
      "Original Sentence: They said RSS cadres close to Renjith could retaliate against two top CPM leaders in the district if they suspected that the police were not doing enough to solve the murder .\n",
      "Tagged Sentence: They said <cause>RSS cadres close to Renjith could retaliate against two top CPM leaders in the district</cause> <trigger>if</trigger> <effect>they suspected that the police were not doing enough to solve the murder</effect>.\n",
      "Label: 1\n",
      "---\n"
     ]
    },
    {
     "name": "stderr",
     "output_type": "stream",
     "text": [
      "Processing:  78%|███████▊  | 253/323 [34:57<1:01:54, 53.07s/rows, ETA (sec)=580.23]"
     ]
    },
    {
     "name": "stdout",
     "output_type": "stream",
     "text": [
      "\n",
      "Original Sentence: They said the suspects had initially planned to kill ‘ Kakotta ’ Manoj , one of the main accused in the Vishnu murder case .\n",
      "Tagged Sentence: NoTag\n",
      "Label: 0\n",
      "---\n"
     ]
    },
    {
     "name": "stderr",
     "output_type": "stream",
     "text": [
      "Processing:  79%|███████▊  | 254/323 [35:48<1:00:26, 52.56s/rows, ETA (sec)=583.65]"
     ]
    },
    {
     "name": "stdout",
     "output_type": "stream",
     "text": [
      "\n",
      "Original Sentence: The police suspect that the conspiracy to kill Renjith was hatched at Muttathara and airport area .\n",
      "Tagged Sentence: NoTag\n",
      "Label: 0\n",
      "---\n"
     ]
    },
    {
     "name": "stderr",
     "output_type": "stream",
     "text": [
      "Processing:  79%|███████▉  | 255/323 [36:41<59:36, 52.59s/rows, ETA (sec)=586.98]  "
     ]
    },
    {
     "name": "stdout",
     "output_type": "stream",
     "text": [
      "\n",
      "Original Sentence: They are investigating an airport-based gang leader and CPI(M) functionary in connection with the murder conspiracy .\n",
      "Tagged Sentence: They are investigating <trigger>in connection with</trigger> the <cause>murder conspiracy</cause> an airport-based gang leader and CPI(M) functionary.\n",
      "Label: 1\n",
      "---\n"
     ]
    },
    {
     "name": "stderr",
     "output_type": "stream",
     "text": [
      "Processing:  79%|███████▉  | 256/323 [37:34<59:04, 52.91s/rows, ETA (sec)=590.12]"
     ]
    },
    {
     "name": "stdout",
     "output_type": "stream",
     "text": [
      "\n",
      "Original Sentence: Some of Vishnu ’ s associates had switched off their cell phones on October 16 and switched them on only after Renjith was killed .\n",
      "Tagged Sentence: NoTag\n",
      "Label: 0\n",
      "---\n"
     ]
    },
    {
     "name": "stderr",
     "output_type": "stream",
     "text": [
      "Processing:  80%|███████▉  | 257/323 [38:26<57:54, 52.65s/rows, ETA (sec)=592.42]"
     ]
    },
    {
     "name": "stdout",
     "output_type": "stream",
     "text": [
      "\n",
      "Original Sentence: The Crime Branch zeroed in on the culprits by identifying those who used their cell phones in the vicinity of the mobile phone towers near the murder spot at time of the crime .\n",
      "Tagged Sentence: <effect>The Crime Branch zeroed in on the culprits</effect> <trigger>by</trigger> <cause>identifying those who used their cell phones in the vicinity of the mobile phone towers near the murder spot at time of the crime</cause>.\n",
      "Label: 1\n",
      "---\n"
     ]
    },
    {
     "name": "stderr",
     "output_type": "stream",
     "text": [
      "Processing:  80%|███████▉  | 258/323 [39:24<58:35, 54.09s/rows, ETA (sec)=595.66]"
     ]
    },
    {
     "name": "stdout",
     "output_type": "stream",
     "text": [
      "\n",
      "Original Sentence: Its significance to British colonial government also made it an important location for protests and demonstrations , the most significant of which was the hunger strike against the Star Ferry fare hike of 1966 , and also the campaign to protect the sovereignty of the Diaoyu Islands by patriotic students back in 1971 .\n",
      "Tagged Sentence: Its <cause>significance to British colonial government</cause> also <trigger>made it</trigger> an <effect>important location for protests and demonstrations</effect>, the most significant of which was the hunger strike against the Star Ferry fare hike of 1966, and also the campaign to protect the sovereignty of the Diaoyu Islands by patriotic students back in 1971.\n",
      "Label: 1\n",
      "---\n"
     ]
    },
    {
     "name": "stderr",
     "output_type": "stream",
     "text": [
      "Processing:  80%|████████  | 259/323 [40:24<59:39, 55.93s/rows, ETA (sec)=599.11]"
     ]
    },
    {
     "name": "stdout",
     "output_type": "stream",
     "text": [
      "\n",
      "Original Sentence: Protest against waste dumping at Dadumajra - Indian Express Express News Service , Express News Service : Chandigarh , Tue Jun 28 2011 , 04:14 hrs Irked over heaps of garbage piling up at the dumping ground in Dadumajra , the residents of the area held a protest demanding the dumping be stopped at the site .\n",
      "Tagged Sentence: Irked over <cause>heaps of garbage piling up at the dumping ground in Dadumajra</cause> <trigger>irked over</trigger>, the residents of the area <effect>held a protest demanding the dumping be stopped at the site</effect>.\n",
      "Label: 1\n",
      "---\n"
     ]
    },
    {
     "name": "stderr",
     "output_type": "stream",
     "text": [
      "Processing:  80%|████████  | 260/323 [40:26<41:44, 39.76s/rows, ETA (sec)=587.97]"
     ]
    },
    {
     "name": "stdout",
     "output_type": "stream",
     "text": [
      "\n",
      "Original Sentence: For around two hours in the morning the residents did not allow trucks of the Municipal Corporation to dump refuse at the ground .\n",
      "Tagged Sentence: NoTag\n",
      "Label: 0\n",
      "---\n"
     ]
    },
    {
     "name": "stderr",
     "output_type": "stream",
     "text": [
      "Processing:  81%|████████  | 261/323 [41:03<40:14, 38.95s/rows, ETA (sec)=585.23]"
     ]
    },
    {
     "name": "stdout",
     "output_type": "stream",
     "text": [
      "\n",
      "Original Sentence: Raising slogans against the civic body , the protesters , led by area councillor Kamlesh , demanded that the waste be taken to the garbage processing plant that has been set up to process the refuse .\n",
      "Tagged Sentence: Raising <effect>slogans</effect> <trigger>against the civic body</trigger> , the protesters , led by area councillor Kamlesh , <cause>demand that the waste be taken to the garbage processing plant that has been set up to process the refuse</cause> .\n",
      "Label: 1\n",
      "---\n"
     ]
    },
    {
     "name": "stderr",
     "output_type": "stream",
     "text": [
      "Processing:  81%|████████  | 262/323 [41:48<41:30, 40.82s/rows, ETA (sec)=584.11]"
     ]
    },
    {
     "name": "stdout",
     "output_type": "stream",
     "text": [
      "\n",
      "Original Sentence: The trucks were not allowed to move till the Municipal Commissioner Prerna Puri reached the site .\n",
      "Tagged Sentence: The <effect>trucks were not allowed to move</effect> <trigger>till</trigger> the <cause>Municipal Commissioner Prerna Puri reached the site</cause>.\n",
      "Label: 1\n",
      "---\n"
     ]
    },
    {
     "name": "stderr",
     "output_type": "stream",
     "text": [
      "Processing:  81%|████████▏ | 263/323 [42:36<42:50, 42.84s/rows, ETA (sec)=583.20]"
     ]
    },
    {
     "name": "stdout",
     "output_type": "stream",
     "text": [
      "\n",
      "Original Sentence: Striking mineworkers have threatened to halt all mining operations around Rustenburg within a week if their employers do not accede to their R12,500 pay demand .\n",
      "Tagged Sentence: Striking mineworkers have threatened to <effect>halt all mining operations around Rustenburg within a week</effect> <trigger>if</trigger> <cause>their employers do not accede to their R12,500 pay demand</cause>.\n",
      "Label: 1\n",
      "---\n"
     ]
    },
    {
     "name": "stderr",
     "output_type": "stream",
     "text": [
      "Processing:  82%|████████▏ | 264/323 [43:29<45:17, 46.05s/rows, ETA (sec)=583.28]"
     ]
    },
    {
     "name": "stdout",
     "output_type": "stream",
     "text": [
      "\n",
      "Original Sentence: On Wednesday , a leader of striking workers at Anglo American Platinum ( Amplats ) , Evans Ramokga , said the protest action would intensify .\n",
      "Tagged Sentence: NoTag\n",
      "Label: 0\n",
      "---\n"
     ]
    },
    {
     "name": "stderr",
     "output_type": "stream",
     "text": [
      "Processing:  82%|████████▏ | 265/323 [44:17<45:06, 46.66s/rows, ETA (sec)=581.75]"
     ]
    },
    {
     "name": "stdout",
     "output_type": "stream",
     "text": [
      "\n",
      "Original Sentence: `` On Thursday we are going to combine efforts with the striking comrades at Lonmin mines .\n",
      "Tagged Sentence: NoTag\n",
      "Label: 0\n",
      "---\n"
     ]
    },
    {
     "name": "stderr",
     "output_type": "stream",
     "text": [
      "Processing:  82%|████████▏ | 266/323 [45:06<44:51, 47.22s/rows, ETA (sec)=579.97]"
     ]
    },
    {
     "name": "stdout",
     "output_type": "stream",
     "text": [
      "\n",
      "Original Sentence: There was a tense stand-off when thousands of mineworkers marched on the premises of Amplats 's smelters on Wednesday .\n",
      "Tagged Sentence: <effect>There was a tense stand-off</effect> <trigger>when</trigger> <cause>thousands of mineworkers marched on the premises of Amplats's smelters on Wednesday</cause>\n",
      "Label: 1\n",
      "---\n"
     ]
    },
    {
     "name": "stderr",
     "output_type": "stream",
     "text": [
      "Processing:  83%|████████▎ | 267/323 [46:01<46:21, 49.68s/rows, ETA (sec)=579.28]"
     ]
    },
    {
     "name": "stdout",
     "output_type": "stream",
     "text": [
      "\n",
      "Original Sentence: `` If it were not for this industrial action , most of us would be deep inside shafts , sweating for Anglo Platinum .\n",
      "Tagged Sentence: If it were not for <trigger>the industrial action</trigger>, most of us would be deep inside shafts, sweating for <cause>Anglo Platinum</cause>.\n",
      "Label: 1\n",
      "---\n"
     ]
    },
    {
     "name": "stderr",
     "output_type": "stream",
     "text": [
      "Processing:  83%|████████▎ | 268/323 [46:51<45:23, 49.52s/rows, ETA (sec)=576.90]"
     ]
    },
    {
     "name": "stdout",
     "output_type": "stream",
     "text": [
      "\n",
      "Original Sentence: `` The people who are chanting around the mines are from neighbouring communities and we can not identify who they are , '' said Amplats spokeswoman Mpumi Sithole .\n",
      "Tagged Sentence: NoTag\n",
      "Label: 0\n",
      "---\n"
     ]
    },
    {
     "name": "stderr",
     "output_type": "stream",
     "text": [
      "Processing:  83%|████████▎ | 269/323 [47:37<43:46, 48.63s/rows, ETA (sec)=573.65]"
     ]
    },
    {
     "name": "stdout",
     "output_type": "stream",
     "text": [
      "\n",
      "Original Sentence: A large group of protesters , carrying traditional weapons , gathered at a Thembelani mine shaft on Wednesday morning .\n",
      "Tagged Sentence: NoTag\n",
      "Label: 0\n",
      "---\n"
     ]
    },
    {
     "name": "stderr",
     "output_type": "stream",
     "text": [
      "Processing:  84%|████████▎ | 270/323 [48:25<42:39, 48.30s/rows, ETA (sec)=570.27]"
     ]
    },
    {
     "name": "stdout",
     "output_type": "stream",
     "text": [
      "\n",
      "Original Sentence: Most of the protesters sat in a field in the sun .\n",
      "Tagged Sentence: NoTag\n",
      "Label: 0\n",
      "---\n"
     ]
    },
    {
     "name": "stderr",
     "output_type": "stream",
     "text": [
      "Processing:  84%|████████▍ | 271/323 [49:15<42:22, 48.89s/rows, ETA (sec)=567.09]"
     ]
    },
    {
     "name": "stdout",
     "output_type": "stream",
     "text": [
      "\n",
      "Original Sentence: Small groups , clutching sticks and clubs , marched , sang , and danced .\n",
      "Tagged Sentence: NoTag\n",
      "Label: 0\n",
      "---\n"
     ]
    },
    {
     "name": "stderr",
     "output_type": "stream",
     "text": [
      "Processing:  84%|████████▍ | 272/323 [50:00<40:30, 47.65s/rows, ETA (sec)=562.53]"
     ]
    },
    {
     "name": "stdout",
     "output_type": "stream",
     "text": [
      "\n",
      "Original Sentence: They joined the protesters , but declined to speak to the media about their role in the strike .\n",
      "Tagged Sentence: NoTag\n",
      "Label: 0\n",
      "---\n"
     ]
    },
    {
     "name": "stderr",
     "output_type": "stream",
     "text": [
      "Processing:  85%|████████▍ | 273/323 [50:58<42:16, 50.74s/rows, ETA (sec)=560.10]"
     ]
    },
    {
     "name": "stdout",
     "output_type": "stream",
     "text": [
      "\n",
      "Original Sentence: Kendrapara Aftermath : Cops Asked to Follow SOP 13th August 2015 07:19 AM BHUBANESWAR : The State Police has issued a circular to all the police ranges and districts asking them to stick to standard operating procedures ( SOPs ) during law and order situation even as the Opposition parties try to score brownie points from the Kendrapara incident .\n",
      "Tagged Sentence: NoTag\n",
      "Label: 0\n",
      "---\n"
     ]
    },
    {
     "name": "stderr",
     "output_type": "stream",
     "text": [
      "Processing:  85%|████████▍ | 274/323 [51:55<43:00, 52.67s/rows, ETA (sec)=557.11]"
     ]
    },
    {
     "name": "stdout",
     "output_type": "stream",
     "text": [
      "\n",
      "Original Sentence: In the wake of the law and order situation in Kendrapara last week , during protests against the self-styled godman Sarathi Baba , public anger was directed at the district police .\n",
      "Tagged Sentence: In the wake of the <cause>law and order situation in Kendrapara last week, during protests against the self-styled godman Sarathi Baba</cause> <trigger>during protests</trigger>, <effect>public anger was directed at the district police</effect>.\n",
      "Label: 1\n",
      "---\n"
     ]
    },
    {
     "name": "stderr",
     "output_type": "stream",
     "text": [
      "Processing:  85%|████████▌ | 275/323 [52:41<40:37, 50.78s/rows, ETA (sec)=551.85]"
     ]
    },
    {
     "name": "stdout",
     "output_type": "stream",
     "text": [
      "\n",
      "Original Sentence: The stone pelting incident that ensued led to injury of at least nine policemen though no injury to any agitator was recorded .\n",
      "Tagged Sentence: The <cause>stone pelting incident that ensued</cause> <trigger>led to</trigger> <effect>injury of at least nine policemen</effect> though no injury to any agitator was recorded.\n",
      "Label: 1\n",
      "---\n"
     ]
    },
    {
     "name": "stderr",
     "output_type": "stream",
     "text": [
      "Processing:  85%|████████▌ | 276/323 [53:37<41:01, 52.38s/rows, ETA (sec)=547.95]"
     ]
    },
    {
     "name": "stdout",
     "output_type": "stream",
     "text": [
      "\n",
      "Original Sentence: Protester who threw water bottle at Hong Kong cop gets 80 hours of community service PUBLISHED : Wednesday , 05 August , 2015 , 12:24pm A vocational student was ordered today to perform 80 hours of community service for throwing a plastic water bottle at a police officer , injuring the officer ’ s right thigh during protests in March against parallel trading .\n",
      "Tagged Sentence: Protester who <cause>threw a plastic water bottle at a police officer, injuring the officer’s right thigh during protests in March against parallel trading</cause> <trigger>for</trigger> <effect>perform 80 hours of community service</effect> PUBLISHED : Wednesday , 05 August , 2015 , 12:24pm A vocational student was ordered today to\n",
      "Label: 1\n",
      "---\n"
     ]
    },
    {
     "name": "stderr",
     "output_type": "stream",
     "text": [
      "Processing:  86%|████████▌ | 277/323 [54:32<40:43, 53.12s/rows, ETA (sec)=543.47]"
     ]
    },
    {
     "name": "stdout",
     "output_type": "stream",
     "text": [
      "\n",
      "Original Sentence: Tuen Mun Court Deputy Magistrate So Kai-cheung said he determined the sentence based on the recommendations of a community service order report , which says 20 - year-old Chiu Kwok-hong showed remorse for the incident .\n",
      "Tagged Sentence: Tuen Mun Court Deputy Magistrate So Kai-cheung said he <trigger>based on</trigger> the recommendations of a community service order report, which says <cause>20-year-old Chiu Kwok-hong showed remorse for the incident</cause>, <effect>determined the sentence</effect>.\n",
      "Label: 1\n",
      "---\n"
     ]
    },
    {
     "name": "stderr",
     "output_type": "stream",
     "text": [
      "Processing:  86%|████████▌ | 278/323 [55:26<39:56, 53.26s/rows, ETA (sec)=538.42]"
     ]
    },
    {
     "name": "stdout",
     "output_type": "stream",
     "text": [
      "\n",
      "Original Sentence: The court heard previously that at about 8.20 pm on March 1 , chief inspector Lee Shek-lun was deployed to perform crowd-control duties in Yuen Long , where protesters were rallying against cross-border traders .\n",
      "Tagged Sentence: NoTag\n",
      "Label: 0\n",
      "---\n"
     ]
    },
    {
     "name": "stderr",
     "output_type": "stream",
     "text": [
      "Processing:  86%|████████▋ | 279/323 [56:19<39:10, 53.41s/rows, ETA (sec)=533.04]"
     ]
    },
    {
     "name": "stdout",
     "output_type": "stream",
     "text": [
      "\n",
      "Original Sentence: Emerging from a crowd , Chiu suddenly threw a blue , plastic water bottle which hit Lee ’ s right thigh .\n",
      "Tagged Sentence: Emerging from a crowd, Chiu suddenly <cause>threw a blue, plastic water bottle</cause> <trigger>which</trigger> <effect>hit Lee’s right thigh</effect>.\n",
      "Label: 1\n",
      "---\n"
     ]
    },
    {
     "name": "stderr",
     "output_type": "stream",
     "text": [
      "Processing:  87%|████████▋ | 280/323 [57:09<37:26, 52.25s/rows, ETA (sec)=526.68]"
     ]
    },
    {
     "name": "stdout",
     "output_type": "stream",
     "text": [
      "\n",
      "Original Sentence: Under caution , Chiu told police officers : “ I did throw the blue water bottle at him .\n",
      "Tagged Sentence: NoTag\n",
      "Label: 0\n",
      "---\n"
     ]
    },
    {
     "name": "stderr",
     "output_type": "stream",
     "text": [
      "Processing:  87%|████████▋ | 281/323 [58:11<38:31, 55.04s/rows, ETA (sec)=521.80]"
     ]
    },
    {
     "name": "stdout",
     "output_type": "stream",
     "text": [
      "\n",
      "Original Sentence: In mitigation submissions , Chiu ’ s lawyers said he participated in the protest because the parallel traders had harmed Hong Kong ’ s economy , and he hurled the bottle at Lee because he saw Lee pulling the strap of a bag of a female protester .\n",
      "Tagged Sentence: In mitigation submissions, Chiu’s lawyers said he participated in the <trigger>protest</trigger> <cause>because the parallel traders had harmed Hong Kong’s economy</cause>, and he hurled the bottle at Lee <trigger>because</trigger> he saw Lee pulling the strap of a female protester’s bag<cause>.</cause>\n",
      "Label: 1\n",
      "---\n"
     ]
    },
    {
     "name": "stderr",
     "output_type": "stream",
     "text": [
      "Processing:  87%|████████▋ | 282/323 [59:07<37:57, 55.56s/rows, ETA (sec)=515.82]"
     ]
    },
    {
     "name": "stdout",
     "output_type": "stream",
     "text": [
      "\n",
      "Original Sentence: Zulu has been charged with assaulting police director Jonathan Ndlovu during an IFP election rally at Hlabisa soccer stadium three weeks ago .\n",
      "Tagged Sentence: Zulu has been <effect>charged</effect> <trigger>with</trigger> <cause>assaulting police director Jonathan Ndlovu during an IFP election rally at Hlabisa soccer stadium three weeks ago</cause>.\n",
      "Label: 1\n",
      "---\n"
     ]
    },
    {
     "name": "stderr",
     "output_type": "stream",
     "text": [
      "Processing:  88%|████████▊ | 283/323 [59:56<35:42, 53.55s/rows, ETA (sec)=508.37]"
     ]
    },
    {
     "name": "stdout",
     "output_type": "stream",
     "text": [
      "\n",
      "Original Sentence: The alleged assault occurred when police prevented party followers carrying traditional weapons from entering the stadium .\n",
      "Tagged Sentence: The <effect>alleged assault occurred</effect> <trigger>when</trigger> <cause>police prevented party followers carrying traditional weapons from entering the stadium</cause>.\n",
      "Label: 1\n",
      "---\n"
     ]
    },
    {
     "name": "stderr",
     "output_type": "stream",
     "text": [
      "Processing:  88%|████████▊ | 284/323 [1:00:52<35:18, 54.32s/rows, ETA (sec)=501.62]"
     ]
    },
    {
     "name": "stdout",
     "output_type": "stream",
     "text": [
      "\n",
      "Original Sentence: When Zulu made his second brief appearance on Thursday , a group of people wearing Inkatha Freedom Party T-shirts and holding placards protested outside the Empangeni Regional Court north of Durban , while the courtroom itself was packed to capacity .\n",
      "Tagged Sentence: When <trigger>when</trigger> <cause>Zulu made his second brief appearance on Thursday</cause>, a group of people wearing Inkatha Freedom Party T-shirts and holding placards <effect>protested outside the Empangeni Regional Court north of Durban</effect>, while the courtroom itself was packed to capacity.\n",
      "Label: 1\n",
      "---\n"
     ]
    },
    {
     "name": "stderr",
     "output_type": "stream",
     "text": [
      "Processing:  88%|████████▊ | 285/323 [1:01:50<35:05, 55.42s/rows, ETA (sec)=494.77]"
     ]
    },
    {
     "name": "stdout",
     "output_type": "stream",
     "text": [
      "\n",
      "Original Sentence: LN Hospital docs hold public meet about decorum - Indian Express Express News Service , Express News Service : New Delhi , Sun Apr 29 2012 , 03:52 hrs A week after doctors at Lok Nayak Hospital went on strike following two incidents of patients ' relatives roughing up the hospital staff , authorities and the police have taken security concerns to the masses .\n",
      "Tagged Sentence: A week after <cause>two incidents of patients' relatives roughing up the hospital staff</cause> <trigger>following</trigger> <effect>doctors at Lok Nayak Hospital went on strike</effect>, authorities and the police have taken security concerns to the masses.\n",
      "Label: 1\n",
      "---\n"
     ]
    },
    {
     "name": "stderr",
     "output_type": "stream",
     "text": [
      "Processing:  89%|████████▊ | 286/323 [1:02:44<33:51, 54.92s/rows, ETA (sec)=487.02]"
     ]
    },
    {
     "name": "stdout",
     "output_type": "stream",
     "text": [
      "\n",
      "Original Sentence: A public meeting between the doctors and residents of Daryanganj and Kamala Market was organised at Turkman Gate by police officials and senior leaders of the Muslim community on Saturday .\n",
      "Tagged Sentence: NoTag\n",
      "Label: 0\n",
      "---\n"
     ]
    },
    {
     "name": "stderr",
     "output_type": "stream",
     "text": [
      "Processing:  89%|████████▉ | 287/323 [1:03:40<33:06, 55.18s/rows, ETA (sec)=479.21]"
     ]
    },
    {
     "name": "stdout",
     "output_type": "stream",
     "text": [
      "\n",
      "Original Sentence: Speaking at the meeting , ACP ( Daryaganj ) Om Prakash said , \" This is the first such meeting where doctors and your leaders have come together to appeal to you , to help doctors help you .\n",
      "Tagged Sentence: NoTag\n",
      "Label: 0\n",
      "---\n"
     ]
    },
    {
     "name": "stderr",
     "output_type": "stream",
     "text": [
      "Processing:  89%|████████▉ | 288/323 [1:04:27<30:44, 52.71s/rows, ETA (sec)=469.98]"
     ]
    },
    {
     "name": "stdout",
     "output_type": "stream",
     "text": [
      "\n",
      "Original Sentence: The leaders of the union also said the local taxi drivers had launched an attack against the online taxi drivers at the airport .\n",
      "Tagged Sentence: NoTag\n",
      "Label: 0\n",
      "---\n"
     ]
    },
    {
     "name": "stderr",
     "output_type": "stream",
     "text": [
      "Processing:  89%|████████▉ | 289/323 [1:05:19<29:48, 52.62s/rows, ETA (sec)=461.14]"
     ]
    },
    {
     "name": "stdout",
     "output_type": "stream",
     "text": [
      "\n",
      "Original Sentence: Earlier , some trade unions representing local taxi operators had come out in protest against the online taxi networks such as Uber and Ola .\n",
      "Tagged Sentence: Earlier , some <cause>trade unions representing local taxi operators</cause> had come out in <trigger>protest against</trigger> <effect>the online taxi networks such as Uber and Ola</effect> .\n",
      "Label: 1\n",
      "---\n"
     ]
    },
    {
     "name": "stderr",
     "output_type": "stream",
     "text": [
      "Processing:  90%|████████▉ | 290/323 [1:06:14<29:18, 53.30s/rows, ETA (sec)=452.28]"
     ]
    },
    {
     "name": "stdout",
     "output_type": "stream",
     "text": [
      "\n",
      "Original Sentence: KERALA Bus strike total in district October 31 , 2008 00:00 IST People ’ s woes : Passengers struggling to get into a bus at the KSRTC bus station in the city on Thursday following a strike called by private bus operators in the State .\n",
      "Tagged Sentence: KERALA Bus strike total in district October 31 , 2008 00:00 IST People ’ s woes : <effect>Passengers struggling to get into a bus at the KSRTC bus station in the city on Thursday</effect> <trigger>following</trigger> <cause>a strike called by private bus operators in the State</cause>.\n",
      "Label: 1\n",
      "---\n"
     ]
    },
    {
     "name": "stderr",
     "output_type": "stream",
     "text": [
      "Processing:  90%|█████████ | 291/323 [1:07:06<28:12, 52.88s/rows, ETA (sec)=442.77]"
     ]
    },
    {
     "name": "stdout",
     "output_type": "stream",
     "text": [
      "\n",
      "Original Sentence: – | Photo Credit : Photo : S.R.K. Staff Reporter KOZHIKODE : People were put to hardship as private buses went off the roads in deference to the State-wide token strike called against the decision of State government not to renew licence issued to buses .\n",
      "Tagged Sentence: – | Photo Credit : Photo : S.R.K. Staff Reporter KOZHIKODE : People were put to <effect>hardship</effect> as private buses went off the roads in deference to the <trigger>State-wide token strike</trigger> called against the <cause>decision of State government not to renew licence issued to buses</cause>.\n",
      "Label: 1\n",
      "---\n"
     ]
    },
    {
     "name": "stderr",
     "output_type": "stream",
     "text": [
      "Processing:  90%|█████████ | 292/323 [1:07:51<26:09, 50.62s/rows, ETA (sec)=432.28]"
     ]
    },
    {
     "name": "stdout",
     "output_type": "stream",
     "text": [
      "\n",
      "Original Sentence: The strike was total in the district .\n",
      "Tagged Sentence: NoTag\n",
      "Label: 0\n",
      "---\n"
     ]
    },
    {
     "name": "stderr",
     "output_type": "stream",
     "text": [
      "Processing:  91%|█████████ | 293/323 [1:08:48<26:10, 52.36s/rows, ETA (sec)=422.69]"
     ]
    },
    {
     "name": "stdout",
     "output_type": "stream",
     "text": [
      "\n",
      "Original Sentence: PRP aspirant goes on fast 27th March 2009 03:44 AM HYDERABAD : In a surprise development , a staunch supporter of the Praja Rajyam Party , Venkat Prasad , launched an indefinite hunger strike in front of the party office here today .\n",
      "Tagged Sentence: NoTag\n",
      "Label: 0\n",
      "---\n"
     ]
    },
    {
     "name": "stderr",
     "output_type": "stream",
     "text": [
      "Processing:  91%|█████████ | 294/323 [1:09:47<26:20, 54.49s/rows, ETA (sec)=413.08]"
     ]
    },
    {
     "name": "stdout",
     "output_type": "stream",
     "text": [
      "\n",
      "Original Sentence: He has played a key role in organising the Praja Ankita Yatras of Chiranjeevi .\n",
      "Tagged Sentence: NoTag\n",
      "Label: 0\n",
      "---\n"
     ]
    },
    {
     "name": "stderr",
     "output_type": "stream",
     "text": [
      "Processing:  91%|█████████▏| 295/323 [1:10:44<25:49, 55.33s/rows, ETA (sec)=402.92]"
     ]
    },
    {
     "name": "stdout",
     "output_type": "stream",
     "text": [
      "\n",
      "Original Sentence: Irked over this move , Venkat Prasad launched a hunger strike along with the other aspirants .\n",
      "Tagged Sentence: Irked <trigger>over</trigger> this <cause>move</cause>, Venkat Prasad <effect>launched a hunger strike</effect> along with the other aspirants.\n",
      "Label: 1\n",
      "---\n"
     ]
    },
    {
     "name": "stderr",
     "output_type": "stream",
     "text": [
      "Processing:  92%|█████████▏| 296/323 [1:11:36<24:25, 54.29s/rows, ETA (sec)=391.94]"
     ]
    },
    {
     "name": "stdout",
     "output_type": "stream",
     "text": [
      "\n",
      "Original Sentence: However , he called off the fast after getting a call from the Chiranjeevi ’ s camp in East Godavari district .\n",
      "Tagged Sentence: However , he <effect>called off the fast</effect> <trigger>after</trigger> <cause>getting a call from the Chiranjeevi’s camp in East Godavari district</cause> .\n",
      "Label: 1\n",
      "---\n"
     ]
    },
    {
     "name": "stderr",
     "output_type": "stream",
     "text": [
      "Processing:  92%|█████████▏| 297/323 [1:12:31<23:34, 54.42s/rows, ETA (sec)=380.95]"
     ]
    },
    {
     "name": "stdout",
     "output_type": "stream",
     "text": [
      "\n",
      "Original Sentence: STR in danger : Forest staff on indefinite hunger strike 23rd February 2013 11:44 AM Worried over the protection of Similipal biosphere and Kuldiha wildlife sanctuary , over 500 forest staffers , including foresters and forest guards , are on an indefinite strike from Friday over their demands .\n",
      "Tagged Sentence: STR in danger : Forest staff on <effect>indefinite hunger strike</effect> 23rd February 2013 11:44 AM Worried over the protection of Similipal biosphere and Kuldiha wildlife sanctuary , over 500 forest staffers , including foresters and forest guards , are on an <cause>indefinite strike</cause> from Friday <trigger>over their demands</trigger> .\n",
      "Label: 1\n",
      "---\n"
     ]
    },
    {
     "name": "stderr",
     "output_type": "stream",
     "text": [
      "Processing:  92%|█████████▏| 298/323 [1:13:20<21:58, 52.75s/rows, ETA (sec)=369.16]"
     ]
    },
    {
     "name": "stdout",
     "output_type": "stream",
     "text": [
      "\n",
      "Original Sentence: Their strike came a day after over 150 hunters made an unsuccessful attempt to enter the core area of Similipal Tiger Reserve ( STR ) for hunting wild animals .\n",
      "Tagged Sentence: Their <effect>strike</effect> came <trigger>a day after</trigger> over 150 hunters made an unsuccessful attempt to enter the core area of Similipal Tiger Reserve ( STR ) for hunting wild animals <cause>.</cause>\n",
      "Label: 1\n",
      "---\n"
     ]
    },
    {
     "name": "stderr",
     "output_type": "stream",
     "text": [
      "Processing:  93%|█████████▎| 299/323 [1:14:13<21:05, 52.71s/rows, ETA (sec)=357.44]"
     ]
    },
    {
     "name": "stdout",
     "output_type": "stream",
     "text": [
      "\n",
      "Original Sentence: Meanwhile , the forest staffers under the banner of Odisha Non-Gazetted Forest Service Association ( ONGFSA ) are sitting on an indefinite strike demanding enhancement of pay scale of forest guards as per the Sixth Pay Commission , regularisation of contractual foresters and forest guards and post upgradation of forest guards , foresters and deputy rangers .\n",
      "Tagged Sentence: Meanwhile , the forest staffers under the banner of Odisha Non-Gazetted Forest Service Association ( ONGFSA ) are <effect>sitting on an indefinite strike</effect> <trigger>demanding</trigger> <cause>enhancement of pay scale of forest guards as per the Sixth Pay Commission , regularisation of contractual foresters and forest guards and post upgradation of forest guards , foresters and deputy rangers</cause> .\n",
      "Label: 1\n",
      "---\n"
     ]
    },
    {
     "name": "stderr",
     "output_type": "stream",
     "text": [
      "Processing:  93%|█████████▎| 300/323 [1:14:59<19:31, 50.95s/rows, ETA (sec)=344.99]"
     ]
    },
    {
     "name": "stdout",
     "output_type": "stream",
     "text": [
      "\n",
      "Original Sentence: “ The strike will continue till our demands are conceded , ” said Mayurbhanj circle president Khageswar Sethy .\n",
      "Tagged Sentence: <effect>The strike will continue</effect> <trigger>till</trigger> <cause>our demands are conceded</cause> , \" said Mayurbhanj circle president Khageswar Sethy .\n",
      "Label: 1\n",
      "---\n"
     ]
    },
    {
     "name": "stderr",
     "output_type": "stream",
     "text": [
      "Processing:  93%|█████████▎| 301/323 [1:15:56<19:20, 52.77s/rows, ETA (sec)=333.06]"
     ]
    },
    {
     "name": "stdout",
     "output_type": "stream",
     "text": [
      "\n",
      "Original Sentence: Jaswant Singh had referred to three issues , the Gujarat communal carnage , the cash-for-votes scam and the Kandahar plane hijack and blamed Advani on all the three counts .\n",
      "Tagged Sentence: Jaswant Singh had referred to <cause>three issues, the Gujarat communal carnage, the cash-for-votes scam and the Kandahar plane hijack</cause> and <trigger>blamed</trigger> Advani on all the three counts resulting in <effect>the blame</effect>.\n",
      "Label: 1\n",
      "---\n"
     ]
    },
    {
     "name": "stderr",
     "output_type": "stream",
     "text": [
      "Processing:  93%|█████████▎| 302/323 [1:16:57<19:18, 55.19s/rows, ETA (sec)=321.10]"
     ]
    },
    {
     "name": "stdout",
     "output_type": "stream",
     "text": [
      "\n",
      "Original Sentence: Singh had recently blamed Advani for coming to Gujarat Chief Minister Narendra Modi ’ s rescue and ensured that he was not sacked , in the wake of the riots .\n",
      "Tagged Sentence: Singh had recently <cause>blamed Advani for coming to Gujarat Chief Minister Narendra Modi’s rescue and ensured that he was not sacked</cause> <trigger>in the wake of</trigger> <effect>the riots</effect>.\n",
      "Label: 1\n",
      "---\n"
     ]
    },
    {
     "name": "stderr",
     "output_type": "stream",
     "text": [
      "Processing:  94%|█████████▍| 303/323 [1:16:59<13:03, 39.17s/rows, ETA (sec)=304.92]"
     ]
    },
    {
     "name": "stdout",
     "output_type": "stream",
     "text": [
      "\n",
      "Original Sentence: On Kandahar plane hijack issue , Singh said Advani was not speaking the truth .\n",
      "Tagged Sentence: NoTag\n",
      "Label: 0\n",
      "---\n"
     ]
    },
    {
     "name": "stderr",
     "output_type": "stream",
     "text": [
      "Processing:  94%|█████████▍| 304/323 [1:17:43<12:51, 40.59s/rows, ETA (sec)=291.47]"
     ]
    },
    {
     "name": "stdout",
     "output_type": "stream",
     "text": [
      "\n",
      "Original Sentence: Elaborating on the three issues , Singhvi said , “ The BJP gave sermons on Raj Dharma and turned a Nelson ’ s eye to the communal carnage , which became a big blot on the fair name of the country . ”\n",
      "Tagged Sentence: Elaborating on the three issues , Singhvi said , \" The BJP gave sermons on Raj Dharma and <trigger>turned a Nelson’s eye to the communal carnage</trigger> , <cause>which</cause> <effect>became a big blot on the fair name of the country</effect> . \"\n",
      "Label: 1\n",
      "---\n"
     ]
    },
    {
     "name": "stderr",
     "output_type": "stream",
     "text": [
      "Processing:  94%|█████████▍| 305/323 [1:18:46<14:14, 47.47s/rows, ETA (sec)=278.97]"
     ]
    },
    {
     "name": "stdout",
     "output_type": "stream",
     "text": [
      "\n",
      "Original Sentence: THALASSERY : End political killings : Rajnath September 27 , 2014 00:00 IST Says decision on CBI probe into Manoj murder soon Union Home Minister Rajnath Singh has said that a decision on the probe by the Central Bureau of Investigation ( CBI ) into the murder of Rashtriya Swayamsevak Sangh ( RSS ) functionary E. Manoj will be taken soon .\n",
      "Tagged Sentence: THALASSERY : End political killings : Rajnath September 27 , 2014 00:00 IST Says <cause>murder of Rashtriya Swayamsevak Sangh ( RSS ) functionary E. Manoj</cause> <trigger>said that a decision on the probe by the Central Bureau of Investigation ( CBI ) into</trigger> <effect>will be taken soon</effect> Union Home Minister Rajnath Singh has said that a decision on the probe by the Central Bureau of Investigation ( CBI ) into the murder of Rashtriya Swayamsevak Sangh ( RSS ) functionary E. Manoj will be taken soon.\n",
      "Label: 1\n",
      "---\n"
     ]
    },
    {
     "name": "stderr",
     "output_type": "stream",
     "text": [
      "Processing:  95%|█████████▍| 306/323 [1:18:49<09:36, 33.89s/rows, ETA (sec)=262.73]"
     ]
    },
    {
     "name": "stdout",
     "output_type": "stream",
     "text": [
      "\n",
      "Original Sentence: Addressing members of the families of Bharatiya Janata Party ( BJP ) and RSS workers who had lost their lives in attacks by alleged Communist Party of India ( Marxist ) workers in the region on Friday , Mr. Singh said a decision on the CBI investigation , recommended by the State government into the murder of Manoj , would be taken soon .\n",
      "Tagged Sentence: Addressing members of the families of Bharatiya Janata Party ( BJP ) and RSS workers who had lost their lives in attacks by alleged Communist Party of India ( Marxist ) workers in the region on Friday , Mr. Singh said <effect>a decision on the CBI investigation</effect>, <trigger>recommended by</trigger> <cause>the State government into the murder of Manoj</cause>, would be taken soon .\n",
      "Label: 1\n",
      "---\n"
     ]
    },
    {
     "name": "stderr",
     "output_type": "stream",
     "text": [
      "Processing:  95%|█████████▌| 307/323 [1:18:51<09:02, 33.89s/rows, ETA (sec)=246.57]"
     ]
    },
    {
     "name": "stdout",
     "output_type": "stream",
     "text": [
      "\n",
      "Original Sentence: The Minister said he had spoken to Chief Minister Oommen Chandy after the murder and demanded that action be taken to end violence in the region .\n",
      "Tagged Sentence: The Minister said he had <trigger>spoken</trigger> to Chief Minister Oommen Chandy <cause>after the murder</cause> and <effect>demand that action be taken to end violence in the region</effect>.\n",
      "Label: 1\n",
      "---\n"
     ]
    },
    {
     "name": "stderr",
     "output_type": "stream",
     "text": [
      "Processing:  95%|█████████▌| 308/323 [1:19:39<07:27, 29.84s/rows, ETA (sec)=232.76]"
     ]
    },
    {
     "name": "stdout",
     "output_type": "stream",
     "text": [
      "\n",
      "Original Sentence: After the visit , he addressed the gathering of the families of slain BJP-RSS workers at the RSS office nearby .\n",
      "Tagged Sentence: NoTag\n",
      "Label: 0\n",
      "---\n"
     ]
    },
    {
     "name": "stderr",
     "output_type": "stream",
     "text": [
      "Processing:  96%|█████████▌| 309/323 [1:20:32<08:18, 35.60s/rows, ETA (sec)=218.95]"
     ]
    },
    {
     "name": "stdout",
     "output_type": "stream",
     "text": [
      "\n",
      "Original Sentence: Large number of BJP-RSS workers turned up at the venue to attend the function held in the afternoon .\n",
      "Tagged Sentence: Large number of BJP-RSS workers <effect>turned up at the venue</effect> <trigger>to</trigger> <cause>attend the function held in the afternoon</cause>.\n",
      "Label: 1\n",
      "---\n"
     ]
    },
    {
     "name": "stderr",
     "output_type": "stream",
     "text": [
      "Processing:  96%|█████████▌| 310/323 [1:21:25<08:40, 40.04s/rows, ETA (sec)=204.86]"
     ]
    },
    {
     "name": "stdout",
     "output_type": "stream",
     "text": [
      "\n",
      "Original Sentence: The function was held amid tight police security in view of the tense situation in the area in the aftermath of the murder of Manoj .\n",
      "Tagged Sentence: The function was held amid <effect>tight police security</effect> <trigger>in view of</trigger> <cause>the tense situation in the area in the aftermath of the murder of Manoj</cause>.\n",
      "Label: 1\n",
      "---\n"
     ]
    },
    {
     "name": "stderr",
     "output_type": "stream",
     "text": [
      "Processing:  96%|█████████▋| 311/323 [1:22:14<08:30, 42.52s/rows, ETA (sec)=190.39]"
     ]
    },
    {
     "name": "stdout",
     "output_type": "stream",
     "text": [
      "\n",
      "Original Sentence: He is facing charges of violating a court order , public violence , assault , theft , and damage to property during the 2016 protest against `` colonised '' tertiary education .\n",
      "Tagged Sentence: He is facing charges of violating a court order, public violence, assault, theft, and damage to property <trigger>during</trigger> the <cause>2016 protest against `` colonised '' tertiary education</cause>.</effect>\n",
      "Label: 1\n",
      "---\n"
     ]
    },
    {
     "name": "stderr",
     "output_type": "stream",
     "text": [
      "Processing:  97%|█████████▋| 312/323 [1:23:04<08:11, 44.72s/rows, ETA (sec)=175.74]"
     ]
    },
    {
     "name": "stdout",
     "output_type": "stream",
     "text": [
      "\n",
      "Original Sentence: The drivers allegedly shot Mandisi Ngomani several times in the back while he was running away from them several days before a taxi strike in September last year .\n",
      "Tagged Sentence: The <effect>drivers allegedly shot Mandisi Ngomani several times in the back&lt;/effect&gt; <trigger&gt;several days before&lt;/trigger&gt; a <cause&gt;taxi strike in September last year&lt;/cause&gt;.\n",
      "Label: 1\n",
      "---\n"
     ]
    },
    {
     "name": "stderr",
     "output_type": "stream",
     "text": [
      "Processing:  97%|█████████▋| 313/323 [1:24:03<08:07, 48.70s/rows, ETA (sec)=161.13]"
     ]
    },
    {
     "name": "stdout",
     "output_type": "stream",
     "text": [
      "\n",
      "Original Sentence: Assembly polls : BJP , Congress workers clash in Madhya Pradesh - Indian Express PTI , PTI : Mhow , Thu Nov 21 2013 , 14:33 hrs A case under various sections of the IPC was registered against Congress workers ( PTI : Picture for representation )\n",
      "Tagged Sentence: NoTag\n",
      "Label: 0\n",
      "---\n"
     ]
    },
    {
     "name": "stderr",
     "output_type": "stream",
     "text": [
      "Processing:  97%|█████████▋| 314/323 [1:24:55<07:27, 49.68s/rows, ETA (sec)=146.04]"
     ]
    },
    {
     "name": "stdout",
     "output_type": "stream",
     "text": [
      "\n",
      "Original Sentence: Seven BJP workers were injured in a clash with their Congress counterparts at Pigdambar village in Mhow tahsil of poll-bound Madhya Pradesh , police said on Thursday .\n",
      "Tagged Sentence: Seven <effect>BJP workers were injured</effect> <trigger>in</trigger> <cause>a clash with their Congress counterparts at Pigdambar village in Mhow tahsil of poll-bound Madhya Pradesh</cause>, police said on Thursday.\n",
      "Label: 1\n",
      "---\n"
     ]
    },
    {
     "name": "stderr",
     "output_type": "stream",
     "text": [
      "Processing:  98%|█████████▊| 315/323 [1:25:47<06:43, 50.41s/rows, ETA (sec)=130.73]"
     ]
    },
    {
     "name": "stdout",
     "output_type": "stream",
     "text": [
      "\n",
      "Original Sentence: The incident occurred when the BJP workers travelling in an SUV were allegedly intercepted at the village last night by the Congress workers , they said .\n",
      "Tagged Sentence: <effect>The incident occurred</effect> <trigger>when</trigger> <cause>the BJP workers travelling in an SUV were allegedly intercepted at the village last night by the Congress workers</cause>, they said.\n",
      "Label: 1\n",
      "---\n"
     ]
    },
    {
     "name": "stderr",
     "output_type": "stream",
     "text": [
      "Processing:  98%|█████████▊| 316/323 [1:26:33<05:44, 49.22s/rows, ETA (sec)=115.05]"
     ]
    },
    {
     "name": "stdout",
     "output_type": "stream",
     "text": [
      "\n",
      "Original Sentence: An altercation broke out between the two groups , which turned into fisticuffs , police said .\n",
      "Tagged Sentence: NoTag\n",
      "Label: 0\n",
      "---\n"
     ]
    },
    {
     "name": "stderr",
     "output_type": "stream",
     "text": [
      "Processing:  98%|█████████▊| 317/323 [1:27:26<05:00, 50.13s/rows, ETA (sec)=99.30] "
     ]
    },
    {
     "name": "stdout",
     "output_type": "stream",
     "text": [
      "\n",
      "Original Sentence: Rallies by ruling BJP and Congress are going on in full swing ahead of the November 25 Assembly elections .\n",
      "Tagged Sentence: NoTag\n",
      "Label: 0\n",
      "---\n"
     ]
    },
    {
     "name": "stderr",
     "output_type": "stream",
     "text": [
      "Processing:  98%|█████████▊| 318/323 [1:28:17<04:11, 50.39s/rows, ETA (sec)=83.29]"
     ]
    },
    {
     "name": "stdout",
     "output_type": "stream",
     "text": [
      "\n",
      "Original Sentence: Newly appointed municipal manager of Richmond , KZN , shot dead Giordano Stolley DURBAN , March 6 ( ANA ) - Just days before he was due to take up his post , Richmond 's newly appointed municipal manager , Edward Sithole , was gunned down in the town on Monday morning .\n",
      "Tagged Sentence: NoTag\n",
      "Label: 0\n",
      "---\n"
     ]
    },
    {
     "name": "stderr",
     "output_type": "stream",
     "text": [
      "Processing:  99%|█████████▉| 319/323 [1:29:07<03:21, 50.46s/rows, ETA (sec)=67.06]"
     ]
    },
    {
     "name": "stdout",
     "output_type": "stream",
     "text": [
      "\n",
      "Original Sentence: Police spokesman , Lieutenant Colonel Thulani Zwane , said : `` Today , at about 08:45 , a man believed to be in his forties was attacked by two unknown suspects who shot him at Victoria Road , Richmond . ''\n",
      "Tagged Sentence: NoTag\n",
      "Label: 0\n",
      "---\n"
     ]
    },
    {
     "name": "stderr",
     "output_type": "stream",
     "text": [
      "Processing:  99%|█████████▉| 320/323 [1:30:05<02:37, 52.63s/rows, ETA (sec)=50.68]"
     ]
    },
    {
     "name": "stdout",
     "output_type": "stream",
     "text": [
      "\n",
      "Original Sentence: National Freedom Party spokesman , Sabelo Sigudu , said : `` The National Freedom Party ( NFP ) wishes to express words of condolence on the sad shooting and killing of Mr Sithole , the Municipality Manager of Richmond Local Municipality , which took place this morning . ''\n",
      "Tagged Sentence: NoTag\n",
      "Label: 0\n",
      "---\n"
     ]
    },
    {
     "name": "stderr",
     "output_type": "stream",
     "text": [
      "Processing:  99%|█████████▉| 321/323 [1:30:51<01:41, 50.61s/rows, ETA (sec)=33.97]"
     ]
    },
    {
     "name": "stdout",
     "output_type": "stream",
     "text": [
      "\n",
      "Original Sentence: He described the shooting as `` evil '' .\n",
      "Tagged Sentence: NoTag\n",
      "Label: 0\n",
      "---\n"
     ]
    },
    {
     "name": "stderr",
     "output_type": "stream",
     "text": [
      "Processing: 100%|█████████▉| 322/323 [1:31:39<00:49, 49.74s/rows, ETA (sec)=17.08]"
     ]
    },
    {
     "name": "stdout",
     "output_type": "stream",
     "text": [
      "\n",
      "Original Sentence: On Sunday , three explosions in the south of the region killed two people and injured many others .\n",
      "Tagged Sentence: On Sunday , three <cause>explosions in the south of the region</cause> <trigger>killed</trigger> two people and <trigger>injured</trigger> many others .\n",
      "Label: 1\n",
      "---\n"
     ]
    },
    {
     "name": "stderr",
     "output_type": "stream",
     "text": [
      "Processing: 100%|██████████| 323/323 [1:32:33<00:00, 17.19s/rows, ETA (sec)=0.00] "
     ]
    },
    {
     "name": "stdout",
     "output_type": "stream",
     "text": [
      "\n",
      "Original Sentence: Uighur groups abroad say the clashes are a desperate protest against religious oppression and economic marginalisation .\n",
      "Tagged Sentence: Uighur groups abroad say the clashes are a <effect>desperate protest</effect> <trigger>against</trigger> <cause>religious oppression and economic marginalisation</cause> .\n",
      "Label: 1\n",
      "---\n"
     ]
    },
    {
     "name": "stderr",
     "output_type": "stream",
     "text": [
      "\n"
     ]
    }
   ],
   "source": [
    "total_rows = len(df)  \n",
    "start_time = time.time()\n",
    "\n",
    "with tqdm(total=total_rows, desc=\"Processing\", unit=\"rows\") as pbar:\n",
    "    for index, row in df.iterrows():\n",
    "\n",
    "        try:\n",
    "            with open(\"test_pred_3.json\", \"r\", encoding=\"utf-8\") as f:\n",
    "                data = json.load(f)\n",
    "        except (FileNotFoundError, json.JSONDecodeError):\n",
    "            data = []\n",
    "\n",
    "        flag = 0\n",
    "\n",
    "        for i in range(len(data)):\n",
    "            if data[i][\"original\"] == row[\"text\"]:\n",
    "                print(i, \" Skipped.\")\n",
    "                flag = 1\n",
    "                break\n",
    "\n",
    "        if flag == 1:\n",
    "            pbar.update(1)\n",
    "            continue\n",
    "\n",
    "        llm_output = generate(llm, row[\"text\"], graph, embeddings)\n",
    "        match = re.search(r\"\\{.*\\}\", llm_output, re.DOTALL)\n",
    "        if match:\n",
    "            json_data = match.group(0)\n",
    "            try:\n",
    "                json_data = json.loads(json_data)\n",
    "            except json.JSONDecodeError:\n",
    "                print(f\"Error: Invalid JSON at row {index}. Skipping...\")\n",
    "                pbar.update(1)\n",
    "                continue\n",
    "        else:\n",
    "            print(f\"Error: No JSON found in row {index}. Skipping...\")\n",
    "            pbar.update(1)\n",
    "            continue\n",
    "\n",
    "        tagged = json_data.get(\"tagged\", \"\")\n",
    "        label = json_data.get(\"label\", \"\")\n",
    "        data.append({\"tagged\": tagged, \"label\": label, \"original\": row[\"text\"]})\n",
    "\n",
    "        with open(\"test_pred_3.json\", \"w\", encoding=\"utf-8\") as f:\n",
    "            json.dump(data, f, indent=4, ensure_ascii=False)\n",
    "\n",
    "        pbar.update(1)\n",
    "        elapsed_time = time.time() - start_time\n",
    "        avg_time_per_row = elapsed_time / (index + 1)\n",
    "        remaining_time = avg_time_per_row * (total_rows - (index + 1))\n",
    "        pbar.set_postfix({\"ETA (sec)\": f\"{remaining_time:.2f}\"})\n",
    "\n",
    "        print(\"\\nOriginal Sentence:\", row[\"text\"])\n",
    "        print(\"Tagged Sentence:\", tagged)\n",
    "        print(\"Label:\", label)\n",
    "        print(\"---\")"
   ]
  },
  {
   "cell_type": "code",
   "execution_count": 33,
   "metadata": {},
   "outputs": [],
   "source": [
    "with open(\"test_pred_3.json\", \"r\", encoding=\"utf-8\") as file:\n",
    "    data = json.load(file)"
   ]
  },
  {
   "cell_type": "code",
   "execution_count": 34,
   "metadata": {},
   "outputs": [],
   "source": [
    "df_predictions = pd.DataFrame(data, columns=[ \"tagged\", \"label\", \"original\"])"
   ]
  },
  {
   "cell_type": "code",
   "execution_count": 35,
   "metadata": {},
   "outputs": [],
   "source": [
    "df_predictions.rename(columns={\n",
    "    \"original\": \"original_sentence\",\n",
    "    \"tagged\": \"tagged_sentence\",\n",
    "    \"label\": \"label\"\n",
    "}, inplace=True)"
   ]
  },
  {
   "cell_type": "code",
   "execution_count": 36,
   "metadata": {},
   "outputs": [],
   "source": [
    "df_predictions[\"label\"] = pd.to_numeric(df_predictions[\"label\"], errors='coerce')"
   ]
  },
  {
   "cell_type": "code",
   "execution_count": 37,
   "metadata": {},
   "outputs": [],
   "source": [
    "df_predictions[\"label\"] = pd.to_numeric(df_predictions[\"label\"], errors='coerce').fillna(0).astype(int)"
   ]
  },
  {
   "cell_type": "code",
   "execution_count": 38,
   "metadata": {},
   "outputs": [],
   "source": [
    "common_df = df.merge(df_predictions, left_on=\"text\", right_on=\"original_sentence\", suffixes=('_df', '_pred'))"
   ]
  },
  {
   "cell_type": "code",
   "execution_count": 40,
   "metadata": {},
   "outputs": [
    {
     "name": "stdout",
     "output_type": "stream",
     "text": [
      "F1 Score: 0.8216216216216217\n",
      "Accuracy: 0.7956656346749226\n",
      "Precision: 0.7916666666666666\n",
      "Recall: 0.8539325842696629\n",
      "Matthews Correlation Coefficient: 0.5855831326919609\n"
     ]
    }
   ],
   "source": [
    "f1 = f1_score(common_df['label_df'], common_df['label_pred'])\n",
    "print(\"F1 Score:\", f1)\n",
    "\n",
    "accuracy = accuracy_score(common_df['label_df'], common_df['label_pred'])\n",
    "print(\"Accuracy:\", accuracy)\n",
    "\n",
    "precision = precision_score(common_df['label_df'], common_df['label_pred'])\n",
    "print(\"Precision:\", precision)\n",
    "\n",
    "recall = recall_score(common_df['label_df'], common_df['label_pred'])\n",
    "print(\"Recall:\", recall)\n",
    "\n",
    "MCC = matthews_corrcoef(common_df['label_df'], common_df['label_pred'])\n",
    "print(\"Matthews Correlation Coefficient:\", MCC)"
   ]
  }
 ],
 "metadata": {
  "kernelspec": {
   "display_name": "grag",
   "language": "python",
   "name": "python3"
  },
  "language_info": {
   "codemirror_mode": {
    "name": "ipython",
    "version": 3
   },
   "file_extension": ".py",
   "mimetype": "text/x-python",
   "name": "python",
   "nbconvert_exporter": "python",
   "pygments_lexer": "ipython3",
   "version": "3.10.0"
  }
 },
 "nbformat": 4,
 "nbformat_minor": 2
}
